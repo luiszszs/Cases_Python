{
 "cells": [
  {
   "cell_type": "markdown",
   "metadata": {},
   "source": [
    "<div align='center'><a href='https://linktr.ee/fea.dev'/ style='display:inline-block'><img src=\"data:image/png;base64,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\" height=\"100%\" width=\"350\" ><a/><div/>"
   ]
  },
  {
   "cell_type": "markdown",
   "metadata": {},
   "source": [
    "# Sumário\n",
    "\n",
    "* [0. Case Avançado IA](#chapter0)\n",
    "\n",
    "* [1. Entendimento do problema](#chapter1)\n",
    "\n",
    "* [2. Entendimento dos dados](#chapter2)\n",
    "\n",
    "* [3. Pré-Processamento](#chapter3)\n",
    "\n",
    "    * [Primeira visualização dos dfs](#section_3_1)\n",
    "\n",
    "    * [Valores faltantes](#section_3_2)\n",
    "\n",
    "    * [Verificaremos se há linhas duplicadas nos datas frames](#section_3_3)\n",
    "    \n",
    "    * [Manipulação e criação de variáveis](#section_3_4)\n",
    "    \n",
    "    * [Verificação de outliers](#section_3_5)\n",
    "\n",
    "* [4. Modelagem](#chapter4)\n",
    "\n",
    "    * [Modelo Decision Tree Regression](#section_4_1)\n",
    "        \n",
    "        * [Vendas x Temperatura](#section_4_1_1)\n",
    "        \n",
    "            * [Medidas de avaliação do modelo Vendas x Temperatura](#section_4_1_1_1)\n",
    "        \n",
    "        * [Vendas x Lojas](#section_4_1_2)\n",
    "        \n",
    "            * [Medidas de avaliação do modelo Vendas x Lojas](#section_4_1_1_2)\n",
    "            \n",
    "        * [Modelo Random Forest Regression](#section_4_2)\n",
    "        \n",
    "            * [Vendas x Temperatura](#section_4_2_1)\n",
    "            \n",
    "            * [Vendas x Lojas](#section_4_2_2)\n",
    "\n",
    "            * [Adição de Variáveis](#section_4_2_3)\n",
    "            \n",
    "                * [Pré-tratamento para a adição](#section_4_2_3_1)\n",
    "                \n",
    "                * [Modelo Random Forest Regression usando todas as variáveis do conjunto de dados](#section_4_2_3_2)\n",
    " \n",
    "* [5. Avaliação](#chapter5)\n",
    "\n",
    "* [6. Referências](#chapter6)\n",
    "        \n",
    "            "
   ]
  },
  {
   "cell_type": "markdown",
   "metadata": {},
   "source": [
    "<a class=\"anchor\" id=\"chapter0\"></a>\n",
    "# <font color=blue|blue|red>Case Avançado IA</font>\n",
    "\n",
    "Estamos muito felizes pela sua escolha com o case de inteligência artificial. Esperamos que você aprenda bastante conosco.  \n",
    "\n",
    "Caso não tenha lido as orientações no nosso [repositório do github](https://github.com/fea-dev-usp/Segunda_Fase_PS_2023), o faça imediatamente! É fundamental para teu bom desempenho no case.\n",
    "\n",
    "Rode a célula abaixo e entre em contato com um de nossos monitores no WhatsApp em caso de dúvida:"
   ]
  },
  {
   "cell_type": "code",
   "execution_count": 1,
   "metadata": {},
   "outputs": [
    {
     "name": "stdout",
     "output_type": "stream",
     "text": [
      "Entrar em contato com Maria Raquel (+55 11 96469-1466).\n"
     ]
    }
   ],
   "source": [
    "import random\n",
    "lista_contatos = [\"Carlos Silva (+55 19 99696-8315)\",\n",
    "                  \"Guilherme Oliveira (+55 11 96161-0064)\",\n",
    "                  \"Gustavo Yuji (+55 13 99760-0375)\",\n",
    "                  \"Maria Raquel (+55 11 96469-1466)\"]\n",
    "\n",
    "print(f'Entrar em contato com {lista_contatos[random.randint(0, 3)]}.')"
   ]
  },
  {
   "cell_type": "markdown",
   "metadata": {},
   "source": [
    "**As variáveis:\n",
    "Dataset Stores**\n",
    "* Store - ID da loja\n",
    "* Type - Tipo baseado no tamanho da loja\n",
    "* Size - Tamanho da loja\n",
    "\n",
    "**Dataset Features**\n",
    "* Store - ID da loja\n",
    "* Date - Data da semana\n",
    "* Temperature - Temperatura média na região\n",
    "* Fuel_price - Preço do combustível na região\n",
    "* Markdown - Promoções/remarcações - disponível apenas depois de Nov/21\n",
    "* CPI - Inflação no período\n",
    "* Unemployment - Taxa de desemprego\n",
    "* isHoliday - Se a semana é um feriado ou não\n",
    "\n",
    "**Dataset Sales**\n",
    "* Store - ID da loja\n",
    "* Dept - O número do departamento\n",
    "* Date - Data da semana\n",
    "* Weekly_sales - Vendas por departamento em cada loja\n",
    "* isHoliday - Se a semana é um feriado ou não\n"
   ]
  },
  {
   "cell_type": "markdown",
   "metadata": {},
   "source": [
    "**Passo a passo sugerido do case:**\n",
    "\n",
    "*Nota: pode acontecer de algum subtópico nõo ser aplicável, mas como regra geral, é sempre importante ao menos se questionar sobre eles em toda análise*\n",
    "1. Entendimento do problema\n",
    "* Qual é o problema? Qual a causa (ou possível causa)?\n",
    "* Por que resolver?\n",
    "* Qual pode ser uma boa métrica para avaliação do sucesso?\n",
    "\n",
    "2. Entendimento dos dados\n",
    "* Quais os dados disponíveis e que informações podemos tirar deles?\n",
    "* Qual a variável target?\n",
    "\n",
    "3. Pré-processamento\n",
    "* Limpeza de dados\n",
    "* Criação de outras variáveis\n",
    "* Normalização\n",
    "* Padronização\n",
    "* Lidar com outliers\n",
    "* Valores faltantes\n",
    "\n",
    "4. Modelagem\n",
    "* Seleção, treinamento e teste de um algoritmo\n",
    "* Tunagem de hiperparâmetros\n",
    "* Documentar motivo da escolha\n",
    "\n",
    "5. Avaliação\n",
    "* Analisar as métricas\n",
    "* Formular hipóteses de como o seu modelo poderia melhorar e iterar (documentar essas hipóteses)"
   ]
  },
  {
   "cell_type": "markdown",
   "metadata": {},
   "source": [
    "# <font color=red>Resolução do case</font>"
   ]
  },
  {
   "cell_type": "markdown",
   "metadata": {},
   "source": [
    "<a class=\"anchor\" id=\"chapter1\"></a>\n",
    "## 1. Entendimento do problema\n",
    "    a) Problema: fornecer uma previsão de vendas por loja. \n",
    "    b) Possível cenário: empresa varejista que deseja abrir novas lojas, porém não sabe que tipo de loja abrir, então decidirá com base na previsão obtida.\n",
    "    c) Obter um medidor de sucesso para nossa previsão, como um índice de acurácia ou o cálculo da estatítica R^2, e depois interpretar o resultado.\n",
    "   "
   ]
  },
  {
   "cell_type": "markdown",
   "metadata": {},
   "source": [
    "<a class=\"anchor\" id=\"chapter2\"></a>\n",
    "## 2. Entedimento dos dados\n",
    "    a) Observando os data frames, vemos que sales dá uma informação relevante para nossa análise: Weekly_Sales, isto é, uma série temporal das vendas semanais de cada loja (Store). Esse data frame também informa o departamento da loja (Dept), a data de coleta (Date), e se essa data era feriado ou não (IsHoliday). \n",
    "    Já features nos informa o quanto de desconto (MarkDown) cada loja (Store) deu no período, dividindo o tipo de desconto em 5. Também fornece a temperatura (Temperature), o preço do combustível (Fuel_Price), o nível de inflação (CPI), e a taxa de desemprego (Unemployment) para cada dia (Date), assim como se era feriado ou não (IsHoliday).\n",
    "    Essas variáveis poderão ser úteis para prever o nível de vendas por loja.\n",
    "    Stores nos traz menos informações: apenas o tipo (Type) de cada loja, que pode ser \"A\", \"B\" ou \"C\", e o tamanho (Size).\n",
    "    b) A variável target é Weekly_Sales, já que queremos fazer uma previsão de vendas para cada loja.\n",
    "   "
   ]
  },
  {
   "cell_type": "markdown",
   "metadata": {},
   "source": [
    "<a class=\"anchor\" id=\"chapter3\"></a>\n",
    "## 3. Pré-processamento\n",
    "    Agora daremos início ao tratamento dos dados."
   ]
  },
  {
   "cell_type": "markdown",
   "metadata": {},
   "source": [
    "<a class=\"anchor\" id=\"section_3_1\"></a>\n",
    "### Primeira visualização dos dfs"
   ]
  },
  {
   "cell_type": "code",
   "execution_count": 28,
   "metadata": {},
   "outputs": [],
   "source": [
    "# Importação das bibliotecas que utilizaremos em nosso projeto\n",
    "\n",
    "import numpy as np\n",
    "import pandas as pd\n",
    "import matplotlib.pyplot as plt\n",
    "import seaborn as sns\n",
    "import plotly.express as px\n",
    "import os"
   ]
  },
  {
   "cell_type": "code",
   "execution_count": 41,
   "metadata": {},
   "outputs": [
    {
     "name": "stdout",
     "output_type": "stream",
     "text": [
      "diretório em que estamos trabalhando: C:\\Users\\luisz\\Downloads\\Avançado - Inteligência Artificial\n"
     ]
    }
   ],
   "source": [
    "# Em qual diretório estamos trabalhando\n",
    "\n",
    "print(f\"diretório em que estamos trabalhando: {os.getcwd()}\")"
   ]
  },
  {
   "cell_type": "code",
   "execution_count": 150,
   "metadata": {},
   "outputs": [],
   "source": [
    "# Importação dos dados como data frames\n",
    "\n",
    "stores = pd.read_csv(\"stores data-set.csv\")\n",
    "features = pd.read_csv(\"Features data set.csv\")\n",
    "sales = pd.read_csv(\"sales data-set.csv\")"
   ]
  },
  {
   "cell_type": "code",
   "execution_count": 151,
   "metadata": {},
   "outputs": [],
   "source": [
    "# Observação das 5 primeiras linhas de cada data frame:"
   ]
  },
  {
   "cell_type": "code",
   "execution_count": 152,
   "metadata": {},
   "outputs": [
    {
     "data": {
      "text/html": [
       "<div>\n",
       "<style scoped>\n",
       "    .dataframe tbody tr th:only-of-type {\n",
       "        vertical-align: middle;\n",
       "    }\n",
       "\n",
       "    .dataframe tbody tr th {\n",
       "        vertical-align: top;\n",
       "    }\n",
       "\n",
       "    .dataframe thead th {\n",
       "        text-align: right;\n",
       "    }\n",
       "</style>\n",
       "<table border=\"1\" class=\"dataframe\">\n",
       "  <thead>\n",
       "    <tr style=\"text-align: right;\">\n",
       "      <th></th>\n",
       "      <th>Store</th>\n",
       "      <th>Type</th>\n",
       "      <th>Size</th>\n",
       "    </tr>\n",
       "  </thead>\n",
       "  <tbody>\n",
       "    <tr>\n",
       "      <th>0</th>\n",
       "      <td>1</td>\n",
       "      <td>A</td>\n",
       "      <td>151315</td>\n",
       "    </tr>\n",
       "    <tr>\n",
       "      <th>1</th>\n",
       "      <td>2</td>\n",
       "      <td>A</td>\n",
       "      <td>202307</td>\n",
       "    </tr>\n",
       "    <tr>\n",
       "      <th>2</th>\n",
       "      <td>3</td>\n",
       "      <td>B</td>\n",
       "      <td>37392</td>\n",
       "    </tr>\n",
       "    <tr>\n",
       "      <th>3</th>\n",
       "      <td>4</td>\n",
       "      <td>A</td>\n",
       "      <td>205863</td>\n",
       "    </tr>\n",
       "    <tr>\n",
       "      <th>4</th>\n",
       "      <td>5</td>\n",
       "      <td>B</td>\n",
       "      <td>34875</td>\n",
       "    </tr>\n",
       "  </tbody>\n",
       "</table>\n",
       "</div>"
      ],
      "text/plain": [
       "   Store Type    Size\n",
       "0      1    A  151315\n",
       "1      2    A  202307\n",
       "2      3    B   37392\n",
       "3      4    A  205863\n",
       "4      5    B   34875"
      ]
     },
     "execution_count": 152,
     "metadata": {},
     "output_type": "execute_result"
    }
   ],
   "source": [
    "stores.head()"
   ]
  },
  {
   "cell_type": "code",
   "execution_count": 153,
   "metadata": {
    "scrolled": true
   },
   "outputs": [
    {
     "data": {
      "text/html": [
       "<div>\n",
       "<style scoped>\n",
       "    .dataframe tbody tr th:only-of-type {\n",
       "        vertical-align: middle;\n",
       "    }\n",
       "\n",
       "    .dataframe tbody tr th {\n",
       "        vertical-align: top;\n",
       "    }\n",
       "\n",
       "    .dataframe thead th {\n",
       "        text-align: right;\n",
       "    }\n",
       "</style>\n",
       "<table border=\"1\" class=\"dataframe\">\n",
       "  <thead>\n",
       "    <tr style=\"text-align: right;\">\n",
       "      <th></th>\n",
       "      <th>Store</th>\n",
       "      <th>Date</th>\n",
       "      <th>Temperature</th>\n",
       "      <th>Fuel_Price</th>\n",
       "      <th>MarkDown1</th>\n",
       "      <th>MarkDown2</th>\n",
       "      <th>MarkDown3</th>\n",
       "      <th>MarkDown4</th>\n",
       "      <th>MarkDown5</th>\n",
       "      <th>CPI</th>\n",
       "      <th>Unemployment</th>\n",
       "      <th>IsHoliday</th>\n",
       "    </tr>\n",
       "  </thead>\n",
       "  <tbody>\n",
       "    <tr>\n",
       "      <th>0</th>\n",
       "      <td>1</td>\n",
       "      <td>05/02/2010</td>\n",
       "      <td>42.31</td>\n",
       "      <td>2.572</td>\n",
       "      <td>NaN</td>\n",
       "      <td>NaN</td>\n",
       "      <td>NaN</td>\n",
       "      <td>NaN</td>\n",
       "      <td>NaN</td>\n",
       "      <td>211.096358</td>\n",
       "      <td>8.106</td>\n",
       "      <td>False</td>\n",
       "    </tr>\n",
       "    <tr>\n",
       "      <th>1</th>\n",
       "      <td>1</td>\n",
       "      <td>12/02/2010</td>\n",
       "      <td>38.51</td>\n",
       "      <td>2.548</td>\n",
       "      <td>NaN</td>\n",
       "      <td>NaN</td>\n",
       "      <td>NaN</td>\n",
       "      <td>NaN</td>\n",
       "      <td>NaN</td>\n",
       "      <td>211.242170</td>\n",
       "      <td>8.106</td>\n",
       "      <td>True</td>\n",
       "    </tr>\n",
       "    <tr>\n",
       "      <th>2</th>\n",
       "      <td>1</td>\n",
       "      <td>19/02/2010</td>\n",
       "      <td>39.93</td>\n",
       "      <td>2.514</td>\n",
       "      <td>NaN</td>\n",
       "      <td>NaN</td>\n",
       "      <td>NaN</td>\n",
       "      <td>NaN</td>\n",
       "      <td>NaN</td>\n",
       "      <td>211.289143</td>\n",
       "      <td>8.106</td>\n",
       "      <td>False</td>\n",
       "    </tr>\n",
       "    <tr>\n",
       "      <th>3</th>\n",
       "      <td>1</td>\n",
       "      <td>26/02/2010</td>\n",
       "      <td>46.63</td>\n",
       "      <td>2.561</td>\n",
       "      <td>NaN</td>\n",
       "      <td>NaN</td>\n",
       "      <td>NaN</td>\n",
       "      <td>NaN</td>\n",
       "      <td>NaN</td>\n",
       "      <td>211.319643</td>\n",
       "      <td>8.106</td>\n",
       "      <td>False</td>\n",
       "    </tr>\n",
       "    <tr>\n",
       "      <th>4</th>\n",
       "      <td>1</td>\n",
       "      <td>05/03/2010</td>\n",
       "      <td>46.50</td>\n",
       "      <td>2.625</td>\n",
       "      <td>NaN</td>\n",
       "      <td>NaN</td>\n",
       "      <td>NaN</td>\n",
       "      <td>NaN</td>\n",
       "      <td>NaN</td>\n",
       "      <td>211.350143</td>\n",
       "      <td>8.106</td>\n",
       "      <td>False</td>\n",
       "    </tr>\n",
       "  </tbody>\n",
       "</table>\n",
       "</div>"
      ],
      "text/plain": [
       "   Store        Date  Temperature  Fuel_Price  MarkDown1  MarkDown2  \\\n",
       "0      1  05/02/2010        42.31       2.572        NaN        NaN   \n",
       "1      1  12/02/2010        38.51       2.548        NaN        NaN   \n",
       "2      1  19/02/2010        39.93       2.514        NaN        NaN   \n",
       "3      1  26/02/2010        46.63       2.561        NaN        NaN   \n",
       "4      1  05/03/2010        46.50       2.625        NaN        NaN   \n",
       "\n",
       "   MarkDown3  MarkDown4  MarkDown5         CPI  Unemployment  IsHoliday  \n",
       "0        NaN        NaN        NaN  211.096358         8.106      False  \n",
       "1        NaN        NaN        NaN  211.242170         8.106       True  \n",
       "2        NaN        NaN        NaN  211.289143         8.106      False  \n",
       "3        NaN        NaN        NaN  211.319643         8.106      False  \n",
       "4        NaN        NaN        NaN  211.350143         8.106      False  "
      ]
     },
     "execution_count": 153,
     "metadata": {},
     "output_type": "execute_result"
    }
   ],
   "source": [
    "features.head()"
   ]
  },
  {
   "cell_type": "code",
   "execution_count": 154,
   "metadata": {},
   "outputs": [
    {
     "data": {
      "text/html": [
       "<div>\n",
       "<style scoped>\n",
       "    .dataframe tbody tr th:only-of-type {\n",
       "        vertical-align: middle;\n",
       "    }\n",
       "\n",
       "    .dataframe tbody tr th {\n",
       "        vertical-align: top;\n",
       "    }\n",
       "\n",
       "    .dataframe thead th {\n",
       "        text-align: right;\n",
       "    }\n",
       "</style>\n",
       "<table border=\"1\" class=\"dataframe\">\n",
       "  <thead>\n",
       "    <tr style=\"text-align: right;\">\n",
       "      <th></th>\n",
       "      <th>Store</th>\n",
       "      <th>Dept</th>\n",
       "      <th>Date</th>\n",
       "      <th>Weekly_Sales</th>\n",
       "      <th>IsHoliday</th>\n",
       "    </tr>\n",
       "  </thead>\n",
       "  <tbody>\n",
       "    <tr>\n",
       "      <th>0</th>\n",
       "      <td>1</td>\n",
       "      <td>1</td>\n",
       "      <td>05/02/2010</td>\n",
       "      <td>24924.50</td>\n",
       "      <td>False</td>\n",
       "    </tr>\n",
       "    <tr>\n",
       "      <th>1</th>\n",
       "      <td>1</td>\n",
       "      <td>1</td>\n",
       "      <td>12/02/2010</td>\n",
       "      <td>46039.49</td>\n",
       "      <td>True</td>\n",
       "    </tr>\n",
       "    <tr>\n",
       "      <th>2</th>\n",
       "      <td>1</td>\n",
       "      <td>1</td>\n",
       "      <td>19/02/2010</td>\n",
       "      <td>41595.55</td>\n",
       "      <td>False</td>\n",
       "    </tr>\n",
       "    <tr>\n",
       "      <th>3</th>\n",
       "      <td>1</td>\n",
       "      <td>1</td>\n",
       "      <td>26/02/2010</td>\n",
       "      <td>19403.54</td>\n",
       "      <td>False</td>\n",
       "    </tr>\n",
       "    <tr>\n",
       "      <th>4</th>\n",
       "      <td>1</td>\n",
       "      <td>1</td>\n",
       "      <td>05/03/2010</td>\n",
       "      <td>21827.90</td>\n",
       "      <td>False</td>\n",
       "    </tr>\n",
       "  </tbody>\n",
       "</table>\n",
       "</div>"
      ],
      "text/plain": [
       "   Store  Dept        Date  Weekly_Sales  IsHoliday\n",
       "0      1     1  05/02/2010      24924.50      False\n",
       "1      1     1  12/02/2010      46039.49       True\n",
       "2      1     1  19/02/2010      41595.55      False\n",
       "3      1     1  26/02/2010      19403.54      False\n",
       "4      1     1  05/03/2010      21827.90      False"
      ]
     },
     "execution_count": 154,
     "metadata": {},
     "output_type": "execute_result"
    }
   ],
   "source": [
    "sales.head()"
   ]
  },
  {
   "cell_type": "code",
   "execution_count": 155,
   "metadata": {},
   "outputs": [],
   "source": [
    "#veremos as informações de cada df"
   ]
  },
  {
   "cell_type": "code",
   "execution_count": 156,
   "metadata": {},
   "outputs": [
    {
     "name": "stdout",
     "output_type": "stream",
     "text": [
      "<class 'pandas.core.frame.DataFrame'>\n",
      "RangeIndex: 45 entries, 0 to 44\n",
      "Data columns (total 3 columns):\n",
      " #   Column  Non-Null Count  Dtype \n",
      "---  ------  --------------  ----- \n",
      " 0   Store   45 non-null     int64 \n",
      " 1   Type    45 non-null     object\n",
      " 2   Size    45 non-null     int64 \n",
      "dtypes: int64(2), object(1)\n",
      "memory usage: 1.2+ KB\n"
     ]
    }
   ],
   "source": [
    "stores.info()"
   ]
  },
  {
   "cell_type": "code",
   "execution_count": 157,
   "metadata": {},
   "outputs": [
    {
     "name": "stdout",
     "output_type": "stream",
     "text": [
      "<class 'pandas.core.frame.DataFrame'>\n",
      "RangeIndex: 8190 entries, 0 to 8189\n",
      "Data columns (total 12 columns):\n",
      " #   Column        Non-Null Count  Dtype  \n",
      "---  ------        --------------  -----  \n",
      " 0   Store         8190 non-null   int64  \n",
      " 1   Date          8190 non-null   object \n",
      " 2   Temperature   8190 non-null   float64\n",
      " 3   Fuel_Price    8190 non-null   float64\n",
      " 4   MarkDown1     4032 non-null   float64\n",
      " 5   MarkDown2     2921 non-null   float64\n",
      " 6   MarkDown3     3613 non-null   float64\n",
      " 7   MarkDown4     3464 non-null   float64\n",
      " 8   MarkDown5     4050 non-null   float64\n",
      " 9   CPI           7605 non-null   float64\n",
      " 10  Unemployment  7605 non-null   float64\n",
      " 11  IsHoliday     8190 non-null   bool   \n",
      "dtypes: bool(1), float64(9), int64(1), object(1)\n",
      "memory usage: 712.0+ KB\n"
     ]
    }
   ],
   "source": [
    "features.info()"
   ]
  },
  {
   "cell_type": "code",
   "execution_count": 158,
   "metadata": {},
   "outputs": [
    {
     "name": "stdout",
     "output_type": "stream",
     "text": [
      "<class 'pandas.core.frame.DataFrame'>\n",
      "RangeIndex: 421570 entries, 0 to 421569\n",
      "Data columns (total 5 columns):\n",
      " #   Column        Non-Null Count   Dtype  \n",
      "---  ------        --------------   -----  \n",
      " 0   Store         421570 non-null  int64  \n",
      " 1   Dept          421570 non-null  int64  \n",
      " 2   Date          421570 non-null  object \n",
      " 3   Weekly_Sales  421570 non-null  float64\n",
      " 4   IsHoliday     421570 non-null  bool   \n",
      "dtypes: bool(1), float64(1), int64(2), object(1)\n",
      "memory usage: 13.3+ MB\n"
     ]
    }
   ],
   "source": [
    "sales.info()"
   ]
  },
  {
   "cell_type": "markdown",
   "metadata": {},
   "source": [
    "<a class=\"anchor\" id=\"section_3_2\"></a>\n",
    "### Valores faltantes "
   ]
  },
  {
   "cell_type": "code",
   "execution_count": 159,
   "metadata": {},
   "outputs": [],
   "source": [
    "#verificação se há valores nulos para cada df"
   ]
  },
  {
   "cell_type": "code",
   "execution_count": 160,
   "metadata": {},
   "outputs": [
    {
     "data": {
      "text/plain": [
       "Store    0\n",
       "Type     0\n",
       "Size     0\n",
       "dtype: int64"
      ]
     },
     "execution_count": 160,
     "metadata": {},
     "output_type": "execute_result"
    }
   ],
   "source": [
    "stores.isnull().sum()"
   ]
  },
  {
   "cell_type": "code",
   "execution_count": 161,
   "metadata": {},
   "outputs": [
    {
     "data": {
      "text/plain": [
       "Store              0\n",
       "Date               0\n",
       "Temperature        0\n",
       "Fuel_Price         0\n",
       "MarkDown1       4158\n",
       "MarkDown2       5269\n",
       "MarkDown3       4577\n",
       "MarkDown4       4726\n",
       "MarkDown5       4140\n",
       "CPI              585\n",
       "Unemployment     585\n",
       "IsHoliday          0\n",
       "dtype: int64"
      ]
     },
     "execution_count": 161,
     "metadata": {},
     "output_type": "execute_result"
    }
   ],
   "source": [
    "features.isnull().sum()"
   ]
  },
  {
   "cell_type": "code",
   "execution_count": 162,
   "metadata": {},
   "outputs": [
    {
     "data": {
      "text/plain": [
       "Store           0\n",
       "Dept            0\n",
       "Date            0\n",
       "Weekly_Sales    0\n",
       "IsHoliday       0\n",
       "dtype: int64"
      ]
     },
     "execution_count": 162,
     "metadata": {},
     "output_type": "execute_result"
    }
   ],
   "source": [
    "sales.isnull().sum()"
   ]
  },
  {
   "cell_type": "code",
   "execution_count": 163,
   "metadata": {},
   "outputs": [
    {
     "data": {
      "text/html": [
       "<div>\n",
       "<style scoped>\n",
       "    .dataframe tbody tr th:only-of-type {\n",
       "        vertical-align: middle;\n",
       "    }\n",
       "\n",
       "    .dataframe tbody tr th {\n",
       "        vertical-align: top;\n",
       "    }\n",
       "\n",
       "    .dataframe thead th {\n",
       "        text-align: right;\n",
       "    }\n",
       "</style>\n",
       "<table border=\"1\" class=\"dataframe\">\n",
       "  <thead>\n",
       "    <tr style=\"text-align: right;\">\n",
       "      <th></th>\n",
       "      <th>Store</th>\n",
       "      <th>Date</th>\n",
       "      <th>Temperature</th>\n",
       "      <th>Fuel_Price</th>\n",
       "      <th>MarkDown1</th>\n",
       "      <th>MarkDown2</th>\n",
       "      <th>MarkDown3</th>\n",
       "      <th>MarkDown4</th>\n",
       "      <th>MarkDown5</th>\n",
       "      <th>CPI</th>\n",
       "      <th>Unemployment</th>\n",
       "      <th>IsHoliday</th>\n",
       "    </tr>\n",
       "  </thead>\n",
       "  <tbody>\n",
       "    <tr>\n",
       "      <th>0</th>\n",
       "      <td>1</td>\n",
       "      <td>05/02/2010</td>\n",
       "      <td>42.31</td>\n",
       "      <td>2.572</td>\n",
       "      <td>0.00</td>\n",
       "      <td>0.00</td>\n",
       "      <td>0.00</td>\n",
       "      <td>0.00</td>\n",
       "      <td>0.00</td>\n",
       "      <td>211.096358</td>\n",
       "      <td>8.106</td>\n",
       "      <td>False</td>\n",
       "    </tr>\n",
       "    <tr>\n",
       "      <th>1</th>\n",
       "      <td>1</td>\n",
       "      <td>12/02/2010</td>\n",
       "      <td>38.51</td>\n",
       "      <td>2.548</td>\n",
       "      <td>0.00</td>\n",
       "      <td>0.00</td>\n",
       "      <td>0.00</td>\n",
       "      <td>0.00</td>\n",
       "      <td>0.00</td>\n",
       "      <td>211.242170</td>\n",
       "      <td>8.106</td>\n",
       "      <td>True</td>\n",
       "    </tr>\n",
       "    <tr>\n",
       "      <th>2</th>\n",
       "      <td>1</td>\n",
       "      <td>19/02/2010</td>\n",
       "      <td>39.93</td>\n",
       "      <td>2.514</td>\n",
       "      <td>0.00</td>\n",
       "      <td>0.00</td>\n",
       "      <td>0.00</td>\n",
       "      <td>0.00</td>\n",
       "      <td>0.00</td>\n",
       "      <td>211.289143</td>\n",
       "      <td>8.106</td>\n",
       "      <td>False</td>\n",
       "    </tr>\n",
       "    <tr>\n",
       "      <th>3</th>\n",
       "      <td>1</td>\n",
       "      <td>26/02/2010</td>\n",
       "      <td>46.63</td>\n",
       "      <td>2.561</td>\n",
       "      <td>0.00</td>\n",
       "      <td>0.00</td>\n",
       "      <td>0.00</td>\n",
       "      <td>0.00</td>\n",
       "      <td>0.00</td>\n",
       "      <td>211.319643</td>\n",
       "      <td>8.106</td>\n",
       "      <td>False</td>\n",
       "    </tr>\n",
       "    <tr>\n",
       "      <th>4</th>\n",
       "      <td>1</td>\n",
       "      <td>05/03/2010</td>\n",
       "      <td>46.50</td>\n",
       "      <td>2.625</td>\n",
       "      <td>0.00</td>\n",
       "      <td>0.00</td>\n",
       "      <td>0.00</td>\n",
       "      <td>0.00</td>\n",
       "      <td>0.00</td>\n",
       "      <td>211.350143</td>\n",
       "      <td>8.106</td>\n",
       "      <td>False</td>\n",
       "    </tr>\n",
       "    <tr>\n",
       "      <th>...</th>\n",
       "      <td>...</td>\n",
       "      <td>...</td>\n",
       "      <td>...</td>\n",
       "      <td>...</td>\n",
       "      <td>...</td>\n",
       "      <td>...</td>\n",
       "      <td>...</td>\n",
       "      <td>...</td>\n",
       "      <td>...</td>\n",
       "      <td>...</td>\n",
       "      <td>...</td>\n",
       "      <td>...</td>\n",
       "    </tr>\n",
       "    <tr>\n",
       "      <th>8185</th>\n",
       "      <td>45</td>\n",
       "      <td>28/06/2013</td>\n",
       "      <td>76.05</td>\n",
       "      <td>3.639</td>\n",
       "      <td>4842.29</td>\n",
       "      <td>975.03</td>\n",
       "      <td>3.00</td>\n",
       "      <td>2449.97</td>\n",
       "      <td>3169.69</td>\n",
       "      <td>NaN</td>\n",
       "      <td>NaN</td>\n",
       "      <td>False</td>\n",
       "    </tr>\n",
       "    <tr>\n",
       "      <th>8186</th>\n",
       "      <td>45</td>\n",
       "      <td>05/07/2013</td>\n",
       "      <td>77.50</td>\n",
       "      <td>3.614</td>\n",
       "      <td>9090.48</td>\n",
       "      <td>2268.58</td>\n",
       "      <td>582.74</td>\n",
       "      <td>5797.47</td>\n",
       "      <td>1514.93</td>\n",
       "      <td>NaN</td>\n",
       "      <td>NaN</td>\n",
       "      <td>False</td>\n",
       "    </tr>\n",
       "    <tr>\n",
       "      <th>8187</th>\n",
       "      <td>45</td>\n",
       "      <td>12/07/2013</td>\n",
       "      <td>79.37</td>\n",
       "      <td>3.614</td>\n",
       "      <td>3789.94</td>\n",
       "      <td>1827.31</td>\n",
       "      <td>85.72</td>\n",
       "      <td>744.84</td>\n",
       "      <td>2150.36</td>\n",
       "      <td>NaN</td>\n",
       "      <td>NaN</td>\n",
       "      <td>False</td>\n",
       "    </tr>\n",
       "    <tr>\n",
       "      <th>8188</th>\n",
       "      <td>45</td>\n",
       "      <td>19/07/2013</td>\n",
       "      <td>82.84</td>\n",
       "      <td>3.737</td>\n",
       "      <td>2961.49</td>\n",
       "      <td>1047.07</td>\n",
       "      <td>204.19</td>\n",
       "      <td>363.00</td>\n",
       "      <td>1059.46</td>\n",
       "      <td>NaN</td>\n",
       "      <td>NaN</td>\n",
       "      <td>False</td>\n",
       "    </tr>\n",
       "    <tr>\n",
       "      <th>8189</th>\n",
       "      <td>45</td>\n",
       "      <td>26/07/2013</td>\n",
       "      <td>76.06</td>\n",
       "      <td>3.804</td>\n",
       "      <td>212.02</td>\n",
       "      <td>851.73</td>\n",
       "      <td>2.06</td>\n",
       "      <td>10.88</td>\n",
       "      <td>1864.57</td>\n",
       "      <td>NaN</td>\n",
       "      <td>NaN</td>\n",
       "      <td>False</td>\n",
       "    </tr>\n",
       "  </tbody>\n",
       "</table>\n",
       "<p>8190 rows × 12 columns</p>\n",
       "</div>"
      ],
      "text/plain": [
       "      Store        Date  Temperature  Fuel_Price  MarkDown1  MarkDown2  \\\n",
       "0         1  05/02/2010        42.31       2.572       0.00       0.00   \n",
       "1         1  12/02/2010        38.51       2.548       0.00       0.00   \n",
       "2         1  19/02/2010        39.93       2.514       0.00       0.00   \n",
       "3         1  26/02/2010        46.63       2.561       0.00       0.00   \n",
       "4         1  05/03/2010        46.50       2.625       0.00       0.00   \n",
       "...     ...         ...          ...         ...        ...        ...   \n",
       "8185     45  28/06/2013        76.05       3.639    4842.29     975.03   \n",
       "8186     45  05/07/2013        77.50       3.614    9090.48    2268.58   \n",
       "8187     45  12/07/2013        79.37       3.614    3789.94    1827.31   \n",
       "8188     45  19/07/2013        82.84       3.737    2961.49    1047.07   \n",
       "8189     45  26/07/2013        76.06       3.804     212.02     851.73   \n",
       "\n",
       "      MarkDown3  MarkDown4  MarkDown5         CPI  Unemployment  IsHoliday  \n",
       "0          0.00       0.00       0.00  211.096358         8.106      False  \n",
       "1          0.00       0.00       0.00  211.242170         8.106       True  \n",
       "2          0.00       0.00       0.00  211.289143         8.106      False  \n",
       "3          0.00       0.00       0.00  211.319643         8.106      False  \n",
       "4          0.00       0.00       0.00  211.350143         8.106      False  \n",
       "...         ...        ...        ...         ...           ...        ...  \n",
       "8185       3.00    2449.97    3169.69         NaN           NaN      False  \n",
       "8186     582.74    5797.47    1514.93         NaN           NaN      False  \n",
       "8187      85.72     744.84    2150.36         NaN           NaN      False  \n",
       "8188     204.19     363.00    1059.46         NaN           NaN      False  \n",
       "8189       2.06      10.88    1864.57         NaN           NaN      False  \n",
       "\n",
       "[8190 rows x 12 columns]"
      ]
     },
     "execution_count": 163,
     "metadata": {},
     "output_type": "execute_result"
    }
   ],
   "source": [
    "# vemos que há valores NaN nas colunas de MarkDown de features, portanto os substituíremos por zeros  (assumiremos que não houve desconto)\n",
    "# criaremos uma lista com o nome das colunas de MarkDown para facilitar\n",
    "colunas_markdown = [\"MarkDown1\", \"MarkDown2\", \"MarkDown3\", \"MarkDown4\", \"MarkDown5\"]\n",
    "features[colunas_markdown] = features[colunas_markdown].fillna(0)\n",
    "\n",
    "features"
   ]
  },
  {
   "cell_type": "code",
   "execution_count": 164,
   "metadata": {},
   "outputs": [
    {
     "data": {
      "text/html": [
       "<div>\n",
       "<style scoped>\n",
       "    .dataframe tbody tr th:only-of-type {\n",
       "        vertical-align: middle;\n",
       "    }\n",
       "\n",
       "    .dataframe tbody tr th {\n",
       "        vertical-align: top;\n",
       "    }\n",
       "\n",
       "    .dataframe thead th {\n",
       "        text-align: right;\n",
       "    }\n",
       "</style>\n",
       "<table border=\"1\" class=\"dataframe\">\n",
       "  <thead>\n",
       "    <tr style=\"text-align: right;\">\n",
       "      <th></th>\n",
       "      <th>Store</th>\n",
       "      <th>Date</th>\n",
       "      <th>Temperature</th>\n",
       "      <th>Fuel_Price</th>\n",
       "      <th>MarkDown1</th>\n",
       "      <th>MarkDown2</th>\n",
       "      <th>MarkDown3</th>\n",
       "      <th>MarkDown4</th>\n",
       "      <th>MarkDown5</th>\n",
       "      <th>CPI</th>\n",
       "      <th>Unemployment</th>\n",
       "      <th>IsHoliday</th>\n",
       "    </tr>\n",
       "  </thead>\n",
       "  <tbody>\n",
       "    <tr>\n",
       "      <th>0</th>\n",
       "      <td>1</td>\n",
       "      <td>05/02/2010</td>\n",
       "      <td>42.31</td>\n",
       "      <td>2.572</td>\n",
       "      <td>0.00</td>\n",
       "      <td>0.00</td>\n",
       "      <td>0.00</td>\n",
       "      <td>0.00</td>\n",
       "      <td>0.00</td>\n",
       "      <td>211.096358</td>\n",
       "      <td>8.106</td>\n",
       "      <td>False</td>\n",
       "    </tr>\n",
       "    <tr>\n",
       "      <th>1</th>\n",
       "      <td>1</td>\n",
       "      <td>12/02/2010</td>\n",
       "      <td>38.51</td>\n",
       "      <td>2.548</td>\n",
       "      <td>0.00</td>\n",
       "      <td>0.00</td>\n",
       "      <td>0.00</td>\n",
       "      <td>0.00</td>\n",
       "      <td>0.00</td>\n",
       "      <td>211.242170</td>\n",
       "      <td>8.106</td>\n",
       "      <td>True</td>\n",
       "    </tr>\n",
       "    <tr>\n",
       "      <th>2</th>\n",
       "      <td>1</td>\n",
       "      <td>19/02/2010</td>\n",
       "      <td>39.93</td>\n",
       "      <td>2.514</td>\n",
       "      <td>0.00</td>\n",
       "      <td>0.00</td>\n",
       "      <td>0.00</td>\n",
       "      <td>0.00</td>\n",
       "      <td>0.00</td>\n",
       "      <td>211.289143</td>\n",
       "      <td>8.106</td>\n",
       "      <td>False</td>\n",
       "    </tr>\n",
       "    <tr>\n",
       "      <th>3</th>\n",
       "      <td>1</td>\n",
       "      <td>26/02/2010</td>\n",
       "      <td>46.63</td>\n",
       "      <td>2.561</td>\n",
       "      <td>0.00</td>\n",
       "      <td>0.00</td>\n",
       "      <td>0.00</td>\n",
       "      <td>0.00</td>\n",
       "      <td>0.00</td>\n",
       "      <td>211.319643</td>\n",
       "      <td>8.106</td>\n",
       "      <td>False</td>\n",
       "    </tr>\n",
       "    <tr>\n",
       "      <th>4</th>\n",
       "      <td>1</td>\n",
       "      <td>05/03/2010</td>\n",
       "      <td>46.50</td>\n",
       "      <td>2.625</td>\n",
       "      <td>0.00</td>\n",
       "      <td>0.00</td>\n",
       "      <td>0.00</td>\n",
       "      <td>0.00</td>\n",
       "      <td>0.00</td>\n",
       "      <td>211.350143</td>\n",
       "      <td>8.106</td>\n",
       "      <td>False</td>\n",
       "    </tr>\n",
       "    <tr>\n",
       "      <th>...</th>\n",
       "      <td>...</td>\n",
       "      <td>...</td>\n",
       "      <td>...</td>\n",
       "      <td>...</td>\n",
       "      <td>...</td>\n",
       "      <td>...</td>\n",
       "      <td>...</td>\n",
       "      <td>...</td>\n",
       "      <td>...</td>\n",
       "      <td>...</td>\n",
       "      <td>...</td>\n",
       "      <td>...</td>\n",
       "    </tr>\n",
       "    <tr>\n",
       "      <th>8185</th>\n",
       "      <td>45</td>\n",
       "      <td>28/06/2013</td>\n",
       "      <td>76.05</td>\n",
       "      <td>3.639</td>\n",
       "      <td>4842.29</td>\n",
       "      <td>975.03</td>\n",
       "      <td>3.00</td>\n",
       "      <td>2449.97</td>\n",
       "      <td>3169.69</td>\n",
       "      <td>193.589304</td>\n",
       "      <td>NaN</td>\n",
       "      <td>False</td>\n",
       "    </tr>\n",
       "    <tr>\n",
       "      <th>8186</th>\n",
       "      <td>45</td>\n",
       "      <td>05/07/2013</td>\n",
       "      <td>77.50</td>\n",
       "      <td>3.614</td>\n",
       "      <td>9090.48</td>\n",
       "      <td>2268.58</td>\n",
       "      <td>582.74</td>\n",
       "      <td>5797.47</td>\n",
       "      <td>1514.93</td>\n",
       "      <td>193.589304</td>\n",
       "      <td>NaN</td>\n",
       "      <td>False</td>\n",
       "    </tr>\n",
       "    <tr>\n",
       "      <th>8187</th>\n",
       "      <td>45</td>\n",
       "      <td>12/07/2013</td>\n",
       "      <td>79.37</td>\n",
       "      <td>3.614</td>\n",
       "      <td>3789.94</td>\n",
       "      <td>1827.31</td>\n",
       "      <td>85.72</td>\n",
       "      <td>744.84</td>\n",
       "      <td>2150.36</td>\n",
       "      <td>193.589304</td>\n",
       "      <td>NaN</td>\n",
       "      <td>False</td>\n",
       "    </tr>\n",
       "    <tr>\n",
       "      <th>8188</th>\n",
       "      <td>45</td>\n",
       "      <td>19/07/2013</td>\n",
       "      <td>82.84</td>\n",
       "      <td>3.737</td>\n",
       "      <td>2961.49</td>\n",
       "      <td>1047.07</td>\n",
       "      <td>204.19</td>\n",
       "      <td>363.00</td>\n",
       "      <td>1059.46</td>\n",
       "      <td>193.589304</td>\n",
       "      <td>NaN</td>\n",
       "      <td>False</td>\n",
       "    </tr>\n",
       "    <tr>\n",
       "      <th>8189</th>\n",
       "      <td>45</td>\n",
       "      <td>26/07/2013</td>\n",
       "      <td>76.06</td>\n",
       "      <td>3.804</td>\n",
       "      <td>212.02</td>\n",
       "      <td>851.73</td>\n",
       "      <td>2.06</td>\n",
       "      <td>10.88</td>\n",
       "      <td>1864.57</td>\n",
       "      <td>193.589304</td>\n",
       "      <td>NaN</td>\n",
       "      <td>False</td>\n",
       "    </tr>\n",
       "  </tbody>\n",
       "</table>\n",
       "<p>8190 rows × 12 columns</p>\n",
       "</div>"
      ],
      "text/plain": [
       "      Store        Date  Temperature  Fuel_Price  MarkDown1  MarkDown2  \\\n",
       "0         1  05/02/2010        42.31       2.572       0.00       0.00   \n",
       "1         1  12/02/2010        38.51       2.548       0.00       0.00   \n",
       "2         1  19/02/2010        39.93       2.514       0.00       0.00   \n",
       "3         1  26/02/2010        46.63       2.561       0.00       0.00   \n",
       "4         1  05/03/2010        46.50       2.625       0.00       0.00   \n",
       "...     ...         ...          ...         ...        ...        ...   \n",
       "8185     45  28/06/2013        76.05       3.639    4842.29     975.03   \n",
       "8186     45  05/07/2013        77.50       3.614    9090.48    2268.58   \n",
       "8187     45  12/07/2013        79.37       3.614    3789.94    1827.31   \n",
       "8188     45  19/07/2013        82.84       3.737    2961.49    1047.07   \n",
       "8189     45  26/07/2013        76.06       3.804     212.02     851.73   \n",
       "\n",
       "      MarkDown3  MarkDown4  MarkDown5         CPI  Unemployment  IsHoliday  \n",
       "0          0.00       0.00       0.00  211.096358         8.106      False  \n",
       "1          0.00       0.00       0.00  211.242170         8.106       True  \n",
       "2          0.00       0.00       0.00  211.289143         8.106      False  \n",
       "3          0.00       0.00       0.00  211.319643         8.106      False  \n",
       "4          0.00       0.00       0.00  211.350143         8.106      False  \n",
       "...         ...        ...        ...         ...           ...        ...  \n",
       "8185       3.00    2449.97    3169.69  193.589304           NaN      False  \n",
       "8186     582.74    5797.47    1514.93  193.589304           NaN      False  \n",
       "8187      85.72     744.84    2150.36  193.589304           NaN      False  \n",
       "8188     204.19     363.00    1059.46  193.589304           NaN      False  \n",
       "8189       2.06      10.88    1864.57  193.589304           NaN      False  \n",
       "\n",
       "[8190 rows x 12 columns]"
      ]
     },
     "execution_count": 164,
     "metadata": {},
     "output_type": "execute_result"
    }
   ],
   "source": [
    "# há valores NaN na coluna CPI de features, portanto os substituíremos pelo valor anterior não nulo,\n",
    "# isto é, a técnica forward fill. Podemos fazer isso pois a variável CPI diz respeito ao índice de inflação, que possui uma variância\n",
    "# insiginificante de dia para dia\n",
    "\n",
    "features[\"CPI\"].fillna(method =\"ffill\", inplace = True)\n",
    "\n",
    "features"
   ]
  },
  {
   "cell_type": "code",
   "execution_count": 165,
   "metadata": {},
   "outputs": [
    {
     "data": {
      "text/html": [
       "<div>\n",
       "<style scoped>\n",
       "    .dataframe tbody tr th:only-of-type {\n",
       "        vertical-align: middle;\n",
       "    }\n",
       "\n",
       "    .dataframe tbody tr th {\n",
       "        vertical-align: top;\n",
       "    }\n",
       "\n",
       "    .dataframe thead th {\n",
       "        text-align: right;\n",
       "    }\n",
       "</style>\n",
       "<table border=\"1\" class=\"dataframe\">\n",
       "  <thead>\n",
       "    <tr style=\"text-align: right;\">\n",
       "      <th></th>\n",
       "      <th>Store</th>\n",
       "      <th>Date</th>\n",
       "      <th>Temperature</th>\n",
       "      <th>Fuel_Price</th>\n",
       "      <th>MarkDown1</th>\n",
       "      <th>MarkDown2</th>\n",
       "      <th>MarkDown3</th>\n",
       "      <th>MarkDown4</th>\n",
       "      <th>MarkDown5</th>\n",
       "      <th>CPI</th>\n",
       "      <th>Unemployment</th>\n",
       "      <th>IsHoliday</th>\n",
       "    </tr>\n",
       "  </thead>\n",
       "  <tbody>\n",
       "    <tr>\n",
       "      <th>0</th>\n",
       "      <td>1</td>\n",
       "      <td>05/02/2010</td>\n",
       "      <td>42.31</td>\n",
       "      <td>2.572</td>\n",
       "      <td>0.00</td>\n",
       "      <td>0.00</td>\n",
       "      <td>0.00</td>\n",
       "      <td>0.00</td>\n",
       "      <td>0.00</td>\n",
       "      <td>211.096358</td>\n",
       "      <td>8.106</td>\n",
       "      <td>False</td>\n",
       "    </tr>\n",
       "    <tr>\n",
       "      <th>1</th>\n",
       "      <td>1</td>\n",
       "      <td>12/02/2010</td>\n",
       "      <td>38.51</td>\n",
       "      <td>2.548</td>\n",
       "      <td>0.00</td>\n",
       "      <td>0.00</td>\n",
       "      <td>0.00</td>\n",
       "      <td>0.00</td>\n",
       "      <td>0.00</td>\n",
       "      <td>211.242170</td>\n",
       "      <td>8.106</td>\n",
       "      <td>True</td>\n",
       "    </tr>\n",
       "    <tr>\n",
       "      <th>2</th>\n",
       "      <td>1</td>\n",
       "      <td>19/02/2010</td>\n",
       "      <td>39.93</td>\n",
       "      <td>2.514</td>\n",
       "      <td>0.00</td>\n",
       "      <td>0.00</td>\n",
       "      <td>0.00</td>\n",
       "      <td>0.00</td>\n",
       "      <td>0.00</td>\n",
       "      <td>211.289143</td>\n",
       "      <td>8.106</td>\n",
       "      <td>False</td>\n",
       "    </tr>\n",
       "    <tr>\n",
       "      <th>3</th>\n",
       "      <td>1</td>\n",
       "      <td>26/02/2010</td>\n",
       "      <td>46.63</td>\n",
       "      <td>2.561</td>\n",
       "      <td>0.00</td>\n",
       "      <td>0.00</td>\n",
       "      <td>0.00</td>\n",
       "      <td>0.00</td>\n",
       "      <td>0.00</td>\n",
       "      <td>211.319643</td>\n",
       "      <td>8.106</td>\n",
       "      <td>False</td>\n",
       "    </tr>\n",
       "    <tr>\n",
       "      <th>4</th>\n",
       "      <td>1</td>\n",
       "      <td>05/03/2010</td>\n",
       "      <td>46.50</td>\n",
       "      <td>2.625</td>\n",
       "      <td>0.00</td>\n",
       "      <td>0.00</td>\n",
       "      <td>0.00</td>\n",
       "      <td>0.00</td>\n",
       "      <td>0.00</td>\n",
       "      <td>211.350143</td>\n",
       "      <td>8.106</td>\n",
       "      <td>False</td>\n",
       "    </tr>\n",
       "    <tr>\n",
       "      <th>...</th>\n",
       "      <td>...</td>\n",
       "      <td>...</td>\n",
       "      <td>...</td>\n",
       "      <td>...</td>\n",
       "      <td>...</td>\n",
       "      <td>...</td>\n",
       "      <td>...</td>\n",
       "      <td>...</td>\n",
       "      <td>...</td>\n",
       "      <td>...</td>\n",
       "      <td>...</td>\n",
       "      <td>...</td>\n",
       "    </tr>\n",
       "    <tr>\n",
       "      <th>8185</th>\n",
       "      <td>45</td>\n",
       "      <td>28/06/2013</td>\n",
       "      <td>76.05</td>\n",
       "      <td>3.639</td>\n",
       "      <td>4842.29</td>\n",
       "      <td>975.03</td>\n",
       "      <td>3.00</td>\n",
       "      <td>2449.97</td>\n",
       "      <td>3169.69</td>\n",
       "      <td>193.589304</td>\n",
       "      <td>8.335</td>\n",
       "      <td>False</td>\n",
       "    </tr>\n",
       "    <tr>\n",
       "      <th>8186</th>\n",
       "      <td>45</td>\n",
       "      <td>05/07/2013</td>\n",
       "      <td>77.50</td>\n",
       "      <td>3.614</td>\n",
       "      <td>9090.48</td>\n",
       "      <td>2268.58</td>\n",
       "      <td>582.74</td>\n",
       "      <td>5797.47</td>\n",
       "      <td>1514.93</td>\n",
       "      <td>193.589304</td>\n",
       "      <td>8.335</td>\n",
       "      <td>False</td>\n",
       "    </tr>\n",
       "    <tr>\n",
       "      <th>8187</th>\n",
       "      <td>45</td>\n",
       "      <td>12/07/2013</td>\n",
       "      <td>79.37</td>\n",
       "      <td>3.614</td>\n",
       "      <td>3789.94</td>\n",
       "      <td>1827.31</td>\n",
       "      <td>85.72</td>\n",
       "      <td>744.84</td>\n",
       "      <td>2150.36</td>\n",
       "      <td>193.589304</td>\n",
       "      <td>8.335</td>\n",
       "      <td>False</td>\n",
       "    </tr>\n",
       "    <tr>\n",
       "      <th>8188</th>\n",
       "      <td>45</td>\n",
       "      <td>19/07/2013</td>\n",
       "      <td>82.84</td>\n",
       "      <td>3.737</td>\n",
       "      <td>2961.49</td>\n",
       "      <td>1047.07</td>\n",
       "      <td>204.19</td>\n",
       "      <td>363.00</td>\n",
       "      <td>1059.46</td>\n",
       "      <td>193.589304</td>\n",
       "      <td>8.335</td>\n",
       "      <td>False</td>\n",
       "    </tr>\n",
       "    <tr>\n",
       "      <th>8189</th>\n",
       "      <td>45</td>\n",
       "      <td>26/07/2013</td>\n",
       "      <td>76.06</td>\n",
       "      <td>3.804</td>\n",
       "      <td>212.02</td>\n",
       "      <td>851.73</td>\n",
       "      <td>2.06</td>\n",
       "      <td>10.88</td>\n",
       "      <td>1864.57</td>\n",
       "      <td>193.589304</td>\n",
       "      <td>8.335</td>\n",
       "      <td>False</td>\n",
       "    </tr>\n",
       "  </tbody>\n",
       "</table>\n",
       "<p>8190 rows × 12 columns</p>\n",
       "</div>"
      ],
      "text/plain": [
       "      Store        Date  Temperature  Fuel_Price  MarkDown1  MarkDown2  \\\n",
       "0         1  05/02/2010        42.31       2.572       0.00       0.00   \n",
       "1         1  12/02/2010        38.51       2.548       0.00       0.00   \n",
       "2         1  19/02/2010        39.93       2.514       0.00       0.00   \n",
       "3         1  26/02/2010        46.63       2.561       0.00       0.00   \n",
       "4         1  05/03/2010        46.50       2.625       0.00       0.00   \n",
       "...     ...         ...          ...         ...        ...        ...   \n",
       "8185     45  28/06/2013        76.05       3.639    4842.29     975.03   \n",
       "8186     45  05/07/2013        77.50       3.614    9090.48    2268.58   \n",
       "8187     45  12/07/2013        79.37       3.614    3789.94    1827.31   \n",
       "8188     45  19/07/2013        82.84       3.737    2961.49    1047.07   \n",
       "8189     45  26/07/2013        76.06       3.804     212.02     851.73   \n",
       "\n",
       "      MarkDown3  MarkDown4  MarkDown5         CPI  Unemployment  IsHoliday  \n",
       "0          0.00       0.00       0.00  211.096358         8.106      False  \n",
       "1          0.00       0.00       0.00  211.242170         8.106       True  \n",
       "2          0.00       0.00       0.00  211.289143         8.106      False  \n",
       "3          0.00       0.00       0.00  211.319643         8.106      False  \n",
       "4          0.00       0.00       0.00  211.350143         8.106      False  \n",
       "...         ...        ...        ...         ...           ...        ...  \n",
       "8185       3.00    2449.97    3169.69  193.589304         8.335      False  \n",
       "8186     582.74    5797.47    1514.93  193.589304         8.335      False  \n",
       "8187      85.72     744.84    2150.36  193.589304         8.335      False  \n",
       "8188     204.19     363.00    1059.46  193.589304         8.335      False  \n",
       "8189       2.06      10.88    1864.57  193.589304         8.335      False  \n",
       "\n",
       "[8190 rows x 12 columns]"
      ]
     },
     "execution_count": 165,
     "metadata": {},
     "output_type": "execute_result"
    }
   ],
   "source": [
    "# há valores NaN na coluna Unemployment de features, portanto os substituíremos pelo valor anterior não nulo,\n",
    "# isto é, a técnica forward fill. Podemos fazer isso pois a variável Unemployment diz respeito ao índice de desemprego,\n",
    "# que possui uma variância insiginificante de dia para dia\n",
    "\n",
    "features[\"Unemployment\"].fillna(method =\"ffill\", inplace = True)\n",
    "\n",
    "features"
   ]
  },
  {
   "cell_type": "code",
   "execution_count": 166,
   "metadata": {},
   "outputs": [
    {
     "data": {
      "text/plain": [
       "Store           0\n",
       "Date            0\n",
       "Temperature     0\n",
       "Fuel_Price      0\n",
       "MarkDown1       0\n",
       "MarkDown2       0\n",
       "MarkDown3       0\n",
       "MarkDown4       0\n",
       "MarkDown5       0\n",
       "CPI             0\n",
       "Unemployment    0\n",
       "IsHoliday       0\n",
       "dtype: int64"
      ]
     },
     "execution_count": 166,
     "metadata": {},
     "output_type": "execute_result"
    }
   ],
   "source": [
    "# não devemos mais ter valores NaN em features\n",
    "features.isnull().sum()"
   ]
  },
  {
   "cell_type": "markdown",
   "metadata": {},
   "source": [
    "<a class=\"anchor\" id=\"section_3_3\"></a>\n",
    "### Verificaremos se há linhas duplicadas nos datas frames"
   ]
  },
  {
   "cell_type": "code",
   "execution_count": 170,
   "metadata": {},
   "outputs": [
    {
     "data": {
      "text/plain": [
       "0"
      ]
     },
     "execution_count": 170,
     "metadata": {},
     "output_type": "execute_result"
    }
   ],
   "source": [
    "# se a soma for 0, temos que não há linhas duplicadas em stores\n",
    "sum(stores.duplicated())"
   ]
  },
  {
   "cell_type": "code",
   "execution_count": 171,
   "metadata": {},
   "outputs": [
    {
     "data": {
      "text/plain": [
       "0"
      ]
     },
     "execution_count": 171,
     "metadata": {},
     "output_type": "execute_result"
    }
   ],
   "source": [
    "# se a soma for 0, temos que não há linhas duplicadas em features\n",
    "sum(features.duplicated())"
   ]
  },
  {
   "cell_type": "code",
   "execution_count": 172,
   "metadata": {},
   "outputs": [
    {
     "data": {
      "text/plain": [
       "0"
      ]
     },
     "execution_count": 172,
     "metadata": {},
     "output_type": "execute_result"
    }
   ],
   "source": [
    "# se a soma for 0, temos que não há linhas duplicadas em sales\n",
    "sum(sales.duplicated())"
   ]
  },
  {
   "cell_type": "markdown",
   "metadata": {},
   "source": [
    "<a class=\"anchor\" id=\"section_3_4\"></a>\n",
    "### Manipulação e criação de variáveis"
   ]
  },
  {
   "cell_type": "code",
   "execution_count": 167,
   "metadata": {},
   "outputs": [
    {
     "data": {
      "text/html": [
       "<div>\n",
       "<style scoped>\n",
       "    .dataframe tbody tr th:only-of-type {\n",
       "        vertical-align: middle;\n",
       "    }\n",
       "\n",
       "    .dataframe tbody tr th {\n",
       "        vertical-align: top;\n",
       "    }\n",
       "\n",
       "    .dataframe thead th {\n",
       "        text-align: right;\n",
       "    }\n",
       "</style>\n",
       "<table border=\"1\" class=\"dataframe\">\n",
       "  <thead>\n",
       "    <tr style=\"text-align: right;\">\n",
       "      <th></th>\n",
       "      <th>Store</th>\n",
       "      <th>Date</th>\n",
       "      <th>Temperature</th>\n",
       "      <th>Fuel_Price</th>\n",
       "      <th>MarkDown1</th>\n",
       "      <th>MarkDown2</th>\n",
       "      <th>MarkDown3</th>\n",
       "      <th>MarkDown4</th>\n",
       "      <th>MarkDown5</th>\n",
       "      <th>CPI</th>\n",
       "      <th>Unemployment</th>\n",
       "      <th>IsHoliday</th>\n",
       "    </tr>\n",
       "  </thead>\n",
       "  <tbody>\n",
       "    <tr>\n",
       "      <th>0</th>\n",
       "      <td>1</td>\n",
       "      <td>05/02/2010</td>\n",
       "      <td>42.31</td>\n",
       "      <td>2.572</td>\n",
       "      <td>0.00</td>\n",
       "      <td>0.00</td>\n",
       "      <td>0.00</td>\n",
       "      <td>0.00</td>\n",
       "      <td>0.00</td>\n",
       "      <td>211.096358</td>\n",
       "      <td>8.106</td>\n",
       "      <td>0</td>\n",
       "    </tr>\n",
       "    <tr>\n",
       "      <th>1</th>\n",
       "      <td>1</td>\n",
       "      <td>12/02/2010</td>\n",
       "      <td>38.51</td>\n",
       "      <td>2.548</td>\n",
       "      <td>0.00</td>\n",
       "      <td>0.00</td>\n",
       "      <td>0.00</td>\n",
       "      <td>0.00</td>\n",
       "      <td>0.00</td>\n",
       "      <td>211.242170</td>\n",
       "      <td>8.106</td>\n",
       "      <td>1</td>\n",
       "    </tr>\n",
       "    <tr>\n",
       "      <th>2</th>\n",
       "      <td>1</td>\n",
       "      <td>19/02/2010</td>\n",
       "      <td>39.93</td>\n",
       "      <td>2.514</td>\n",
       "      <td>0.00</td>\n",
       "      <td>0.00</td>\n",
       "      <td>0.00</td>\n",
       "      <td>0.00</td>\n",
       "      <td>0.00</td>\n",
       "      <td>211.289143</td>\n",
       "      <td>8.106</td>\n",
       "      <td>0</td>\n",
       "    </tr>\n",
       "    <tr>\n",
       "      <th>3</th>\n",
       "      <td>1</td>\n",
       "      <td>26/02/2010</td>\n",
       "      <td>46.63</td>\n",
       "      <td>2.561</td>\n",
       "      <td>0.00</td>\n",
       "      <td>0.00</td>\n",
       "      <td>0.00</td>\n",
       "      <td>0.00</td>\n",
       "      <td>0.00</td>\n",
       "      <td>211.319643</td>\n",
       "      <td>8.106</td>\n",
       "      <td>0</td>\n",
       "    </tr>\n",
       "    <tr>\n",
       "      <th>4</th>\n",
       "      <td>1</td>\n",
       "      <td>05/03/2010</td>\n",
       "      <td>46.50</td>\n",
       "      <td>2.625</td>\n",
       "      <td>0.00</td>\n",
       "      <td>0.00</td>\n",
       "      <td>0.00</td>\n",
       "      <td>0.00</td>\n",
       "      <td>0.00</td>\n",
       "      <td>211.350143</td>\n",
       "      <td>8.106</td>\n",
       "      <td>0</td>\n",
       "    </tr>\n",
       "    <tr>\n",
       "      <th>...</th>\n",
       "      <td>...</td>\n",
       "      <td>...</td>\n",
       "      <td>...</td>\n",
       "      <td>...</td>\n",
       "      <td>...</td>\n",
       "      <td>...</td>\n",
       "      <td>...</td>\n",
       "      <td>...</td>\n",
       "      <td>...</td>\n",
       "      <td>...</td>\n",
       "      <td>...</td>\n",
       "      <td>...</td>\n",
       "    </tr>\n",
       "    <tr>\n",
       "      <th>8185</th>\n",
       "      <td>45</td>\n",
       "      <td>28/06/2013</td>\n",
       "      <td>76.05</td>\n",
       "      <td>3.639</td>\n",
       "      <td>4842.29</td>\n",
       "      <td>975.03</td>\n",
       "      <td>3.00</td>\n",
       "      <td>2449.97</td>\n",
       "      <td>3169.69</td>\n",
       "      <td>193.589304</td>\n",
       "      <td>8.335</td>\n",
       "      <td>0</td>\n",
       "    </tr>\n",
       "    <tr>\n",
       "      <th>8186</th>\n",
       "      <td>45</td>\n",
       "      <td>05/07/2013</td>\n",
       "      <td>77.50</td>\n",
       "      <td>3.614</td>\n",
       "      <td>9090.48</td>\n",
       "      <td>2268.58</td>\n",
       "      <td>582.74</td>\n",
       "      <td>5797.47</td>\n",
       "      <td>1514.93</td>\n",
       "      <td>193.589304</td>\n",
       "      <td>8.335</td>\n",
       "      <td>0</td>\n",
       "    </tr>\n",
       "    <tr>\n",
       "      <th>8187</th>\n",
       "      <td>45</td>\n",
       "      <td>12/07/2013</td>\n",
       "      <td>79.37</td>\n",
       "      <td>3.614</td>\n",
       "      <td>3789.94</td>\n",
       "      <td>1827.31</td>\n",
       "      <td>85.72</td>\n",
       "      <td>744.84</td>\n",
       "      <td>2150.36</td>\n",
       "      <td>193.589304</td>\n",
       "      <td>8.335</td>\n",
       "      <td>0</td>\n",
       "    </tr>\n",
       "    <tr>\n",
       "      <th>8188</th>\n",
       "      <td>45</td>\n",
       "      <td>19/07/2013</td>\n",
       "      <td>82.84</td>\n",
       "      <td>3.737</td>\n",
       "      <td>2961.49</td>\n",
       "      <td>1047.07</td>\n",
       "      <td>204.19</td>\n",
       "      <td>363.00</td>\n",
       "      <td>1059.46</td>\n",
       "      <td>193.589304</td>\n",
       "      <td>8.335</td>\n",
       "      <td>0</td>\n",
       "    </tr>\n",
       "    <tr>\n",
       "      <th>8189</th>\n",
       "      <td>45</td>\n",
       "      <td>26/07/2013</td>\n",
       "      <td>76.06</td>\n",
       "      <td>3.804</td>\n",
       "      <td>212.02</td>\n",
       "      <td>851.73</td>\n",
       "      <td>2.06</td>\n",
       "      <td>10.88</td>\n",
       "      <td>1864.57</td>\n",
       "      <td>193.589304</td>\n",
       "      <td>8.335</td>\n",
       "      <td>0</td>\n",
       "    </tr>\n",
       "  </tbody>\n",
       "</table>\n",
       "<p>8190 rows × 12 columns</p>\n",
       "</div>"
      ],
      "text/plain": [
       "      Store        Date  Temperature  Fuel_Price  MarkDown1  MarkDown2  \\\n",
       "0         1  05/02/2010        42.31       2.572       0.00       0.00   \n",
       "1         1  12/02/2010        38.51       2.548       0.00       0.00   \n",
       "2         1  19/02/2010        39.93       2.514       0.00       0.00   \n",
       "3         1  26/02/2010        46.63       2.561       0.00       0.00   \n",
       "4         1  05/03/2010        46.50       2.625       0.00       0.00   \n",
       "...     ...         ...          ...         ...        ...        ...   \n",
       "8185     45  28/06/2013        76.05       3.639    4842.29     975.03   \n",
       "8186     45  05/07/2013        77.50       3.614    9090.48    2268.58   \n",
       "8187     45  12/07/2013        79.37       3.614    3789.94    1827.31   \n",
       "8188     45  19/07/2013        82.84       3.737    2961.49    1047.07   \n",
       "8189     45  26/07/2013        76.06       3.804     212.02     851.73   \n",
       "\n",
       "      MarkDown3  MarkDown4  MarkDown5         CPI  Unemployment  IsHoliday  \n",
       "0          0.00       0.00       0.00  211.096358         8.106          0  \n",
       "1          0.00       0.00       0.00  211.242170         8.106          1  \n",
       "2          0.00       0.00       0.00  211.289143         8.106          0  \n",
       "3          0.00       0.00       0.00  211.319643         8.106          0  \n",
       "4          0.00       0.00       0.00  211.350143         8.106          0  \n",
       "...         ...        ...        ...         ...           ...        ...  \n",
       "8185       3.00    2449.97    3169.69  193.589304         8.335          0  \n",
       "8186     582.74    5797.47    1514.93  193.589304         8.335          0  \n",
       "8187      85.72     744.84    2150.36  193.589304         8.335          0  \n",
       "8188     204.19     363.00    1059.46  193.589304         8.335          0  \n",
       "8189       2.06      10.88    1864.57  193.589304         8.335          0  \n",
       "\n",
       "[8190 rows x 12 columns]"
      ]
     },
     "execution_count": 167,
     "metadata": {},
     "output_type": "execute_result"
    }
   ],
   "source": [
    "#tornaremos a coluna IsHoliday de features, que assume valores booleanos, em 0 ou 1, para trabalhar com ela mais facilmente no futuro\n",
    "\n",
    "features[\"IsHoliday\"] = features[\"IsHoliday\"].replace({False: 0, True: 1})\n",
    "\n",
    "features"
   ]
  },
  {
   "cell_type": "code",
   "execution_count": 168,
   "metadata": {},
   "outputs": [
    {
     "data": {
      "text/html": [
       "<div>\n",
       "<style scoped>\n",
       "    .dataframe tbody tr th:only-of-type {\n",
       "        vertical-align: middle;\n",
       "    }\n",
       "\n",
       "    .dataframe tbody tr th {\n",
       "        vertical-align: top;\n",
       "    }\n",
       "\n",
       "    .dataframe thead th {\n",
       "        text-align: right;\n",
       "    }\n",
       "</style>\n",
       "<table border=\"1\" class=\"dataframe\">\n",
       "  <thead>\n",
       "    <tr style=\"text-align: right;\">\n",
       "      <th></th>\n",
       "      <th>Store</th>\n",
       "      <th>Dept</th>\n",
       "      <th>Date</th>\n",
       "      <th>Weekly_Sales</th>\n",
       "      <th>IsHoliday</th>\n",
       "    </tr>\n",
       "  </thead>\n",
       "  <tbody>\n",
       "    <tr>\n",
       "      <th>0</th>\n",
       "      <td>1</td>\n",
       "      <td>1</td>\n",
       "      <td>05/02/2010</td>\n",
       "      <td>24924.50</td>\n",
       "      <td>0</td>\n",
       "    </tr>\n",
       "    <tr>\n",
       "      <th>1</th>\n",
       "      <td>1</td>\n",
       "      <td>1</td>\n",
       "      <td>12/02/2010</td>\n",
       "      <td>46039.49</td>\n",
       "      <td>1</td>\n",
       "    </tr>\n",
       "    <tr>\n",
       "      <th>2</th>\n",
       "      <td>1</td>\n",
       "      <td>1</td>\n",
       "      <td>19/02/2010</td>\n",
       "      <td>41595.55</td>\n",
       "      <td>0</td>\n",
       "    </tr>\n",
       "    <tr>\n",
       "      <th>3</th>\n",
       "      <td>1</td>\n",
       "      <td>1</td>\n",
       "      <td>26/02/2010</td>\n",
       "      <td>19403.54</td>\n",
       "      <td>0</td>\n",
       "    </tr>\n",
       "    <tr>\n",
       "      <th>4</th>\n",
       "      <td>1</td>\n",
       "      <td>1</td>\n",
       "      <td>05/03/2010</td>\n",
       "      <td>21827.90</td>\n",
       "      <td>0</td>\n",
       "    </tr>\n",
       "    <tr>\n",
       "      <th>...</th>\n",
       "      <td>...</td>\n",
       "      <td>...</td>\n",
       "      <td>...</td>\n",
       "      <td>...</td>\n",
       "      <td>...</td>\n",
       "    </tr>\n",
       "    <tr>\n",
       "      <th>421565</th>\n",
       "      <td>45</td>\n",
       "      <td>98</td>\n",
       "      <td>28/09/2012</td>\n",
       "      <td>508.37</td>\n",
       "      <td>0</td>\n",
       "    </tr>\n",
       "    <tr>\n",
       "      <th>421566</th>\n",
       "      <td>45</td>\n",
       "      <td>98</td>\n",
       "      <td>05/10/2012</td>\n",
       "      <td>628.10</td>\n",
       "      <td>0</td>\n",
       "    </tr>\n",
       "    <tr>\n",
       "      <th>421567</th>\n",
       "      <td>45</td>\n",
       "      <td>98</td>\n",
       "      <td>12/10/2012</td>\n",
       "      <td>1061.02</td>\n",
       "      <td>0</td>\n",
       "    </tr>\n",
       "    <tr>\n",
       "      <th>421568</th>\n",
       "      <td>45</td>\n",
       "      <td>98</td>\n",
       "      <td>19/10/2012</td>\n",
       "      <td>760.01</td>\n",
       "      <td>0</td>\n",
       "    </tr>\n",
       "    <tr>\n",
       "      <th>421569</th>\n",
       "      <td>45</td>\n",
       "      <td>98</td>\n",
       "      <td>26/10/2012</td>\n",
       "      <td>1076.80</td>\n",
       "      <td>0</td>\n",
       "    </tr>\n",
       "  </tbody>\n",
       "</table>\n",
       "<p>421570 rows × 5 columns</p>\n",
       "</div>"
      ],
      "text/plain": [
       "        Store  Dept        Date  Weekly_Sales  IsHoliday\n",
       "0           1     1  05/02/2010      24924.50          0\n",
       "1           1     1  12/02/2010      46039.49          1\n",
       "2           1     1  19/02/2010      41595.55          0\n",
       "3           1     1  26/02/2010      19403.54          0\n",
       "4           1     1  05/03/2010      21827.90          0\n",
       "...       ...   ...         ...           ...        ...\n",
       "421565     45    98  28/09/2012        508.37          0\n",
       "421566     45    98  05/10/2012        628.10          0\n",
       "421567     45    98  12/10/2012       1061.02          0\n",
       "421568     45    98  19/10/2012        760.01          0\n",
       "421569     45    98  26/10/2012       1076.80          0\n",
       "\n",
       "[421570 rows x 5 columns]"
      ]
     },
     "execution_count": 168,
     "metadata": {},
     "output_type": "execute_result"
    }
   ],
   "source": [
    "#tornaremos a coluna IsHoliday de sales, que assume valores booleanos, em 0 ou 1, para trabalhar com ela mais facilmente no futuro\n",
    "\n",
    "sales[\"IsHoliday\"] = sales[\"IsHoliday\"].replace({False: 0, True: 1})\n",
    "\n",
    "sales"
   ]
  },
  {
   "cell_type": "code",
   "execution_count": 175,
   "metadata": {},
   "outputs": [
    {
     "data": {
      "text/html": [
       "<div>\n",
       "<style scoped>\n",
       "    .dataframe tbody tr th:only-of-type {\n",
       "        vertical-align: middle;\n",
       "    }\n",
       "\n",
       "    .dataframe tbody tr th {\n",
       "        vertical-align: top;\n",
       "    }\n",
       "\n",
       "    .dataframe thead th {\n",
       "        text-align: right;\n",
       "    }\n",
       "</style>\n",
       "<table border=\"1\" class=\"dataframe\">\n",
       "  <thead>\n",
       "    <tr style=\"text-align: right;\">\n",
       "      <th></th>\n",
       "      <th>Store</th>\n",
       "      <th>Date</th>\n",
       "      <th>Temperature</th>\n",
       "      <th>Fuel_Price</th>\n",
       "      <th>MarkDown1</th>\n",
       "      <th>MarkDown2</th>\n",
       "      <th>MarkDown3</th>\n",
       "      <th>MarkDown4</th>\n",
       "      <th>MarkDown5</th>\n",
       "      <th>CPI</th>\n",
       "      <th>Unemployment</th>\n",
       "      <th>IsHoliday</th>\n",
       "      <th>MarkDown</th>\n",
       "    </tr>\n",
       "  </thead>\n",
       "  <tbody>\n",
       "    <tr>\n",
       "      <th>0</th>\n",
       "      <td>1</td>\n",
       "      <td>05/02/2010</td>\n",
       "      <td>42.31</td>\n",
       "      <td>2.572</td>\n",
       "      <td>0.00</td>\n",
       "      <td>0.00</td>\n",
       "      <td>0.00</td>\n",
       "      <td>0.00</td>\n",
       "      <td>0.00</td>\n",
       "      <td>211.096358</td>\n",
       "      <td>8.106</td>\n",
       "      <td>0</td>\n",
       "      <td>0.00</td>\n",
       "    </tr>\n",
       "    <tr>\n",
       "      <th>1</th>\n",
       "      <td>1</td>\n",
       "      <td>12/02/2010</td>\n",
       "      <td>38.51</td>\n",
       "      <td>2.548</td>\n",
       "      <td>0.00</td>\n",
       "      <td>0.00</td>\n",
       "      <td>0.00</td>\n",
       "      <td>0.00</td>\n",
       "      <td>0.00</td>\n",
       "      <td>211.242170</td>\n",
       "      <td>8.106</td>\n",
       "      <td>1</td>\n",
       "      <td>0.00</td>\n",
       "    </tr>\n",
       "    <tr>\n",
       "      <th>2</th>\n",
       "      <td>1</td>\n",
       "      <td>19/02/2010</td>\n",
       "      <td>39.93</td>\n",
       "      <td>2.514</td>\n",
       "      <td>0.00</td>\n",
       "      <td>0.00</td>\n",
       "      <td>0.00</td>\n",
       "      <td>0.00</td>\n",
       "      <td>0.00</td>\n",
       "      <td>211.289143</td>\n",
       "      <td>8.106</td>\n",
       "      <td>0</td>\n",
       "      <td>0.00</td>\n",
       "    </tr>\n",
       "    <tr>\n",
       "      <th>3</th>\n",
       "      <td>1</td>\n",
       "      <td>26/02/2010</td>\n",
       "      <td>46.63</td>\n",
       "      <td>2.561</td>\n",
       "      <td>0.00</td>\n",
       "      <td>0.00</td>\n",
       "      <td>0.00</td>\n",
       "      <td>0.00</td>\n",
       "      <td>0.00</td>\n",
       "      <td>211.319643</td>\n",
       "      <td>8.106</td>\n",
       "      <td>0</td>\n",
       "      <td>0.00</td>\n",
       "    </tr>\n",
       "    <tr>\n",
       "      <th>4</th>\n",
       "      <td>1</td>\n",
       "      <td>05/03/2010</td>\n",
       "      <td>46.50</td>\n",
       "      <td>2.625</td>\n",
       "      <td>0.00</td>\n",
       "      <td>0.00</td>\n",
       "      <td>0.00</td>\n",
       "      <td>0.00</td>\n",
       "      <td>0.00</td>\n",
       "      <td>211.350143</td>\n",
       "      <td>8.106</td>\n",
       "      <td>0</td>\n",
       "      <td>0.00</td>\n",
       "    </tr>\n",
       "    <tr>\n",
       "      <th>...</th>\n",
       "      <td>...</td>\n",
       "      <td>...</td>\n",
       "      <td>...</td>\n",
       "      <td>...</td>\n",
       "      <td>...</td>\n",
       "      <td>...</td>\n",
       "      <td>...</td>\n",
       "      <td>...</td>\n",
       "      <td>...</td>\n",
       "      <td>...</td>\n",
       "      <td>...</td>\n",
       "      <td>...</td>\n",
       "      <td>...</td>\n",
       "    </tr>\n",
       "    <tr>\n",
       "      <th>8185</th>\n",
       "      <td>45</td>\n",
       "      <td>28/06/2013</td>\n",
       "      <td>76.05</td>\n",
       "      <td>3.639</td>\n",
       "      <td>4842.29</td>\n",
       "      <td>975.03</td>\n",
       "      <td>3.00</td>\n",
       "      <td>2449.97</td>\n",
       "      <td>3169.69</td>\n",
       "      <td>193.589304</td>\n",
       "      <td>8.335</td>\n",
       "      <td>0</td>\n",
       "      <td>11439.98</td>\n",
       "    </tr>\n",
       "    <tr>\n",
       "      <th>8186</th>\n",
       "      <td>45</td>\n",
       "      <td>05/07/2013</td>\n",
       "      <td>77.50</td>\n",
       "      <td>3.614</td>\n",
       "      <td>9090.48</td>\n",
       "      <td>2268.58</td>\n",
       "      <td>582.74</td>\n",
       "      <td>5797.47</td>\n",
       "      <td>1514.93</td>\n",
       "      <td>193.589304</td>\n",
       "      <td>8.335</td>\n",
       "      <td>0</td>\n",
       "      <td>19254.20</td>\n",
       "    </tr>\n",
       "    <tr>\n",
       "      <th>8187</th>\n",
       "      <td>45</td>\n",
       "      <td>12/07/2013</td>\n",
       "      <td>79.37</td>\n",
       "      <td>3.614</td>\n",
       "      <td>3789.94</td>\n",
       "      <td>1827.31</td>\n",
       "      <td>85.72</td>\n",
       "      <td>744.84</td>\n",
       "      <td>2150.36</td>\n",
       "      <td>193.589304</td>\n",
       "      <td>8.335</td>\n",
       "      <td>0</td>\n",
       "      <td>8598.17</td>\n",
       "    </tr>\n",
       "    <tr>\n",
       "      <th>8188</th>\n",
       "      <td>45</td>\n",
       "      <td>19/07/2013</td>\n",
       "      <td>82.84</td>\n",
       "      <td>3.737</td>\n",
       "      <td>2961.49</td>\n",
       "      <td>1047.07</td>\n",
       "      <td>204.19</td>\n",
       "      <td>363.00</td>\n",
       "      <td>1059.46</td>\n",
       "      <td>193.589304</td>\n",
       "      <td>8.335</td>\n",
       "      <td>0</td>\n",
       "      <td>5635.21</td>\n",
       "    </tr>\n",
       "    <tr>\n",
       "      <th>8189</th>\n",
       "      <td>45</td>\n",
       "      <td>26/07/2013</td>\n",
       "      <td>76.06</td>\n",
       "      <td>3.804</td>\n",
       "      <td>212.02</td>\n",
       "      <td>851.73</td>\n",
       "      <td>2.06</td>\n",
       "      <td>10.88</td>\n",
       "      <td>1864.57</td>\n",
       "      <td>193.589304</td>\n",
       "      <td>8.335</td>\n",
       "      <td>0</td>\n",
       "      <td>2941.26</td>\n",
       "    </tr>\n",
       "  </tbody>\n",
       "</table>\n",
       "<p>8190 rows × 13 columns</p>\n",
       "</div>"
      ],
      "text/plain": [
       "      Store        Date  Temperature  Fuel_Price  MarkDown1  MarkDown2  \\\n",
       "0         1  05/02/2010        42.31       2.572       0.00       0.00   \n",
       "1         1  12/02/2010        38.51       2.548       0.00       0.00   \n",
       "2         1  19/02/2010        39.93       2.514       0.00       0.00   \n",
       "3         1  26/02/2010        46.63       2.561       0.00       0.00   \n",
       "4         1  05/03/2010        46.50       2.625       0.00       0.00   \n",
       "...     ...         ...          ...         ...        ...        ...   \n",
       "8185     45  28/06/2013        76.05       3.639    4842.29     975.03   \n",
       "8186     45  05/07/2013        77.50       3.614    9090.48    2268.58   \n",
       "8187     45  12/07/2013        79.37       3.614    3789.94    1827.31   \n",
       "8188     45  19/07/2013        82.84       3.737    2961.49    1047.07   \n",
       "8189     45  26/07/2013        76.06       3.804     212.02     851.73   \n",
       "\n",
       "      MarkDown3  MarkDown4  MarkDown5         CPI  Unemployment  IsHoliday  \\\n",
       "0          0.00       0.00       0.00  211.096358         8.106          0   \n",
       "1          0.00       0.00       0.00  211.242170         8.106          1   \n",
       "2          0.00       0.00       0.00  211.289143         8.106          0   \n",
       "3          0.00       0.00       0.00  211.319643         8.106          0   \n",
       "4          0.00       0.00       0.00  211.350143         8.106          0   \n",
       "...         ...        ...        ...         ...           ...        ...   \n",
       "8185       3.00    2449.97    3169.69  193.589304         8.335          0   \n",
       "8186     582.74    5797.47    1514.93  193.589304         8.335          0   \n",
       "8187      85.72     744.84    2150.36  193.589304         8.335          0   \n",
       "8188     204.19     363.00    1059.46  193.589304         8.335          0   \n",
       "8189       2.06      10.88    1864.57  193.589304         8.335          0   \n",
       "\n",
       "      MarkDown  \n",
       "0         0.00  \n",
       "1         0.00  \n",
       "2         0.00  \n",
       "3         0.00  \n",
       "4         0.00  \n",
       "...        ...  \n",
       "8185  11439.98  \n",
       "8186  19254.20  \n",
       "8187   8598.17  \n",
       "8188   5635.21  \n",
       "8189   2941.26  \n",
       "\n",
       "[8190 rows x 13 columns]"
      ]
     },
     "execution_count": 175,
     "metadata": {},
     "output_type": "execute_result"
    }
   ],
   "source": [
    "# como não temos informações sobre o significado de cada tipo de MarkDown, uniremos os cinco em uma só coluna: MarkDown\n",
    "\n",
    "features[\"MarkDown\"] = features[colunas_markdown].sum(axis=1)\n",
    "\n",
    "features"
   ]
  },
  {
   "cell_type": "code",
   "execution_count": 176,
   "metadata": {},
   "outputs": [
    {
     "data": {
      "text/html": [
       "<div>\n",
       "<style scoped>\n",
       "    .dataframe tbody tr th:only-of-type {\n",
       "        vertical-align: middle;\n",
       "    }\n",
       "\n",
       "    .dataframe tbody tr th {\n",
       "        vertical-align: top;\n",
       "    }\n",
       "\n",
       "    .dataframe thead th {\n",
       "        text-align: right;\n",
       "    }\n",
       "</style>\n",
       "<table border=\"1\" class=\"dataframe\">\n",
       "  <thead>\n",
       "    <tr style=\"text-align: right;\">\n",
       "      <th></th>\n",
       "      <th>Store</th>\n",
       "      <th>Date</th>\n",
       "      <th>Temperature</th>\n",
       "      <th>Fuel_Price</th>\n",
       "      <th>CPI</th>\n",
       "      <th>Unemployment</th>\n",
       "      <th>IsHoliday</th>\n",
       "      <th>MarkDown</th>\n",
       "    </tr>\n",
       "  </thead>\n",
       "  <tbody>\n",
       "    <tr>\n",
       "      <th>0</th>\n",
       "      <td>1</td>\n",
       "      <td>05/02/2010</td>\n",
       "      <td>42.31</td>\n",
       "      <td>2.572</td>\n",
       "      <td>211.096358</td>\n",
       "      <td>8.106</td>\n",
       "      <td>0</td>\n",
       "      <td>0.00</td>\n",
       "    </tr>\n",
       "    <tr>\n",
       "      <th>1</th>\n",
       "      <td>1</td>\n",
       "      <td>12/02/2010</td>\n",
       "      <td>38.51</td>\n",
       "      <td>2.548</td>\n",
       "      <td>211.242170</td>\n",
       "      <td>8.106</td>\n",
       "      <td>1</td>\n",
       "      <td>0.00</td>\n",
       "    </tr>\n",
       "    <tr>\n",
       "      <th>2</th>\n",
       "      <td>1</td>\n",
       "      <td>19/02/2010</td>\n",
       "      <td>39.93</td>\n",
       "      <td>2.514</td>\n",
       "      <td>211.289143</td>\n",
       "      <td>8.106</td>\n",
       "      <td>0</td>\n",
       "      <td>0.00</td>\n",
       "    </tr>\n",
       "    <tr>\n",
       "      <th>3</th>\n",
       "      <td>1</td>\n",
       "      <td>26/02/2010</td>\n",
       "      <td>46.63</td>\n",
       "      <td>2.561</td>\n",
       "      <td>211.319643</td>\n",
       "      <td>8.106</td>\n",
       "      <td>0</td>\n",
       "      <td>0.00</td>\n",
       "    </tr>\n",
       "    <tr>\n",
       "      <th>4</th>\n",
       "      <td>1</td>\n",
       "      <td>05/03/2010</td>\n",
       "      <td>46.50</td>\n",
       "      <td>2.625</td>\n",
       "      <td>211.350143</td>\n",
       "      <td>8.106</td>\n",
       "      <td>0</td>\n",
       "      <td>0.00</td>\n",
       "    </tr>\n",
       "    <tr>\n",
       "      <th>...</th>\n",
       "      <td>...</td>\n",
       "      <td>...</td>\n",
       "      <td>...</td>\n",
       "      <td>...</td>\n",
       "      <td>...</td>\n",
       "      <td>...</td>\n",
       "      <td>...</td>\n",
       "      <td>...</td>\n",
       "    </tr>\n",
       "    <tr>\n",
       "      <th>8185</th>\n",
       "      <td>45</td>\n",
       "      <td>28/06/2013</td>\n",
       "      <td>76.05</td>\n",
       "      <td>3.639</td>\n",
       "      <td>193.589304</td>\n",
       "      <td>8.335</td>\n",
       "      <td>0</td>\n",
       "      <td>11439.98</td>\n",
       "    </tr>\n",
       "    <tr>\n",
       "      <th>8186</th>\n",
       "      <td>45</td>\n",
       "      <td>05/07/2013</td>\n",
       "      <td>77.50</td>\n",
       "      <td>3.614</td>\n",
       "      <td>193.589304</td>\n",
       "      <td>8.335</td>\n",
       "      <td>0</td>\n",
       "      <td>19254.20</td>\n",
       "    </tr>\n",
       "    <tr>\n",
       "      <th>8187</th>\n",
       "      <td>45</td>\n",
       "      <td>12/07/2013</td>\n",
       "      <td>79.37</td>\n",
       "      <td>3.614</td>\n",
       "      <td>193.589304</td>\n",
       "      <td>8.335</td>\n",
       "      <td>0</td>\n",
       "      <td>8598.17</td>\n",
       "    </tr>\n",
       "    <tr>\n",
       "      <th>8188</th>\n",
       "      <td>45</td>\n",
       "      <td>19/07/2013</td>\n",
       "      <td>82.84</td>\n",
       "      <td>3.737</td>\n",
       "      <td>193.589304</td>\n",
       "      <td>8.335</td>\n",
       "      <td>0</td>\n",
       "      <td>5635.21</td>\n",
       "    </tr>\n",
       "    <tr>\n",
       "      <th>8189</th>\n",
       "      <td>45</td>\n",
       "      <td>26/07/2013</td>\n",
       "      <td>76.06</td>\n",
       "      <td>3.804</td>\n",
       "      <td>193.589304</td>\n",
       "      <td>8.335</td>\n",
       "      <td>0</td>\n",
       "      <td>2941.26</td>\n",
       "    </tr>\n",
       "  </tbody>\n",
       "</table>\n",
       "<p>8190 rows × 8 columns</p>\n",
       "</div>"
      ],
      "text/plain": [
       "      Store        Date  Temperature  Fuel_Price         CPI  Unemployment  \\\n",
       "0         1  05/02/2010        42.31       2.572  211.096358         8.106   \n",
       "1         1  12/02/2010        38.51       2.548  211.242170         8.106   \n",
       "2         1  19/02/2010        39.93       2.514  211.289143         8.106   \n",
       "3         1  26/02/2010        46.63       2.561  211.319643         8.106   \n",
       "4         1  05/03/2010        46.50       2.625  211.350143         8.106   \n",
       "...     ...         ...          ...         ...         ...           ...   \n",
       "8185     45  28/06/2013        76.05       3.639  193.589304         8.335   \n",
       "8186     45  05/07/2013        77.50       3.614  193.589304         8.335   \n",
       "8187     45  12/07/2013        79.37       3.614  193.589304         8.335   \n",
       "8188     45  19/07/2013        82.84       3.737  193.589304         8.335   \n",
       "8189     45  26/07/2013        76.06       3.804  193.589304         8.335   \n",
       "\n",
       "      IsHoliday  MarkDown  \n",
       "0             0      0.00  \n",
       "1             1      0.00  \n",
       "2             0      0.00  \n",
       "3             0      0.00  \n",
       "4             0      0.00  \n",
       "...         ...       ...  \n",
       "8185          0  11439.98  \n",
       "8186          0  19254.20  \n",
       "8187          0   8598.17  \n",
       "8188          0   5635.21  \n",
       "8189          0   2941.26  \n",
       "\n",
       "[8190 rows x 8 columns]"
      ]
     },
     "execution_count": 176,
     "metadata": {},
     "output_type": "execute_result"
    }
   ],
   "source": [
    "# como não usaremos as colunas de MarkDown1 a MarkDown5, iremos eliminá-las\n",
    "\n",
    "for i in range(1,5+1):\n",
    "    del features[f\"MarkDown{i}\"]\n",
    "    \n",
    "features"
   ]
  },
  {
   "cell_type": "code",
   "execution_count": 188,
   "metadata": {},
   "outputs": [
    {
     "data": {
      "text/html": [
       "<div>\n",
       "<style scoped>\n",
       "    .dataframe tbody tr th:only-of-type {\n",
       "        vertical-align: middle;\n",
       "    }\n",
       "\n",
       "    .dataframe tbody tr th {\n",
       "        vertical-align: top;\n",
       "    }\n",
       "\n",
       "    .dataframe thead th {\n",
       "        text-align: right;\n",
       "    }\n",
       "</style>\n",
       "<table border=\"1\" class=\"dataframe\">\n",
       "  <thead>\n",
       "    <tr style=\"text-align: right;\">\n",
       "      <th></th>\n",
       "      <th>Store</th>\n",
       "      <th>Dept</th>\n",
       "      <th>Date</th>\n",
       "      <th>Weekly_Sales</th>\n",
       "      <th>IsHoliday</th>\n",
       "    </tr>\n",
       "  </thead>\n",
       "  <tbody>\n",
       "    <tr>\n",
       "      <th>0</th>\n",
       "      <td>1</td>\n",
       "      <td>1</td>\n",
       "      <td>05/02/2010</td>\n",
       "      <td>24924.50</td>\n",
       "      <td>0</td>\n",
       "    </tr>\n",
       "    <tr>\n",
       "      <th>1</th>\n",
       "      <td>1</td>\n",
       "      <td>1</td>\n",
       "      <td>12/02/2010</td>\n",
       "      <td>46039.49</td>\n",
       "      <td>1</td>\n",
       "    </tr>\n",
       "    <tr>\n",
       "      <th>2</th>\n",
       "      <td>1</td>\n",
       "      <td>1</td>\n",
       "      <td>19/02/2010</td>\n",
       "      <td>41595.55</td>\n",
       "      <td>0</td>\n",
       "    </tr>\n",
       "    <tr>\n",
       "      <th>3</th>\n",
       "      <td>1</td>\n",
       "      <td>1</td>\n",
       "      <td>26/02/2010</td>\n",
       "      <td>19403.54</td>\n",
       "      <td>0</td>\n",
       "    </tr>\n",
       "    <tr>\n",
       "      <th>4</th>\n",
       "      <td>1</td>\n",
       "      <td>1</td>\n",
       "      <td>05/03/2010</td>\n",
       "      <td>21827.90</td>\n",
       "      <td>0</td>\n",
       "    </tr>\n",
       "    <tr>\n",
       "      <th>...</th>\n",
       "      <td>...</td>\n",
       "      <td>...</td>\n",
       "      <td>...</td>\n",
       "      <td>...</td>\n",
       "      <td>...</td>\n",
       "    </tr>\n",
       "    <tr>\n",
       "      <th>421565</th>\n",
       "      <td>45</td>\n",
       "      <td>98</td>\n",
       "      <td>28/09/2012</td>\n",
       "      <td>508.37</td>\n",
       "      <td>0</td>\n",
       "    </tr>\n",
       "    <tr>\n",
       "      <th>421566</th>\n",
       "      <td>45</td>\n",
       "      <td>98</td>\n",
       "      <td>05/10/2012</td>\n",
       "      <td>628.10</td>\n",
       "      <td>0</td>\n",
       "    </tr>\n",
       "    <tr>\n",
       "      <th>421567</th>\n",
       "      <td>45</td>\n",
       "      <td>98</td>\n",
       "      <td>12/10/2012</td>\n",
       "      <td>1061.02</td>\n",
       "      <td>0</td>\n",
       "    </tr>\n",
       "    <tr>\n",
       "      <th>421568</th>\n",
       "      <td>45</td>\n",
       "      <td>98</td>\n",
       "      <td>19/10/2012</td>\n",
       "      <td>760.01</td>\n",
       "      <td>0</td>\n",
       "    </tr>\n",
       "    <tr>\n",
       "      <th>421569</th>\n",
       "      <td>45</td>\n",
       "      <td>98</td>\n",
       "      <td>26/10/2012</td>\n",
       "      <td>1076.80</td>\n",
       "      <td>0</td>\n",
       "    </tr>\n",
       "  </tbody>\n",
       "</table>\n",
       "<p>421570 rows × 5 columns</p>\n",
       "</div>"
      ],
      "text/plain": [
       "        Store  Dept        Date  Weekly_Sales  IsHoliday\n",
       "0           1     1  05/02/2010      24924.50          0\n",
       "1           1     1  12/02/2010      46039.49          1\n",
       "2           1     1  19/02/2010      41595.55          0\n",
       "3           1     1  26/02/2010      19403.54          0\n",
       "4           1     1  05/03/2010      21827.90          0\n",
       "...       ...   ...         ...           ...        ...\n",
       "421565     45    98  28/09/2012        508.37          0\n",
       "421566     45    98  05/10/2012        628.10          0\n",
       "421567     45    98  12/10/2012       1061.02          0\n",
       "421568     45    98  19/10/2012        760.01          0\n",
       "421569     45    98  26/10/2012       1076.80          0\n",
       "\n",
       "[421570 rows x 5 columns]"
      ]
     },
     "execution_count": 188,
     "metadata": {},
     "output_type": "execute_result"
    }
   ],
   "source": [
    "# vemos que, em sales, temos os valores das vendas semanais, porém ela está divida em cada departamento para cada loja\n",
    "\n",
    "sales"
   ]
  },
  {
   "cell_type": "code",
   "execution_count": 197,
   "metadata": {},
   "outputs": [
    {
     "data": {
      "text/html": [
       "<div>\n",
       "<style scoped>\n",
       "    .dataframe tbody tr th:only-of-type {\n",
       "        vertical-align: middle;\n",
       "    }\n",
       "\n",
       "    .dataframe tbody tr th {\n",
       "        vertical-align: top;\n",
       "    }\n",
       "\n",
       "    .dataframe thead th {\n",
       "        text-align: right;\n",
       "    }\n",
       "</style>\n",
       "<table border=\"1\" class=\"dataframe\">\n",
       "  <thead>\n",
       "    <tr style=\"text-align: right;\">\n",
       "      <th></th>\n",
       "      <th>Store</th>\n",
       "      <th>Date</th>\n",
       "      <th>IsHoliday</th>\n",
       "      <th>Weekly_Sales</th>\n",
       "    </tr>\n",
       "  </thead>\n",
       "  <tbody>\n",
       "    <tr>\n",
       "      <th>0</th>\n",
       "      <td>1</td>\n",
       "      <td>05/02/2010</td>\n",
       "      <td>0</td>\n",
       "      <td>1643690.90</td>\n",
       "    </tr>\n",
       "    <tr>\n",
       "      <th>1</th>\n",
       "      <td>1</td>\n",
       "      <td>12/02/2010</td>\n",
       "      <td>1</td>\n",
       "      <td>1641957.44</td>\n",
       "    </tr>\n",
       "    <tr>\n",
       "      <th>2</th>\n",
       "      <td>1</td>\n",
       "      <td>19/02/2010</td>\n",
       "      <td>0</td>\n",
       "      <td>1611968.17</td>\n",
       "    </tr>\n",
       "    <tr>\n",
       "      <th>3</th>\n",
       "      <td>1</td>\n",
       "      <td>26/02/2010</td>\n",
       "      <td>0</td>\n",
       "      <td>1409727.59</td>\n",
       "    </tr>\n",
       "    <tr>\n",
       "      <th>4</th>\n",
       "      <td>1</td>\n",
       "      <td>05/03/2010</td>\n",
       "      <td>0</td>\n",
       "      <td>1554806.68</td>\n",
       "    </tr>\n",
       "    <tr>\n",
       "      <th>...</th>\n",
       "      <td>...</td>\n",
       "      <td>...</td>\n",
       "      <td>...</td>\n",
       "      <td>...</td>\n",
       "    </tr>\n",
       "    <tr>\n",
       "      <th>6430</th>\n",
       "      <td>45</td>\n",
       "      <td>28/09/2012</td>\n",
       "      <td>0</td>\n",
       "      <td>713173.95</td>\n",
       "    </tr>\n",
       "    <tr>\n",
       "      <th>6431</th>\n",
       "      <td>45</td>\n",
       "      <td>05/10/2012</td>\n",
       "      <td>0</td>\n",
       "      <td>733455.07</td>\n",
       "    </tr>\n",
       "    <tr>\n",
       "      <th>6432</th>\n",
       "      <td>45</td>\n",
       "      <td>12/10/2012</td>\n",
       "      <td>0</td>\n",
       "      <td>734464.36</td>\n",
       "    </tr>\n",
       "    <tr>\n",
       "      <th>6433</th>\n",
       "      <td>45</td>\n",
       "      <td>19/10/2012</td>\n",
       "      <td>0</td>\n",
       "      <td>718125.53</td>\n",
       "    </tr>\n",
       "    <tr>\n",
       "      <th>6434</th>\n",
       "      <td>45</td>\n",
       "      <td>26/10/2012</td>\n",
       "      <td>0</td>\n",
       "      <td>760281.43</td>\n",
       "    </tr>\n",
       "  </tbody>\n",
       "</table>\n",
       "<p>6435 rows × 4 columns</p>\n",
       "</div>"
      ],
      "text/plain": [
       "      Store        Date  IsHoliday  Weekly_Sales\n",
       "0         1  05/02/2010          0    1643690.90\n",
       "1         1  12/02/2010          1    1641957.44\n",
       "2         1  19/02/2010          0    1611968.17\n",
       "3         1  26/02/2010          0    1409727.59\n",
       "4         1  05/03/2010          0    1554806.68\n",
       "...     ...         ...        ...           ...\n",
       "6430     45  28/09/2012          0     713173.95\n",
       "6431     45  05/10/2012          0     733455.07\n",
       "6432     45  12/10/2012          0     734464.36\n",
       "6433     45  19/10/2012          0     718125.53\n",
       "6434     45  26/10/2012          0     760281.43\n",
       "\n",
       "[6435 rows x 4 columns]"
      ]
     },
     "execution_count": 197,
     "metadata": {},
     "output_type": "execute_result"
    }
   ],
   "source": [
    "# uniremos os dados por loja em um novo df, assim teremos os valores das vendas semanais total para cada loja,\n",
    "# ignorando assim a informação do departamento, que não nos é útil\n",
    "\n",
    "columns_to_keep = ['Store', 'Date', 'IsHoliday']\n",
    "\n",
    "sales_tot = sales.groupby(columns_to_keep, sort=False)['Weekly_Sales'].sum().reset_index()\n",
    "\n",
    "sales_tot"
   ]
  },
  {
   "cell_type": "code",
   "execution_count": 206,
   "metadata": {},
   "outputs": [
    {
     "data": {
      "text/html": [
       "<div>\n",
       "<style scoped>\n",
       "    .dataframe tbody tr th:only-of-type {\n",
       "        vertical-align: middle;\n",
       "    }\n",
       "\n",
       "    .dataframe tbody tr th {\n",
       "        vertical-align: top;\n",
       "    }\n",
       "\n",
       "    .dataframe thead th {\n",
       "        text-align: right;\n",
       "    }\n",
       "</style>\n",
       "<table border=\"1\" class=\"dataframe\">\n",
       "  <thead>\n",
       "    <tr style=\"text-align: right;\">\n",
       "      <th></th>\n",
       "      <th>Store</th>\n",
       "      <th>Date</th>\n",
       "      <th>IsHoliday_x</th>\n",
       "      <th>Weekly_Sales</th>\n",
       "      <th>Temperature</th>\n",
       "      <th>Fuel_Price</th>\n",
       "      <th>CPI</th>\n",
       "      <th>Unemployment</th>\n",
       "      <th>IsHoliday_y</th>\n",
       "      <th>MarkDown</th>\n",
       "    </tr>\n",
       "  </thead>\n",
       "  <tbody>\n",
       "    <tr>\n",
       "      <th>0</th>\n",
       "      <td>1</td>\n",
       "      <td>05/02/2010</td>\n",
       "      <td>0</td>\n",
       "      <td>1643690.90</td>\n",
       "      <td>42.31</td>\n",
       "      <td>2.572</td>\n",
       "      <td>211.096358</td>\n",
       "      <td>8.106</td>\n",
       "      <td>0</td>\n",
       "      <td>0.00</td>\n",
       "    </tr>\n",
       "    <tr>\n",
       "      <th>1</th>\n",
       "      <td>1</td>\n",
       "      <td>12/02/2010</td>\n",
       "      <td>1</td>\n",
       "      <td>1641957.44</td>\n",
       "      <td>38.51</td>\n",
       "      <td>2.548</td>\n",
       "      <td>211.242170</td>\n",
       "      <td>8.106</td>\n",
       "      <td>1</td>\n",
       "      <td>0.00</td>\n",
       "    </tr>\n",
       "    <tr>\n",
       "      <th>2</th>\n",
       "      <td>1</td>\n",
       "      <td>19/02/2010</td>\n",
       "      <td>0</td>\n",
       "      <td>1611968.17</td>\n",
       "      <td>39.93</td>\n",
       "      <td>2.514</td>\n",
       "      <td>211.289143</td>\n",
       "      <td>8.106</td>\n",
       "      <td>0</td>\n",
       "      <td>0.00</td>\n",
       "    </tr>\n",
       "    <tr>\n",
       "      <th>3</th>\n",
       "      <td>1</td>\n",
       "      <td>26/02/2010</td>\n",
       "      <td>0</td>\n",
       "      <td>1409727.59</td>\n",
       "      <td>46.63</td>\n",
       "      <td>2.561</td>\n",
       "      <td>211.319643</td>\n",
       "      <td>8.106</td>\n",
       "      <td>0</td>\n",
       "      <td>0.00</td>\n",
       "    </tr>\n",
       "    <tr>\n",
       "      <th>4</th>\n",
       "      <td>1</td>\n",
       "      <td>05/03/2010</td>\n",
       "      <td>0</td>\n",
       "      <td>1554806.68</td>\n",
       "      <td>46.50</td>\n",
       "      <td>2.625</td>\n",
       "      <td>211.350143</td>\n",
       "      <td>8.106</td>\n",
       "      <td>0</td>\n",
       "      <td>0.00</td>\n",
       "    </tr>\n",
       "    <tr>\n",
       "      <th>...</th>\n",
       "      <td>...</td>\n",
       "      <td>...</td>\n",
       "      <td>...</td>\n",
       "      <td>...</td>\n",
       "      <td>...</td>\n",
       "      <td>...</td>\n",
       "      <td>...</td>\n",
       "      <td>...</td>\n",
       "      <td>...</td>\n",
       "      <td>...</td>\n",
       "    </tr>\n",
       "    <tr>\n",
       "      <th>6430</th>\n",
       "      <td>45</td>\n",
       "      <td>28/09/2012</td>\n",
       "      <td>0</td>\n",
       "      <td>713173.95</td>\n",
       "      <td>64.88</td>\n",
       "      <td>3.997</td>\n",
       "      <td>192.013558</td>\n",
       "      <td>8.684</td>\n",
       "      <td>0</td>\n",
       "      <td>9468.01</td>\n",
       "    </tr>\n",
       "    <tr>\n",
       "      <th>6431</th>\n",
       "      <td>45</td>\n",
       "      <td>05/10/2012</td>\n",
       "      <td>0</td>\n",
       "      <td>733455.07</td>\n",
       "      <td>64.89</td>\n",
       "      <td>3.985</td>\n",
       "      <td>192.170412</td>\n",
       "      <td>8.667</td>\n",
       "      <td>0</td>\n",
       "      <td>9659.00</td>\n",
       "    </tr>\n",
       "    <tr>\n",
       "      <th>6432</th>\n",
       "      <td>45</td>\n",
       "      <td>12/10/2012</td>\n",
       "      <td>0</td>\n",
       "      <td>734464.36</td>\n",
       "      <td>54.47</td>\n",
       "      <td>4.000</td>\n",
       "      <td>192.327265</td>\n",
       "      <td>8.667</td>\n",
       "      <td>0</td>\n",
       "      <td>6554.03</td>\n",
       "    </tr>\n",
       "    <tr>\n",
       "      <th>6433</th>\n",
       "      <td>45</td>\n",
       "      <td>19/10/2012</td>\n",
       "      <td>0</td>\n",
       "      <td>718125.53</td>\n",
       "      <td>56.47</td>\n",
       "      <td>3.969</td>\n",
       "      <td>192.330854</td>\n",
       "      <td>8.667</td>\n",
       "      <td>0</td>\n",
       "      <td>3982.42</td>\n",
       "    </tr>\n",
       "    <tr>\n",
       "      <th>6434</th>\n",
       "      <td>45</td>\n",
       "      <td>26/10/2012</td>\n",
       "      <td>0</td>\n",
       "      <td>760281.43</td>\n",
       "      <td>58.85</td>\n",
       "      <td>3.882</td>\n",
       "      <td>192.308899</td>\n",
       "      <td>8.667</td>\n",
       "      <td>0</td>\n",
       "      <td>5247.26</td>\n",
       "    </tr>\n",
       "  </tbody>\n",
       "</table>\n",
       "<p>6435 rows × 10 columns</p>\n",
       "</div>"
      ],
      "text/plain": [
       "      Store        Date  IsHoliday_x  Weekly_Sales  Temperature  Fuel_Price  \\\n",
       "0         1  05/02/2010            0    1643690.90        42.31       2.572   \n",
       "1         1  12/02/2010            1    1641957.44        38.51       2.548   \n",
       "2         1  19/02/2010            0    1611968.17        39.93       2.514   \n",
       "3         1  26/02/2010            0    1409727.59        46.63       2.561   \n",
       "4         1  05/03/2010            0    1554806.68        46.50       2.625   \n",
       "...     ...         ...          ...           ...          ...         ...   \n",
       "6430     45  28/09/2012            0     713173.95        64.88       3.997   \n",
       "6431     45  05/10/2012            0     733455.07        64.89       3.985   \n",
       "6432     45  12/10/2012            0     734464.36        54.47       4.000   \n",
       "6433     45  19/10/2012            0     718125.53        56.47       3.969   \n",
       "6434     45  26/10/2012            0     760281.43        58.85       3.882   \n",
       "\n",
       "             CPI  Unemployment  IsHoliday_y  MarkDown  \n",
       "0     211.096358         8.106            0      0.00  \n",
       "1     211.242170         8.106            1      0.00  \n",
       "2     211.289143         8.106            0      0.00  \n",
       "3     211.319643         8.106            0      0.00  \n",
       "4     211.350143         8.106            0      0.00  \n",
       "...          ...           ...          ...       ...  \n",
       "6430  192.013558         8.684            0   9468.01  \n",
       "6431  192.170412         8.667            0   9659.00  \n",
       "6432  192.327265         8.667            0   6554.03  \n",
       "6433  192.330854         8.667            0   3982.42  \n",
       "6434  192.308899         8.667            0   5247.26  \n",
       "\n",
       "[6435 rows x 10 columns]"
      ]
     },
     "execution_count": 206,
     "metadata": {},
     "output_type": "execute_result"
    }
   ],
   "source": [
    "# Para podermos fazer nossa análise, uniremos os df's sales e features\n",
    "# Podemos fazer isso pois deixamos as variáveis de interesse (Temperature, Fuel_Price, CPI, Unemployment, IsHoliday, MarkDown) (IsHoliday, Weekly_Sales)\n",
    "# em função de Store e Date\n",
    "\n",
    "sales_tot_features = pd.merge(sales_tot, features, how='inner', on=['Store', 'Date'])\n",
    "sales_tot_features"
   ]
  },
  {
   "cell_type": "code",
   "execution_count": 208,
   "metadata": {},
   "outputs": [
    {
     "data": {
      "text/html": [
       "<div>\n",
       "<style scoped>\n",
       "    .dataframe tbody tr th:only-of-type {\n",
       "        vertical-align: middle;\n",
       "    }\n",
       "\n",
       "    .dataframe tbody tr th {\n",
       "        vertical-align: top;\n",
       "    }\n",
       "\n",
       "    .dataframe thead th {\n",
       "        text-align: right;\n",
       "    }\n",
       "</style>\n",
       "<table border=\"1\" class=\"dataframe\">\n",
       "  <thead>\n",
       "    <tr style=\"text-align: right;\">\n",
       "      <th></th>\n",
       "      <th>Store</th>\n",
       "      <th>Date</th>\n",
       "      <th>IsHoliday</th>\n",
       "      <th>Weekly_Sales</th>\n",
       "      <th>Temperature</th>\n",
       "      <th>Fuel_Price</th>\n",
       "      <th>CPI</th>\n",
       "      <th>Unemployment</th>\n",
       "      <th>MarkDown</th>\n",
       "    </tr>\n",
       "  </thead>\n",
       "  <tbody>\n",
       "    <tr>\n",
       "      <th>0</th>\n",
       "      <td>1</td>\n",
       "      <td>05/02/2010</td>\n",
       "      <td>0</td>\n",
       "      <td>1643690.90</td>\n",
       "      <td>42.31</td>\n",
       "      <td>2.572</td>\n",
       "      <td>211.096358</td>\n",
       "      <td>8.106</td>\n",
       "      <td>0.00</td>\n",
       "    </tr>\n",
       "    <tr>\n",
       "      <th>1</th>\n",
       "      <td>1</td>\n",
       "      <td>12/02/2010</td>\n",
       "      <td>1</td>\n",
       "      <td>1641957.44</td>\n",
       "      <td>38.51</td>\n",
       "      <td>2.548</td>\n",
       "      <td>211.242170</td>\n",
       "      <td>8.106</td>\n",
       "      <td>0.00</td>\n",
       "    </tr>\n",
       "    <tr>\n",
       "      <th>2</th>\n",
       "      <td>1</td>\n",
       "      <td>19/02/2010</td>\n",
       "      <td>0</td>\n",
       "      <td>1611968.17</td>\n",
       "      <td>39.93</td>\n",
       "      <td>2.514</td>\n",
       "      <td>211.289143</td>\n",
       "      <td>8.106</td>\n",
       "      <td>0.00</td>\n",
       "    </tr>\n",
       "    <tr>\n",
       "      <th>3</th>\n",
       "      <td>1</td>\n",
       "      <td>26/02/2010</td>\n",
       "      <td>0</td>\n",
       "      <td>1409727.59</td>\n",
       "      <td>46.63</td>\n",
       "      <td>2.561</td>\n",
       "      <td>211.319643</td>\n",
       "      <td>8.106</td>\n",
       "      <td>0.00</td>\n",
       "    </tr>\n",
       "    <tr>\n",
       "      <th>4</th>\n",
       "      <td>1</td>\n",
       "      <td>05/03/2010</td>\n",
       "      <td>0</td>\n",
       "      <td>1554806.68</td>\n",
       "      <td>46.50</td>\n",
       "      <td>2.625</td>\n",
       "      <td>211.350143</td>\n",
       "      <td>8.106</td>\n",
       "      <td>0.00</td>\n",
       "    </tr>\n",
       "    <tr>\n",
       "      <th>...</th>\n",
       "      <td>...</td>\n",
       "      <td>...</td>\n",
       "      <td>...</td>\n",
       "      <td>...</td>\n",
       "      <td>...</td>\n",
       "      <td>...</td>\n",
       "      <td>...</td>\n",
       "      <td>...</td>\n",
       "      <td>...</td>\n",
       "    </tr>\n",
       "    <tr>\n",
       "      <th>6430</th>\n",
       "      <td>45</td>\n",
       "      <td>28/09/2012</td>\n",
       "      <td>0</td>\n",
       "      <td>713173.95</td>\n",
       "      <td>64.88</td>\n",
       "      <td>3.997</td>\n",
       "      <td>192.013558</td>\n",
       "      <td>8.684</td>\n",
       "      <td>9468.01</td>\n",
       "    </tr>\n",
       "    <tr>\n",
       "      <th>6431</th>\n",
       "      <td>45</td>\n",
       "      <td>05/10/2012</td>\n",
       "      <td>0</td>\n",
       "      <td>733455.07</td>\n",
       "      <td>64.89</td>\n",
       "      <td>3.985</td>\n",
       "      <td>192.170412</td>\n",
       "      <td>8.667</td>\n",
       "      <td>9659.00</td>\n",
       "    </tr>\n",
       "    <tr>\n",
       "      <th>6432</th>\n",
       "      <td>45</td>\n",
       "      <td>12/10/2012</td>\n",
       "      <td>0</td>\n",
       "      <td>734464.36</td>\n",
       "      <td>54.47</td>\n",
       "      <td>4.000</td>\n",
       "      <td>192.327265</td>\n",
       "      <td>8.667</td>\n",
       "      <td>6554.03</td>\n",
       "    </tr>\n",
       "    <tr>\n",
       "      <th>6433</th>\n",
       "      <td>45</td>\n",
       "      <td>19/10/2012</td>\n",
       "      <td>0</td>\n",
       "      <td>718125.53</td>\n",
       "      <td>56.47</td>\n",
       "      <td>3.969</td>\n",
       "      <td>192.330854</td>\n",
       "      <td>8.667</td>\n",
       "      <td>3982.42</td>\n",
       "    </tr>\n",
       "    <tr>\n",
       "      <th>6434</th>\n",
       "      <td>45</td>\n",
       "      <td>26/10/2012</td>\n",
       "      <td>0</td>\n",
       "      <td>760281.43</td>\n",
       "      <td>58.85</td>\n",
       "      <td>3.882</td>\n",
       "      <td>192.308899</td>\n",
       "      <td>8.667</td>\n",
       "      <td>5247.26</td>\n",
       "    </tr>\n",
       "  </tbody>\n",
       "</table>\n",
       "<p>6435 rows × 9 columns</p>\n",
       "</div>"
      ],
      "text/plain": [
       "      Store        Date  IsHoliday  Weekly_Sales  Temperature  Fuel_Price  \\\n",
       "0         1  05/02/2010          0    1643690.90        42.31       2.572   \n",
       "1         1  12/02/2010          1    1641957.44        38.51       2.548   \n",
       "2         1  19/02/2010          0    1611968.17        39.93       2.514   \n",
       "3         1  26/02/2010          0    1409727.59        46.63       2.561   \n",
       "4         1  05/03/2010          0    1554806.68        46.50       2.625   \n",
       "...     ...         ...        ...           ...          ...         ...   \n",
       "6430     45  28/09/2012          0     713173.95        64.88       3.997   \n",
       "6431     45  05/10/2012          0     733455.07        64.89       3.985   \n",
       "6432     45  12/10/2012          0     734464.36        54.47       4.000   \n",
       "6433     45  19/10/2012          0     718125.53        56.47       3.969   \n",
       "6434     45  26/10/2012          0     760281.43        58.85       3.882   \n",
       "\n",
       "             CPI  Unemployment  MarkDown  \n",
       "0     211.096358         8.106      0.00  \n",
       "1     211.242170         8.106      0.00  \n",
       "2     211.289143         8.106      0.00  \n",
       "3     211.319643         8.106      0.00  \n",
       "4     211.350143         8.106      0.00  \n",
       "...          ...           ...       ...  \n",
       "6430  192.013558         8.684   9468.01  \n",
       "6431  192.170412         8.667   9659.00  \n",
       "6432  192.327265         8.667   6554.03  \n",
       "6433  192.330854         8.667   3982.42  \n",
       "6434  192.308899         8.667   5247.26  \n",
       "\n",
       "[6435 rows x 9 columns]"
      ]
     },
     "execution_count": 208,
     "metadata": {},
     "output_type": "execute_result"
    }
   ],
   "source": [
    "# vemos que há duas colunas IsHoliday, portanto iremos deletar IsHoliday_y e renomear a que resta para IsHoliday\n",
    "\n",
    "del sales_tot_features['IsHoliday_y']\n",
    "\n",
    "sales_tot_features = sales_tot_features.rename(columns={'IsHoliday_x': 'IsHoliday'})\n",
    "\n",
    "sales_tot_features"
   ]
  },
  {
   "cell_type": "markdown",
   "metadata": {},
   "source": [
    "<a class=\"anchor\" id=\"section_3_5\"></a>\n",
    "### Verificação de outliers \n",
    "A existência de outliers pode atrapalhar a nossa análise. Como desejamos obter um modelo de previsão de vendas, há a possibildiade de que em feriados possa haver um número maior destas, assim havendo outliers em nosso conjunto de dados. Vamos testar essa hipótese, e, se ela for verdadeira, eliminaremos as linhas cujas datas são feriados."
   ]
  },
  {
   "cell_type": "code",
   "execution_count": 238,
   "metadata": {},
   "outputs": [
    {
     "name": "stdout",
     "output_type": "stream",
     "text": [
      "Média de vendas para feriados: 1122887.8923555554\n",
      "Média de vendas para não feriados: 1041256.3802088564\n",
      "Diferença percentual: 7.84%\n"
     ]
    }
   ],
   "source": [
    "#vamos calcular a média das vendas semanais apenas para feriados e sem feriados, assim como a diferença percentual entre essas médias\n",
    "\n",
    "media_vendas_feriados = sales_tot_features[sales_tot_features['IsHoliday'] == 1]['Weekly_Sales'].mean()\n",
    "media_vendas_nao_feriados = sales_tot_features[sales_tot_features['IsHoliday'] == 0]['Weekly_Sales'].mean()\n",
    "diferenca_percentual = (media_vendas_feriados - media_vendas_nao_feriados)/media_vendas_nao_feriados\n",
    "\n",
    "print(f\"Média de vendas para feriados: {media_vendas_feriados}\")\n",
    "print(f\"Média de vendas para não feriados: {media_vendas_nao_feriados}\")\n",
    "print(f\"Diferença percentual: {round(diferenca_percentual,ndigits=4)*100}%\")"
   ]
  },
  {
   "cell_type": "code",
   "execution_count": 239,
   "metadata": {},
   "outputs": [
    {
     "data": {
      "text/html": [
       "<div>\n",
       "<style scoped>\n",
       "    .dataframe tbody tr th:only-of-type {\n",
       "        vertical-align: middle;\n",
       "    }\n",
       "\n",
       "    .dataframe tbody tr th {\n",
       "        vertical-align: top;\n",
       "    }\n",
       "\n",
       "    .dataframe thead th {\n",
       "        text-align: right;\n",
       "    }\n",
       "</style>\n",
       "<table border=\"1\" class=\"dataframe\">\n",
       "  <thead>\n",
       "    <tr style=\"text-align: right;\">\n",
       "      <th></th>\n",
       "      <th>count</th>\n",
       "      <th>mean</th>\n",
       "      <th>std</th>\n",
       "      <th>min</th>\n",
       "      <th>25%</th>\n",
       "      <th>50%</th>\n",
       "      <th>75%</th>\n",
       "      <th>max</th>\n",
       "    </tr>\n",
       "    <tr>\n",
       "      <th>IsHoliday</th>\n",
       "      <th></th>\n",
       "      <th></th>\n",
       "      <th></th>\n",
       "      <th></th>\n",
       "      <th></th>\n",
       "      <th></th>\n",
       "      <th></th>\n",
       "      <th></th>\n",
       "    </tr>\n",
       "  </thead>\n",
       "  <tbody>\n",
       "    <tr>\n",
       "      <th>0</th>\n",
       "      <td>5985.0</td>\n",
       "      <td>1.041256e+06</td>\n",
       "      <td>558957.436147</td>\n",
       "      <td>209986.25</td>\n",
       "      <td>551378.3900</td>\n",
       "      <td>956211.20</td>\n",
       "      <td>1414343.530</td>\n",
       "      <td>3818686.45</td>\n",
       "    </tr>\n",
       "    <tr>\n",
       "      <th>1</th>\n",
       "      <td>450.0</td>\n",
       "      <td>1.122888e+06</td>\n",
       "      <td>627684.931884</td>\n",
       "      <td>215359.21</td>\n",
       "      <td>575865.4825</td>\n",
       "      <td>1018538.04</td>\n",
       "      <td>1555213.175</td>\n",
       "      <td>3004702.33</td>\n",
       "    </tr>\n",
       "  </tbody>\n",
       "</table>\n",
       "</div>"
      ],
      "text/plain": [
       "            count          mean            std        min          25%  \\\n",
       "IsHoliday                                                                \n",
       "0          5985.0  1.041256e+06  558957.436147  209986.25  551378.3900   \n",
       "1           450.0  1.122888e+06  627684.931884  215359.21  575865.4825   \n",
       "\n",
       "                  50%          75%         max  \n",
       "IsHoliday                                       \n",
       "0           956211.20  1414343.530  3818686.45  \n",
       "1          1018538.04  1555213.175  3004702.33  "
      ]
     },
     "execution_count": 239,
     "metadata": {},
     "output_type": "execute_result"
    }
   ],
   "source": [
    "# estatísticas descritivas das vendas semanais, dividas em semanas com feriado (1) e sem feriado (0)\n",
    "\n",
    "sales_tot_features.groupby('IsHoliday')['Weekly_Sales'].describe()"
   ]
  },
  {
   "cell_type": "code",
   "execution_count": 230,
   "metadata": {
    "scrolled": true
   },
   "outputs": [
    {
     "data": {
      "text/plain": [
       "<AxesSubplot:xlabel='IsHoliday', ylabel='Weekly_Sales'>"
      ]
     },
     "execution_count": 230,
     "metadata": {},
     "output_type": "execute_result"
    },
    {
     "data": {
      "image/png": "[encoded data removed]",
      "text/plain": [
       "<Figure size 432x288 with 1 Axes>"
      ]
     },
     "metadata": {
      "needs_background": "light"
     },
     "output_type": "display_data"
    }
   ],
   "source": [
    "# montaremos um boxplot para verificarmos se há outliers\n",
    "\n",
    "sns.boxplot(x='IsHoliday', y='Weekly_Sales', data=sales_tot_features)"
   ]
  },
  {
   "cell_type": "markdown",
   "metadata": {},
   "source": [
    "Como há uma diferença de apenas 7,84% entre as médias de vendas semanais de semanas com e sem feriado, e observamos que os boxplots estão parecidos, não havendo outliers nas semanas com feriado, não removeremos os dados das semanas com feriado de nossa análise."
   ]
  },
  {
   "cell_type": "code",
   "execution_count": 241,
   "metadata": {},
   "outputs": [
    {
     "data": {
      "text/html": [
       "<div>\n",
       "<style scoped>\n",
       "    .dataframe tbody tr th:only-of-type {\n",
       "        vertical-align: middle;\n",
       "    }\n",
       "\n",
       "    .dataframe tbody tr th {\n",
       "        vertical-align: top;\n",
       "    }\n",
       "\n",
       "    .dataframe thead th {\n",
       "        text-align: right;\n",
       "    }\n",
       "</style>\n",
       "<table border=\"1\" class=\"dataframe\">\n",
       "  <thead>\n",
       "    <tr style=\"text-align: right;\">\n",
       "      <th></th>\n",
       "      <th>Store</th>\n",
       "      <th>Date</th>\n",
       "      <th>IsHoliday</th>\n",
       "      <th>Weekly_Sales</th>\n",
       "      <th>Temperature</th>\n",
       "      <th>Fuel_Price</th>\n",
       "      <th>CPI</th>\n",
       "      <th>Unemployment</th>\n",
       "      <th>MarkDown</th>\n",
       "    </tr>\n",
       "  </thead>\n",
       "  <tbody>\n",
       "    <tr>\n",
       "      <th>0</th>\n",
       "      <td>1</td>\n",
       "      <td>05/02/2010</td>\n",
       "      <td>0</td>\n",
       "      <td>1643690.90</td>\n",
       "      <td>42.31</td>\n",
       "      <td>2.572</td>\n",
       "      <td>211.096358</td>\n",
       "      <td>8.106</td>\n",
       "      <td>0.00</td>\n",
       "    </tr>\n",
       "    <tr>\n",
       "      <th>1</th>\n",
       "      <td>1</td>\n",
       "      <td>12/02/2010</td>\n",
       "      <td>1</td>\n",
       "      <td>1641957.44</td>\n",
       "      <td>38.51</td>\n",
       "      <td>2.548</td>\n",
       "      <td>211.242170</td>\n",
       "      <td>8.106</td>\n",
       "      <td>0.00</td>\n",
       "    </tr>\n",
       "    <tr>\n",
       "      <th>2</th>\n",
       "      <td>1</td>\n",
       "      <td>19/02/2010</td>\n",
       "      <td>0</td>\n",
       "      <td>1611968.17</td>\n",
       "      <td>39.93</td>\n",
       "      <td>2.514</td>\n",
       "      <td>211.289143</td>\n",
       "      <td>8.106</td>\n",
       "      <td>0.00</td>\n",
       "    </tr>\n",
       "    <tr>\n",
       "      <th>3</th>\n",
       "      <td>1</td>\n",
       "      <td>26/02/2010</td>\n",
       "      <td>0</td>\n",
       "      <td>1409727.59</td>\n",
       "      <td>46.63</td>\n",
       "      <td>2.561</td>\n",
       "      <td>211.319643</td>\n",
       "      <td>8.106</td>\n",
       "      <td>0.00</td>\n",
       "    </tr>\n",
       "    <tr>\n",
       "      <th>4</th>\n",
       "      <td>1</td>\n",
       "      <td>05/03/2010</td>\n",
       "      <td>0</td>\n",
       "      <td>1554806.68</td>\n",
       "      <td>46.50</td>\n",
       "      <td>2.625</td>\n",
       "      <td>211.350143</td>\n",
       "      <td>8.106</td>\n",
       "      <td>0.00</td>\n",
       "    </tr>\n",
       "    <tr>\n",
       "      <th>...</th>\n",
       "      <td>...</td>\n",
       "      <td>...</td>\n",
       "      <td>...</td>\n",
       "      <td>...</td>\n",
       "      <td>...</td>\n",
       "      <td>...</td>\n",
       "      <td>...</td>\n",
       "      <td>...</td>\n",
       "      <td>...</td>\n",
       "    </tr>\n",
       "    <tr>\n",
       "      <th>6430</th>\n",
       "      <td>45</td>\n",
       "      <td>28/09/2012</td>\n",
       "      <td>0</td>\n",
       "      <td>713173.95</td>\n",
       "      <td>64.88</td>\n",
       "      <td>3.997</td>\n",
       "      <td>192.013558</td>\n",
       "      <td>8.684</td>\n",
       "      <td>9468.01</td>\n",
       "    </tr>\n",
       "    <tr>\n",
       "      <th>6431</th>\n",
       "      <td>45</td>\n",
       "      <td>05/10/2012</td>\n",
       "      <td>0</td>\n",
       "      <td>733455.07</td>\n",
       "      <td>64.89</td>\n",
       "      <td>3.985</td>\n",
       "      <td>192.170412</td>\n",
       "      <td>8.667</td>\n",
       "      <td>9659.00</td>\n",
       "    </tr>\n",
       "    <tr>\n",
       "      <th>6432</th>\n",
       "      <td>45</td>\n",
       "      <td>12/10/2012</td>\n",
       "      <td>0</td>\n",
       "      <td>734464.36</td>\n",
       "      <td>54.47</td>\n",
       "      <td>4.000</td>\n",
       "      <td>192.327265</td>\n",
       "      <td>8.667</td>\n",
       "      <td>6554.03</td>\n",
       "    </tr>\n",
       "    <tr>\n",
       "      <th>6433</th>\n",
       "      <td>45</td>\n",
       "      <td>19/10/2012</td>\n",
       "      <td>0</td>\n",
       "      <td>718125.53</td>\n",
       "      <td>56.47</td>\n",
       "      <td>3.969</td>\n",
       "      <td>192.330854</td>\n",
       "      <td>8.667</td>\n",
       "      <td>3982.42</td>\n",
       "    </tr>\n",
       "    <tr>\n",
       "      <th>6434</th>\n",
       "      <td>45</td>\n",
       "      <td>26/10/2012</td>\n",
       "      <td>0</td>\n",
       "      <td>760281.43</td>\n",
       "      <td>58.85</td>\n",
       "      <td>3.882</td>\n",
       "      <td>192.308899</td>\n",
       "      <td>8.667</td>\n",
       "      <td>5247.26</td>\n",
       "    </tr>\n",
       "  </tbody>\n",
       "</table>\n",
       "<p>6435 rows × 9 columns</p>\n",
       "</div>"
      ],
      "text/plain": [
       "      Store        Date  IsHoliday  Weekly_Sales  Temperature  Fuel_Price  \\\n",
       "0         1  05/02/2010          0    1643690.90        42.31       2.572   \n",
       "1         1  12/02/2010          1    1641957.44        38.51       2.548   \n",
       "2         1  19/02/2010          0    1611968.17        39.93       2.514   \n",
       "3         1  26/02/2010          0    1409727.59        46.63       2.561   \n",
       "4         1  05/03/2010          0    1554806.68        46.50       2.625   \n",
       "...     ...         ...        ...           ...          ...         ...   \n",
       "6430     45  28/09/2012          0     713173.95        64.88       3.997   \n",
       "6431     45  05/10/2012          0     733455.07        64.89       3.985   \n",
       "6432     45  12/10/2012          0     734464.36        54.47       4.000   \n",
       "6433     45  19/10/2012          0     718125.53        56.47       3.969   \n",
       "6434     45  26/10/2012          0     760281.43        58.85       3.882   \n",
       "\n",
       "             CPI  Unemployment  MarkDown  \n",
       "0     211.096358         8.106      0.00  \n",
       "1     211.242170         8.106      0.00  \n",
       "2     211.289143         8.106      0.00  \n",
       "3     211.319643         8.106      0.00  \n",
       "4     211.350143         8.106      0.00  \n",
       "...          ...           ...       ...  \n",
       "6430  192.013558         8.684   9468.01  \n",
       "6431  192.170412         8.667   9659.00  \n",
       "6432  192.327265         8.667   6554.03  \n",
       "6433  192.330854         8.667   3982.42  \n",
       "6434  192.308899         8.667   5247.26  \n",
       "\n",
       "[6435 rows x 9 columns]"
      ]
     },
     "execution_count": 241,
     "metadata": {},
     "output_type": "execute_result"
    }
   ],
   "source": [
    "# como esse será o data frame que utilizaremos daqui em diante para nosso modelo, renomearemos-no para 'df', para facilitar\n",
    "\n",
    "df = sales_tot_features\n",
    "df"
   ]
  },
  {
   "cell_type": "markdown",
   "metadata": {},
   "source": [
    "<a class=\"anchor\" id=\"chapter4\"></a>\n",
    "## 4. Modelagem \n",
    "    Daremos início ao nosso modelo de previsão de vendas."
   ]
  },
  {
   "cell_type": "markdown",
   "metadata": {},
   "source": [
    "<a class=\"anchor\" id=\"section_4_1\"></a>\n",
    "##  Modelo Decision Tree Regression\n",
    "    Daremos início à previsão por meio do modelo Decision Tree Regression, no qual o princípio do aprendizado de máquina é  por árvore de decisão. \n",
    "    Faremos um modelo no qual as vendas semanais será a variável dependente de uma outra variável de nosso conjunto de      dados."
   ]
  },
  {
   "cell_type": "markdown",
   "metadata": {},
   "source": [
    "<a class=\"anchor\" id=\"section_4_1_1\"></a>\n",
    "### Vendas x Temperatura\n",
    "Iniciaremos usando a variável Temperature como variável independente, ou seja, faremos uma previsão das vendas em função da temperatura. "
   ]
  },
  {
   "cell_type": "code",
   "execution_count": 243,
   "metadata": {},
   "outputs": [],
   "source": [
    "# criaremos uma série para cada variável desejada: a variável dependente será Y e a independente X\n",
    "\n",
    "X = df['Temperature'].values\n",
    "y = df['Weekly_Sales'].values"
   ]
  },
  {
   "cell_type": "code",
   "execution_count": 246,
   "metadata": {},
   "outputs": [],
   "source": [
    "# Dividiremos cada série em duas: training e test. Uma será utilizada para treinar o modelo com seus dados, e a outra servirá para\n",
    "# ser comparada com os resultados fornecidos pelo nosso modelo de previsão. Usaremos 5% (322 linhas) do df como teste.\n",
    "# Importaremos a função train_test_split para fazermos isso\n",
    "\n",
    "from sklearn.model_selection import train_test_split\n",
    "X_train, X_test, y_train, y_test = train_test_split(X, y, test_size = 0.05)"
   ]
  },
  {
   "cell_type": "code",
   "execution_count": 249,
   "metadata": {},
   "outputs": [
    {
     "data": {
      "text/plain": [
       "DecisionTreeRegressor()"
      ]
     },
     "execution_count": 249,
     "metadata": {},
     "output_type": "execute_result"
    }
   ],
   "source": [
    "# Treinando nosso conjunto de dados no modelo\n",
    "\n",
    "from sklearn.tree import DecisionTreeRegressor\n",
    "regressor = DecisionTreeRegressor()\n",
    "regressor.fit(X_train.reshape(-1,1), y_train.reshape(-1,1))"
   ]
  },
  {
   "cell_type": "code",
   "execution_count": 250,
   "metadata": {},
   "outputs": [],
   "source": [
    "# Fornecimento da previsão da variável dependente (vendas semanais)\n",
    "\n",
    "y_pred = regressor.predict(X_test.reshape(-1,1))"
   ]
  },
  {
   "cell_type": "code",
   "execution_count": 265,
   "metadata": {},
   "outputs": [
    {
     "data": {
      "text/html": [
       "<div>\n",
       "<style scoped>\n",
       "    .dataframe tbody tr th:only-of-type {\n",
       "        vertical-align: middle;\n",
       "    }\n",
       "\n",
       "    .dataframe tbody tr th {\n",
       "        vertical-align: top;\n",
       "    }\n",
       "\n",
       "    .dataframe thead th {\n",
       "        text-align: right;\n",
       "    }\n",
       "</style>\n",
       "<table border=\"1\" class=\"dataframe\">\n",
       "  <thead>\n",
       "    <tr style=\"text-align: right;\">\n",
       "      <th></th>\n",
       "      <th>Valores reais</th>\n",
       "      <th>Valores previstos</th>\n",
       "    </tr>\n",
       "  </thead>\n",
       "  <tbody>\n",
       "    <tr>\n",
       "      <th>0</th>\n",
       "      <td>446905.02</td>\n",
       "      <td>1.068224e+06</td>\n",
       "    </tr>\n",
       "    <tr>\n",
       "      <th>1</th>\n",
       "      <td>1743000.38</td>\n",
       "      <td>5.032953e+05</td>\n",
       "    </tr>\n",
       "    <tr>\n",
       "      <th>2</th>\n",
       "      <td>329467.82</td>\n",
       "      <td>5.583436e+05</td>\n",
       "    </tr>\n",
       "    <tr>\n",
       "      <th>3</th>\n",
       "      <td>520284.79</td>\n",
       "      <td>9.727417e+05</td>\n",
       "    </tr>\n",
       "    <tr>\n",
       "      <th>4</th>\n",
       "      <td>339976.65</td>\n",
       "      <td>8.140444e+05</td>\n",
       "    </tr>\n",
       "    <tr>\n",
       "      <th>...</th>\n",
       "      <td>...</td>\n",
       "      <td>...</td>\n",
       "    </tr>\n",
       "    <tr>\n",
       "      <th>317</th>\n",
       "      <td>1046782.52</td>\n",
       "      <td>1.061090e+06</td>\n",
       "    </tr>\n",
       "    <tr>\n",
       "      <th>318</th>\n",
       "      <td>593128.13</td>\n",
       "      <td>8.894607e+05</td>\n",
       "    </tr>\n",
       "    <tr>\n",
       "      <th>319</th>\n",
       "      <td>590636.38</td>\n",
       "      <td>1.795153e+06</td>\n",
       "    </tr>\n",
       "    <tr>\n",
       "      <th>320</th>\n",
       "      <td>2091663.20</td>\n",
       "      <td>1.033950e+06</td>\n",
       "    </tr>\n",
       "    <tr>\n",
       "      <th>321</th>\n",
       "      <td>1044639.69</td>\n",
       "      <td>4.447187e+05</td>\n",
       "    </tr>\n",
       "  </tbody>\n",
       "</table>\n",
       "<p>322 rows × 2 columns</p>\n",
       "</div>"
      ],
      "text/plain": [
       "     Valores reais  Valores previstos\n",
       "0        446905.02       1.068224e+06\n",
       "1       1743000.38       5.032953e+05\n",
       "2        329467.82       5.583436e+05\n",
       "3        520284.79       9.727417e+05\n",
       "4        339976.65       8.140444e+05\n",
       "..             ...                ...\n",
       "317     1046782.52       1.061090e+06\n",
       "318      593128.13       8.894607e+05\n",
       "319      590636.38       1.795153e+06\n",
       "320     2091663.20       1.033950e+06\n",
       "321     1044639.69       4.447187e+05\n",
       "\n",
       "[322 rows x 2 columns]"
      ]
     },
     "execution_count": 265,
     "metadata": {},
     "output_type": "execute_result"
    }
   ],
   "source": [
    "# Comparação dos valores previstos com os valores reais\n",
    "\n",
    "comp = pd.DataFrame({'Valores reais':y_test.reshape(-1), 'Valores previstos':y_pred.reshape(-1)})\n",
    "comp"
   ]
  },
  {
   "cell_type": "code",
   "execution_count": 266,
   "metadata": {},
   "outputs": [
    {
     "data": {
      "text/html": [
       "<div>\n",
       "<style scoped>\n",
       "    .dataframe tbody tr th:only-of-type {\n",
       "        vertical-align: middle;\n",
       "    }\n",
       "\n",
       "    .dataframe tbody tr th {\n",
       "        vertical-align: top;\n",
       "    }\n",
       "\n",
       "    .dataframe thead th {\n",
       "        text-align: right;\n",
       "    }\n",
       "</style>\n",
       "<table border=\"1\" class=\"dataframe\">\n",
       "  <thead>\n",
       "    <tr style=\"text-align: right;\">\n",
       "      <th></th>\n",
       "      <th>Valores reais</th>\n",
       "      <th>Valores previstos</th>\n",
       "    </tr>\n",
       "  </thead>\n",
       "  <tbody>\n",
       "    <tr>\n",
       "      <th>0</th>\n",
       "      <td>446905.02</td>\n",
       "      <td>1068223.68</td>\n",
       "    </tr>\n",
       "    <tr>\n",
       "      <th>1</th>\n",
       "      <td>1743000.38</td>\n",
       "      <td>503295.29</td>\n",
       "    </tr>\n",
       "    <tr>\n",
       "      <th>2</th>\n",
       "      <td>329467.82</td>\n",
       "      <td>558343.57</td>\n",
       "    </tr>\n",
       "    <tr>\n",
       "      <th>3</th>\n",
       "      <td>520284.79</td>\n",
       "      <td>972741.65</td>\n",
       "    </tr>\n",
       "    <tr>\n",
       "      <th>4</th>\n",
       "      <td>339976.65</td>\n",
       "      <td>814044.43</td>\n",
       "    </tr>\n",
       "    <tr>\n",
       "      <th>...</th>\n",
       "      <td>...</td>\n",
       "      <td>...</td>\n",
       "    </tr>\n",
       "    <tr>\n",
       "      <th>317</th>\n",
       "      <td>1046782.52</td>\n",
       "      <td>1061089.82</td>\n",
       "    </tr>\n",
       "    <tr>\n",
       "      <th>318</th>\n",
       "      <td>593128.13</td>\n",
       "      <td>889460.65</td>\n",
       "    </tr>\n",
       "    <tr>\n",
       "      <th>319</th>\n",
       "      <td>590636.38</td>\n",
       "      <td>1795152.73</td>\n",
       "    </tr>\n",
       "    <tr>\n",
       "      <th>320</th>\n",
       "      <td>2091663.20</td>\n",
       "      <td>1033950.03</td>\n",
       "    </tr>\n",
       "    <tr>\n",
       "      <th>321</th>\n",
       "      <td>1044639.69</td>\n",
       "      <td>444718.68</td>\n",
       "    </tr>\n",
       "  </tbody>\n",
       "</table>\n",
       "<p>322 rows × 2 columns</p>\n",
       "</div>"
      ],
      "text/plain": [
       "     Valores reais  Valores previstos\n",
       "0        446905.02         1068223.68\n",
       "1       1743000.38          503295.29\n",
       "2        329467.82          558343.57\n",
       "3        520284.79          972741.65\n",
       "4        339976.65          814044.43\n",
       "..             ...                ...\n",
       "317     1046782.52         1061089.82\n",
       "318      593128.13          889460.65\n",
       "319      590636.38         1795152.73\n",
       "320     2091663.20         1033950.03\n",
       "321     1044639.69          444718.68\n",
       "\n",
       "[322 rows x 2 columns]"
      ]
     },
     "execution_count": 266,
     "metadata": {},
     "output_type": "execute_result"
    }
   ],
   "source": [
    "# Mudaremos o formato da coluna 'Valores previstos', para visualizarmos o número completo e não em notação científica\n",
    "\n",
    "comp['Valores previstos'] = comp['Valores previstos'].map(lambda x: '{:.2f}'.format(x)).astype(float)\n",
    "comp"
   ]
  },
  {
   "cell_type": "markdown",
   "metadata": {},
   "source": [
    "<a class=\"anchor\" id=\"section_4_1_1_1\"></a>\n",
    "### Medidas de avaliação do modelo Vendas x Temperatura"
   ]
  },
  {
   "cell_type": "code",
   "execution_count": 268,
   "metadata": {
    "scrolled": false
   },
   "outputs": [
    {
     "data": {
      "text/html": [
       "<div>\n",
       "<style scoped>\n",
       "    .dataframe tbody tr th:only-of-type {\n",
       "        vertical-align: middle;\n",
       "    }\n",
       "\n",
       "    .dataframe tbody tr th {\n",
       "        vertical-align: top;\n",
       "    }\n",
       "\n",
       "    .dataframe thead th {\n",
       "        text-align: right;\n",
       "    }\n",
       "</style>\n",
       "<table border=\"1\" class=\"dataframe\">\n",
       "  <thead>\n",
       "    <tr style=\"text-align: right;\">\n",
       "      <th></th>\n",
       "      <th>Valores reais</th>\n",
       "      <th>Valores previstos</th>\n",
       "      <th>dif</th>\n",
       "    </tr>\n",
       "  </thead>\n",
       "  <tbody>\n",
       "    <tr>\n",
       "      <th>0</th>\n",
       "      <td>446905.02</td>\n",
       "      <td>1068223.68</td>\n",
       "      <td>621318.66</td>\n",
       "    </tr>\n",
       "    <tr>\n",
       "      <th>1</th>\n",
       "      <td>1743000.38</td>\n",
       "      <td>503295.29</td>\n",
       "      <td>-1239705.09</td>\n",
       "    </tr>\n",
       "    <tr>\n",
       "      <th>2</th>\n",
       "      <td>329467.82</td>\n",
       "      <td>558343.57</td>\n",
       "      <td>228875.75</td>\n",
       "    </tr>\n",
       "    <tr>\n",
       "      <th>3</th>\n",
       "      <td>520284.79</td>\n",
       "      <td>972741.65</td>\n",
       "      <td>452456.86</td>\n",
       "    </tr>\n",
       "    <tr>\n",
       "      <th>4</th>\n",
       "      <td>339976.65</td>\n",
       "      <td>814044.43</td>\n",
       "      <td>474067.78</td>\n",
       "    </tr>\n",
       "    <tr>\n",
       "      <th>...</th>\n",
       "      <td>...</td>\n",
       "      <td>...</td>\n",
       "      <td>...</td>\n",
       "    </tr>\n",
       "    <tr>\n",
       "      <th>317</th>\n",
       "      <td>1046782.52</td>\n",
       "      <td>1061089.82</td>\n",
       "      <td>14307.30</td>\n",
       "    </tr>\n",
       "    <tr>\n",
       "      <th>318</th>\n",
       "      <td>593128.13</td>\n",
       "      <td>889460.65</td>\n",
       "      <td>296332.52</td>\n",
       "    </tr>\n",
       "    <tr>\n",
       "      <th>319</th>\n",
       "      <td>590636.38</td>\n",
       "      <td>1795152.73</td>\n",
       "      <td>1204516.35</td>\n",
       "    </tr>\n",
       "    <tr>\n",
       "      <th>320</th>\n",
       "      <td>2091663.20</td>\n",
       "      <td>1033950.03</td>\n",
       "      <td>-1057713.17</td>\n",
       "    </tr>\n",
       "    <tr>\n",
       "      <th>321</th>\n",
       "      <td>1044639.69</td>\n",
       "      <td>444718.68</td>\n",
       "      <td>-599921.01</td>\n",
       "    </tr>\n",
       "  </tbody>\n",
       "</table>\n",
       "<p>322 rows × 3 columns</p>\n",
       "</div>"
      ],
      "text/plain": [
       "     Valores reais  Valores previstos         dif\n",
       "0        446905.02         1068223.68   621318.66\n",
       "1       1743000.38          503295.29 -1239705.09\n",
       "2        329467.82          558343.57   228875.75\n",
       "3        520284.79          972741.65   452456.86\n",
       "4        339976.65          814044.43   474067.78\n",
       "..             ...                ...         ...\n",
       "317     1046782.52         1061089.82    14307.30\n",
       "318      593128.13          889460.65   296332.52\n",
       "319      590636.38         1795152.73  1204516.35\n",
       "320     2091663.20         1033950.03 -1057713.17\n",
       "321     1044639.69          444718.68  -599921.01\n",
       "\n",
       "[322 rows x 3 columns]"
      ]
     },
     "execution_count": 268,
     "metadata": {},
     "output_type": "execute_result"
    }
   ],
   "source": [
    "# Criaremos uma coluna com a diferença entre o valor previsto e o valor real \n",
    "\n",
    "comp['dif'] = comp['Valores previstos'] - comp['Valores reais']\n",
    "comp"
   ]
  },
  {
   "cell_type": "code",
   "execution_count": 269,
   "metadata": {},
   "outputs": [
    {
     "data": {
      "text/plain": [
       "-9530.198354037233"
      ]
     },
     "execution_count": 269,
     "metadata": {},
     "output_type": "execute_result"
    }
   ],
   "source": [
    "# média da soma das diferenças\n",
    "\n",
    "comp['dif'].mean()"
   ]
  },
  {
   "cell_type": "markdown",
   "metadata": {},
   "source": [
    "A média é negativa, o que nos dá indícios de que o modelo é ruim"
   ]
  },
  {
   "cell_type": "code",
   "execution_count": 281,
   "metadata": {
    "scrolled": false
   },
   "outputs": [
    {
     "data": {
      "image/png": "[encoded data removed]",
      "text/plain": [
       "<Figure size 432x288 with 1 Axes>"
      ]
     },
     "metadata": {
      "needs_background": "light"
     },
     "output_type": "display_data"
    },
    {
     "data": {
      "image/png": "[encoded data removed]",
      "text/plain": [
       "<Figure size 432x288 with 1 Axes>"
      ]
     },
     "metadata": {
      "needs_background": "light"
     },
     "output_type": "display_data"
    }
   ],
   "source": [
    "# Montagem de dois gráficos que mostram a relação entre as variáveis, um de dispersão e outro de linha\n",
    "\n",
    "# gráfico de dispersão\n",
    "\n",
    "X_grid = np.arange(min(X), max(X), 0.01)\n",
    "X_grid = X_grid.reshape((len(X_grid), 1))\n",
    "plt.scatter(X_test, y_test, color = 'red')\n",
    "plt.scatter(X_test, y_pred, color = 'green')\n",
    "plt.title('Decision Tree Regression')\n",
    "plt.xlabel('Temperature')\n",
    "plt.ylabel('Weekly_Sales')\n",
    "plt.show()\n",
    "\n",
    "# gráfico de linhas\n",
    "\n",
    "plt.plot(X_grid, regressor.predict(X_grid), color = 'gray')\n",
    "plt.title('Decision Tree Regression')\n",
    "plt.xlabel('Temperature')\n",
    "plt.ylabel('Weekly_Sales')\n",
    "plt.show()"
   ]
  },
  {
   "cell_type": "code",
   "execution_count": 310,
   "metadata": {
    "scrolled": false
   },
   "outputs": [
    {
     "data": {
      "application/vnd.plotly.v1+json": {
       "config": {
        "plotlyServerURL": "https://plot.ly"
       },
       "data": [
        {
         "hovertemplate": "variable=Valores reais<br>index=%{x}<br>value=%{y}<extra></extra>",
         "legendgroup": "Valores reais",
         "line": {
          "color": "#636efa",
          "dash": "solid"
         },
         "marker": {
          "symbol": "circle"
         },
         "mode": "lines",
         "name": "Valores reais",
         "orientation": "v",
         "showlegend": true,
         "type": "scatter",
         "x": [
          0,
          1,
          2,
          3,
          4,
          5,
          6,
          7,
          8,
          9,
          10,
          11,
          12,
          13,
          14,
          15,
          16,
          17,
          18,
          19,
          20,
          21,
          22,
          23,
          24,
          25,
          26,
          27,
          28,
          29,
          30,
          31,
          32,
          33,
          34,
          35,
          36,
          37,
          38,
          39,
          40,
          41,
          42,
          43,
          44,
          45,
          46,
          47,
          48,
          49,
          50,
          51,
          52,
          53,
          54,
          55,
          56,
          57,
          58,
          59,
          60,
          61,
          62,
          63,
          64,
          65,
          66,
          67,
          68,
          69,
          70,
          71,
          72,
          73,
          74,
          75,
          76,
          77,
          78,
          79,
          80,
          81,
          82,
          83,
          84,
          85,
          86,
          87,
          88,
          89,
          90,
          91,
          92,
          93,
          94,
          95,
          96,
          97,
          98,
          99,
          100,
          101,
          102,
          103,
          104,
          105,
          106,
          107,
          108,
          109,
          110,
          111,
          112,
          113,
          114,
          115,
          116,
          117,
          118,
          119,
          120,
          121,
          122,
          123,
          124,
          125,
          126,
          127,
          128,
          129,
          130,
          131,
          132,
          133,
          134,
          135,
          136,
          137,
          138,
          139,
          140,
          141,
          142,
          143,
          144,
          145,
          146,
          147,
          148,
          149,
          150,
          151,
          152,
          153,
          154,
          155,
          156,
          157,
          158,
          159,
          160,
          161,
          162,
          163,
          164,
          165,
          166,
          167,
          168,
          169,
          170,
          171,
          172,
          173,
          174,
          175,
          176,
          177,
          178,
          179,
          180,
          181,
          182,
          183,
          184,
          185,
          186,
          187,
          188,
          189,
          190,
          191,
          192,
          193,
          194,
          195,
          196,
          197,
          198,
          199,
          200,
          201,
          202,
          203,
          204,
          205,
          206,
          207,
          208,
          209,
          210,
          211,
          212,
          213,
          214,
          215,
          216,
          217,
          218,
          219,
          220,
          221,
          222,
          223,
          224,
          225,
          226,
          227,
          228,
          229,
          230,
          231,
          232,
          233,
          234,
          235,
          236,
          237,
          238,
          239,
          240,
          241,
          242,
          243,
          244,
          245,
          246,
          247,
          248,
          249,
          250,
          251,
          252,
          253,
          254,
          255,
          256,
          257,
          258,
          259,
          260,
          261,
          262,
          263,
          264,
          265,
          266,
          267,
          268,
          269,
          270,
          271,
          272,
          273,
          274,
          275,
          276,
          277,
          278,
          279,
          280,
          281,
          282,
          283,
          284,
          285,
          286,
          287,
          288,
          289,
          290,
          291,
          292,
          293,
          294,
          295,
          296,
          297,
          298,
          299,
          300,
          301,
          302,
          303,
          304,
          305,
          306,
          307,
          308,
          309,
          310,
          311,
          312,
          313,
          314,
          315,
          316,
          317,
          318,
          319,
          320,
          321
         ],
         "xaxis": "x",
         "y": [
          446905.02,
          1743000.38,
          329467.82,
          520284.79,
          339976.65,
          855001.02,
          424904.95,
          1865820.81,
          870971.82,
          1333347.78,
          2316495.56,
          537300.94,
          443891.64,
          1133807.03,
          339407.94,
          1159089.6,
          442894.2,
          506705.36,
          1887895.07,
          892133.41,
          303438.24,
          869403.63,
          606755.3,
          1495536.46,
          224031.19,
          556046.12,
          330063.06,
          983232.96,
          900646.9400000001,
          326469.43,
          1294769.08,
          1834737.58,
          432782.1,
          1796203.51,
          1187776.19,
          696844.36,
          2076570.84,
          1361944.94,
          360617.37,
          1045722.37,
          814395.17,
          1765584.48,
          818434.49,
          1466046.67,
          758182.2,
          439424.5,
          248051.53,
          1402372.09,
          1639999.47,
          1601377.41,
          457883.94,
          2090838.44,
          777175.28,
          1189887.8599999999,
          926934.5700000001,
          643125.29,
          499267.66000000003,
          2083379.8900000001,
          1630564.48,
          340147.2,
          590453.63,
          378241.33999999997,
          517783.5,
          411116.95,
          992621.9299999999,
          282235.73,
          1056478.65,
          442074.79,
          1169831.38,
          2105301.39,
          1807545.43,
          2163510.89,
          820288.35,
          2128362.92,
          1081322.12,
          1355704.21,
          513372.17,
          704344.21,
          1867403.01,
          1442873.22,
          1261964.96,
          466806.89,
          2207742.13,
          655811.9500000001,
          1061089.56,
          1484169.74,
          1357154.71,
          1353838.39,
          795859.23,
          1083811.19,
          1198709.65,
          479855,
          1661767.33,
          1142499.25,
          1711562.73,
          1235094.66,
          1176588.25,
          1042226.2999999999,
          1594968.28,
          1323999.36,
          1434036.18,
          529384.3099999999,
          1378340.18,
          955506.95,
          553834.04,
          323233.8,
          972663.59,
          1517029.9,
          1635984.07,
          435481.03,
          272489.41,
          1306644.25,
          2614202.3,
          751167.12,
          306827.36,
          2001636.96,
          1075656.34,
          1367448.28,
          434252.14999999997,
          873450.29,
          1046068.17,
          1675562.94,
          1001790.16,
          1345167.61,
          496083.24,
          988742.08,
          1265852.43,
          536144.81,
          2095769.18,
          1628868.28,
          1899959.61,
          705557.97,
          2182246.69,
          224639.76,
          985594.23,
          903882.96,
          1014218.8,
          284052.77,
          1874289.79,
          1514999.17,
          472330.71,
          488008.83,
          713250.08,
          537064.03,
          549505.55,
          570611.23,
          283248.62,
          1356689.88,
          287425.22,
          465493.15,
          1230011.95,
          265003.47,
          338386.08,
          2302504.86,
          528807.45,
          996147.39,
          534372.53,
          1015654.6,
          855046.95,
          481119.6,
          1201059.72,
          1892775.94,
          871692.74,
          1404576.48,
          504566.27999999997,
          302881.64,
          1124537.97,
          1127859.69,
          283455.13,
          337743.26,
          383550.93,
          1111797.21,
          1033543.56,
          873415.01,
          1033719.5,
          1327719.34,
          1876359.39,
          372545.32,
          1953544.76,
          540922.94,
          1499727.02,
          1367320.01,
          298947.51,
          693785.85,
          380376.85,
          1911559.1,
          1065108.64,
          2000940.67,
          568093.57,
          404751.25,
          1935857.58,
          460331.7,
          680254.35,
          534578.78,
          1107366.06,
          469787.38,
          588363.62,
          1542173.33,
          329033.66,
          636193.24,
          1876788.15,
          847592.11,
          876583.98,
          1557776.1,
          1052034.74,
          1140501.03,
          650102.8,
          1086421.57,
          996723.58,
          1084894.47,
          1954849.68,
          488880.26,
          963382.09,
          1970340.25,
          1707298.1400000001,
          324839.74,
          400430.78,
          1352219.79,
          643603.69,
          579068.88,
          1297792.41,
          1266796.13,
          1949183.14,
          1842555.32,
          1532893.22,
          2678206.42,
          994610.43,
          1511068.07,
          1270577.01,
          914500.91,
          1359770.73,
          504856.97,
          260636.71,
          618877.13,
          605078.62,
          658468.27,
          986922.62,
          1357036.1,
          612379.9,
          1931104.67,
          1150003.36,
          1472752.01,
          2119163.01,
          1420405.41,
          1336522.92,
          1494417.07,
          423805.22,
          2283540.3,
          1852443.78,
          527117.81,
          971615.62,
          410711.99,
          1027584.51,
          549967.89,
          1115138.51,
          299757.75,
          438516.53,
          2227152.16,
          506273.74,
          1820723.17,
          1643690.9,
          767338.32,
          453632.76,
          919229.36,
          579874.22,
          1368318.17,
          1412925.25,
          537138.58,
          1061134.3699999999,
          541216.92,
          1284185.49,
          912958.95,
          462888.13,
          1115985.81,
          1344354.41,
          1641957.44,
          1259877.19,
          1724669.75,
          261837.2,
          1910092.3699999999,
          378100.31,
          1527014.04,
          918170.5,
          613042.97,
          628989.88,
          1063310.62,
          1858856.06,
          1840686.94,
          478773.05,
          953533.9500000001,
          561137.06,
          919839.19,
          1206795.74,
          918335.68,
          2035244.54,
          1893447.71,
          844958.49,
          384659.85,
          1939061.41,
          416913.1,
          490970.95,
          2762816.65,
          1033552.18,
          1529615.54,
          1372484.9000000001,
          1360150.12,
          1063149.78,
          1636263.41,
          1358816.46,
          1384584.5899999999,
          433037.66000000003,
          1413382.76,
          569105.03,
          613501.05,
          1120731.76,
          921264.52,
          1113208.57,
          1046782.52,
          593128.13,
          590636.38,
          2091663.2,
          1044639.69
         ],
         "yaxis": "y"
        },
        {
         "hovertemplate": "variable=Valores previstos<br>index=%{x}<br>value=%{y}<extra></extra>",
         "legendgroup": "Valores previstos",
         "line": {
          "color": "#EF553B",
          "dash": "solid"
         },
         "marker": {
          "symbol": "circle"
         },
         "mode": "lines",
         "name": "Valores previstos",
         "orientation": "v",
         "showlegend": true,
         "type": "scatter",
         "x": [
          0,
          1,
          2,
          3,
          4,
          5,
          6,
          7,
          8,
          9,
          10,
          11,
          12,
          13,
          14,
          15,
          16,
          17,
          18,
          19,
          20,
          21,
          22,
          23,
          24,
          25,
          26,
          27,
          28,
          29,
          30,
          31,
          32,
          33,
          34,
          35,
          36,
          37,
          38,
          39,
          40,
          41,
          42,
          43,
          44,
          45,
          46,
          47,
          48,
          49,
          50,
          51,
          52,
          53,
          54,
          55,
          56,
          57,
          58,
          59,
          60,
          61,
          62,
          63,
          64,
          65,
          66,
          67,
          68,
          69,
          70,
          71,
          72,
          73,
          74,
          75,
          76,
          77,
          78,
          79,
          80,
          81,
          82,
          83,
          84,
          85,
          86,
          87,
          88,
          89,
          90,
          91,
          92,
          93,
          94,
          95,
          96,
          97,
          98,
          99,
          100,
          101,
          102,
          103,
          104,
          105,
          106,
          107,
          108,
          109,
          110,
          111,
          112,
          113,
          114,
          115,
          116,
          117,
          118,
          119,
          120,
          121,
          122,
          123,
          124,
          125,
          126,
          127,
          128,
          129,
          130,
          131,
          132,
          133,
          134,
          135,
          136,
          137,
          138,
          139,
          140,
          141,
          142,
          143,
          144,
          145,
          146,
          147,
          148,
          149,
          150,
          151,
          152,
          153,
          154,
          155,
          156,
          157,
          158,
          159,
          160,
          161,
          162,
          163,
          164,
          165,
          166,
          167,
          168,
          169,
          170,
          171,
          172,
          173,
          174,
          175,
          176,
          177,
          178,
          179,
          180,
          181,
          182,
          183,
          184,
          185,
          186,
          187,
          188,
          189,
          190,
          191,
          192,
          193,
          194,
          195,
          196,
          197,
          198,
          199,
          200,
          201,
          202,
          203,
          204,
          205,
          206,
          207,
          208,
          209,
          210,
          211,
          212,
          213,
          214,
          215,
          216,
          217,
          218,
          219,
          220,
          221,
          222,
          223,
          224,
          225,
          226,
          227,
          228,
          229,
          230,
          231,
          232,
          233,
          234,
          235,
          236,
          237,
          238,
          239,
          240,
          241,
          242,
          243,
          244,
          245,
          246,
          247,
          248,
          249,
          250,
          251,
          252,
          253,
          254,
          255,
          256,
          257,
          258,
          259,
          260,
          261,
          262,
          263,
          264,
          265,
          266,
          267,
          268,
          269,
          270,
          271,
          272,
          273,
          274,
          275,
          276,
          277,
          278,
          279,
          280,
          281,
          282,
          283,
          284,
          285,
          286,
          287,
          288,
          289,
          290,
          291,
          292,
          293,
          294,
          295,
          296,
          297,
          298,
          299,
          300,
          301,
          302,
          303,
          304,
          305,
          306,
          307,
          308,
          309,
          310,
          311,
          312,
          313,
          314,
          315,
          316,
          317,
          318,
          319,
          320,
          321
         ],
         "xaxis": "x",
         "y": [
          1068223.68,
          503295.29,
          558343.57,
          972741.65,
          814044.43,
          445134.15,
          1144531.12,
          523427.35,
          839296.88,
          1121476.51,
          1297535.69,
          1358814.05,
          1020108.17,
          238084.08,
          506973.17,
          1865502.46,
          2213518.5,
          991969.37,
          674563.4,
          1413124.11,
          1986445.65,
          1912829.76,
          706206.86,
          1274790.96,
          249134.32,
          1931406.28,
          2100489.79,
          739812.05,
          944594.78,
          1284855.26,
          2031852.16,
          674283.86,
          1046906.16,
          1018664.72,
          1293857.79,
          366473.97,
          747468.59,
          1197019.39,
          875438.44,
          1642970.27,
          1501615.99,
          1175347.51,
          1110937.21,
          869027.82,
          1724548.36,
          1157635.24,
          657241.63,
          1311965.09,
          1325668.78,
          1148945.74,
          981232.12,
          551221.21,
          964729.18,
          1175003.67,
          653471.27,
          747468.59,
          1334296.07,
          264214.12,
          1239248.81,
          1216159.09,
          679706.01,
          821029.84,
          1919053.21,
          1248873.24,
          2097809.4,
          875789.77,
          1085891.23,
          698536.06,
          964356.74,
          804105.49,
          1236398.54,
          967310.82,
          1353205.75,
          713932.15,
          755479.07,
          1298775.8,
          661163.94,
          1523420.38,
          588448.21,
          1731121.54,
          781267.76,
          1010711.08,
          800819.79,
          1458287.38,
          709337.11,
          1991909.98,
          904077.66,
          1358589.62,
          1448232.57,
          981149.23,
          1088025.8,
          746321.29,
          1368312.45,
          1025813.8,
          1534871.71,
          971320,
          1284855.26,
          1197019.39,
          1343565.74,
          1175347.51,
          981311.27,
          854653.89,
          1252918.9,
          1527455.19,
          1244080.18,
          1140636.27,
          1427023.45,
          659902.07,
          793045.82,
          1157129.78,
          534738.43,
          463977.54,
          838291.3,
          861184.05,
          755727.83,
          506737.31,
          2238573.48,
          814044.43,
          1253318.72,
          1706779.59,
          983619.54,
          579499.93,
          3766687.43,
          1235775.15,
          513409.67,
          934727.75,
          573677.97,
          558981.45,
          327389.51,
          1114719.08,
          1177393.75,
          647029.28,
          1108223.87,
          477224.78,
          834450.52,
          2107285.85,
          312161,
          1033950.03,
          1230613.5,
          577198.97,
          749597.24,
          1526636.12,
          1660587.75,
          995616.18,
          520850.71,
          1127534.94,
          1465089.85,
          1465283.29,
          451327.61,
          990152.28,
          1064277.3,
          824494.89,
          2037663.71,
          1138800.32,
          308389.82,
          1204807.83,
          1000809.46,
          1275146.94,
          1090202.01,
          981978.02,
          797377.35,
          1198104.22,
          751885.6,
          520962.14,
          1461107.73,
          1256262.4,
          1762539.3,
          527184.31,
          1136998.02,
          1118981.61,
          950214.41,
          591262.12,
          650263.95,
          1334296.07,
          1936878.46,
          618874.62,
          751885.6,
          816265.96,
          959030.28,
          993484.44,
          1456997.2,
          506564.22,
          435157.59,
          907655.59,
          261851.74,
          1282137.26,
          503318.23,
          1559889,
          1761506.68,
          511327.9,
          423767.29,
          359310.65,
          1302341.52,
          844752.35,
          814044.43,
          1114546.8,
          1654001.91,
          691419.95,
          1416720.54,
          1769296.25,
          624161.78,
          1109721.96,
          759979.37,
          1408082.96,
          748160.28,
          1524059.4,
          557166.35,
          887486.92,
          493506.47,
          1182733,
          526641.23,
          435300.51,
          2309025.16,
          288247.24,
          944654.14,
          2119438.53,
          844752.35,
          1547654.98,
          1308943.59,
          1105619.17,
          224294.39,
          1080231.34,
          1178641.71,
          1413124.11,
          1107205.42,
          1045124.88,
          1513646.64,
          868616.2,
          467827.75,
          768070.53,
          359310.65,
          1049854.59,
          1066566.74,
          953527.49,
          578209.63,
          1205662.85,
          1503742.96,
          927122.4,
          1308943.59,
          714014.73,
          931939.52,
          831570.78,
          1268766.76,
          1680693.06,
          460149.63,
          623258.4,
          1493566.6,
          989740.09,
          877820.38,
          746321.29,
          1461792.94,
          1252918.9,
          1189241.4,
          1178905.44,
          1259414.52,
          1588940.49,
          1343773.94,
          906028.19,
          352960.64,
          1201821.62,
          1309340.16,
          957765.29,
          770228.02,
          1881337.21,
          1167621.14,
          800714,
          832815.08,
          558464.8,
          1002663.95,
          859353.02,
          1301185.28,
          596325.52,
          923779.33,
          1302499.23,
          749597.24,
          838000.43,
          467827.75,
          916908.16,
          739747.68,
          1486354.18,
          950214.41,
          558143.53,
          1305575.9,
          740957.56,
          951626.75,
          757235.22,
          846833.78,
          660981.44,
          933528.39,
          616345.25,
          2168041.61,
          814753.5,
          877910.02,
          1069295.27,
          1126955.57,
          791835.37,
          859353.02,
          968428.93,
          813562.39,
          952542.17,
          965998.97,
          1179738.5,
          1446618.5,
          1141019.11,
          947552.44,
          770228.02,
          935075.95,
          582353.17,
          1320689.77,
          1177393.75,
          935600.09,
          551152.15,
          1416479.82,
          1516924.23,
          959770.12,
          1050027.89,
          1066778.29,
          1061089.82,
          889460.65,
          1795152.73,
          1033950.03,
          444718.68
         ],
         "yaxis": "y"
        }
       ],
       "layout": {
        "legend": {
         "title": {
          "text": "variable"
         },
         "tracegroupgap": 0
        },
        "margin": {
         "t": 60
        },
        "template": {
         "data": {
          "bar": [
           {
            "error_x": {
             "color": "#2a3f5f"
            },
            "error_y": {
             "color": "#2a3f5f"
            },
            "marker": {
             "line": {
              "color": "#E5ECF6",
              "width": 0.5
             },
             "pattern": {
              "fillmode": "overlay",
              "size": 10,
              "solidity": 0.2
             }
            },
            "type": "bar"
           }
          ],
          "barpolar": [
           {
            "marker": {
             "line": {
              "color": "#E5ECF6",
              "width": 0.5
             },
             "pattern": {
              "fillmode": "overlay",
              "size": 10,
              "solidity": 0.2
             }
            },
            "type": "barpolar"
           }
          ],
          "carpet": [
           {
            "aaxis": {
             "endlinecolor": "#2a3f5f",
             "gridcolor": "white",
             "linecolor": "white",
             "minorgridcolor": "white",
             "startlinecolor": "#2a3f5f"
            },
            "baxis": {
             "endlinecolor": "#2a3f5f",
             "gridcolor": "white",
             "linecolor": "white",
             "minorgridcolor": "white",
             "startlinecolor": "#2a3f5f"
            },
            "type": "carpet"
           }
          ],
          "choropleth": [
           {
            "colorbar": {
             "outlinewidth": 0,
             "ticks": ""
            },
            "type": "choropleth"
           }
          ],
          "contour": [
           {
            "colorbar": {
             "outlinewidth": 0,
             "ticks": ""
            },
            "colorscale": [
             [
              0,
              "#0d0887"
             ],
             [
              0.1111111111111111,
              "#46039f"
             ],
             [
              0.2222222222222222,
              "#7201a8"
             ],
             [
              0.3333333333333333,
              "#9c179e"
             ],
             [
              0.4444444444444444,
              "#bd3786"
             ],
             [
              0.5555555555555556,
              "#d8576b"
             ],
             [
              0.6666666666666666,
              "#ed7953"
             ],
             [
              0.7777777777777778,
              "#fb9f3a"
             ],
             [
              0.8888888888888888,
              "#fdca26"
             ],
             [
              1,
              "#f0f921"
             ]
            ],
            "type": "contour"
           }
          ],
          "contourcarpet": [
           {
            "colorbar": {
             "outlinewidth": 0,
             "ticks": ""
            },
            "type": "contourcarpet"
           }
          ],
          "heatmap": [
           {
            "colorbar": {
             "outlinewidth": 0,
             "ticks": ""
            },
            "colorscale": [
             [
              0,
              "#0d0887"
             ],
             [
              0.1111111111111111,
              "#46039f"
             ],
             [
              0.2222222222222222,
              "#7201a8"
             ],
             [
              0.3333333333333333,
              "#9c179e"
             ],
             [
              0.4444444444444444,
              "#bd3786"
             ],
             [
              0.5555555555555556,
              "#d8576b"
             ],
             [
              0.6666666666666666,
              "#ed7953"
             ],
             [
              0.7777777777777778,
              "#fb9f3a"
             ],
             [
              0.8888888888888888,
              "#fdca26"
             ],
             [
              1,
              "#f0f921"
             ]
            ],
            "type": "heatmap"
           }
          ],
          "heatmapgl": [
           {
            "colorbar": {
             "outlinewidth": 0,
             "ticks": ""
            },
            "colorscale": [
             [
              0,
              "#0d0887"
             ],
             [
              0.1111111111111111,
              "#46039f"
             ],
             [
              0.2222222222222222,
              "#7201a8"
             ],
             [
              0.3333333333333333,
              "#9c179e"
             ],
             [
              0.4444444444444444,
              "#bd3786"
             ],
             [
              0.5555555555555556,
              "#d8576b"
             ],
             [
              0.6666666666666666,
              "#ed7953"
             ],
             [
              0.7777777777777778,
              "#fb9f3a"
             ],
             [
              0.8888888888888888,
              "#fdca26"
             ],
             [
              1,
              "#f0f921"
             ]
            ],
            "type": "heatmapgl"
           }
          ],
          "histogram": [
           {
            "marker": {
             "pattern": {
              "fillmode": "overlay",
              "size": 10,
              "solidity": 0.2
             }
            },
            "type": "histogram"
           }
          ],
          "histogram2d": [
           {
            "colorbar": {
             "outlinewidth": 0,
             "ticks": ""
            },
            "colorscale": [
             [
              0,
              "#0d0887"
             ],
             [
              0.1111111111111111,
              "#46039f"
             ],
             [
              0.2222222222222222,
              "#7201a8"
             ],
             [
              0.3333333333333333,
              "#9c179e"
             ],
             [
              0.4444444444444444,
              "#bd3786"
             ],
             [
              0.5555555555555556,
              "#d8576b"
             ],
             [
              0.6666666666666666,
              "#ed7953"
             ],
             [
              0.7777777777777778,
              "#fb9f3a"
             ],
             [
              0.8888888888888888,
              "#fdca26"
             ],
             [
              1,
              "#f0f921"
             ]
            ],
            "type": "histogram2d"
           }
          ],
          "histogram2dcontour": [
           {
            "colorbar": {
             "outlinewidth": 0,
             "ticks": ""
            },
            "colorscale": [
             [
              0,
              "#0d0887"
             ],
             [
              0.1111111111111111,
              "#46039f"
             ],
             [
              0.2222222222222222,
              "#7201a8"
             ],
             [
              0.3333333333333333,
              "#9c179e"
             ],
             [
              0.4444444444444444,
              "#bd3786"
             ],
             [
              0.5555555555555556,
              "#d8576b"
             ],
             [
              0.6666666666666666,
              "#ed7953"
             ],
             [
              0.7777777777777778,
              "#fb9f3a"
             ],
             [
              0.8888888888888888,
              "#fdca26"
             ],
             [
              1,
              "#f0f921"
             ]
            ],
            "type": "histogram2dcontour"
           }
          ],
          "mesh3d": [
           {
            "colorbar": {
             "outlinewidth": 0,
             "ticks": ""
            },
            "type": "mesh3d"
           }
          ],
          "parcoords": [
           {
            "line": {
             "colorbar": {
              "outlinewidth": 0,
              "ticks": ""
             }
            },
            "type": "parcoords"
           }
          ],
          "pie": [
           {
            "automargin": true,
            "type": "pie"
           }
          ],
          "scatter": [
           {
            "marker": {
             "colorbar": {
              "outlinewidth": 0,
              "ticks": ""
             }
            },
            "type": "scatter"
           }
          ],
          "scatter3d": [
           {
            "line": {
             "colorbar": {
              "outlinewidth": 0,
              "ticks": ""
             }
            },
            "marker": {
             "colorbar": {
              "outlinewidth": 0,
              "ticks": ""
             }
            },
            "type": "scatter3d"
           }
          ],
          "scattercarpet": [
           {
            "marker": {
             "colorbar": {
              "outlinewidth": 0,
              "ticks": ""
             }
            },
            "type": "scattercarpet"
           }
          ],
          "scattergeo": [
           {
            "marker": {
             "colorbar": {
              "outlinewidth": 0,
              "ticks": ""
             }
            },
            "type": "scattergeo"
           }
          ],
          "scattergl": [
           {
            "marker": {
             "colorbar": {
              "outlinewidth": 0,
              "ticks": ""
             }
            },
            "type": "scattergl"
           }
          ],
          "scattermapbox": [
           {
            "marker": {
             "colorbar": {
              "outlinewidth": 0,
              "ticks": ""
             }
            },
            "type": "scattermapbox"
           }
          ],
          "scatterpolar": [
           {
            "marker": {
             "colorbar": {
              "outlinewidth": 0,
              "ticks": ""
             }
            },
            "type": "scatterpolar"
           }
          ],
          "scatterpolargl": [
           {
            "marker": {
             "colorbar": {
              "outlinewidth": 0,
              "ticks": ""
             }
            },
            "type": "scatterpolargl"
           }
          ],
          "scatterternary": [
           {
            "marker": {
             "colorbar": {
              "outlinewidth": 0,
              "ticks": ""
             }
            },
            "type": "scatterternary"
           }
          ],
          "surface": [
           {
            "colorbar": {
             "outlinewidth": 0,
             "ticks": ""
            },
            "colorscale": [
             [
              0,
              "#0d0887"
             ],
             [
              0.1111111111111111,
              "#46039f"
             ],
             [
              0.2222222222222222,
              "#7201a8"
             ],
             [
              0.3333333333333333,
              "#9c179e"
             ],
             [
              0.4444444444444444,
              "#bd3786"
             ],
             [
              0.5555555555555556,
              "#d8576b"
             ],
             [
              0.6666666666666666,
              "#ed7953"
             ],
             [
              0.7777777777777778,
              "#fb9f3a"
             ],
             [
              0.8888888888888888,
              "#fdca26"
             ],
             [
              1,
              "#f0f921"
             ]
            ],
            "type": "surface"
           }
          ],
          "table": [
           {
            "cells": {
             "fill": {
              "color": "#EBF0F8"
             },
             "line": {
              "color": "white"
             }
            },
            "header": {
             "fill": {
              "color": "#C8D4E3"
             },
             "line": {
              "color": "white"
             }
            },
            "type": "table"
           }
          ]
         },
         "layout": {
          "annotationdefaults": {
           "arrowcolor": "#2a3f5f",
           "arrowhead": 0,
           "arrowwidth": 1
          },
          "autotypenumbers": "strict",
          "coloraxis": {
           "colorbar": {
            "outlinewidth": 0,
            "ticks": ""
           }
          },
          "colorscale": {
           "diverging": [
            [
             0,
             "#8e0152"
            ],
            [
             0.1,
             "#c51b7d"
            ],
            [
             0.2,
             "#de77ae"
            ],
            [
             0.3,
             "#f1b6da"
            ],
            [
             0.4,
             "#fde0ef"
            ],
            [
             0.5,
             "#f7f7f7"
            ],
            [
             0.6,
             "#e6f5d0"
            ],
            [
             0.7,
             "#b8e186"
            ],
            [
             0.8,
             "#7fbc41"
            ],
            [
             0.9,
             "#4d9221"
            ],
            [
             1,
             "#276419"
            ]
           ],
           "sequential": [
            [
             0,
             "#0d0887"
            ],
            [
             0.1111111111111111,
             "#46039f"
            ],
            [
             0.2222222222222222,
             "#7201a8"
            ],
            [
             0.3333333333333333,
             "#9c179e"
            ],
            [
             0.4444444444444444,
             "#bd3786"
            ],
            [
             0.5555555555555556,
             "#d8576b"
            ],
            [
             0.6666666666666666,
             "#ed7953"
            ],
            [
             0.7777777777777778,
             "#fb9f3a"
            ],
            [
             0.8888888888888888,
             "#fdca26"
            ],
            [
             1,
             "#f0f921"
            ]
           ],
           "sequentialminus": [
            [
             0,
             "#0d0887"
            ],
            [
             0.1111111111111111,
             "#46039f"
            ],
            [
             0.2222222222222222,
             "#7201a8"
            ],
            [
             0.3333333333333333,
             "#9c179e"
            ],
            [
             0.4444444444444444,
             "#bd3786"
            ],
            [
             0.5555555555555556,
             "#d8576b"
            ],
            [
             0.6666666666666666,
             "#ed7953"
            ],
            [
             0.7777777777777778,
             "#fb9f3a"
            ],
            [
             0.8888888888888888,
             "#fdca26"
            ],
            [
             1,
             "#f0f921"
            ]
           ]
          },
          "colorway": [
           "#636efa",
           "#EF553B",
           "#00cc96",
           "#ab63fa",
           "#FFA15A",
           "#19d3f3",
           "#FF6692",
           "#B6E880",
           "#FF97FF",
           "#FECB52"
          ],
          "font": {
           "color": "#2a3f5f"
          },
          "geo": {
           "bgcolor": "white",
           "lakecolor": "white",
           "landcolor": "#E5ECF6",
           "showlakes": true,
           "showland": true,
           "subunitcolor": "white"
          },
          "hoverlabel": {
           "align": "left"
          },
          "hovermode": "closest",
          "mapbox": {
           "style": "light"
          },
          "paper_bgcolor": "white",
          "plot_bgcolor": "#E5ECF6",
          "polar": {
           "angularaxis": {
            "gridcolor": "white",
            "linecolor": "white",
            "ticks": ""
           },
           "bgcolor": "#E5ECF6",
           "radialaxis": {
            "gridcolor": "white",
            "linecolor": "white",
            "ticks": ""
           }
          },
          "scene": {
           "xaxis": {
            "backgroundcolor": "#E5ECF6",
            "gridcolor": "white",
            "gridwidth": 2,
            "linecolor": "white",
            "showbackground": true,
            "ticks": "",
            "zerolinecolor": "white"
           },
           "yaxis": {
            "backgroundcolor": "#E5ECF6",
            "gridcolor": "white",
            "gridwidth": 2,
            "linecolor": "white",
            "showbackground": true,
            "ticks": "",
            "zerolinecolor": "white"
           },
           "zaxis": {
            "backgroundcolor": "#E5ECF6",
            "gridcolor": "white",
            "gridwidth": 2,
            "linecolor": "white",
            "showbackground": true,
            "ticks": "",
            "zerolinecolor": "white"
           }
          },
          "shapedefaults": {
           "line": {
            "color": "#2a3f5f"
           }
          },
          "ternary": {
           "aaxis": {
            "gridcolor": "white",
            "linecolor": "white",
            "ticks": ""
           },
           "baxis": {
            "gridcolor": "white",
            "linecolor": "white",
            "ticks": ""
           },
           "bgcolor": "#E5ECF6",
           "caxis": {
            "gridcolor": "white",
            "linecolor": "white",
            "ticks": ""
           }
          },
          "title": {
           "x": 0.05
          },
          "xaxis": {
           "automargin": true,
           "gridcolor": "white",
           "linecolor": "white",
           "ticks": "",
           "title": {
            "standoff": 15
           },
           "zerolinecolor": "white",
           "zerolinewidth": 2
          },
          "yaxis": {
           "automargin": true,
           "gridcolor": "white",
           "linecolor": "white",
           "ticks": "",
           "title": {
            "standoff": 15
           },
           "zerolinecolor": "white",
           "zerolinewidth": 2
          }
         }
        },
        "xaxis": {
         "anchor": "y",
         "domain": [
          0,
          1
         ],
         "title": {
          "text": "index"
         }
        },
        "yaxis": {
         "anchor": "x",
         "domain": [
          0,
          1
         ],
         "title": {
          "text": "value"
         }
        }
       }
      },
      "text/html": [
       "<div>                            <div id=\"4acedbce-6ebb-4a5c-8d25-a5d314728e27\" class=\"plotly-graph-div\" style=\"height:525px; width:100%;\"></div>            <script type=\"text/javascript\">                require([\"plotly\"], function(Plotly) {                    window.PLOTLYENV=window.PLOTLYENV || {};                                    if (document.getElementById(\"4acedbce-6ebb-4a5c-8d25-a5d314728e27\")) {                    Plotly.newPlot(                        \"4acedbce-6ebb-4a5c-8d25-a5d314728e27\",                        [{\"hovertemplate\":\"variable=Valores reais<br>index=%{x}<br>value=%{y}<extra></extra>\",\"legendgroup\":\"Valores reais\",\"line\":{\"color\":\"#636efa\",\"dash\":\"solid\"},\"marker\":{\"symbol\":\"circle\"},\"mode\":\"lines\",\"name\":\"Valores reais\",\"orientation\":\"v\",\"showlegend\":true,\"x\":[0,1,2,3,4,5,6,7,8,9,10,11,12,13,14,15,16,17,18,19,20,21,22,23,24,25,26,27,28,29,30,31,32,33,34,35,36,37,38,39,40,41,42,43,44,45,46,47,48,49,50,51,52,53,54,55,56,57,58,59,60,61,62,63,64,65,66,67,68,69,70,71,72,73,74,75,76,77,78,79,80,81,82,83,84,85,86,87,88,89,90,91,92,93,94,95,96,97,98,99,100,101,102,103,104,105,106,107,108,109,110,111,112,113,114,115,116,117,118,119,120,121,122,123,124,125,126,127,128,129,130,131,132,133,134,135,136,137,138,139,140,141,142,143,144,145,146,147,148,149,150,151,152,153,154,155,156,157,158,159,160,161,162,163,164,165,166,167,168,169,170,171,172,173,174,175,176,177,178,179,180,181,182,183,184,185,186,187,188,189,190,191,192,193,194,195,196,197,198,199,200,201,202,203,204,205,206,207,208,209,210,211,212,213,214,215,216,217,218,219,220,221,222,223,224,225,226,227,228,229,230,231,232,233,234,235,236,237,238,239,240,241,242,243,244,245,246,247,248,249,250,251,252,253,254,255,256,257,258,259,260,261,262,263,264,265,266,267,268,269,270,271,272,273,274,275,276,277,278,279,280,281,282,283,284,285,286,287,288,289,290,291,292,293,294,295,296,297,298,299,300,301,302,303,304,305,306,307,308,309,310,311,312,313,314,315,316,317,318,319,320,321],\"xaxis\":\"x\",\"y\":[446905.02,1743000.38,329467.82,520284.79,339976.65,855001.02,424904.95,1865820.81,870971.82,1333347.78,2316495.56,537300.94,443891.64,1133807.03,339407.94,1159089.6,442894.2,506705.36,1887895.07,892133.41,303438.24,869403.63,606755.3,1495536.46,224031.19,556046.12,330063.06,983232.96,900646.9400000001,326469.43,1294769.08,1834737.58,432782.1,1796203.51,1187776.19,696844.36,2076570.84,1361944.94,360617.37,1045722.37,814395.17,1765584.48,818434.49,1466046.67,758182.2,439424.5,248051.53,1402372.09,1639999.47,1601377.41,457883.94,2090838.44,777175.28,1189887.8599999999,926934.5700000001,643125.29,499267.66000000003,2083379.8900000001,1630564.48,340147.2,590453.63,378241.33999999997,517783.5,411116.95,992621.9299999999,282235.73,1056478.65,442074.79,1169831.38,2105301.39,1807545.43,2163510.89,820288.35,2128362.92,1081322.12,1355704.21,513372.17,704344.21,1867403.01,1442873.22,1261964.96,466806.89,2207742.13,655811.9500000001,1061089.56,1484169.74,1357154.71,1353838.39,795859.23,1083811.19,1198709.65,479855.0,1661767.33,1142499.25,1711562.73,1235094.66,1176588.25,1042226.2999999999,1594968.28,1323999.36,1434036.18,529384.3099999999,1378340.18,955506.95,553834.04,323233.8,972663.59,1517029.9,1635984.07,435481.03,272489.41,1306644.25,2614202.3,751167.12,306827.36,2001636.96,1075656.34,1367448.28,434252.14999999997,873450.29,1046068.17,1675562.94,1001790.16,1345167.61,496083.24,988742.08,1265852.43,536144.81,2095769.18,1628868.28,1899959.61,705557.97,2182246.69,224639.76,985594.23,903882.96,1014218.8,284052.77,1874289.79,1514999.17,472330.71,488008.83,713250.08,537064.03,549505.55,570611.23,283248.62,1356689.88,287425.22,465493.15,1230011.95,265003.47,338386.08,2302504.86,528807.45,996147.39,534372.53,1015654.6,855046.95,481119.6,1201059.72,1892775.94,871692.74,1404576.48,504566.27999999997,302881.64,1124537.97,1127859.69,283455.13,337743.26,383550.93,1111797.21,1033543.56,873415.01,1033719.5,1327719.34,1876359.39,372545.32,1953544.76,540922.94,1499727.02,1367320.01,298947.51,693785.85,380376.85,1911559.1,1065108.64,2000940.67,568093.57,404751.25,1935857.58,460331.7,680254.35,534578.78,1107366.06,469787.38,588363.62,1542173.33,329033.66,636193.24,1876788.15,847592.11,876583.98,1557776.1,1052034.74,1140501.03,650102.8,1086421.57,996723.58,1084894.47,1954849.68,488880.26,963382.09,1970340.25,1707298.1400000001,324839.74,400430.78,1352219.79,643603.69,579068.88,1297792.41,1266796.13,1949183.14,1842555.32,1532893.22,2678206.42,994610.43,1511068.07,1270577.01,914500.91,1359770.73,504856.97,260636.71,618877.13,605078.62,658468.27,986922.62,1357036.1,612379.9,1931104.67,1150003.36,1472752.01,2119163.01,1420405.41,1336522.92,1494417.07,423805.22,2283540.3,1852443.78,527117.81,971615.62,410711.99,1027584.51,549967.89,1115138.51,299757.75,438516.53,2227152.16,506273.74,1820723.17,1643690.9,767338.32,453632.76,919229.36,579874.22,1368318.17,1412925.25,537138.58,1061134.3699999999,541216.92,1284185.49,912958.95,462888.13,1115985.81,1344354.41,1641957.44,1259877.19,1724669.75,261837.2,1910092.3699999999,378100.31,1527014.04,918170.5,613042.97,628989.88,1063310.62,1858856.06,1840686.94,478773.05,953533.9500000001,561137.06,919839.19,1206795.74,918335.68,2035244.54,1893447.71,844958.49,384659.85,1939061.41,416913.1,490970.95,2762816.65,1033552.18,1529615.54,1372484.9000000001,1360150.12,1063149.78,1636263.41,1358816.46,1384584.5899999999,433037.66000000003,1413382.76,569105.03,613501.05,1120731.76,921264.52,1113208.57,1046782.52,593128.13,590636.38,2091663.2,1044639.69],\"yaxis\":\"y\",\"type\":\"scatter\"},{\"hovertemplate\":\"variable=Valores previstos<br>index=%{x}<br>value=%{y}<extra></extra>\",\"legendgroup\":\"Valores previstos\",\"line\":{\"color\":\"#EF553B\",\"dash\":\"solid\"},\"marker\":{\"symbol\":\"circle\"},\"mode\":\"lines\",\"name\":\"Valores previstos\",\"orientation\":\"v\",\"showlegend\":true,\"x\":[0,1,2,3,4,5,6,7,8,9,10,11,12,13,14,15,16,17,18,19,20,21,22,23,24,25,26,27,28,29,30,31,32,33,34,35,36,37,38,39,40,41,42,43,44,45,46,47,48,49,50,51,52,53,54,55,56,57,58,59,60,61,62,63,64,65,66,67,68,69,70,71,72,73,74,75,76,77,78,79,80,81,82,83,84,85,86,87,88,89,90,91,92,93,94,95,96,97,98,99,100,101,102,103,104,105,106,107,108,109,110,111,112,113,114,115,116,117,118,119,120,121,122,123,124,125,126,127,128,129,130,131,132,133,134,135,136,137,138,139,140,141,142,143,144,145,146,147,148,149,150,151,152,153,154,155,156,157,158,159,160,161,162,163,164,165,166,167,168,169,170,171,172,173,174,175,176,177,178,179,180,181,182,183,184,185,186,187,188,189,190,191,192,193,194,195,196,197,198,199,200,201,202,203,204,205,206,207,208,209,210,211,212,213,214,215,216,217,218,219,220,221,222,223,224,225,226,227,228,229,230,231,232,233,234,235,236,237,238,239,240,241,242,243,244,245,246,247,248,249,250,251,252,253,254,255,256,257,258,259,260,261,262,263,264,265,266,267,268,269,270,271,272,273,274,275,276,277,278,279,280,281,282,283,284,285,286,287,288,289,290,291,292,293,294,295,296,297,298,299,300,301,302,303,304,305,306,307,308,309,310,311,312,313,314,315,316,317,318,319,320,321],\"xaxis\":\"x\",\"y\":[1068223.68,503295.29,558343.57,972741.65,814044.43,445134.15,1144531.12,523427.35,839296.88,1121476.51,1297535.69,1358814.05,1020108.17,238084.08,506973.17,1865502.46,2213518.5,991969.37,674563.4,1413124.11,1986445.65,1912829.76,706206.86,1274790.96,249134.32,1931406.28,2100489.79,739812.05,944594.78,1284855.26,2031852.16,674283.86,1046906.16,1018664.72,1293857.79,366473.97,747468.59,1197019.39,875438.44,1642970.27,1501615.99,1175347.51,1110937.21,869027.82,1724548.36,1157635.24,657241.63,1311965.09,1325668.78,1148945.74,981232.12,551221.21,964729.18,1175003.67,653471.27,747468.59,1334296.07,264214.12,1239248.81,1216159.09,679706.01,821029.84,1919053.21,1248873.24,2097809.4,875789.77,1085891.23,698536.06,964356.74,804105.49,1236398.54,967310.82,1353205.75,713932.15,755479.07,1298775.8,661163.94,1523420.38,588448.21,1731121.54,781267.76,1010711.08,800819.79,1458287.38,709337.11,1991909.98,904077.66,1358589.62,1448232.57,981149.23,1088025.8,746321.29,1368312.45,1025813.8,1534871.71,971320.0,1284855.26,1197019.39,1343565.74,1175347.51,981311.27,854653.89,1252918.9,1527455.19,1244080.18,1140636.27,1427023.45,659902.07,793045.82,1157129.78,534738.43,463977.54,838291.3,861184.05,755727.83,506737.31,2238573.48,814044.43,1253318.72,1706779.59,983619.54,579499.93,3766687.43,1235775.15,513409.67,934727.75,573677.97,558981.45,327389.51,1114719.08,1177393.75,647029.28,1108223.87,477224.78,834450.52,2107285.85,312161.0,1033950.03,1230613.5,577198.97,749597.24,1526636.12,1660587.75,995616.18,520850.71,1127534.94,1465089.85,1465283.29,451327.61,990152.28,1064277.3,824494.89,2037663.71,1138800.32,308389.82,1204807.83,1000809.46,1275146.94,1090202.01,981978.02,797377.35,1198104.22,751885.6,520962.14,1461107.73,1256262.4,1762539.3,527184.31,1136998.02,1118981.61,950214.41,591262.12,650263.95,1334296.07,1936878.46,618874.62,751885.6,816265.96,959030.28,993484.44,1456997.2,506564.22,435157.59,907655.59,261851.74,1282137.26,503318.23,1559889.0,1761506.68,511327.9,423767.29,359310.65,1302341.52,844752.35,814044.43,1114546.8,1654001.91,691419.95,1416720.54,1769296.25,624161.78,1109721.96,759979.37,1408082.96,748160.28,1524059.4,557166.35,887486.92,493506.47,1182733.0,526641.23,435300.51,2309025.16,288247.24,944654.14,2119438.53,844752.35,1547654.98,1308943.59,1105619.17,224294.39,1080231.34,1178641.71,1413124.11,1107205.42,1045124.88,1513646.64,868616.2,467827.75,768070.53,359310.65,1049854.59,1066566.74,953527.49,578209.63,1205662.85,1503742.96,927122.4,1308943.59,714014.73,931939.52,831570.78,1268766.76,1680693.06,460149.63,623258.4,1493566.6,989740.09,877820.38,746321.29,1461792.94,1252918.9,1189241.4,1178905.44,1259414.52,1588940.49,1343773.94,906028.19,352960.64,1201821.62,1309340.16,957765.29,770228.02,1881337.21,1167621.14,800714.0,832815.08,558464.8,1002663.95,859353.02,1301185.28,596325.52,923779.33,1302499.23,749597.24,838000.43,467827.75,916908.16,739747.68,1486354.18,950214.41,558143.53,1305575.9,740957.56,951626.75,757235.22,846833.78,660981.44,933528.39,616345.25,2168041.61,814753.5,877910.02,1069295.27,1126955.57,791835.37,859353.02,968428.93,813562.39,952542.17,965998.97,1179738.5,1446618.5,1141019.11,947552.44,770228.02,935075.95,582353.17,1320689.77,1177393.75,935600.09,551152.15,1416479.82,1516924.23,959770.12,1050027.89,1066778.29,1061089.82,889460.65,1795152.73,1033950.03,444718.68],\"yaxis\":\"y\",\"type\":\"scatter\"}],                        {\"template\":{\"data\":{\"bar\":[{\"error_x\":{\"color\":\"#2a3f5f\"},\"error_y\":{\"color\":\"#2a3f5f\"},\"marker\":{\"line\":{\"color\":\"#E5ECF6\",\"width\":0.5},\"pattern\":{\"fillmode\":\"overlay\",\"size\":10,\"solidity\":0.2}},\"type\":\"bar\"}],\"barpolar\":[{\"marker\":{\"line\":{\"color\":\"#E5ECF6\",\"width\":0.5},\"pattern\":{\"fillmode\":\"overlay\",\"size\":10,\"solidity\":0.2}},\"type\":\"barpolar\"}],\"carpet\":[{\"aaxis\":{\"endlinecolor\":\"#2a3f5f\",\"gridcolor\":\"white\",\"linecolor\":\"white\",\"minorgridcolor\":\"white\",\"startlinecolor\":\"#2a3f5f\"},\"baxis\":{\"endlinecolor\":\"#2a3f5f\",\"gridcolor\":\"white\",\"linecolor\":\"white\",\"minorgridcolor\":\"white\",\"startlinecolor\":\"#2a3f5f\"},\"type\":\"carpet\"}],\"choropleth\":[{\"colorbar\":{\"outlinewidth\":0,\"ticks\":\"\"},\"type\":\"choropleth\"}],\"contour\":[{\"colorbar\":{\"outlinewidth\":0,\"ticks\":\"\"},\"colorscale\":[[0.0,\"#0d0887\"],[0.1111111111111111,\"#46039f\"],[0.2222222222222222,\"#7201a8\"],[0.3333333333333333,\"#9c179e\"],[0.4444444444444444,\"#bd3786\"],[0.5555555555555556,\"#d8576b\"],[0.6666666666666666,\"#ed7953\"],[0.7777777777777778,\"#fb9f3a\"],[0.8888888888888888,\"#fdca26\"],[1.0,\"#f0f921\"]],\"type\":\"contour\"}],\"contourcarpet\":[{\"colorbar\":{\"outlinewidth\":0,\"ticks\":\"\"},\"type\":\"contourcarpet\"}],\"heatmap\":[{\"colorbar\":{\"outlinewidth\":0,\"ticks\":\"\"},\"colorscale\":[[0.0,\"#0d0887\"],[0.1111111111111111,\"#46039f\"],[0.2222222222222222,\"#7201a8\"],[0.3333333333333333,\"#9c179e\"],[0.4444444444444444,\"#bd3786\"],[0.5555555555555556,\"#d8576b\"],[0.6666666666666666,\"#ed7953\"],[0.7777777777777778,\"#fb9f3a\"],[0.8888888888888888,\"#fdca26\"],[1.0,\"#f0f921\"]],\"type\":\"heatmap\"}],\"heatmapgl\":[{\"colorbar\":{\"outlinewidth\":0,\"ticks\":\"\"},\"colorscale\":[[0.0,\"#0d0887\"],[0.1111111111111111,\"#46039f\"],[0.2222222222222222,\"#7201a8\"],[0.3333333333333333,\"#9c179e\"],[0.4444444444444444,\"#bd3786\"],[0.5555555555555556,\"#d8576b\"],[0.6666666666666666,\"#ed7953\"],[0.7777777777777778,\"#fb9f3a\"],[0.8888888888888888,\"#fdca26\"],[1.0,\"#f0f921\"]],\"type\":\"heatmapgl\"}],\"histogram\":[{\"marker\":{\"pattern\":{\"fillmode\":\"overlay\",\"size\":10,\"solidity\":0.2}},\"type\":\"histogram\"}],\"histogram2d\":[{\"colorbar\":{\"outlinewidth\":0,\"ticks\":\"\"},\"colorscale\":[[0.0,\"#0d0887\"],[0.1111111111111111,\"#46039f\"],[0.2222222222222222,\"#7201a8\"],[0.3333333333333333,\"#9c179e\"],[0.4444444444444444,\"#bd3786\"],[0.5555555555555556,\"#d8576b\"],[0.6666666666666666,\"#ed7953\"],[0.7777777777777778,\"#fb9f3a\"],[0.8888888888888888,\"#fdca26\"],[1.0,\"#f0f921\"]],\"type\":\"histogram2d\"}],\"histogram2dcontour\":[{\"colorbar\":{\"outlinewidth\":0,\"ticks\":\"\"},\"colorscale\":[[0.0,\"#0d0887\"],[0.1111111111111111,\"#46039f\"],[0.2222222222222222,\"#7201a8\"],[0.3333333333333333,\"#9c179e\"],[0.4444444444444444,\"#bd3786\"],[0.5555555555555556,\"#d8576b\"],[0.6666666666666666,\"#ed7953\"],[0.7777777777777778,\"#fb9f3a\"],[0.8888888888888888,\"#fdca26\"],[1.0,\"#f0f921\"]],\"type\":\"histogram2dcontour\"}],\"mesh3d\":[{\"colorbar\":{\"outlinewidth\":0,\"ticks\":\"\"},\"type\":\"mesh3d\"}],\"parcoords\":[{\"line\":{\"colorbar\":{\"outlinewidth\":0,\"ticks\":\"\"}},\"type\":\"parcoords\"}],\"pie\":[{\"automargin\":true,\"type\":\"pie\"}],\"scatter\":[{\"marker\":{\"colorbar\":{\"outlinewidth\":0,\"ticks\":\"\"}},\"type\":\"scatter\"}],\"scatter3d\":[{\"line\":{\"colorbar\":{\"outlinewidth\":0,\"ticks\":\"\"}},\"marker\":{\"colorbar\":{\"outlinewidth\":0,\"ticks\":\"\"}},\"type\":\"scatter3d\"}],\"scattercarpet\":[{\"marker\":{\"colorbar\":{\"outlinewidth\":0,\"ticks\":\"\"}},\"type\":\"scattercarpet\"}],\"scattergeo\":[{\"marker\":{\"colorbar\":{\"outlinewidth\":0,\"ticks\":\"\"}},\"type\":\"scattergeo\"}],\"scattergl\":[{\"marker\":{\"colorbar\":{\"outlinewidth\":0,\"ticks\":\"\"}},\"type\":\"scattergl\"}],\"scattermapbox\":[{\"marker\":{\"colorbar\":{\"outlinewidth\":0,\"ticks\":\"\"}},\"type\":\"scattermapbox\"}],\"scatterpolar\":[{\"marker\":{\"colorbar\":{\"outlinewidth\":0,\"ticks\":\"\"}},\"type\":\"scatterpolar\"}],\"scatterpolargl\":[{\"marker\":{\"colorbar\":{\"outlinewidth\":0,\"ticks\":\"\"}},\"type\":\"scatterpolargl\"}],\"scatterternary\":[{\"marker\":{\"colorbar\":{\"outlinewidth\":0,\"ticks\":\"\"}},\"type\":\"scatterternary\"}],\"surface\":[{\"colorbar\":{\"outlinewidth\":0,\"ticks\":\"\"},\"colorscale\":[[0.0,\"#0d0887\"],[0.1111111111111111,\"#46039f\"],[0.2222222222222222,\"#7201a8\"],[0.3333333333333333,\"#9c179e\"],[0.4444444444444444,\"#bd3786\"],[0.5555555555555556,\"#d8576b\"],[0.6666666666666666,\"#ed7953\"],[0.7777777777777778,\"#fb9f3a\"],[0.8888888888888888,\"#fdca26\"],[1.0,\"#f0f921\"]],\"type\":\"surface\"}],\"table\":[{\"cells\":{\"fill\":{\"color\":\"#EBF0F8\"},\"line\":{\"color\":\"white\"}},\"header\":{\"fill\":{\"color\":\"#C8D4E3\"},\"line\":{\"color\":\"white\"}},\"type\":\"table\"}]},\"layout\":{\"annotationdefaults\":{\"arrowcolor\":\"#2a3f5f\",\"arrowhead\":0,\"arrowwidth\":1},\"autotypenumbers\":\"strict\",\"coloraxis\":{\"colorbar\":{\"outlinewidth\":0,\"ticks\":\"\"}},\"colorscale\":{\"diverging\":[[0,\"#8e0152\"],[0.1,\"#c51b7d\"],[0.2,\"#de77ae\"],[0.3,\"#f1b6da\"],[0.4,\"#fde0ef\"],[0.5,\"#f7f7f7\"],[0.6,\"#e6f5d0\"],[0.7,\"#b8e186\"],[0.8,\"#7fbc41\"],[0.9,\"#4d9221\"],[1,\"#276419\"]],\"sequential\":[[0.0,\"#0d0887\"],[0.1111111111111111,\"#46039f\"],[0.2222222222222222,\"#7201a8\"],[0.3333333333333333,\"#9c179e\"],[0.4444444444444444,\"#bd3786\"],[0.5555555555555556,\"#d8576b\"],[0.6666666666666666,\"#ed7953\"],[0.7777777777777778,\"#fb9f3a\"],[0.8888888888888888,\"#fdca26\"],[1.0,\"#f0f921\"]],\"sequentialminus\":[[0.0,\"#0d0887\"],[0.1111111111111111,\"#46039f\"],[0.2222222222222222,\"#7201a8\"],[0.3333333333333333,\"#9c179e\"],[0.4444444444444444,\"#bd3786\"],[0.5555555555555556,\"#d8576b\"],[0.6666666666666666,\"#ed7953\"],[0.7777777777777778,\"#fb9f3a\"],[0.8888888888888888,\"#fdca26\"],[1.0,\"#f0f921\"]]},\"colorway\":[\"#636efa\",\"#EF553B\",\"#00cc96\",\"#ab63fa\",\"#FFA15A\",\"#19d3f3\",\"#FF6692\",\"#B6E880\",\"#FF97FF\",\"#FECB52\"],\"font\":{\"color\":\"#2a3f5f\"},\"geo\":{\"bgcolor\":\"white\",\"lakecolor\":\"white\",\"landcolor\":\"#E5ECF6\",\"showlakes\":true,\"showland\":true,\"subunitcolor\":\"white\"},\"hoverlabel\":{\"align\":\"left\"},\"hovermode\":\"closest\",\"mapbox\":{\"style\":\"light\"},\"paper_bgcolor\":\"white\",\"plot_bgcolor\":\"#E5ECF6\",\"polar\":{\"angularaxis\":{\"gridcolor\":\"white\",\"linecolor\":\"white\",\"ticks\":\"\"},\"bgcolor\":\"#E5ECF6\",\"radialaxis\":{\"gridcolor\":\"white\",\"linecolor\":\"white\",\"ticks\":\"\"}},\"scene\":{\"xaxis\":{\"backgroundcolor\":\"#E5ECF6\",\"gridcolor\":\"white\",\"gridwidth\":2,\"linecolor\":\"white\",\"showbackground\":true,\"ticks\":\"\",\"zerolinecolor\":\"white\"},\"yaxis\":{\"backgroundcolor\":\"#E5ECF6\",\"gridcolor\":\"white\",\"gridwidth\":2,\"linecolor\":\"white\",\"showbackground\":true,\"ticks\":\"\",\"zerolinecolor\":\"white\"},\"zaxis\":{\"backgroundcolor\":\"#E5ECF6\",\"gridcolor\":\"white\",\"gridwidth\":2,\"linecolor\":\"white\",\"showbackground\":true,\"ticks\":\"\",\"zerolinecolor\":\"white\"}},\"shapedefaults\":{\"line\":{\"color\":\"#2a3f5f\"}},\"ternary\":{\"aaxis\":{\"gridcolor\":\"white\",\"linecolor\":\"white\",\"ticks\":\"\"},\"baxis\":{\"gridcolor\":\"white\",\"linecolor\":\"white\",\"ticks\":\"\"},\"bgcolor\":\"#E5ECF6\",\"caxis\":{\"gridcolor\":\"white\",\"linecolor\":\"white\",\"ticks\":\"\"}},\"title\":{\"x\":0.05},\"xaxis\":{\"automargin\":true,\"gridcolor\":\"white\",\"linecolor\":\"white\",\"ticks\":\"\",\"title\":{\"standoff\":15},\"zerolinecolor\":\"white\",\"zerolinewidth\":2},\"yaxis\":{\"automargin\":true,\"gridcolor\":\"white\",\"linecolor\":\"white\",\"ticks\":\"\",\"title\":{\"standoff\":15},\"zerolinecolor\":\"white\",\"zerolinewidth\":2}}},\"xaxis\":{\"anchor\":\"y\",\"domain\":[0.0,1.0],\"title\":{\"text\":\"index\"}},\"yaxis\":{\"anchor\":\"x\",\"domain\":[0.0,1.0],\"title\":{\"text\":\"value\"}},\"legend\":{\"title\":{\"text\":\"variable\"},\"tracegroupgap\":0},\"margin\":{\"t\":60}},                        {\"responsive\": true}                    ).then(function(){\n",
       "                            \n",
       "var gd = document.getElementById('4acedbce-6ebb-4a5c-8d25-a5d314728e27');\n",
       "var x = new MutationObserver(function (mutations, observer) {{\n",
       "        var display = window.getComputedStyle(gd).display;\n",
       "        if (!display || display === 'none') {{\n",
       "            console.log([gd, 'removed!']);\n",
       "            Plotly.purge(gd);\n",
       "            observer.disconnect();\n",
       "        }}\n",
       "}});\n",
       "\n",
       "// Listen for the removal of the full notebook cells\n",
       "var notebookContainer = gd.closest('#notebook-container');\n",
       "if (notebookContainer) {{\n",
       "    x.observe(notebookContainer, {childList: true});\n",
       "}}\n",
       "\n",
       "// Listen for the clearing of the current output cell\n",
       "var outputEl = gd.closest('.output');\n",
       "if (outputEl) {{\n",
       "    x.observe(outputEl, {childList: true});\n",
       "}}\n",
       "\n",
       "                        })                };                });            </script>        </div>"
      ]
     },
     "metadata": {},
     "output_type": "display_data"
    }
   ],
   "source": [
    "# Montagem de um outro gráfico de linha \n",
    "\n",
    "fig = px.line(comp, y = [\"Valores reais\", \"Valores previstos\"])\n",
    "fig.show()"
   ]
  },
  {
   "cell_type": "markdown",
   "metadata": {},
   "source": [
    " Os gráficos nos indicam que o modelo não é adequado para nossa previsão"
   ]
  },
  {
   "cell_type": "code",
   "execution_count": 289,
   "metadata": {},
   "outputs": [
    {
     "name": "stdout",
     "output_type": "stream",
     "text": [
      "Coeficiente R²: -0.7638\n",
      "EMA:605855.12\n",
      "EQM:569237030172.59\n",
      "REQM:754477.99\n"
     ]
    }
   ],
   "source": [
    "# Cálculo de R^2, medida de quão bem a linha de regressão se ajusta aos dados. Varia de 0 a 1, sendo 1 o ajuste perfeito.\n",
    "# Cálculo do Erro Médio Absoluto, o valor médio absoluto da diferença entre os valores previstos e os valores reais\n",
    "# Cálculo do Erro Quadrático Médio, a média dos quadrados dos erros\n",
    "# Cálculo da raiz do Erro Quadrático Médio, que mede o mesmo que o EQM, mas na mesma unidade de medida que os valores trabalhados\n",
    "\n",
    "from sklearn.metrics import r2_score, mean_absolute_error, mean_squared_error\n",
    "\n",
    "# cálculo do coeficiente R²\n",
    "r2 = r2_score(y_test, y_pred)\n",
    "\n",
    "# cálculo do erro médio absoluto (EMA)\n",
    "ema = mean_absolute_error(y_test, y_pred)\n",
    "\n",
    "# cálculo do erro quadrático médio (EQM)\n",
    "eqm = mean_squared_error(y_test, y_pred)\n",
    "\n",
    "# cálculo da raiz do erro quadrático médio (REQM)\n",
    "reqm = np.sqrt(eqm)\n",
    "\n",
    "print('Coeficiente R²: {:.4f}'.format(r2))\n",
    "print('EMA:{:.2f}'.format(ema))\n",
    "print('EQM:{:.2f}'.format(eqm))\n",
    "print('REQM:{:.2f}'.format(reqm))"
   ]
  },
  {
   "cell_type": "markdown",
   "metadata": {},
   "source": [
    "#### Analisando as medidas, avaliamos que o modelo é inadequado para nossa análise. O R^2 é negativo, ou seja, a linha de regressão está totalmente discondizente com o desejado, o que também podemos observar no gráfico obtido acima. O Erro Médio Absoluto e o Erro Quadrático Médio nos dizem que os erros estão altos, o que também nos leva a rejeitar a previsão obtida. Isso significa que pelo nosso modelo não encontramos uma correlação entre temperatura e nível de vendas."
   ]
  },
  {
   "cell_type": "markdown",
   "metadata": {},
   "source": [
    "<a class=\"anchor\" id=\"section_4_1_2\"></a>\n",
    "### Vendas x Lojas\n",
    "    Agora usaremos a mesma técnica porém alterando a variável independente para Store, ou seja, prever as vendas em função da loja, que varia de 1 a 45. Diferenciaremos as variáveis do modelo Vendas x Temperatura adicionando um '1' na frente delas"
   ]
  },
  {
   "cell_type": "code",
   "execution_count": 291,
   "metadata": {},
   "outputs": [],
   "source": [
    "# criaremos uma série para cada variável desejada: a variável dependente será Y e a independente X\n",
    "\n",
    "X1 = df['Store'].values\n",
    "y1 = df['Weekly_Sales'].values"
   ]
  },
  {
   "cell_type": "code",
   "execution_count": 292,
   "metadata": {},
   "outputs": [],
   "source": [
    "# Dividiremos cada série em duas: training e test. Uma será utilizada para treinar o modelo com seus dados, e a outra servirá para\n",
    "# ser comparada com os resultados fornecidos pelo nosso modelo de previsão. Usaremos 5% (322 linhas) do df como teste.\n",
    "# Importaremos a função train_test_split para fazermos isso\n",
    "\n",
    "X1_train, X1_test, y1_train, y1_test = train_test_split(X1, y1, test_size = 0.05)"
   ]
  },
  {
   "cell_type": "code",
   "execution_count": 293,
   "metadata": {},
   "outputs": [
    {
     "data": {
      "text/plain": [
       "DecisionTreeRegressor()"
      ]
     },
     "execution_count": 293,
     "metadata": {},
     "output_type": "execute_result"
    }
   ],
   "source": [
    "# Treinando nosso conjunto de dados no modelo\n",
    "\n",
    "regressor1 = DecisionTreeRegressor()\n",
    "regressor1.fit(X1_train.reshape(-1,1), y1_train.reshape(-1,1))"
   ]
  },
  {
   "cell_type": "code",
   "execution_count": 294,
   "metadata": {},
   "outputs": [],
   "source": [
    "# Fornecimento da previsão da variável dependente (vendas semanais)\n",
    "\n",
    "y1_pred = regressor.predict(X1_test.reshape(-1,1))"
   ]
  },
  {
   "cell_type": "code",
   "execution_count": 295,
   "metadata": {},
   "outputs": [
    {
     "data": {
      "text/html": [
       "<div>\n",
       "<style scoped>\n",
       "    .dataframe tbody tr th:only-of-type {\n",
       "        vertical-align: middle;\n",
       "    }\n",
       "\n",
       "    .dataframe tbody tr th {\n",
       "        vertical-align: top;\n",
       "    }\n",
       "\n",
       "    .dataframe thead th {\n",
       "        text-align: right;\n",
       "    }\n",
       "</style>\n",
       "<table border=\"1\" class=\"dataframe\">\n",
       "  <thead>\n",
       "    <tr style=\"text-align: right;\">\n",
       "      <th></th>\n",
       "      <th>Valores reais</th>\n",
       "      <th>Valores previstos</th>\n",
       "    </tr>\n",
       "  </thead>\n",
       "  <tbody>\n",
       "    <tr>\n",
       "      <th>0</th>\n",
       "      <td>938861.77</td>\n",
       "      <td>913755.120</td>\n",
       "    </tr>\n",
       "    <tr>\n",
       "      <th>1</th>\n",
       "      <td>303438.24</td>\n",
       "      <td>609736.120</td>\n",
       "    </tr>\n",
       "    <tr>\n",
       "      <th>2</th>\n",
       "      <td>655318.26</td>\n",
       "      <td>1010711.080</td>\n",
       "    </tr>\n",
       "    <tr>\n",
       "      <th>3</th>\n",
       "      <td>1336522.92</td>\n",
       "      <td>1083657.610</td>\n",
       "    </tr>\n",
       "    <tr>\n",
       "      <th>4</th>\n",
       "      <td>559285.35</td>\n",
       "      <td>1104858.215</td>\n",
       "    </tr>\n",
       "    <tr>\n",
       "      <th>...</th>\n",
       "      <td>...</td>\n",
       "      <td>...</td>\n",
       "    </tr>\n",
       "    <tr>\n",
       "      <th>317</th>\n",
       "      <td>1550229.22</td>\n",
       "      <td>558027.770</td>\n",
       "    </tr>\n",
       "    <tr>\n",
       "      <th>318</th>\n",
       "      <td>958487.75</td>\n",
       "      <td>960645.830</td>\n",
       "    </tr>\n",
       "    <tr>\n",
       "      <th>319</th>\n",
       "      <td>1744879.06</td>\n",
       "      <td>1365546.690</td>\n",
       "    </tr>\n",
       "    <tr>\n",
       "      <th>320</th>\n",
       "      <td>713117.66</td>\n",
       "      <td>593875.460</td>\n",
       "    </tr>\n",
       "    <tr>\n",
       "      <th>321</th>\n",
       "      <td>940405.03</td>\n",
       "      <td>659950.360</td>\n",
       "    </tr>\n",
       "  </tbody>\n",
       "</table>\n",
       "<p>322 rows × 2 columns</p>\n",
       "</div>"
      ],
      "text/plain": [
       "     Valores reais  Valores previstos\n",
       "0        938861.77         913755.120\n",
       "1        303438.24         609736.120\n",
       "2        655318.26        1010711.080\n",
       "3       1336522.92        1083657.610\n",
       "4        559285.35        1104858.215\n",
       "..             ...                ...\n",
       "317     1550229.22         558027.770\n",
       "318      958487.75         960645.830\n",
       "319     1744879.06        1365546.690\n",
       "320      713117.66         593875.460\n",
       "321      940405.03         659950.360\n",
       "\n",
       "[322 rows x 2 columns]"
      ]
     },
     "execution_count": 295,
     "metadata": {},
     "output_type": "execute_result"
    }
   ],
   "source": [
    "# Comparação dos valores previstos com os valores reais\n",
    "\n",
    "comp1 = pd.DataFrame({'Valores reais':y1_test.reshape(-1), 'Valores previstos':y1_pred.reshape(-1)})\n",
    "comp1"
   ]
  },
  {
   "cell_type": "markdown",
   "metadata": {},
   "source": [
    "<a class=\"anchor\" id=\"section_4_1_1_2\"></a>\n",
    "### Medidas de avaliação do modelo Vendas x Lojas"
   ]
  },
  {
   "cell_type": "code",
   "execution_count": 296,
   "metadata": {},
   "outputs": [
    {
     "data": {
      "text/html": [
       "<div>\n",
       "<style scoped>\n",
       "    .dataframe tbody tr th:only-of-type {\n",
       "        vertical-align: middle;\n",
       "    }\n",
       "\n",
       "    .dataframe tbody tr th {\n",
       "        vertical-align: top;\n",
       "    }\n",
       "\n",
       "    .dataframe thead th {\n",
       "        text-align: right;\n",
       "    }\n",
       "</style>\n",
       "<table border=\"1\" class=\"dataframe\">\n",
       "  <thead>\n",
       "    <tr style=\"text-align: right;\">\n",
       "      <th></th>\n",
       "      <th>Valores reais</th>\n",
       "      <th>Valores previstos</th>\n",
       "      <th>dif</th>\n",
       "    </tr>\n",
       "  </thead>\n",
       "  <tbody>\n",
       "    <tr>\n",
       "      <th>0</th>\n",
       "      <td>938861.77</td>\n",
       "      <td>913755.120</td>\n",
       "      <td>-25106.650</td>\n",
       "    </tr>\n",
       "    <tr>\n",
       "      <th>1</th>\n",
       "      <td>303438.24</td>\n",
       "      <td>609736.120</td>\n",
       "      <td>306297.880</td>\n",
       "    </tr>\n",
       "    <tr>\n",
       "      <th>2</th>\n",
       "      <td>655318.26</td>\n",
       "      <td>1010711.080</td>\n",
       "      <td>355392.820</td>\n",
       "    </tr>\n",
       "    <tr>\n",
       "      <th>3</th>\n",
       "      <td>1336522.92</td>\n",
       "      <td>1083657.610</td>\n",
       "      <td>-252865.310</td>\n",
       "    </tr>\n",
       "    <tr>\n",
       "      <th>4</th>\n",
       "      <td>559285.35</td>\n",
       "      <td>1104858.215</td>\n",
       "      <td>545572.865</td>\n",
       "    </tr>\n",
       "    <tr>\n",
       "      <th>...</th>\n",
       "      <td>...</td>\n",
       "      <td>...</td>\n",
       "      <td>...</td>\n",
       "    </tr>\n",
       "    <tr>\n",
       "      <th>317</th>\n",
       "      <td>1550229.22</td>\n",
       "      <td>558027.770</td>\n",
       "      <td>-992201.450</td>\n",
       "    </tr>\n",
       "    <tr>\n",
       "      <th>318</th>\n",
       "      <td>958487.75</td>\n",
       "      <td>960645.830</td>\n",
       "      <td>2158.080</td>\n",
       "    </tr>\n",
       "    <tr>\n",
       "      <th>319</th>\n",
       "      <td>1744879.06</td>\n",
       "      <td>1365546.690</td>\n",
       "      <td>-379332.370</td>\n",
       "    </tr>\n",
       "    <tr>\n",
       "      <th>320</th>\n",
       "      <td>713117.66</td>\n",
       "      <td>593875.460</td>\n",
       "      <td>-119242.200</td>\n",
       "    </tr>\n",
       "    <tr>\n",
       "      <th>321</th>\n",
       "      <td>940405.03</td>\n",
       "      <td>659950.360</td>\n",
       "      <td>-280454.670</td>\n",
       "    </tr>\n",
       "  </tbody>\n",
       "</table>\n",
       "<p>322 rows × 3 columns</p>\n",
       "</div>"
      ],
      "text/plain": [
       "     Valores reais  Valores previstos         dif\n",
       "0        938861.77         913755.120  -25106.650\n",
       "1        303438.24         609736.120  306297.880\n",
       "2        655318.26        1010711.080  355392.820\n",
       "3       1336522.92        1083657.610 -252865.310\n",
       "4        559285.35        1104858.215  545572.865\n",
       "..             ...                ...         ...\n",
       "317     1550229.22         558027.770 -992201.450\n",
       "318      958487.75         960645.830    2158.080\n",
       "319     1744879.06        1365546.690 -379332.370\n",
       "320      713117.66         593875.460 -119242.200\n",
       "321      940405.03         659950.360 -280454.670\n",
       "\n",
       "[322 rows x 3 columns]"
      ]
     },
     "execution_count": 296,
     "metadata": {},
     "output_type": "execute_result"
    }
   ],
   "source": [
    "# Criaremos uma coluna com a diferença entre o valor previsto e o valor real \n",
    "\n",
    "comp1['dif'] = comp1['Valores previstos'] - comp1['Valores reais']\n",
    "comp1"
   ]
  },
  {
   "cell_type": "code",
   "execution_count": 297,
   "metadata": {},
   "outputs": [
    {
     "data": {
      "text/plain": [
       "-108480.55933488607"
      ]
     },
     "execution_count": 297,
     "metadata": {},
     "output_type": "execute_result"
    }
   ],
   "source": [
    "# média da soma das diferenças\n",
    "\n",
    "comp1['dif'].mean()"
   ]
  },
  {
   "cell_type": "code",
   "execution_count": 299,
   "metadata": {},
   "outputs": [
    {
     "data": {
      "image/png": "[encoded data removed]",
      "text/plain": [
       "<Figure size 432x288 with 1 Axes>"
      ]
     },
     "metadata": {
      "needs_background": "light"
     },
     "output_type": "display_data"
    },
    {
     "data": {
      "image/png": "[encoded data removed]",
      "text/plain": [
       "<Figure size 432x288 with 1 Axes>"
      ]
     },
     "metadata": {
      "needs_background": "light"
     },
     "output_type": "display_data"
    }
   ],
   "source": [
    "# Montagem de dois gráficos que mostram a relação entre as variáveis, um de dispersão e outro de linha\n",
    "\n",
    "# gráfico de dispersão\n",
    "\n",
    "X1_grid = np.arange(min(X), max(X), 0.01)\n",
    "X1_grid = X1_grid.reshape((len(X1_grid), 1))\n",
    "plt.scatter(X1_test, y1_test, color = 'red')\n",
    "plt.scatter(X1_test, y1_pred, color = 'green')\n",
    "plt.title('Decision Tree Regression')\n",
    "plt.xlabel('Store')\n",
    "plt.ylabel('Weekly_Sales')\n",
    "plt.show()\n",
    "\n",
    "# gráfico de linhas\n",
    "\n",
    "plt.plot(X1_grid, regressor.predict(X1_grid), color = 'gray')\n",
    "plt.title('Decision Tree Regression')\n",
    "plt.xlabel('Store')\n",
    "plt.ylabel('Weekly_Sales')\n",
    "plt.show()"
   ]
  },
  {
   "cell_type": "code",
   "execution_count": 311,
   "metadata": {},
   "outputs": [
    {
     "data": {
      "application/vnd.plotly.v1+json": {
       "config": {
        "plotlyServerURL": "https://plot.ly"
       },
       "data": [
        {
         "hovertemplate": "variable=Valores reais<br>index=%{x}<br>value=%{y}<extra></extra>",
         "legendgroup": "Valores reais",
         "line": {
          "color": "#636efa",
          "dash": "solid"
         },
         "marker": {
          "symbol": "circle"
         },
         "mode": "lines",
         "name": "Valores reais",
         "orientation": "v",
         "showlegend": true,
         "type": "scatter",
         "x": [
          0,
          1,
          2,
          3,
          4,
          5,
          6,
          7,
          8,
          9,
          10,
          11,
          12,
          13,
          14,
          15,
          16,
          17,
          18,
          19,
          20,
          21,
          22,
          23,
          24,
          25,
          26,
          27,
          28,
          29,
          30,
          31,
          32,
          33,
          34,
          35,
          36,
          37,
          38,
          39,
          40,
          41,
          42,
          43,
          44,
          45,
          46,
          47,
          48,
          49,
          50,
          51,
          52,
          53,
          54,
          55,
          56,
          57,
          58,
          59,
          60,
          61,
          62,
          63,
          64,
          65,
          66,
          67,
          68,
          69,
          70,
          71,
          72,
          73,
          74,
          75,
          76,
          77,
          78,
          79,
          80,
          81,
          82,
          83,
          84,
          85,
          86,
          87,
          88,
          89,
          90,
          91,
          92,
          93,
          94,
          95,
          96,
          97,
          98,
          99,
          100,
          101,
          102,
          103,
          104,
          105,
          106,
          107,
          108,
          109,
          110,
          111,
          112,
          113,
          114,
          115,
          116,
          117,
          118,
          119,
          120,
          121,
          122,
          123,
          124,
          125,
          126,
          127,
          128,
          129,
          130,
          131,
          132,
          133,
          134,
          135,
          136,
          137,
          138,
          139,
          140,
          141,
          142,
          143,
          144,
          145,
          146,
          147,
          148,
          149,
          150,
          151,
          152,
          153,
          154,
          155,
          156,
          157,
          158,
          159,
          160,
          161,
          162,
          163,
          164,
          165,
          166,
          167,
          168,
          169,
          170,
          171,
          172,
          173,
          174,
          175,
          176,
          177,
          178,
          179,
          180,
          181,
          182,
          183,
          184,
          185,
          186,
          187,
          188,
          189,
          190,
          191,
          192,
          193,
          194,
          195,
          196,
          197,
          198,
          199,
          200,
          201,
          202,
          203,
          204,
          205,
          206,
          207,
          208,
          209,
          210,
          211,
          212,
          213,
          214,
          215,
          216,
          217,
          218,
          219,
          220,
          221,
          222,
          223,
          224,
          225,
          226,
          227,
          228,
          229,
          230,
          231,
          232,
          233,
          234,
          235,
          236,
          237,
          238,
          239,
          240,
          241,
          242,
          243,
          244,
          245,
          246,
          247,
          248,
          249,
          250,
          251,
          252,
          253,
          254,
          255,
          256,
          257,
          258,
          259,
          260,
          261,
          262,
          263,
          264,
          265,
          266,
          267,
          268,
          269,
          270,
          271,
          272,
          273,
          274,
          275,
          276,
          277,
          278,
          279,
          280,
          281,
          282,
          283,
          284,
          285,
          286,
          287,
          288,
          289,
          290,
          291,
          292,
          293,
          294,
          295,
          296,
          297,
          298,
          299,
          300,
          301,
          302,
          303,
          304,
          305,
          306,
          307,
          308,
          309,
          310,
          311,
          312,
          313,
          314,
          315,
          316,
          317,
          318,
          319,
          320,
          321
         ],
         "xaxis": "x",
         "y": [
          938861.77,
          303438.24,
          655318.26,
          1336522.92,
          559285.35,
          430944.39,
          648606.13,
          508573.16000000003,
          993172.98,
          1303523.73,
          809833.21,
          1785823.3699999999,
          483011.69,
          1848953.48,
          527389.28,
          458086.69,
          972663.59,
          319550.77,
          2623469.9499999997,
          1364445.98,
          1591835.02,
          339976.65,
          535769.32,
          412224.67,
          470921.24,
          521896.60000000003,
          1004749.41,
          1287288.59,
          1403779.25,
          312177.67,
          577698.37,
          2124316.34,
          1514999.17,
          979552.34,
          570879.04,
          651147.83,
          321110.22,
          1051944.79,
          1555672.51,
          1461129.94,
          590984.56,
          286428.78,
          1564819.81,
          1151258.74,
          776933.37,
          432268.53,
          1125169.92,
          911696,
          977286.07,
          911210.81,
          507584.29,
          527953.14,
          754236.7000000001,
          448998.73,
          1078900.44,
          1090587.5,
          1366395.96,
          1633241.59,
          945823.65,
          704113.22,
          857939.41,
          1513080.49,
          933528.39,
          1133807.03,
          262717.71,
          1261253.18,
          1745841.33,
          2587953.32,
          1882070.88,
          1554651.0799999998,
          1257921.28,
          456140.34,
          1991824.05,
          2045837.55,
          728525.6,
          1338716.37,
          1781528.77,
          1327401.06,
          2168709.76,
          718890.8099999999,
          1504651.57,
          475696.37,
          286515.92,
          1309437.17,
          855130.21,
          1309226.79,
          597354.39,
          1402654.95,
          912542.82,
          1033552.18,
          982345.51,
          1576818.06,
          764565.55,
          2107285.85,
          581758.22,
          2290549.32,
          1009887.36,
          272997.65,
          1929486.6300000001,
          641905.37,
          1235775.15,
          293350.51,
          2057059.53,
          935481.32,
          821568.64,
          684655.91,
          589842.69,
          922850.57,
          472511.32,
          2060389.27,
          489293.72,
          870625.49,
          1830939.1,
          671708.09,
          1624477.58,
          291024.98,
          666942.02,
          291454.52,
          503720.98,
          576332.05,
          550791.32,
          1273670.32,
          590453.63,
          2187847.29,
          345584.39,
          1166117.85,
          1675431.16,
          2734277.1,
          1485540.28,
          1601585.7,
          609736.12,
          2086433.49,
          767358.37,
          1390122.11,
          1286413.71,
          1390174.63,
          2187765.28,
          1704785.74,
          2020839.31,
          1713769.06,
          1771792.97,
          1227148.13,
          960746.04,
          1197489.66,
          338737.33,
          1766162.05,
          712647.97,
          922328.02,
          841889.08,
          961685.98,
          1439034.86,
          594385.2,
          363064.64,
          628516.5700000001,
          984336.04,
          585895.34,
          1688420.76,
          1289156.9,
          614378.9400000001,
          1206917.2,
          377672.46,
          522665.04,
          899768.4,
          1095889.22,
          1405168.06,
          281909.79,
          573084.71,
          1503298.7,
          944337.32,
          2025538.76,
          944594.78,
          998672.85,
          1100625.06,
          658468.27,
          997998.21,
          1750197.81,
          1311965.09,
          605791.46,
          417290.38,
          465198.89,
          1494417.07,
          1276609.36,
          905399.99,
          778436.81,
          765687.4199999999,
          813486.55,
          649245,
          1064617.6199999999,
          1014218.8,
          1220983.17,
          2270188.99,
          943047.78,
          536840.6900000001,
          900309.75,
          1947083.3,
          378574.44,
          1921655.48,
          1847613.58,
          1222511.29,
          509263.28,
          901972.7000000001,
          482926.93,
          694765.95,
          1038576.54,
          771315.62,
          943465.29,
          1375166.86,
          849925.37,
          266484.19,
          873354.58,
          1838513.07,
          800147.84,
          897076.73,
          276011.4,
          1648863.46,
          1168826.39,
          564606.1,
          1183528.58,
          262407.57,
          1975374.56,
          910110.24,
          1597868.05,
          1256282.79,
          279466.87,
          679156.2,
          755084.4,
          428851.99,
          469787.38,
          817653.25,
          288839.73,
          813630.44,
          1311263.07,
          569005.0599999999,
          1320239.51,
          519787.93,
          1430192.3699999999,
          1852443.78,
          1816489.53,
          1796949.59,
          946614.55,
          1304584.4,
          302423.93,
          510427.53,
          2405395.22,
          278067.73,
          1487797.54,
          481144.09,
          1831933.95,
          1745545.28,
          531600.62,
          1133913.33,
          280048.74,
          1491039.14,
          380683.67,
          1074535.88,
          411866.45999999996,
          1493659.74,
          945889.59,
          515226.11,
          1363973.16,
          1536549.95,
          935266.4299999999,
          1261158.47,
          952264.91,
          441683.74,
          1460354.67,
          890130.25,
          2069284.57,
          527058.59,
          299354.67,
          880576.33,
          1344354.41,
          597644.02,
          1280414.8,
          1999363.49,
          851762.28,
          1459601.17,
          1515175.01,
          1116439.02,
          1955624.11,
          865137.6,
          954220.22,
          837144.63,
          271961.04,
          514116.58,
          966817.24,
          1543947.23,
          1115985.81,
          381151.72000000003,
          605956.59,
          1179125.48,
          1759777.25,
          987435.35,
          1779276.51,
          1092204.79,
          2273470.62,
          973585.33,
          1052120.43,
          1469693.99,
          408891.49,
          1623442.24,
          1169773.85,
          1178905.44,
          1621031.7,
          374182.04,
          495543.27999999997,
          394645.25,
          335121.82,
          2035189.6600000001,
          932195.52,
          938914.28,
          1436383.84,
          1911510.64,
          453632.76,
          1740234.06,
          961084.08,
          1863840.49,
          1550229.22,
          958487.75,
          1744879.06,
          713117.66,
          940405.03
         ],
         "yaxis": "y"
        },
        {
         "hovertemplate": "variable=Valores previstos<br>index=%{x}<br>value=%{y}<extra></extra>",
         "legendgroup": "Valores previstos",
         "line": {
          "color": "#EF553B",
          "dash": "solid"
         },
         "marker": {
          "symbol": "circle"
         },
         "mode": "lines",
         "name": "Valores previstos",
         "orientation": "v",
         "showlegend": true,
         "type": "scatter",
         "x": [
          0,
          1,
          2,
          3,
          4,
          5,
          6,
          7,
          8,
          9,
          10,
          11,
          12,
          13,
          14,
          15,
          16,
          17,
          18,
          19,
          20,
          21,
          22,
          23,
          24,
          25,
          26,
          27,
          28,
          29,
          30,
          31,
          32,
          33,
          34,
          35,
          36,
          37,
          38,
          39,
          40,
          41,
          42,
          43,
          44,
          45,
          46,
          47,
          48,
          49,
          50,
          51,
          52,
          53,
          54,
          55,
          56,
          57,
          58,
          59,
          60,
          61,
          62,
          63,
          64,
          65,
          66,
          67,
          68,
          69,
          70,
          71,
          72,
          73,
          74,
          75,
          76,
          77,
          78,
          79,
          80,
          81,
          82,
          83,
          84,
          85,
          86,
          87,
          88,
          89,
          90,
          91,
          92,
          93,
          94,
          95,
          96,
          97,
          98,
          99,
          100,
          101,
          102,
          103,
          104,
          105,
          106,
          107,
          108,
          109,
          110,
          111,
          112,
          113,
          114,
          115,
          116,
          117,
          118,
          119,
          120,
          121,
          122,
          123,
          124,
          125,
          126,
          127,
          128,
          129,
          130,
          131,
          132,
          133,
          134,
          135,
          136,
          137,
          138,
          139,
          140,
          141,
          142,
          143,
          144,
          145,
          146,
          147,
          148,
          149,
          150,
          151,
          152,
          153,
          154,
          155,
          156,
          157,
          158,
          159,
          160,
          161,
          162,
          163,
          164,
          165,
          166,
          167,
          168,
          169,
          170,
          171,
          172,
          173,
          174,
          175,
          176,
          177,
          178,
          179,
          180,
          181,
          182,
          183,
          184,
          185,
          186,
          187,
          188,
          189,
          190,
          191,
          192,
          193,
          194,
          195,
          196,
          197,
          198,
          199,
          200,
          201,
          202,
          203,
          204,
          205,
          206,
          207,
          208,
          209,
          210,
          211,
          212,
          213,
          214,
          215,
          216,
          217,
          218,
          219,
          220,
          221,
          222,
          223,
          224,
          225,
          226,
          227,
          228,
          229,
          230,
          231,
          232,
          233,
          234,
          235,
          236,
          237,
          238,
          239,
          240,
          241,
          242,
          243,
          244,
          245,
          246,
          247,
          248,
          249,
          250,
          251,
          252,
          253,
          254,
          255,
          256,
          257,
          258,
          259,
          260,
          261,
          262,
          263,
          264,
          265,
          266,
          267,
          268,
          269,
          270,
          271,
          272,
          273,
          274,
          275,
          276,
          277,
          278,
          279,
          280,
          281,
          282,
          283,
          284,
          285,
          286,
          287,
          288,
          289,
          290,
          291,
          292,
          293,
          294,
          295,
          296,
          297,
          298,
          299,
          300,
          301,
          302,
          303,
          304,
          305,
          306,
          307,
          308,
          309,
          310,
          311,
          312,
          313,
          314,
          315,
          316,
          317,
          318,
          319,
          320,
          321
         ],
         "xaxis": "x",
         "y": [
          913755.12,
          609736.12,
          1010711.08,
          1083657.6099999999,
          1104858.2149999999,
          520850.71,
          1682368.32,
          1440456.68,
          835189.26,
          1424720.27,
          648652.01,
          809833.21,
          558794.63,
          1083657.6099999999,
          1010711.08,
          775910.43,
          648652.01,
          817485.14,
          811365.42,
          847294.04,
          811365.42,
          817485.14,
          593875.46,
          769522.33,
          769522.33,
          910298.44,
          960645.8300000001,
          1424720.27,
          1663525.77,
          817485.14,
          1104858.2149999999,
          809833.21,
          1083071.14,
          659950.36,
          1104858.2149999999,
          872716.5750000001,
          817485.14,
          1059715.27,
          596325.5233333333,
          1083657.6099999999,
          872716.5750000001,
          1549843.6866666668,
          558027.77,
          715164.31,
          1370562.1099999999,
          817485.14,
          960645.8300000001,
          1229257.7,
          835189.26,
          913755.12,
          593875.46,
          1440456.68,
          1370562.1099999999,
          593875.46,
          1229257.7,
          1229257.7,
          1005448.76,
          1083071.14,
          1059715.27,
          1682368.32,
          593875.46,
          558027.77,
          960645.8300000001,
          648652.01,
          1549843.6866666668,
          1083071.14,
          661163.9400000001,
          857899.075,
          811365.42,
          1365546.69,
          1424720.27,
          769522.33,
          596325.5233333333,
          1872365.99,
          1682368.32,
          1424720.27,
          596325.5233333333,
          1083657.6099999999,
          661163.9400000001,
          1682368.32,
          1083071.14,
          558794.63,
          609736.12,
          1424720.27,
          1229257.7,
          1206917.2,
          872716.5750000001,
          1663525.77,
          593875.46,
          659950.36,
          913755.12,
          558027.77,
          1010711.08,
          1872365.99,
          910298.44,
          817485.14,
          960645.8300000001,
          609736.12,
          817485.14,
          872716.5750000001,
          1083657.6099999999,
          1197678.8475,
          857899.075,
          659950.36,
          1229257.7,
          872716.5750000001,
          1010711.08,
          1059715.27,
          817485.14,
          1872365.99,
          558794.63,
          1206917.2,
          661163.9400000001,
          1229257.7,
          558027.77,
          817485.14,
          593875.46,
          817485.14,
          1104858.2149999999,
          1229257.7,
          775910.43,
          847294.04,
          1010711.08,
          817485.14,
          817485.14,
          835189.26,
          558027.77,
          857899.075,
          1005448.76,
          659950.36,
          775910.43,
          809833.21,
          1370562.1099999999,
          1005448.76,
          1663525.77,
          1424720.27,
          1872365.99,
          1365546.69,
          811365.42,
          1005448.76,
          661163.9400000001,
          913755.12,
          1206917.2,
          960645.8300000001,
          609736.12,
          817485.14,
          1682368.32,
          659950.36,
          659950.36,
          1229257.7,
          1424720.27,
          1010711.08,
          817485.14,
          1682368.32,
          659950.36,
          1104858.2149999999,
          558027.77,
          1206917.2,
          872716.5750000001,
          857899.075,
          520850.71,
          1440456.68,
          659950.36,
          715164.31,
          1005448.76,
          609736.12,
          1104858.2149999999,
          1083657.6099999999,
          960645.8300000001,
          817485.14,
          593875.46,
          913755.12,
          835189.26,
          872716.5750000001,
          835189.26,
          817485.14,
          1083657.6099999999,
          1440456.68,
          520850.71,
          593875.46,
          596325.5233333333,
          475770.14,
          659950.36,
          1206917.2,
          765405.6050000001,
          1229257.7,
          1682368.32,
          648652.01,
          913755.12,
          835189.26,
          558027.77,
          913755.12,
          1440456.68,
          593875.46,
          817485.14,
          520850.71,
          1365546.69,
          661163.9400000001,
          847294.04,
          775910.43,
          648652.01,
          910298.44,
          1682368.32,
          835189.26,
          659950.36,
          1206917.2,
          1083071.14,
          593875.46,
          1549843.6866666668,
          659950.36,
          817485.14,
          765405.6050000001,
          593875.46,
          609736.12,
          1083071.14,
          475770.14,
          775910.43,
          715164.31,
          1549843.6866666668,
          1872365.99,
          1059715.27,
          558027.77,
          835189.26,
          1549843.6866666668,
          765405.6050000001,
          1370562.1099999999,
          1197678.8475,
          520850.71,
          765405.6050000001,
          817485.14,
          765405.6050000001,
          1083657.6099999999,
          910298.44,
          1083657.6099999999,
          558794.63,
          1083657.6099999999,
          809833.21,
          1365546.69,
          809833.21,
          648652.01,
          1083657.6099999999,
          1549843.6866666668,
          1440456.68,
          1872365.99,
          1549843.6866666668,
          596325.5233333333,
          593875.46,
          809833.21,
          817485.14,
          558794.63,
          475770.14,
          609736.12,
          1424720.27,
          817485.14,
          960645.8300000001,
          520850.71,
          558027.77,
          835189.26,
          775910.43,
          847294.04,
          1005448.76,
          593875.46,
          847294.04,
          593875.46,
          520850.71,
          1005448.76,
          835189.26,
          809833.21,
          558794.63,
          609736.12,
          1229257.7,
          1424720.27,
          1104858.2149999999,
          596325.5233333333,
          1872365.99,
          1206917.2,
          558027.77,
          648652.01,
          475770.14,
          558027.77,
          1229257.7,
          1059715.27,
          765405.6050000001,
          1549843.6866666668,
          1440456.68,
          1059715.27,
          1424720.27,
          835189.26,
          817485.14,
          872716.5750000001,
          475770.14,
          1083071.14,
          913755.12,
          847294.04,
          835189.26,
          811365.42,
          960645.8300000001,
          835189.26,
          1663525.77,
          1197678.8475,
          596325.5233333333,
          857899.075,
          1083657.6099999999,
          558027.77,
          1197678.8475,
          593875.46,
          1197678.8475,
          520850.71,
          809833.21,
          1229257.7,
          1206917.2,
          475770.14,
          1872365.99,
          910298.44,
          661163.9400000001,
          648652.01,
          817485.14,
          558027.77,
          960645.8300000001,
          1365546.69,
          593875.46,
          659950.36
         ],
         "yaxis": "y"
        }
       ],
       "layout": {
        "legend": {
         "title": {
          "text": "variable"
         },
         "tracegroupgap": 0
        },
        "margin": {
         "t": 60
        },
        "template": {
         "data": {
          "bar": [
           {
            "error_x": {
             "color": "#2a3f5f"
            },
            "error_y": {
             "color": "#2a3f5f"
            },
            "marker": {
             "line": {
              "color": "#E5ECF6",
              "width": 0.5
             },
             "pattern": {
              "fillmode": "overlay",
              "size": 10,
              "solidity": 0.2
             }
            },
            "type": "bar"
           }
          ],
          "barpolar": [
           {
            "marker": {
             "line": {
              "color": "#E5ECF6",
              "width": 0.5
             },
             "pattern": {
              "fillmode": "overlay",
              "size": 10,
              "solidity": 0.2
             }
            },
            "type": "barpolar"
           }
          ],
          "carpet": [
           {
            "aaxis": {
             "endlinecolor": "#2a3f5f",
             "gridcolor": "white",
             "linecolor": "white",
             "minorgridcolor": "white",
             "startlinecolor": "#2a3f5f"
            },
            "baxis": {
             "endlinecolor": "#2a3f5f",
             "gridcolor": "white",
             "linecolor": "white",
             "minorgridcolor": "white",
             "startlinecolor": "#2a3f5f"
            },
            "type": "carpet"
           }
          ],
          "choropleth": [
           {
            "colorbar": {
             "outlinewidth": 0,
             "ticks": ""
            },
            "type": "choropleth"
           }
          ],
          "contour": [
           {
            "colorbar": {
             "outlinewidth": 0,
             "ticks": ""
            },
            "colorscale": [
             [
              0,
              "#0d0887"
             ],
             [
              0.1111111111111111,
              "#46039f"
             ],
             [
              0.2222222222222222,
              "#7201a8"
             ],
             [
              0.3333333333333333,
              "#9c179e"
             ],
             [
              0.4444444444444444,
              "#bd3786"
             ],
             [
              0.5555555555555556,
              "#d8576b"
             ],
             [
              0.6666666666666666,
              "#ed7953"
             ],
             [
              0.7777777777777778,
              "#fb9f3a"
             ],
             [
              0.8888888888888888,
              "#fdca26"
             ],
             [
              1,
              "#f0f921"
             ]
            ],
            "type": "contour"
           }
          ],
          "contourcarpet": [
           {
            "colorbar": {
             "outlinewidth": 0,
             "ticks": ""
            },
            "type": "contourcarpet"
           }
          ],
          "heatmap": [
           {
            "colorbar": {
             "outlinewidth": 0,
             "ticks": ""
            },
            "colorscale": [
             [
              0,
              "#0d0887"
             ],
             [
              0.1111111111111111,
              "#46039f"
             ],
             [
              0.2222222222222222,
              "#7201a8"
             ],
             [
              0.3333333333333333,
              "#9c179e"
             ],
             [
              0.4444444444444444,
              "#bd3786"
             ],
             [
              0.5555555555555556,
              "#d8576b"
             ],
             [
              0.6666666666666666,
              "#ed7953"
             ],
             [
              0.7777777777777778,
              "#fb9f3a"
             ],
             [
              0.8888888888888888,
              "#fdca26"
             ],
             [
              1,
              "#f0f921"
             ]
            ],
            "type": "heatmap"
           }
          ],
          "heatmapgl": [
           {
            "colorbar": {
             "outlinewidth": 0,
             "ticks": ""
            },
            "colorscale": [
             [
              0,
              "#0d0887"
             ],
             [
              0.1111111111111111,
              "#46039f"
             ],
             [
              0.2222222222222222,
              "#7201a8"
             ],
             [
              0.3333333333333333,
              "#9c179e"
             ],
             [
              0.4444444444444444,
              "#bd3786"
             ],
             [
              0.5555555555555556,
              "#d8576b"
             ],
             [
              0.6666666666666666,
              "#ed7953"
             ],
             [
              0.7777777777777778,
              "#fb9f3a"
             ],
             [
              0.8888888888888888,
              "#fdca26"
             ],
             [
              1,
              "#f0f921"
             ]
            ],
            "type": "heatmapgl"
           }
          ],
          "histogram": [
           {
            "marker": {
             "pattern": {
              "fillmode": "overlay",
              "size": 10,
              "solidity": 0.2
             }
            },
            "type": "histogram"
           }
          ],
          "histogram2d": [
           {
            "colorbar": {
             "outlinewidth": 0,
             "ticks": ""
            },
            "colorscale": [
             [
              0,
              "#0d0887"
             ],
             [
              0.1111111111111111,
              "#46039f"
             ],
             [
              0.2222222222222222,
              "#7201a8"
             ],
             [
              0.3333333333333333,
              "#9c179e"
             ],
             [
              0.4444444444444444,
              "#bd3786"
             ],
             [
              0.5555555555555556,
              "#d8576b"
             ],
             [
              0.6666666666666666,
              "#ed7953"
             ],
             [
              0.7777777777777778,
              "#fb9f3a"
             ],
             [
              0.8888888888888888,
              "#fdca26"
             ],
             [
              1,
              "#f0f921"
             ]
            ],
            "type": "histogram2d"
           }
          ],
          "histogram2dcontour": [
           {
            "colorbar": {
             "outlinewidth": 0,
             "ticks": ""
            },
            "colorscale": [
             [
              0,
              "#0d0887"
             ],
             [
              0.1111111111111111,
              "#46039f"
             ],
             [
              0.2222222222222222,
              "#7201a8"
             ],
             [
              0.3333333333333333,
              "#9c179e"
             ],
             [
              0.4444444444444444,
              "#bd3786"
             ],
             [
              0.5555555555555556,
              "#d8576b"
             ],
             [
              0.6666666666666666,
              "#ed7953"
             ],
             [
              0.7777777777777778,
              "#fb9f3a"
             ],
             [
              0.8888888888888888,
              "#fdca26"
             ],
             [
              1,
              "#f0f921"
             ]
            ],
            "type": "histogram2dcontour"
           }
          ],
          "mesh3d": [
           {
            "colorbar": {
             "outlinewidth": 0,
             "ticks": ""
            },
            "type": "mesh3d"
           }
          ],
          "parcoords": [
           {
            "line": {
             "colorbar": {
              "outlinewidth": 0,
              "ticks": ""
             }
            },
            "type": "parcoords"
           }
          ],
          "pie": [
           {
            "automargin": true,
            "type": "pie"
           }
          ],
          "scatter": [
           {
            "marker": {
             "colorbar": {
              "outlinewidth": 0,
              "ticks": ""
             }
            },
            "type": "scatter"
           }
          ],
          "scatter3d": [
           {
            "line": {
             "colorbar": {
              "outlinewidth": 0,
              "ticks": ""
             }
            },
            "marker": {
             "colorbar": {
              "outlinewidth": 0,
              "ticks": ""
             }
            },
            "type": "scatter3d"
           }
          ],
          "scattercarpet": [
           {
            "marker": {
             "colorbar": {
              "outlinewidth": 0,
              "ticks": ""
             }
            },
            "type": "scattercarpet"
           }
          ],
          "scattergeo": [
           {
            "marker": {
             "colorbar": {
              "outlinewidth": 0,
              "ticks": ""
             }
            },
            "type": "scattergeo"
           }
          ],
          "scattergl": [
           {
            "marker": {
             "colorbar": {
              "outlinewidth": 0,
              "ticks": ""
             }
            },
            "type": "scattergl"
           }
          ],
          "scattermapbox": [
           {
            "marker": {
             "colorbar": {
              "outlinewidth": 0,
              "ticks": ""
             }
            },
            "type": "scattermapbox"
           }
          ],
          "scatterpolar": [
           {
            "marker": {
             "colorbar": {
              "outlinewidth": 0,
              "ticks": ""
             }
            },
            "type": "scatterpolar"
           }
          ],
          "scatterpolargl": [
           {
            "marker": {
             "colorbar": {
              "outlinewidth": 0,
              "ticks": ""
             }
            },
            "type": "scatterpolargl"
           }
          ],
          "scatterternary": [
           {
            "marker": {
             "colorbar": {
              "outlinewidth": 0,
              "ticks": ""
             }
            },
            "type": "scatterternary"
           }
          ],
          "surface": [
           {
            "colorbar": {
             "outlinewidth": 0,
             "ticks": ""
            },
            "colorscale": [
             [
              0,
              "#0d0887"
             ],
             [
              0.1111111111111111,
              "#46039f"
             ],
             [
              0.2222222222222222,
              "#7201a8"
             ],
             [
              0.3333333333333333,
              "#9c179e"
             ],
             [
              0.4444444444444444,
              "#bd3786"
             ],
             [
              0.5555555555555556,
              "#d8576b"
             ],
             [
              0.6666666666666666,
              "#ed7953"
             ],
             [
              0.7777777777777778,
              "#fb9f3a"
             ],
             [
              0.8888888888888888,
              "#fdca26"
             ],
             [
              1,
              "#f0f921"
             ]
            ],
            "type": "surface"
           }
          ],
          "table": [
           {
            "cells": {
             "fill": {
              "color": "#EBF0F8"
             },
             "line": {
              "color": "white"
             }
            },
            "header": {
             "fill": {
              "color": "#C8D4E3"
             },
             "line": {
              "color": "white"
             }
            },
            "type": "table"
           }
          ]
         },
         "layout": {
          "annotationdefaults": {
           "arrowcolor": "#2a3f5f",
           "arrowhead": 0,
           "arrowwidth": 1
          },
          "autotypenumbers": "strict",
          "coloraxis": {
           "colorbar": {
            "outlinewidth": 0,
            "ticks": ""
           }
          },
          "colorscale": {
           "diverging": [
            [
             0,
             "#8e0152"
            ],
            [
             0.1,
             "#c51b7d"
            ],
            [
             0.2,
             "#de77ae"
            ],
            [
             0.3,
             "#f1b6da"
            ],
            [
             0.4,
             "#fde0ef"
            ],
            [
             0.5,
             "#f7f7f7"
            ],
            [
             0.6,
             "#e6f5d0"
            ],
            [
             0.7,
             "#b8e186"
            ],
            [
             0.8,
             "#7fbc41"
            ],
            [
             0.9,
             "#4d9221"
            ],
            [
             1,
             "#276419"
            ]
           ],
           "sequential": [
            [
             0,
             "#0d0887"
            ],
            [
             0.1111111111111111,
             "#46039f"
            ],
            [
             0.2222222222222222,
             "#7201a8"
            ],
            [
             0.3333333333333333,
             "#9c179e"
            ],
            [
             0.4444444444444444,
             "#bd3786"
            ],
            [
             0.5555555555555556,
             "#d8576b"
            ],
            [
             0.6666666666666666,
             "#ed7953"
            ],
            [
             0.7777777777777778,
             "#fb9f3a"
            ],
            [
             0.8888888888888888,
             "#fdca26"
            ],
            [
             1,
             "#f0f921"
            ]
           ],
           "sequentialminus": [
            [
             0,
             "#0d0887"
            ],
            [
             0.1111111111111111,
             "#46039f"
            ],
            [
             0.2222222222222222,
             "#7201a8"
            ],
            [
             0.3333333333333333,
             "#9c179e"
            ],
            [
             0.4444444444444444,
             "#bd3786"
            ],
            [
             0.5555555555555556,
             "#d8576b"
            ],
            [
             0.6666666666666666,
             "#ed7953"
            ],
            [
             0.7777777777777778,
             "#fb9f3a"
            ],
            [
             0.8888888888888888,
             "#fdca26"
            ],
            [
             1,
             "#f0f921"
            ]
           ]
          },
          "colorway": [
           "#636efa",
           "#EF553B",
           "#00cc96",
           "#ab63fa",
           "#FFA15A",
           "#19d3f3",
           "#FF6692",
           "#B6E880",
           "#FF97FF",
           "#FECB52"
          ],
          "font": {
           "color": "#2a3f5f"
          },
          "geo": {
           "bgcolor": "white",
           "lakecolor": "white",
           "landcolor": "#E5ECF6",
           "showlakes": true,
           "showland": true,
           "subunitcolor": "white"
          },
          "hoverlabel": {
           "align": "left"
          },
          "hovermode": "closest",
          "mapbox": {
           "style": "light"
          },
          "paper_bgcolor": "white",
          "plot_bgcolor": "#E5ECF6",
          "polar": {
           "angularaxis": {
            "gridcolor": "white",
            "linecolor": "white",
            "ticks": ""
           },
           "bgcolor": "#E5ECF6",
           "radialaxis": {
            "gridcolor": "white",
            "linecolor": "white",
            "ticks": ""
           }
          },
          "scene": {
           "xaxis": {
            "backgroundcolor": "#E5ECF6",
            "gridcolor": "white",
            "gridwidth": 2,
            "linecolor": "white",
            "showbackground": true,
            "ticks": "",
            "zerolinecolor": "white"
           },
           "yaxis": {
            "backgroundcolor": "#E5ECF6",
            "gridcolor": "white",
            "gridwidth": 2,
            "linecolor": "white",
            "showbackground": true,
            "ticks": "",
            "zerolinecolor": "white"
           },
           "zaxis": {
            "backgroundcolor": "#E5ECF6",
            "gridcolor": "white",
            "gridwidth": 2,
            "linecolor": "white",
            "showbackground": true,
            "ticks": "",
            "zerolinecolor": "white"
           }
          },
          "shapedefaults": {
           "line": {
            "color": "#2a3f5f"
           }
          },
          "ternary": {
           "aaxis": {
            "gridcolor": "white",
            "linecolor": "white",
            "ticks": ""
           },
           "baxis": {
            "gridcolor": "white",
            "linecolor": "white",
            "ticks": ""
           },
           "bgcolor": "#E5ECF6",
           "caxis": {
            "gridcolor": "white",
            "linecolor": "white",
            "ticks": ""
           }
          },
          "title": {
           "x": 0.05
          },
          "xaxis": {
           "automargin": true,
           "gridcolor": "white",
           "linecolor": "white",
           "ticks": "",
           "title": {
            "standoff": 15
           },
           "zerolinecolor": "white",
           "zerolinewidth": 2
          },
          "yaxis": {
           "automargin": true,
           "gridcolor": "white",
           "linecolor": "white",
           "ticks": "",
           "title": {
            "standoff": 15
           },
           "zerolinecolor": "white",
           "zerolinewidth": 2
          }
         }
        },
        "xaxis": {
         "anchor": "y",
         "domain": [
          0,
          1
         ],
         "title": {
          "text": "index"
         }
        },
        "yaxis": {
         "anchor": "x",
         "domain": [
          0,
          1
         ],
         "title": {
          "text": "value"
         }
        }
       }
      },
      "text/html": [
       "<div>                            <div id=\"ce584c6d-c5e9-4b3c-a0ca-0d7e332b0712\" class=\"plotly-graph-div\" style=\"height:525px; width:100%;\"></div>            <script type=\"text/javascript\">                require([\"plotly\"], function(Plotly) {                    window.PLOTLYENV=window.PLOTLYENV || {};                                    if (document.getElementById(\"ce584c6d-c5e9-4b3c-a0ca-0d7e332b0712\")) {                    Plotly.newPlot(                        \"ce584c6d-c5e9-4b3c-a0ca-0d7e332b0712\",                        [{\"hovertemplate\":\"variable=Valores reais<br>index=%{x}<br>value=%{y}<extra></extra>\",\"legendgroup\":\"Valores reais\",\"line\":{\"color\":\"#636efa\",\"dash\":\"solid\"},\"marker\":{\"symbol\":\"circle\"},\"mode\":\"lines\",\"name\":\"Valores reais\",\"orientation\":\"v\",\"showlegend\":true,\"x\":[0,1,2,3,4,5,6,7,8,9,10,11,12,13,14,15,16,17,18,19,20,21,22,23,24,25,26,27,28,29,30,31,32,33,34,35,36,37,38,39,40,41,42,43,44,45,46,47,48,49,50,51,52,53,54,55,56,57,58,59,60,61,62,63,64,65,66,67,68,69,70,71,72,73,74,75,76,77,78,79,80,81,82,83,84,85,86,87,88,89,90,91,92,93,94,95,96,97,98,99,100,101,102,103,104,105,106,107,108,109,110,111,112,113,114,115,116,117,118,119,120,121,122,123,124,125,126,127,128,129,130,131,132,133,134,135,136,137,138,139,140,141,142,143,144,145,146,147,148,149,150,151,152,153,154,155,156,157,158,159,160,161,162,163,164,165,166,167,168,169,170,171,172,173,174,175,176,177,178,179,180,181,182,183,184,185,186,187,188,189,190,191,192,193,194,195,196,197,198,199,200,201,202,203,204,205,206,207,208,209,210,211,212,213,214,215,216,217,218,219,220,221,222,223,224,225,226,227,228,229,230,231,232,233,234,235,236,237,238,239,240,241,242,243,244,245,246,247,248,249,250,251,252,253,254,255,256,257,258,259,260,261,262,263,264,265,266,267,268,269,270,271,272,273,274,275,276,277,278,279,280,281,282,283,284,285,286,287,288,289,290,291,292,293,294,295,296,297,298,299,300,301,302,303,304,305,306,307,308,309,310,311,312,313,314,315,316,317,318,319,320,321],\"xaxis\":\"x\",\"y\":[938861.77,303438.24,655318.26,1336522.92,559285.35,430944.39,648606.13,508573.16000000003,993172.98,1303523.73,809833.21,1785823.3699999999,483011.69,1848953.48,527389.28,458086.69,972663.59,319550.77,2623469.9499999997,1364445.98,1591835.02,339976.65,535769.32,412224.67,470921.24,521896.60000000003,1004749.41,1287288.59,1403779.25,312177.67,577698.37,2124316.34,1514999.17,979552.34,570879.04,651147.83,321110.22,1051944.79,1555672.51,1461129.94,590984.56,286428.78,1564819.81,1151258.74,776933.37,432268.53,1125169.92,911696.0,977286.07,911210.81,507584.29,527953.14,754236.7000000001,448998.73,1078900.44,1090587.5,1366395.96,1633241.59,945823.65,704113.22,857939.41,1513080.49,933528.39,1133807.03,262717.71,1261253.18,1745841.33,2587953.32,1882070.88,1554651.0799999998,1257921.28,456140.34,1991824.05,2045837.55,728525.6,1338716.37,1781528.77,1327401.06,2168709.76,718890.8099999999,1504651.57,475696.37,286515.92,1309437.17,855130.21,1309226.79,597354.39,1402654.95,912542.82,1033552.18,982345.51,1576818.06,764565.55,2107285.85,581758.22,2290549.32,1009887.36,272997.65,1929486.6300000001,641905.37,1235775.15,293350.51,2057059.53,935481.32,821568.64,684655.91,589842.69,922850.57,472511.32,2060389.27,489293.72,870625.49,1830939.1,671708.09,1624477.58,291024.98,666942.02,291454.52,503720.98,576332.05,550791.32,1273670.32,590453.63,2187847.29,345584.39,1166117.85,1675431.16,2734277.1,1485540.28,1601585.7,609736.12,2086433.49,767358.37,1390122.11,1286413.71,1390174.63,2187765.28,1704785.74,2020839.31,1713769.06,1771792.97,1227148.13,960746.04,1197489.66,338737.33,1766162.05,712647.97,922328.02,841889.08,961685.98,1439034.86,594385.2,363064.64,628516.5700000001,984336.04,585895.34,1688420.76,1289156.9,614378.9400000001,1206917.2,377672.46,522665.04,899768.4,1095889.22,1405168.06,281909.79,573084.71,1503298.7,944337.32,2025538.76,944594.78,998672.85,1100625.06,658468.27,997998.21,1750197.81,1311965.09,605791.46,417290.38,465198.89,1494417.07,1276609.36,905399.99,778436.81,765687.4199999999,813486.55,649245.0,1064617.6199999999,1014218.8,1220983.17,2270188.99,943047.78,536840.6900000001,900309.75,1947083.3,378574.44,1921655.48,1847613.58,1222511.29,509263.28,901972.7000000001,482926.93,694765.95,1038576.54,771315.62,943465.29,1375166.86,849925.37,266484.19,873354.58,1838513.07,800147.84,897076.73,276011.4,1648863.46,1168826.39,564606.1,1183528.58,262407.57,1975374.56,910110.24,1597868.05,1256282.79,279466.87,679156.2,755084.4,428851.99,469787.38,817653.25,288839.73,813630.44,1311263.07,569005.0599999999,1320239.51,519787.93,1430192.3699999999,1852443.78,1816489.53,1796949.59,946614.55,1304584.4,302423.93,510427.53,2405395.22,278067.73,1487797.54,481144.09,1831933.95,1745545.28,531600.62,1133913.33,280048.74,1491039.14,380683.67,1074535.88,411866.45999999996,1493659.74,945889.59,515226.11,1363973.16,1536549.95,935266.4299999999,1261158.47,952264.91,441683.74,1460354.67,890130.25,2069284.57,527058.59,299354.67,880576.33,1344354.41,597644.02,1280414.8,1999363.49,851762.28,1459601.17,1515175.01,1116439.02,1955624.11,865137.6,954220.22,837144.63,271961.04,514116.58,966817.24,1543947.23,1115985.81,381151.72000000003,605956.59,1179125.48,1759777.25,987435.35,1779276.51,1092204.79,2273470.62,973585.33,1052120.43,1469693.99,408891.49,1623442.24,1169773.85,1178905.44,1621031.7,374182.04,495543.27999999997,394645.25,335121.82,2035189.6600000001,932195.52,938914.28,1436383.84,1911510.64,453632.76,1740234.06,961084.08,1863840.49,1550229.22,958487.75,1744879.06,713117.66,940405.03],\"yaxis\":\"y\",\"type\":\"scatter\"},{\"hovertemplate\":\"variable=Valores previstos<br>index=%{x}<br>value=%{y}<extra></extra>\",\"legendgroup\":\"Valores previstos\",\"line\":{\"color\":\"#EF553B\",\"dash\":\"solid\"},\"marker\":{\"symbol\":\"circle\"},\"mode\":\"lines\",\"name\":\"Valores previstos\",\"orientation\":\"v\",\"showlegend\":true,\"x\":[0,1,2,3,4,5,6,7,8,9,10,11,12,13,14,15,16,17,18,19,20,21,22,23,24,25,26,27,28,29,30,31,32,33,34,35,36,37,38,39,40,41,42,43,44,45,46,47,48,49,50,51,52,53,54,55,56,57,58,59,60,61,62,63,64,65,66,67,68,69,70,71,72,73,74,75,76,77,78,79,80,81,82,83,84,85,86,87,88,89,90,91,92,93,94,95,96,97,98,99,100,101,102,103,104,105,106,107,108,109,110,111,112,113,114,115,116,117,118,119,120,121,122,123,124,125,126,127,128,129,130,131,132,133,134,135,136,137,138,139,140,141,142,143,144,145,146,147,148,149,150,151,152,153,154,155,156,157,158,159,160,161,162,163,164,165,166,167,168,169,170,171,172,173,174,175,176,177,178,179,180,181,182,183,184,185,186,187,188,189,190,191,192,193,194,195,196,197,198,199,200,201,202,203,204,205,206,207,208,209,210,211,212,213,214,215,216,217,218,219,220,221,222,223,224,225,226,227,228,229,230,231,232,233,234,235,236,237,238,239,240,241,242,243,244,245,246,247,248,249,250,251,252,253,254,255,256,257,258,259,260,261,262,263,264,265,266,267,268,269,270,271,272,273,274,275,276,277,278,279,280,281,282,283,284,285,286,287,288,289,290,291,292,293,294,295,296,297,298,299,300,301,302,303,304,305,306,307,308,309,310,311,312,313,314,315,316,317,318,319,320,321],\"xaxis\":\"x\",\"y\":[913755.12,609736.12,1010711.08,1083657.6099999999,1104858.2149999999,520850.71,1682368.32,1440456.68,835189.26,1424720.27,648652.01,809833.21,558794.63,1083657.6099999999,1010711.08,775910.43,648652.01,817485.14,811365.42,847294.04,811365.42,817485.14,593875.46,769522.33,769522.33,910298.44,960645.8300000001,1424720.27,1663525.77,817485.14,1104858.2149999999,809833.21,1083071.14,659950.36,1104858.2149999999,872716.5750000001,817485.14,1059715.27,596325.5233333333,1083657.6099999999,872716.5750000001,1549843.6866666668,558027.77,715164.31,1370562.1099999999,817485.14,960645.8300000001,1229257.7,835189.26,913755.12,593875.46,1440456.68,1370562.1099999999,593875.46,1229257.7,1229257.7,1005448.76,1083071.14,1059715.27,1682368.32,593875.46,558027.77,960645.8300000001,648652.01,1549843.6866666668,1083071.14,661163.9400000001,857899.075,811365.42,1365546.69,1424720.27,769522.33,596325.5233333333,1872365.99,1682368.32,1424720.27,596325.5233333333,1083657.6099999999,661163.9400000001,1682368.32,1083071.14,558794.63,609736.12,1424720.27,1229257.7,1206917.2,872716.5750000001,1663525.77,593875.46,659950.36,913755.12,558027.77,1010711.08,1872365.99,910298.44,817485.14,960645.8300000001,609736.12,817485.14,872716.5750000001,1083657.6099999999,1197678.8475,857899.075,659950.36,1229257.7,872716.5750000001,1010711.08,1059715.27,817485.14,1872365.99,558794.63,1206917.2,661163.9400000001,1229257.7,558027.77,817485.14,593875.46,817485.14,1104858.2149999999,1229257.7,775910.43,847294.04,1010711.08,817485.14,817485.14,835189.26,558027.77,857899.075,1005448.76,659950.36,775910.43,809833.21,1370562.1099999999,1005448.76,1663525.77,1424720.27,1872365.99,1365546.69,811365.42,1005448.76,661163.9400000001,913755.12,1206917.2,960645.8300000001,609736.12,817485.14,1682368.32,659950.36,659950.36,1229257.7,1424720.27,1010711.08,817485.14,1682368.32,659950.36,1104858.2149999999,558027.77,1206917.2,872716.5750000001,857899.075,520850.71,1440456.68,659950.36,715164.31,1005448.76,609736.12,1104858.2149999999,1083657.6099999999,960645.8300000001,817485.14,593875.46,913755.12,835189.26,872716.5750000001,835189.26,817485.14,1083657.6099999999,1440456.68,520850.71,593875.46,596325.5233333333,475770.14,659950.36,1206917.2,765405.6050000001,1229257.7,1682368.32,648652.01,913755.12,835189.26,558027.77,913755.12,1440456.68,593875.46,817485.14,520850.71,1365546.69,661163.9400000001,847294.04,775910.43,648652.01,910298.44,1682368.32,835189.26,659950.36,1206917.2,1083071.14,593875.46,1549843.6866666668,659950.36,817485.14,765405.6050000001,593875.46,609736.12,1083071.14,475770.14,775910.43,715164.31,1549843.6866666668,1872365.99,1059715.27,558027.77,835189.26,1549843.6866666668,765405.6050000001,1370562.1099999999,1197678.8475,520850.71,765405.6050000001,817485.14,765405.6050000001,1083657.6099999999,910298.44,1083657.6099999999,558794.63,1083657.6099999999,809833.21,1365546.69,809833.21,648652.01,1083657.6099999999,1549843.6866666668,1440456.68,1872365.99,1549843.6866666668,596325.5233333333,593875.46,809833.21,817485.14,558794.63,475770.14,609736.12,1424720.27,817485.14,960645.8300000001,520850.71,558027.77,835189.26,775910.43,847294.04,1005448.76,593875.46,847294.04,593875.46,520850.71,1005448.76,835189.26,809833.21,558794.63,609736.12,1229257.7,1424720.27,1104858.2149999999,596325.5233333333,1872365.99,1206917.2,558027.77,648652.01,475770.14,558027.77,1229257.7,1059715.27,765405.6050000001,1549843.6866666668,1440456.68,1059715.27,1424720.27,835189.26,817485.14,872716.5750000001,475770.14,1083071.14,913755.12,847294.04,835189.26,811365.42,960645.8300000001,835189.26,1663525.77,1197678.8475,596325.5233333333,857899.075,1083657.6099999999,558027.77,1197678.8475,593875.46,1197678.8475,520850.71,809833.21,1229257.7,1206917.2,475770.14,1872365.99,910298.44,661163.9400000001,648652.01,817485.14,558027.77,960645.8300000001,1365546.69,593875.46,659950.36],\"yaxis\":\"y\",\"type\":\"scatter\"}],                        {\"template\":{\"data\":{\"bar\":[{\"error_x\":{\"color\":\"#2a3f5f\"},\"error_y\":{\"color\":\"#2a3f5f\"},\"marker\":{\"line\":{\"color\":\"#E5ECF6\",\"width\":0.5},\"pattern\":{\"fillmode\":\"overlay\",\"size\":10,\"solidity\":0.2}},\"type\":\"bar\"}],\"barpolar\":[{\"marker\":{\"line\":{\"color\":\"#E5ECF6\",\"width\":0.5},\"pattern\":{\"fillmode\":\"overlay\",\"size\":10,\"solidity\":0.2}},\"type\":\"barpolar\"}],\"carpet\":[{\"aaxis\":{\"endlinecolor\":\"#2a3f5f\",\"gridcolor\":\"white\",\"linecolor\":\"white\",\"minorgridcolor\":\"white\",\"startlinecolor\":\"#2a3f5f\"},\"baxis\":{\"endlinecolor\":\"#2a3f5f\",\"gridcolor\":\"white\",\"linecolor\":\"white\",\"minorgridcolor\":\"white\",\"startlinecolor\":\"#2a3f5f\"},\"type\":\"carpet\"}],\"choropleth\":[{\"colorbar\":{\"outlinewidth\":0,\"ticks\":\"\"},\"type\":\"choropleth\"}],\"contour\":[{\"colorbar\":{\"outlinewidth\":0,\"ticks\":\"\"},\"colorscale\":[[0.0,\"#0d0887\"],[0.1111111111111111,\"#46039f\"],[0.2222222222222222,\"#7201a8\"],[0.3333333333333333,\"#9c179e\"],[0.4444444444444444,\"#bd3786\"],[0.5555555555555556,\"#d8576b\"],[0.6666666666666666,\"#ed7953\"],[0.7777777777777778,\"#fb9f3a\"],[0.8888888888888888,\"#fdca26\"],[1.0,\"#f0f921\"]],\"type\":\"contour\"}],\"contourcarpet\":[{\"colorbar\":{\"outlinewidth\":0,\"ticks\":\"\"},\"type\":\"contourcarpet\"}],\"heatmap\":[{\"colorbar\":{\"outlinewidth\":0,\"ticks\":\"\"},\"colorscale\":[[0.0,\"#0d0887\"],[0.1111111111111111,\"#46039f\"],[0.2222222222222222,\"#7201a8\"],[0.3333333333333333,\"#9c179e\"],[0.4444444444444444,\"#bd3786\"],[0.5555555555555556,\"#d8576b\"],[0.6666666666666666,\"#ed7953\"],[0.7777777777777778,\"#fb9f3a\"],[0.8888888888888888,\"#fdca26\"],[1.0,\"#f0f921\"]],\"type\":\"heatmap\"}],\"heatmapgl\":[{\"colorbar\":{\"outlinewidth\":0,\"ticks\":\"\"},\"colorscale\":[[0.0,\"#0d0887\"],[0.1111111111111111,\"#46039f\"],[0.2222222222222222,\"#7201a8\"],[0.3333333333333333,\"#9c179e\"],[0.4444444444444444,\"#bd3786\"],[0.5555555555555556,\"#d8576b\"],[0.6666666666666666,\"#ed7953\"],[0.7777777777777778,\"#fb9f3a\"],[0.8888888888888888,\"#fdca26\"],[1.0,\"#f0f921\"]],\"type\":\"heatmapgl\"}],\"histogram\":[{\"marker\":{\"pattern\":{\"fillmode\":\"overlay\",\"size\":10,\"solidity\":0.2}},\"type\":\"histogram\"}],\"histogram2d\":[{\"colorbar\":{\"outlinewidth\":0,\"ticks\":\"\"},\"colorscale\":[[0.0,\"#0d0887\"],[0.1111111111111111,\"#46039f\"],[0.2222222222222222,\"#7201a8\"],[0.3333333333333333,\"#9c179e\"],[0.4444444444444444,\"#bd3786\"],[0.5555555555555556,\"#d8576b\"],[0.6666666666666666,\"#ed7953\"],[0.7777777777777778,\"#fb9f3a\"],[0.8888888888888888,\"#fdca26\"],[1.0,\"#f0f921\"]],\"type\":\"histogram2d\"}],\"histogram2dcontour\":[{\"colorbar\":{\"outlinewidth\":0,\"ticks\":\"\"},\"colorscale\":[[0.0,\"#0d0887\"],[0.1111111111111111,\"#46039f\"],[0.2222222222222222,\"#7201a8\"],[0.3333333333333333,\"#9c179e\"],[0.4444444444444444,\"#bd3786\"],[0.5555555555555556,\"#d8576b\"],[0.6666666666666666,\"#ed7953\"],[0.7777777777777778,\"#fb9f3a\"],[0.8888888888888888,\"#fdca26\"],[1.0,\"#f0f921\"]],\"type\":\"histogram2dcontour\"}],\"mesh3d\":[{\"colorbar\":{\"outlinewidth\":0,\"ticks\":\"\"},\"type\":\"mesh3d\"}],\"parcoords\":[{\"line\":{\"colorbar\":{\"outlinewidth\":0,\"ticks\":\"\"}},\"type\":\"parcoords\"}],\"pie\":[{\"automargin\":true,\"type\":\"pie\"}],\"scatter\":[{\"marker\":{\"colorbar\":{\"outlinewidth\":0,\"ticks\":\"\"}},\"type\":\"scatter\"}],\"scatter3d\":[{\"line\":{\"colorbar\":{\"outlinewidth\":0,\"ticks\":\"\"}},\"marker\":{\"colorbar\":{\"outlinewidth\":0,\"ticks\":\"\"}},\"type\":\"scatter3d\"}],\"scattercarpet\":[{\"marker\":{\"colorbar\":{\"outlinewidth\":0,\"ticks\":\"\"}},\"type\":\"scattercarpet\"}],\"scattergeo\":[{\"marker\":{\"colorbar\":{\"outlinewidth\":0,\"ticks\":\"\"}},\"type\":\"scattergeo\"}],\"scattergl\":[{\"marker\":{\"colorbar\":{\"outlinewidth\":0,\"ticks\":\"\"}},\"type\":\"scattergl\"}],\"scattermapbox\":[{\"marker\":{\"colorbar\":{\"outlinewidth\":0,\"ticks\":\"\"}},\"type\":\"scattermapbox\"}],\"scatterpolar\":[{\"marker\":{\"colorbar\":{\"outlinewidth\":0,\"ticks\":\"\"}},\"type\":\"scatterpolar\"}],\"scatterpolargl\":[{\"marker\":{\"colorbar\":{\"outlinewidth\":0,\"ticks\":\"\"}},\"type\":\"scatterpolargl\"}],\"scatterternary\":[{\"marker\":{\"colorbar\":{\"outlinewidth\":0,\"ticks\":\"\"}},\"type\":\"scatterternary\"}],\"surface\":[{\"colorbar\":{\"outlinewidth\":0,\"ticks\":\"\"},\"colorscale\":[[0.0,\"#0d0887\"],[0.1111111111111111,\"#46039f\"],[0.2222222222222222,\"#7201a8\"],[0.3333333333333333,\"#9c179e\"],[0.4444444444444444,\"#bd3786\"],[0.5555555555555556,\"#d8576b\"],[0.6666666666666666,\"#ed7953\"],[0.7777777777777778,\"#fb9f3a\"],[0.8888888888888888,\"#fdca26\"],[1.0,\"#f0f921\"]],\"type\":\"surface\"}],\"table\":[{\"cells\":{\"fill\":{\"color\":\"#EBF0F8\"},\"line\":{\"color\":\"white\"}},\"header\":{\"fill\":{\"color\":\"#C8D4E3\"},\"line\":{\"color\":\"white\"}},\"type\":\"table\"}]},\"layout\":{\"annotationdefaults\":{\"arrowcolor\":\"#2a3f5f\",\"arrowhead\":0,\"arrowwidth\":1},\"autotypenumbers\":\"strict\",\"coloraxis\":{\"colorbar\":{\"outlinewidth\":0,\"ticks\":\"\"}},\"colorscale\":{\"diverging\":[[0,\"#8e0152\"],[0.1,\"#c51b7d\"],[0.2,\"#de77ae\"],[0.3,\"#f1b6da\"],[0.4,\"#fde0ef\"],[0.5,\"#f7f7f7\"],[0.6,\"#e6f5d0\"],[0.7,\"#b8e186\"],[0.8,\"#7fbc41\"],[0.9,\"#4d9221\"],[1,\"#276419\"]],\"sequential\":[[0.0,\"#0d0887\"],[0.1111111111111111,\"#46039f\"],[0.2222222222222222,\"#7201a8\"],[0.3333333333333333,\"#9c179e\"],[0.4444444444444444,\"#bd3786\"],[0.5555555555555556,\"#d8576b\"],[0.6666666666666666,\"#ed7953\"],[0.7777777777777778,\"#fb9f3a\"],[0.8888888888888888,\"#fdca26\"],[1.0,\"#f0f921\"]],\"sequentialminus\":[[0.0,\"#0d0887\"],[0.1111111111111111,\"#46039f\"],[0.2222222222222222,\"#7201a8\"],[0.3333333333333333,\"#9c179e\"],[0.4444444444444444,\"#bd3786\"],[0.5555555555555556,\"#d8576b\"],[0.6666666666666666,\"#ed7953\"],[0.7777777777777778,\"#fb9f3a\"],[0.8888888888888888,\"#fdca26\"],[1.0,\"#f0f921\"]]},\"colorway\":[\"#636efa\",\"#EF553B\",\"#00cc96\",\"#ab63fa\",\"#FFA15A\",\"#19d3f3\",\"#FF6692\",\"#B6E880\",\"#FF97FF\",\"#FECB52\"],\"font\":{\"color\":\"#2a3f5f\"},\"geo\":{\"bgcolor\":\"white\",\"lakecolor\":\"white\",\"landcolor\":\"#E5ECF6\",\"showlakes\":true,\"showland\":true,\"subunitcolor\":\"white\"},\"hoverlabel\":{\"align\":\"left\"},\"hovermode\":\"closest\",\"mapbox\":{\"style\":\"light\"},\"paper_bgcolor\":\"white\",\"plot_bgcolor\":\"#E5ECF6\",\"polar\":{\"angularaxis\":{\"gridcolor\":\"white\",\"linecolor\":\"white\",\"ticks\":\"\"},\"bgcolor\":\"#E5ECF6\",\"radialaxis\":{\"gridcolor\":\"white\",\"linecolor\":\"white\",\"ticks\":\"\"}},\"scene\":{\"xaxis\":{\"backgroundcolor\":\"#E5ECF6\",\"gridcolor\":\"white\",\"gridwidth\":2,\"linecolor\":\"white\",\"showbackground\":true,\"ticks\":\"\",\"zerolinecolor\":\"white\"},\"yaxis\":{\"backgroundcolor\":\"#E5ECF6\",\"gridcolor\":\"white\",\"gridwidth\":2,\"linecolor\":\"white\",\"showbackground\":true,\"ticks\":\"\",\"zerolinecolor\":\"white\"},\"zaxis\":{\"backgroundcolor\":\"#E5ECF6\",\"gridcolor\":\"white\",\"gridwidth\":2,\"linecolor\":\"white\",\"showbackground\":true,\"ticks\":\"\",\"zerolinecolor\":\"white\"}},\"shapedefaults\":{\"line\":{\"color\":\"#2a3f5f\"}},\"ternary\":{\"aaxis\":{\"gridcolor\":\"white\",\"linecolor\":\"white\",\"ticks\":\"\"},\"baxis\":{\"gridcolor\":\"white\",\"linecolor\":\"white\",\"ticks\":\"\"},\"bgcolor\":\"#E5ECF6\",\"caxis\":{\"gridcolor\":\"white\",\"linecolor\":\"white\",\"ticks\":\"\"}},\"title\":{\"x\":0.05},\"xaxis\":{\"automargin\":true,\"gridcolor\":\"white\",\"linecolor\":\"white\",\"ticks\":\"\",\"title\":{\"standoff\":15},\"zerolinecolor\":\"white\",\"zerolinewidth\":2},\"yaxis\":{\"automargin\":true,\"gridcolor\":\"white\",\"linecolor\":\"white\",\"ticks\":\"\",\"title\":{\"standoff\":15},\"zerolinecolor\":\"white\",\"zerolinewidth\":2}}},\"xaxis\":{\"anchor\":\"y\",\"domain\":[0.0,1.0],\"title\":{\"text\":\"index\"}},\"yaxis\":{\"anchor\":\"x\",\"domain\":[0.0,1.0],\"title\":{\"text\":\"value\"}},\"legend\":{\"title\":{\"text\":\"variable\"},\"tracegroupgap\":0},\"margin\":{\"t\":60}},                        {\"responsive\": true}                    ).then(function(){\n",
       "                            \n",
       "var gd = document.getElementById('ce584c6d-c5e9-4b3c-a0ca-0d7e332b0712');\n",
       "var x = new MutationObserver(function (mutations, observer) {{\n",
       "        var display = window.getComputedStyle(gd).display;\n",
       "        if (!display || display === 'none') {{\n",
       "            console.log([gd, 'removed!']);\n",
       "            Plotly.purge(gd);\n",
       "            observer.disconnect();\n",
       "        }}\n",
       "}});\n",
       "\n",
       "// Listen for the removal of the full notebook cells\n",
       "var notebookContainer = gd.closest('#notebook-container');\n",
       "if (notebookContainer) {{\n",
       "    x.observe(notebookContainer, {childList: true});\n",
       "}}\n",
       "\n",
       "// Listen for the clearing of the current output cell\n",
       "var outputEl = gd.closest('.output');\n",
       "if (outputEl) {{\n",
       "    x.observe(outputEl, {childList: true});\n",
       "}}\n",
       "\n",
       "                        })                };                });            </script>        </div>"
      ]
     },
     "metadata": {},
     "output_type": "display_data"
    }
   ],
   "source": [
    "# Montagem de um outro gráfico de linha \n",
    "\n",
    "fig1 = px.line(comp1, y = [\"Valores reais\", \"Valores previstos\"])\n",
    "fig1.show()"
   ]
  },
  {
   "cell_type": "code",
   "execution_count": 301,
   "metadata": {},
   "outputs": [
    {
     "name": "stdout",
     "output_type": "stream",
     "text": [
      "Coeficiente R²: -0.3650\n",
      "EMA:497861.77\n",
      "EQM:411970772533.10\n",
      "REQM:641849.49\n"
     ]
    }
   ],
   "source": [
    "# Cálculo de R^2, medida de quão bem a linha de regressão se ajusta aos dados. Varia de 0 a 1, sendo 1 o ajuste perfeito.\n",
    "# Cálculo do Erro Médio Absoluto, o valor médio absoluto da diferença entre os valores previstos e os valores reais\n",
    "# Cálculo do Erro Quadrático Médio, a média dos quadrados dos erros\n",
    "# Cálculo da raiz do Erro Quadrático Médio, que mede o mesmo que o EQM, mas na mesma unidade de medida que os valores trabalhados\n",
    "\n",
    "# cálculo do coeficiente R²\n",
    "r21 = r2_score(y1_test, y1_pred)\n",
    "\n",
    "# cálculo do erro médio absoluto (EMA)\n",
    "ema1 = mean_absolute_error(y1_test, y1_pred)\n",
    "\n",
    "# cálculo do erro quadrático médio (EQM)\n",
    "eqm1 = mean_squared_error(y1_test, y1_pred)\n",
    "\n",
    "# cálculo da raiz do erro quadrático médio (REQM)\n",
    "reqm1 = np.sqrt(eqm1)\n",
    "\n",
    "print('Coeficiente R²: {:.4f}'.format(r21))\n",
    "print('EMA:{:.2f}'.format(ema1))\n",
    "print('EQM:{:.2f}'.format(eqm1))\n",
    "print('REQM:{:.2f}'.format(reqm1))"
   ]
  },
  {
   "cell_type": "markdown",
   "metadata": {},
   "source": [
    "#### A análise é similar à obtida no modelo Vendas x Temperatura, de que o modelo não é adequado."
   ]
  },
  {
   "cell_type": "markdown",
   "metadata": {},
   "source": [
    "####  Vimos que os dois modelos não foram suficientes para nossas expectativas, portanto partiremos para outra técnica de modelo de regressão. Esse fracasso pode ser devido a um problema do Modelo Decision Tree Regression chamado Overfitting, no qual o modelo se ajusta bem à base de treino mas apresenta um desempenho ruim na base de teste. Isso pode ocorrer pois o modelo se ajustou à especificidades da base de treino. Outros problemas podem ser devido à escolha das variáveis do modelo, isto é, pode ser que Temperatura e Lojas não sejam variáveis que sirvam para prever as vendas."
   ]
  },
  {
   "cell_type": "markdown",
   "metadata": {},
   "source": [
    "<a class=\"anchor\" id=\"section_4_2\"></a>\n",
    "## Modelo Random Forest Regression \n",
    "    O princípio desse método é aplicar múltiplas árvores de regressão (Modelo Decision Tree Regression) sobre o conjunto de dados e tomar uma média."
   ]
  },
  {
   "cell_type": "markdown",
   "metadata": {},
   "source": [
    "<a class=\"anchor\" id=\"section_4_2_1\"></a>\n",
    "### Modelo Vendas x Temperatura"
   ]
  },
  {
   "cell_type": "code",
   "execution_count": 341,
   "metadata": {},
   "outputs": [],
   "source": [
    "# importação de função necessária para o modelo\n",
    "\n",
    "from sklearn.ensemble import RandomForestRegressor\n",
    "\n",
    "# criando uma variável para RandomForestRegressor()\n",
    "rf_regressor = RandomForestRegressor(n_estimators = 500, max_features = 'sqrt', max_depth = 5, random_state = 18)"
   ]
  },
  {
   "cell_type": "code",
   "execution_count": 342,
   "metadata": {},
   "outputs": [
    {
     "name": "stderr",
     "output_type": "stream",
     "text": [
      "C:\\Users\\luisz\\AppData\\Local\\Temp\\ipykernel_32480\\2051421223.py:8: DataConversionWarning:\n",
      "\n",
      "A column-vector y was passed when a 1d array was expected. Please change the shape of y to (n_samples,), for example using ravel().\n",
      "\n"
     ]
    },
    {
     "data": {
      "text/plain": [
       "RandomForestRegressor(max_depth=5, max_features='sqrt', n_estimators=500,\n",
       "                      random_state=18)"
      ]
     },
     "execution_count": 342,
     "metadata": {},
     "output_type": "execute_result"
    }
   ],
   "source": [
    "# treinando nosso conjunto de dados no modelo\n",
    "# note que usaremos as mesmas series utilizadas anteriormente, no modelo Vendas x Temperature da Tree Regression\n",
    "\n",
    "# y_train está como uma matriz unidimensional (coluna) como valor de y em vez de um array unidimensional, que é o esperado pelo\n",
    "# algoritmo, portanto iremos transformá-la\n",
    "y_train = y_train.ravel()\n",
    "\n",
    "rf_regressor.fit(X_train.reshape(-1,1), y_train.reshape(-1,1))"
   ]
  },
  {
   "cell_type": "markdown",
   "metadata": {},
   "source": [
    "Obs: mesmo aplicar a função ravel, o warning continua"
   ]
  },
  {
   "cell_type": "code",
   "execution_count": 350,
   "metadata": {},
   "outputs": [],
   "source": [
    "# fornecimento da previsão da variável dependente (vendas semanais)\n",
    "y_pred_forest = rf_regressor.predict(X_test.reshape(-1,1))"
   ]
  },
  {
   "cell_type": "code",
   "execution_count": 351,
   "metadata": {},
   "outputs": [
    {
     "data": {
      "text/html": [
       "<div>\n",
       "<style scoped>\n",
       "    .dataframe tbody tr th:only-of-type {\n",
       "        vertical-align: middle;\n",
       "    }\n",
       "\n",
       "    .dataframe tbody tr th {\n",
       "        vertical-align: top;\n",
       "    }\n",
       "\n",
       "    .dataframe thead th {\n",
       "        text-align: right;\n",
       "    }\n",
       "</style>\n",
       "<table border=\"1\" class=\"dataframe\">\n",
       "  <thead>\n",
       "    <tr style=\"text-align: right;\">\n",
       "      <th></th>\n",
       "      <th>Valores reais</th>\n",
       "      <th>Valores previstos</th>\n",
       "    </tr>\n",
       "  </thead>\n",
       "  <tbody>\n",
       "    <tr>\n",
       "      <th>0</th>\n",
       "      <td>446905.02</td>\n",
       "      <td>1.122386e+06</td>\n",
       "    </tr>\n",
       "    <tr>\n",
       "      <th>1</th>\n",
       "      <td>1743000.38</td>\n",
       "      <td>1.044083e+06</td>\n",
       "    </tr>\n",
       "    <tr>\n",
       "      <th>2</th>\n",
       "      <td>329467.82</td>\n",
       "      <td>1.028720e+06</td>\n",
       "    </tr>\n",
       "    <tr>\n",
       "      <th>3</th>\n",
       "      <td>520284.79</td>\n",
       "      <td>9.332489e+05</td>\n",
       "    </tr>\n",
       "    <tr>\n",
       "      <th>4</th>\n",
       "      <td>339976.65</td>\n",
       "      <td>1.050005e+06</td>\n",
       "    </tr>\n",
       "    <tr>\n",
       "      <th>...</th>\n",
       "      <td>...</td>\n",
       "      <td>...</td>\n",
       "    </tr>\n",
       "    <tr>\n",
       "      <th>317</th>\n",
       "      <td>1046782.52</td>\n",
       "      <td>1.052424e+06</td>\n",
       "    </tr>\n",
       "    <tr>\n",
       "      <th>318</th>\n",
       "      <td>593128.13</td>\n",
       "      <td>1.012355e+06</td>\n",
       "    </tr>\n",
       "    <tr>\n",
       "      <th>319</th>\n",
       "      <td>590636.38</td>\n",
       "      <td>9.510729e+05</td>\n",
       "    </tr>\n",
       "    <tr>\n",
       "      <th>320</th>\n",
       "      <td>2091663.20</td>\n",
       "      <td>1.029267e+06</td>\n",
       "    </tr>\n",
       "    <tr>\n",
       "      <th>321</th>\n",
       "      <td>1044639.69</td>\n",
       "      <td>1.088012e+06</td>\n",
       "    </tr>\n",
       "  </tbody>\n",
       "</table>\n",
       "<p>322 rows × 2 columns</p>\n",
       "</div>"
      ],
      "text/plain": [
       "     Valores reais  Valores previstos\n",
       "0        446905.02       1.122386e+06\n",
       "1       1743000.38       1.044083e+06\n",
       "2        329467.82       1.028720e+06\n",
       "3        520284.79       9.332489e+05\n",
       "4        339976.65       1.050005e+06\n",
       "..             ...                ...\n",
       "317     1046782.52       1.052424e+06\n",
       "318      593128.13       1.012355e+06\n",
       "319      590636.38       9.510729e+05\n",
       "320     2091663.20       1.029267e+06\n",
       "321     1044639.69       1.088012e+06\n",
       "\n",
       "[322 rows x 2 columns]"
      ]
     },
     "execution_count": 351,
     "metadata": {},
     "output_type": "execute_result"
    }
   ],
   "source": [
    "# Comparação dos valores previstos com os valores reais\n",
    "\n",
    "comp_forest = pd.DataFrame({'Valores reais':y_test.reshape(-1), 'Valores previstos':y_pred_forest.reshape(-1)})\n",
    "comp_forest"
   ]
  },
  {
   "cell_type": "code",
   "execution_count": 352,
   "metadata": {},
   "outputs": [
    {
     "data": {
      "text/html": [
       "<div>\n",
       "<style scoped>\n",
       "    .dataframe tbody tr th:only-of-type {\n",
       "        vertical-align: middle;\n",
       "    }\n",
       "\n",
       "    .dataframe tbody tr th {\n",
       "        vertical-align: top;\n",
       "    }\n",
       "\n",
       "    .dataframe thead th {\n",
       "        text-align: right;\n",
       "    }\n",
       "</style>\n",
       "<table border=\"1\" class=\"dataframe\">\n",
       "  <thead>\n",
       "    <tr style=\"text-align: right;\">\n",
       "      <th></th>\n",
       "      <th>Valores reais</th>\n",
       "      <th>Valores previstos</th>\n",
       "    </tr>\n",
       "  </thead>\n",
       "  <tbody>\n",
       "    <tr>\n",
       "      <th>0</th>\n",
       "      <td>446905.02</td>\n",
       "      <td>1122386.35</td>\n",
       "    </tr>\n",
       "    <tr>\n",
       "      <th>1</th>\n",
       "      <td>1743000.38</td>\n",
       "      <td>1044083.01</td>\n",
       "    </tr>\n",
       "    <tr>\n",
       "      <th>2</th>\n",
       "      <td>329467.82</td>\n",
       "      <td>1028719.51</td>\n",
       "    </tr>\n",
       "    <tr>\n",
       "      <th>3</th>\n",
       "      <td>520284.79</td>\n",
       "      <td>933248.91</td>\n",
       "    </tr>\n",
       "    <tr>\n",
       "      <th>4</th>\n",
       "      <td>339976.65</td>\n",
       "      <td>1050005.45</td>\n",
       "    </tr>\n",
       "    <tr>\n",
       "      <th>...</th>\n",
       "      <td>...</td>\n",
       "      <td>...</td>\n",
       "    </tr>\n",
       "    <tr>\n",
       "      <th>317</th>\n",
       "      <td>1046782.52</td>\n",
       "      <td>1052423.63</td>\n",
       "    </tr>\n",
       "    <tr>\n",
       "      <th>318</th>\n",
       "      <td>593128.13</td>\n",
       "      <td>1012355.30</td>\n",
       "    </tr>\n",
       "    <tr>\n",
       "      <th>319</th>\n",
       "      <td>590636.38</td>\n",
       "      <td>951072.91</td>\n",
       "    </tr>\n",
       "    <tr>\n",
       "      <th>320</th>\n",
       "      <td>2091663.20</td>\n",
       "      <td>1029267.43</td>\n",
       "    </tr>\n",
       "    <tr>\n",
       "      <th>321</th>\n",
       "      <td>1044639.69</td>\n",
       "      <td>1088012.49</td>\n",
       "    </tr>\n",
       "  </tbody>\n",
       "</table>\n",
       "<p>322 rows × 2 columns</p>\n",
       "</div>"
      ],
      "text/plain": [
       "     Valores reais  Valores previstos\n",
       "0        446905.02         1122386.35\n",
       "1       1743000.38         1044083.01\n",
       "2        329467.82         1028719.51\n",
       "3        520284.79          933248.91\n",
       "4        339976.65         1050005.45\n",
       "..             ...                ...\n",
       "317     1046782.52         1052423.63\n",
       "318      593128.13         1012355.30\n",
       "319      590636.38          951072.91\n",
       "320     2091663.20         1029267.43\n",
       "321     1044639.69         1088012.49\n",
       "\n",
       "[322 rows x 2 columns]"
      ]
     },
     "execution_count": 352,
     "metadata": {},
     "output_type": "execute_result"
    }
   ],
   "source": [
    "# Mudaremos o formato da coluna 'Valores previstos', para visualizarmos o número completo e não em notação científica\n",
    "\n",
    "comp_forest['Valores previstos'] = comp_forest['Valores previstos'].map(lambda x: '{:.2f}'.format(x)).astype(float)\n",
    "comp_forest"
   ]
  },
  {
   "cell_type": "code",
   "execution_count": 353,
   "metadata": {
    "scrolled": false
   },
   "outputs": [
    {
     "data": {
      "application/vnd.plotly.v1+json": {
       "config": {
        "plotlyServerURL": "https://plot.ly"
       },
       "data": [
        {
         "hovertemplate": "variable=Valores reais<br>index=%{x}<br>value=%{y}<extra></extra>",
         "legendgroup": "Valores reais",
         "line": {
          "color": "#636efa",
          "dash": "solid"
         },
         "marker": {
          "symbol": "circle"
         },
         "mode": "lines",
         "name": "Valores reais",
         "orientation": "v",
         "showlegend": true,
         "type": "scatter",
         "x": [
          0,
          1,
          2,
          3,
          4,
          5,
          6,
          7,
          8,
          9,
          10,
          11,
          12,
          13,
          14,
          15,
          16,
          17,
          18,
          19,
          20,
          21,
          22,
          23,
          24,
          25,
          26,
          27,
          28,
          29,
          30,
          31,
          32,
          33,
          34,
          35,
          36,
          37,
          38,
          39,
          40,
          41,
          42,
          43,
          44,
          45,
          46,
          47,
          48,
          49,
          50,
          51,
          52,
          53,
          54,
          55,
          56,
          57,
          58,
          59,
          60,
          61,
          62,
          63,
          64,
          65,
          66,
          67,
          68,
          69,
          70,
          71,
          72,
          73,
          74,
          75,
          76,
          77,
          78,
          79,
          80,
          81,
          82,
          83,
          84,
          85,
          86,
          87,
          88,
          89,
          90,
          91,
          92,
          93,
          94,
          95,
          96,
          97,
          98,
          99,
          100,
          101,
          102,
          103,
          104,
          105,
          106,
          107,
          108,
          109,
          110,
          111,
          112,
          113,
          114,
          115,
          116,
          117,
          118,
          119,
          120,
          121,
          122,
          123,
          124,
          125,
          126,
          127,
          128,
          129,
          130,
          131,
          132,
          133,
          134,
          135,
          136,
          137,
          138,
          139,
          140,
          141,
          142,
          143,
          144,
          145,
          146,
          147,
          148,
          149,
          150,
          151,
          152,
          153,
          154,
          155,
          156,
          157,
          158,
          159,
          160,
          161,
          162,
          163,
          164,
          165,
          166,
          167,
          168,
          169,
          170,
          171,
          172,
          173,
          174,
          175,
          176,
          177,
          178,
          179,
          180,
          181,
          182,
          183,
          184,
          185,
          186,
          187,
          188,
          189,
          190,
          191,
          192,
          193,
          194,
          195,
          196,
          197,
          198,
          199,
          200,
          201,
          202,
          203,
          204,
          205,
          206,
          207,
          208,
          209,
          210,
          211,
          212,
          213,
          214,
          215,
          216,
          217,
          218,
          219,
          220,
          221,
          222,
          223,
          224,
          225,
          226,
          227,
          228,
          229,
          230,
          231,
          232,
          233,
          234,
          235,
          236,
          237,
          238,
          239,
          240,
          241,
          242,
          243,
          244,
          245,
          246,
          247,
          248,
          249,
          250,
          251,
          252,
          253,
          254,
          255,
          256,
          257,
          258,
          259,
          260,
          261,
          262,
          263,
          264,
          265,
          266,
          267,
          268,
          269,
          270,
          271,
          272,
          273,
          274,
          275,
          276,
          277,
          278,
          279,
          280,
          281,
          282,
          283,
          284,
          285,
          286,
          287,
          288,
          289,
          290,
          291,
          292,
          293,
          294,
          295,
          296,
          297,
          298,
          299,
          300,
          301,
          302,
          303,
          304,
          305,
          306,
          307,
          308,
          309,
          310,
          311,
          312,
          313,
          314,
          315,
          316,
          317,
          318,
          319,
          320,
          321
         ],
         "xaxis": "x",
         "y": [
          446905.02,
          1743000.38,
          329467.82,
          520284.79,
          339976.65,
          855001.02,
          424904.95,
          1865820.81,
          870971.82,
          1333347.78,
          2316495.56,
          537300.94,
          443891.64,
          1133807.03,
          339407.94,
          1159089.6,
          442894.2,
          506705.36,
          1887895.07,
          892133.41,
          303438.24,
          869403.63,
          606755.3,
          1495536.46,
          224031.19,
          556046.12,
          330063.06,
          983232.96,
          900646.9400000001,
          326469.43,
          1294769.08,
          1834737.58,
          432782.1,
          1796203.51,
          1187776.19,
          696844.36,
          2076570.84,
          1361944.94,
          360617.37,
          1045722.37,
          814395.17,
          1765584.48,
          818434.49,
          1466046.67,
          758182.2,
          439424.5,
          248051.53,
          1402372.09,
          1639999.47,
          1601377.41,
          457883.94,
          2090838.44,
          777175.28,
          1189887.8599999999,
          926934.5700000001,
          643125.29,
          499267.66000000003,
          2083379.8900000001,
          1630564.48,
          340147.2,
          590453.63,
          378241.33999999997,
          517783.5,
          411116.95,
          992621.9299999999,
          282235.73,
          1056478.65,
          442074.79,
          1169831.38,
          2105301.39,
          1807545.43,
          2163510.89,
          820288.35,
          2128362.92,
          1081322.12,
          1355704.21,
          513372.17,
          704344.21,
          1867403.01,
          1442873.22,
          1261964.96,
          466806.89,
          2207742.13,
          655811.9500000001,
          1061089.56,
          1484169.74,
          1357154.71,
          1353838.39,
          795859.23,
          1083811.19,
          1198709.65,
          479855,
          1661767.33,
          1142499.25,
          1711562.73,
          1235094.66,
          1176588.25,
          1042226.2999999999,
          1594968.28,
          1323999.36,
          1434036.18,
          529384.3099999999,
          1378340.18,
          955506.95,
          553834.04,
          323233.8,
          972663.59,
          1517029.9,
          1635984.07,
          435481.03,
          272489.41,
          1306644.25,
          2614202.3,
          751167.12,
          306827.36,
          2001636.96,
          1075656.34,
          1367448.28,
          434252.14999999997,
          873450.29,
          1046068.17,
          1675562.94,
          1001790.16,
          1345167.61,
          496083.24,
          988742.08,
          1265852.43,
          536144.81,
          2095769.18,
          1628868.28,
          1899959.61,
          705557.97,
          2182246.69,
          224639.76,
          985594.23,
          903882.96,
          1014218.8,
          284052.77,
          1874289.79,
          1514999.17,
          472330.71,
          488008.83,
          713250.08,
          537064.03,
          549505.55,
          570611.23,
          283248.62,
          1356689.88,
          287425.22,
          465493.15,
          1230011.95,
          265003.47,
          338386.08,
          2302504.86,
          528807.45,
          996147.39,
          534372.53,
          1015654.6,
          855046.95,
          481119.6,
          1201059.72,
          1892775.94,
          871692.74,
          1404576.48,
          504566.27999999997,
          302881.64,
          1124537.97,
          1127859.69,
          283455.13,
          337743.26,
          383550.93,
          1111797.21,
          1033543.56,
          873415.01,
          1033719.5,
          1327719.34,
          1876359.39,
          372545.32,
          1953544.76,
          540922.94,
          1499727.02,
          1367320.01,
          298947.51,
          693785.85,
          380376.85,
          1911559.1,
          1065108.64,
          2000940.67,
          568093.57,
          404751.25,
          1935857.58,
          460331.7,
          680254.35,
          534578.78,
          1107366.06,
          469787.38,
          588363.62,
          1542173.33,
          329033.66,
          636193.24,
          1876788.15,
          847592.11,
          876583.98,
          1557776.1,
          1052034.74,
          1140501.03,
          650102.8,
          1086421.57,
          996723.58,
          1084894.47,
          1954849.68,
          488880.26,
          963382.09,
          1970340.25,
          1707298.1400000001,
          324839.74,
          400430.78,
          1352219.79,
          643603.69,
          579068.88,
          1297792.41,
          1266796.13,
          1949183.14,
          1842555.32,
          1532893.22,
          2678206.42,
          994610.43,
          1511068.07,
          1270577.01,
          914500.91,
          1359770.73,
          504856.97,
          260636.71,
          618877.13,
          605078.62,
          658468.27,
          986922.62,
          1357036.1,
          612379.9,
          1931104.67,
          1150003.36,
          1472752.01,
          2119163.01,
          1420405.41,
          1336522.92,
          1494417.07,
          423805.22,
          2283540.3,
          1852443.78,
          527117.81,
          971615.62,
          410711.99,
          1027584.51,
          549967.89,
          1115138.51,
          299757.75,
          438516.53,
          2227152.16,
          506273.74,
          1820723.17,
          1643690.9,
          767338.32,
          453632.76,
          919229.36,
          579874.22,
          1368318.17,
          1412925.25,
          537138.58,
          1061134.3699999999,
          541216.92,
          1284185.49,
          912958.95,
          462888.13,
          1115985.81,
          1344354.41,
          1641957.44,
          1259877.19,
          1724669.75,
          261837.2,
          1910092.3699999999,
          378100.31,
          1527014.04,
          918170.5,
          613042.97,
          628989.88,
          1063310.62,
          1858856.06,
          1840686.94,
          478773.05,
          953533.9500000001,
          561137.06,
          919839.19,
          1206795.74,
          918335.68,
          2035244.54,
          1893447.71,
          844958.49,
          384659.85,
          1939061.41,
          416913.1,
          490970.95,
          2762816.65,
          1033552.18,
          1529615.54,
          1372484.9000000001,
          1360150.12,
          1063149.78,
          1636263.41,
          1358816.46,
          1384584.5899999999,
          433037.66000000003,
          1413382.76,
          569105.03,
          613501.05,
          1120731.76,
          921264.52,
          1113208.57,
          1046782.52,
          593128.13,
          590636.38,
          2091663.2,
          1044639.69
         ],
         "yaxis": "y"
        },
        {
         "hovertemplate": "variable=Valores previstos<br>index=%{x}<br>value=%{y}<extra></extra>",
         "legendgroup": "Valores previstos",
         "line": {
          "color": "#EF553B",
          "dash": "solid"
         },
         "marker": {
          "symbol": "circle"
         },
         "mode": "lines",
         "name": "Valores previstos",
         "orientation": "v",
         "showlegend": true,
         "type": "scatter",
         "x": [
          0,
          1,
          2,
          3,
          4,
          5,
          6,
          7,
          8,
          9,
          10,
          11,
          12,
          13,
          14,
          15,
          16,
          17,
          18,
          19,
          20,
          21,
          22,
          23,
          24,
          25,
          26,
          27,
          28,
          29,
          30,
          31,
          32,
          33,
          34,
          35,
          36,
          37,
          38,
          39,
          40,
          41,
          42,
          43,
          44,
          45,
          46,
          47,
          48,
          49,
          50,
          51,
          52,
          53,
          54,
          55,
          56,
          57,
          58,
          59,
          60,
          61,
          62,
          63,
          64,
          65,
          66,
          67,
          68,
          69,
          70,
          71,
          72,
          73,
          74,
          75,
          76,
          77,
          78,
          79,
          80,
          81,
          82,
          83,
          84,
          85,
          86,
          87,
          88,
          89,
          90,
          91,
          92,
          93,
          94,
          95,
          96,
          97,
          98,
          99,
          100,
          101,
          102,
          103,
          104,
          105,
          106,
          107,
          108,
          109,
          110,
          111,
          112,
          113,
          114,
          115,
          116,
          117,
          118,
          119,
          120,
          121,
          122,
          123,
          124,
          125,
          126,
          127,
          128,
          129,
          130,
          131,
          132,
          133,
          134,
          135,
          136,
          137,
          138,
          139,
          140,
          141,
          142,
          143,
          144,
          145,
          146,
          147,
          148,
          149,
          150,
          151,
          152,
          153,
          154,
          155,
          156,
          157,
          158,
          159,
          160,
          161,
          162,
          163,
          164,
          165,
          166,
          167,
          168,
          169,
          170,
          171,
          172,
          173,
          174,
          175,
          176,
          177,
          178,
          179,
          180,
          181,
          182,
          183,
          184,
          185,
          186,
          187,
          188,
          189,
          190,
          191,
          192,
          193,
          194,
          195,
          196,
          197,
          198,
          199,
          200,
          201,
          202,
          203,
          204,
          205,
          206,
          207,
          208,
          209,
          210,
          211,
          212,
          213,
          214,
          215,
          216,
          217,
          218,
          219,
          220,
          221,
          222,
          223,
          224,
          225,
          226,
          227,
          228,
          229,
          230,
          231,
          232,
          233,
          234,
          235,
          236,
          237,
          238,
          239,
          240,
          241,
          242,
          243,
          244,
          245,
          246,
          247,
          248,
          249,
          250,
          251,
          252,
          253,
          254,
          255,
          256,
          257,
          258,
          259,
          260,
          261,
          262,
          263,
          264,
          265,
          266,
          267,
          268,
          269,
          270,
          271,
          272,
          273,
          274,
          275,
          276,
          277,
          278,
          279,
          280,
          281,
          282,
          283,
          284,
          285,
          286,
          287,
          288,
          289,
          290,
          291,
          292,
          293,
          294,
          295,
          296,
          297,
          298,
          299,
          300,
          301,
          302,
          303,
          304,
          305,
          306,
          307,
          308,
          309,
          310,
          311,
          312,
          313,
          314,
          315,
          316,
          317,
          318,
          319,
          320,
          321
         ],
         "xaxis": "x",
         "y": [
          1122386.35,
          1044083.01,
          1028719.51,
          933248.91,
          1050005.45,
          1083220.76,
          999206.35,
          1057785.79,
          1052423.63,
          1050561.9,
          1115527.22,
          1042178.23,
          1049406.25,
          1045414.99,
          1060063.06,
          1126808.59,
          1103466.78,
          1068968.87,
          1087443.13,
          1058964.69,
          1118958.86,
          1118958.86,
          1050561.9,
          1040701.12,
          667388.84,
          1020995.68,
          1050561.9,
          1067745.44,
          1107679.3,
          1050005.45,
          1068815.58,
          1083220.16,
          1041684.03,
          1089926.92,
          1063968.79,
          927921.48,
          1055960.16,
          1039622.2,
          946008.54,
          1089155.27,
          1060334.95,
          1051671.85,
          1118066.7,
          1065016.16,
          1079928.17,
          1051131.89,
          1045650.22,
          1052758.98,
          1047784.58,
          1134636.4,
          1051183.35,
          1053466.53,
          1096641.13,
          1050298.31,
          969194.93,
          1055960.16,
          1051583.28,
          1095717.75,
          1055941.14,
          1029733.91,
          1058964.69,
          1056074.4,
          1039622.2,
          1103231.55,
          1155915.36,
          1048614.37,
          1050561.9,
          948177.16,
          1061973.03,
          1051671.85,
          1121734.76,
          1041531.18,
          1055060.24,
          943905.9,
          1099120.88,
          1072592.65,
          784688.74,
          1033011.87,
          1033627.23,
          1077900.67,
          1118658.7,
          918042.42,
          1049540.11,
          1048837.62,
          1050933.41,
          974704.76,
          1083360.64,
          1050933.41,
          1118632.11,
          1050173.98,
          1117664.37,
          1061696.89,
          940752.36,
          1045650.22,
          1058984.58,
          1039622.2,
          1050005.45,
          1039622.2,
          1045925.86,
          1051671.85,
          1050174.51,
          1049173.04,
          1052758.98,
          1054157.84,
          1061728.44,
          1099396.39,
          1118632.11,
          1085929.86,
          1108464.19,
          955034.8,
          1058592.56,
          1017995.81,
          1026761.64,
          909514.39,
          944565.92,
          936026.04,
          1120269.83,
          1050005.45,
          1026455.54,
          1135160.33,
          1088012.49,
          1024310.82,
          1226523.45,
          986272.56,
          1125842.84,
          1119834.92,
          1051671.85,
          1096862.49,
          1037260.6,
          1118840.28,
          1049173.04,
          1135185.13,
          1057785.79,
          1039697.67,
          1119831.12,
          1085848.52,
          1029545.02,
          1029267.43,
          1089226.71,
          1119040.68,
          1089471.32,
          1135014.47,
          1121546.54,
          952271.35,
          1118958.86,
          1131671.13,
          975404.11,
          1050535.92,
          1097803.21,
          1119231.1,
          1117664.37,
          813904.01,
          1009501.58,
          1119546.27,
          1052647.89,
          1095036.78,
          1058173.39,
          1093702.32,
          1062137.88,
          829029.24,
          1019967.52,
          1096478.85,
          985106.37,
          1026339.8,
          1143721.36,
          953567.33,
          1121814.3,
          1038299.93,
          1051226.18,
          1068815.58,
          1118568.05,
          930830.33,
          1063277.02,
          1051583.28,
          1068815.58,
          981440.13,
          985106.37,
          1028736.92,
          1065553.55,
          1053785.52,
          1052423.63,
          1081761.01,
          925621.81,
          922477.05,
          963241.59,
          1063570.87,
          1028152.25,
          1049043.46,
          1114039.22,
          1098528.12,
          1062570.43,
          1063842.27,
          1119231.1,
          1050561.9,
          1050005.45,
          1075409.77,
          1078683.66,
          1098667.85,
          1046504.99,
          1051468.28,
          1064475.19,
          1118958.86,
          1054789.96,
          1118463.89,
          1107238.4,
          1069623.81,
          1039592.28,
          1060179.18,
          1027221.86,
          1118958.86,
          914491.79,
          1132095.03,
          1134672.45,
          1049562.81,
          1108464.19,
          1052423.63,
          1050561.9,
          932050.39,
          1071203.17,
          1060179.18,
          851986.51,
          1062466.68,
          1132652.38,
          1058964.69,
          1052438.24,
          1090591.55,
          1028736.92,
          1050697.31,
          1063004.18,
          1047614.73,
          1064915.63,
          1097389.58,
          1118568.05,
          1063456.44,
          999357.62,
          1049540.11,
          1096315.33,
          1051724.5,
          1071203.17,
          1087443.13,
          926616.64,
          1055753.82,
          995529.92,
          1017530.06,
          929231.62,
          1052758.98,
          1118958.86,
          985511.47,
          1089232.33,
          1061696.89,
          1050406.08,
          1052758.98,
          1103430.51,
          1023673.03,
          1090330.09,
          1054157.84,
          1100484.12,
          1052516,
          1066886.61,
          1050933.41,
          1125351.21,
          1046408.62,
          1119068.42,
          1068974.48,
          1107727.2,
          1153873.7,
          1115527.22,
          1040978.97,
          1041201.36,
          1092051.46,
          890605.54,
          1118632.11,
          1093702.32,
          1119528.27,
          1089471.32,
          1118958.86,
          1063004.18,
          1057689.42,
          1055060.24,
          1077144.54,
          1118568.05,
          1063456.44,
          1140583.14,
          1059154.1,
          1048723.45,
          1092148.78,
          1047463.76,
          1118433.03,
          1118632.11,
          1047614.73,
          1119528.27,
          1078209.5,
          1059660.1,
          1049562.81,
          965045.18,
          1016755.56,
          1092051.46,
          1054789.96,
          1029733.91,
          961946.99,
          1118658.7,
          1120116.38,
          1052516,
          1125351.21,
          1103272.85,
          1119068.42,
          1048262.6,
          1019178.01,
          1118958.86,
          1049173.04,
          1053785.23,
          1042045.88,
          1071414.97,
          1118723.55,
          1019396.46,
          1108464.19,
          1030781.01,
          1052423.63,
          1012355.3,
          951072.91,
          1029267.43,
          1088012.49
         ],
         "yaxis": "y"
        }
       ],
       "layout": {
        "legend": {
         "title": {
          "text": "variable"
         },
         "tracegroupgap": 0
        },
        "margin": {
         "t": 60
        },
        "template": {
         "data": {
          "bar": [
           {
            "error_x": {
             "color": "#2a3f5f"
            },
            "error_y": {
             "color": "#2a3f5f"
            },
            "marker": {
             "line": {
              "color": "#E5ECF6",
              "width": 0.5
             },
             "pattern": {
              "fillmode": "overlay",
              "size": 10,
              "solidity": 0.2
             }
            },
            "type": "bar"
           }
          ],
          "barpolar": [
           {
            "marker": {
             "line": {
              "color": "#E5ECF6",
              "width": 0.5
             },
             "pattern": {
              "fillmode": "overlay",
              "size": 10,
              "solidity": 0.2
             }
            },
            "type": "barpolar"
           }
          ],
          "carpet": [
           {
            "aaxis": {
             "endlinecolor": "#2a3f5f",
             "gridcolor": "white",
             "linecolor": "white",
             "minorgridcolor": "white",
             "startlinecolor": "#2a3f5f"
            },
            "baxis": {
             "endlinecolor": "#2a3f5f",
             "gridcolor": "white",
             "linecolor": "white",
             "minorgridcolor": "white",
             "startlinecolor": "#2a3f5f"
            },
            "type": "carpet"
           }
          ],
          "choropleth": [
           {
            "colorbar": {
             "outlinewidth": 0,
             "ticks": ""
            },
            "type": "choropleth"
           }
          ],
          "contour": [
           {
            "colorbar": {
             "outlinewidth": 0,
             "ticks": ""
            },
            "colorscale": [
             [
              0,
              "#0d0887"
             ],
             [
              0.1111111111111111,
              "#46039f"
             ],
             [
              0.2222222222222222,
              "#7201a8"
             ],
             [
              0.3333333333333333,
              "#9c179e"
             ],
             [
              0.4444444444444444,
              "#bd3786"
             ],
             [
              0.5555555555555556,
              "#d8576b"
             ],
             [
              0.6666666666666666,
              "#ed7953"
             ],
             [
              0.7777777777777778,
              "#fb9f3a"
             ],
             [
              0.8888888888888888,
              "#fdca26"
             ],
             [
              1,
              "#f0f921"
             ]
            ],
            "type": "contour"
           }
          ],
          "contourcarpet": [
           {
            "colorbar": {
             "outlinewidth": 0,
             "ticks": ""
            },
            "type": "contourcarpet"
           }
          ],
          "heatmap": [
           {
            "colorbar": {
             "outlinewidth": 0,
             "ticks": ""
            },
            "colorscale": [
             [
              0,
              "#0d0887"
             ],
             [
              0.1111111111111111,
              "#46039f"
             ],
             [
              0.2222222222222222,
              "#7201a8"
             ],
             [
              0.3333333333333333,
              "#9c179e"
             ],
             [
              0.4444444444444444,
              "#bd3786"
             ],
             [
              0.5555555555555556,
              "#d8576b"
             ],
             [
              0.6666666666666666,
              "#ed7953"
             ],
             [
              0.7777777777777778,
              "#fb9f3a"
             ],
             [
              0.8888888888888888,
              "#fdca26"
             ],
             [
              1,
              "#f0f921"
             ]
            ],
            "type": "heatmap"
           }
          ],
          "heatmapgl": [
           {
            "colorbar": {
             "outlinewidth": 0,
             "ticks": ""
            },
            "colorscale": [
             [
              0,
              "#0d0887"
             ],
             [
              0.1111111111111111,
              "#46039f"
             ],
             [
              0.2222222222222222,
              "#7201a8"
             ],
             [
              0.3333333333333333,
              "#9c179e"
             ],
             [
              0.4444444444444444,
              "#bd3786"
             ],
             [
              0.5555555555555556,
              "#d8576b"
             ],
             [
              0.6666666666666666,
              "#ed7953"
             ],
             [
              0.7777777777777778,
              "#fb9f3a"
             ],
             [
              0.8888888888888888,
              "#fdca26"
             ],
             [
              1,
              "#f0f921"
             ]
            ],
            "type": "heatmapgl"
           }
          ],
          "histogram": [
           {
            "marker": {
             "pattern": {
              "fillmode": "overlay",
              "size": 10,
              "solidity": 0.2
             }
            },
            "type": "histogram"
           }
          ],
          "histogram2d": [
           {
            "colorbar": {
             "outlinewidth": 0,
             "ticks": ""
            },
            "colorscale": [
             [
              0,
              "#0d0887"
             ],
             [
              0.1111111111111111,
              "#46039f"
             ],
             [
              0.2222222222222222,
              "#7201a8"
             ],
             [
              0.3333333333333333,
              "#9c179e"
             ],
             [
              0.4444444444444444,
              "#bd3786"
             ],
             [
              0.5555555555555556,
              "#d8576b"
             ],
             [
              0.6666666666666666,
              "#ed7953"
             ],
             [
              0.7777777777777778,
              "#fb9f3a"
             ],
             [
              0.8888888888888888,
              "#fdca26"
             ],
             [
              1,
              "#f0f921"
             ]
            ],
            "type": "histogram2d"
           }
          ],
          "histogram2dcontour": [
           {
            "colorbar": {
             "outlinewidth": 0,
             "ticks": ""
            },
            "colorscale": [
             [
              0,
              "#0d0887"
             ],
             [
              0.1111111111111111,
              "#46039f"
             ],
             [
              0.2222222222222222,
              "#7201a8"
             ],
             [
              0.3333333333333333,
              "#9c179e"
             ],
             [
              0.4444444444444444,
              "#bd3786"
             ],
             [
              0.5555555555555556,
              "#d8576b"
             ],
             [
              0.6666666666666666,
              "#ed7953"
             ],
             [
              0.7777777777777778,
              "#fb9f3a"
             ],
             [
              0.8888888888888888,
              "#fdca26"
             ],
             [
              1,
              "#f0f921"
             ]
            ],
            "type": "histogram2dcontour"
           }
          ],
          "mesh3d": [
           {
            "colorbar": {
             "outlinewidth": 0,
             "ticks": ""
            },
            "type": "mesh3d"
           }
          ],
          "parcoords": [
           {
            "line": {
             "colorbar": {
              "outlinewidth": 0,
              "ticks": ""
             }
            },
            "type": "parcoords"
           }
          ],
          "pie": [
           {
            "automargin": true,
            "type": "pie"
           }
          ],
          "scatter": [
           {
            "marker": {
             "colorbar": {
              "outlinewidth": 0,
              "ticks": ""
             }
            },
            "type": "scatter"
           }
          ],
          "scatter3d": [
           {
            "line": {
             "colorbar": {
              "outlinewidth": 0,
              "ticks": ""
             }
            },
            "marker": {
             "colorbar": {
              "outlinewidth": 0,
              "ticks": ""
             }
            },
            "type": "scatter3d"
           }
          ],
          "scattercarpet": [
           {
            "marker": {
             "colorbar": {
              "outlinewidth": 0,
              "ticks": ""
             }
            },
            "type": "scattercarpet"
           }
          ],
          "scattergeo": [
           {
            "marker": {
             "colorbar": {
              "outlinewidth": 0,
              "ticks": ""
             }
            },
            "type": "scattergeo"
           }
          ],
          "scattergl": [
           {
            "marker": {
             "colorbar": {
              "outlinewidth": 0,
              "ticks": ""
             }
            },
            "type": "scattergl"
           }
          ],
          "scattermapbox": [
           {
            "marker": {
             "colorbar": {
              "outlinewidth": 0,
              "ticks": ""
             }
            },
            "type": "scattermapbox"
           }
          ],
          "scatterpolar": [
           {
            "marker": {
             "colorbar": {
              "outlinewidth": 0,
              "ticks": ""
             }
            },
            "type": "scatterpolar"
           }
          ],
          "scatterpolargl": [
           {
            "marker": {
             "colorbar": {
              "outlinewidth": 0,
              "ticks": ""
             }
            },
            "type": "scatterpolargl"
           }
          ],
          "scatterternary": [
           {
            "marker": {
             "colorbar": {
              "outlinewidth": 0,
              "ticks": ""
             }
            },
            "type": "scatterternary"
           }
          ],
          "surface": [
           {
            "colorbar": {
             "outlinewidth": 0,
             "ticks": ""
            },
            "colorscale": [
             [
              0,
              "#0d0887"
             ],
             [
              0.1111111111111111,
              "#46039f"
             ],
             [
              0.2222222222222222,
              "#7201a8"
             ],
             [
              0.3333333333333333,
              "#9c179e"
             ],
             [
              0.4444444444444444,
              "#bd3786"
             ],
             [
              0.5555555555555556,
              "#d8576b"
             ],
             [
              0.6666666666666666,
              "#ed7953"
             ],
             [
              0.7777777777777778,
              "#fb9f3a"
             ],
             [
              0.8888888888888888,
              "#fdca26"
             ],
             [
              1,
              "#f0f921"
             ]
            ],
            "type": "surface"
           }
          ],
          "table": [
           {
            "cells": {
             "fill": {
              "color": "#EBF0F8"
             },
             "line": {
              "color": "white"
             }
            },
            "header": {
             "fill": {
              "color": "#C8D4E3"
             },
             "line": {
              "color": "white"
             }
            },
            "type": "table"
           }
          ]
         },
         "layout": {
          "annotationdefaults": {
           "arrowcolor": "#2a3f5f",
           "arrowhead": 0,
           "arrowwidth": 1
          },
          "autotypenumbers": "strict",
          "coloraxis": {
           "colorbar": {
            "outlinewidth": 0,
            "ticks": ""
           }
          },
          "colorscale": {
           "diverging": [
            [
             0,
             "#8e0152"
            ],
            [
             0.1,
             "#c51b7d"
            ],
            [
             0.2,
             "#de77ae"
            ],
            [
             0.3,
             "#f1b6da"
            ],
            [
             0.4,
             "#fde0ef"
            ],
            [
             0.5,
             "#f7f7f7"
            ],
            [
             0.6,
             "#e6f5d0"
            ],
            [
             0.7,
             "#b8e186"
            ],
            [
             0.8,
             "#7fbc41"
            ],
            [
             0.9,
             "#4d9221"
            ],
            [
             1,
             "#276419"
            ]
           ],
           "sequential": [
            [
             0,
             "#0d0887"
            ],
            [
             0.1111111111111111,
             "#46039f"
            ],
            [
             0.2222222222222222,
             "#7201a8"
            ],
            [
             0.3333333333333333,
             "#9c179e"
            ],
            [
             0.4444444444444444,
             "#bd3786"
            ],
            [
             0.5555555555555556,
             "#d8576b"
            ],
            [
             0.6666666666666666,
             "#ed7953"
            ],
            [
             0.7777777777777778,
             "#fb9f3a"
            ],
            [
             0.8888888888888888,
             "#fdca26"
            ],
            [
             1,
             "#f0f921"
            ]
           ],
           "sequentialminus": [
            [
             0,
             "#0d0887"
            ],
            [
             0.1111111111111111,
             "#46039f"
            ],
            [
             0.2222222222222222,
             "#7201a8"
            ],
            [
             0.3333333333333333,
             "#9c179e"
            ],
            [
             0.4444444444444444,
             "#bd3786"
            ],
            [
             0.5555555555555556,
             "#d8576b"
            ],
            [
             0.6666666666666666,
             "#ed7953"
            ],
            [
             0.7777777777777778,
             "#fb9f3a"
            ],
            [
             0.8888888888888888,
             "#fdca26"
            ],
            [
             1,
             "#f0f921"
            ]
           ]
          },
          "colorway": [
           "#636efa",
           "#EF553B",
           "#00cc96",
           "#ab63fa",
           "#FFA15A",
           "#19d3f3",
           "#FF6692",
           "#B6E880",
           "#FF97FF",
           "#FECB52"
          ],
          "font": {
           "color": "#2a3f5f"
          },
          "geo": {
           "bgcolor": "white",
           "lakecolor": "white",
           "landcolor": "#E5ECF6",
           "showlakes": true,
           "showland": true,
           "subunitcolor": "white"
          },
          "hoverlabel": {
           "align": "left"
          },
          "hovermode": "closest",
          "mapbox": {
           "style": "light"
          },
          "paper_bgcolor": "white",
          "plot_bgcolor": "#E5ECF6",
          "polar": {
           "angularaxis": {
            "gridcolor": "white",
            "linecolor": "white",
            "ticks": ""
           },
           "bgcolor": "#E5ECF6",
           "radialaxis": {
            "gridcolor": "white",
            "linecolor": "white",
            "ticks": ""
           }
          },
          "scene": {
           "xaxis": {
            "backgroundcolor": "#E5ECF6",
            "gridcolor": "white",
            "gridwidth": 2,
            "linecolor": "white",
            "showbackground": true,
            "ticks": "",
            "zerolinecolor": "white"
           },
           "yaxis": {
            "backgroundcolor": "#E5ECF6",
            "gridcolor": "white",
            "gridwidth": 2,
            "linecolor": "white",
            "showbackground": true,
            "ticks": "",
            "zerolinecolor": "white"
           },
           "zaxis": {
            "backgroundcolor": "#E5ECF6",
            "gridcolor": "white",
            "gridwidth": 2,
            "linecolor": "white",
            "showbackground": true,
            "ticks": "",
            "zerolinecolor": "white"
           }
          },
          "shapedefaults": {
           "line": {
            "color": "#2a3f5f"
           }
          },
          "ternary": {
           "aaxis": {
            "gridcolor": "white",
            "linecolor": "white",
            "ticks": ""
           },
           "baxis": {
            "gridcolor": "white",
            "linecolor": "white",
            "ticks": ""
           },
           "bgcolor": "#E5ECF6",
           "caxis": {
            "gridcolor": "white",
            "linecolor": "white",
            "ticks": ""
           }
          },
          "title": {
           "x": 0.05
          },
          "xaxis": {
           "automargin": true,
           "gridcolor": "white",
           "linecolor": "white",
           "ticks": "",
           "title": {
            "standoff": 15
           },
           "zerolinecolor": "white",
           "zerolinewidth": 2
          },
          "yaxis": {
           "automargin": true,
           "gridcolor": "white",
           "linecolor": "white",
           "ticks": "",
           "title": {
            "standoff": 15
           },
           "zerolinecolor": "white",
           "zerolinewidth": 2
          }
         }
        },
        "xaxis": {
         "anchor": "y",
         "domain": [
          0,
          1
         ],
         "title": {
          "text": "index"
         }
        },
        "yaxis": {
         "anchor": "x",
         "domain": [
          0,
          1
         ],
         "title": {
          "text": "value"
         }
        }
       }
      },
      "text/html": [
       "<div>                            <div id=\"6f9d5d6b-9cb6-48d2-b9a5-b30206137038\" class=\"plotly-graph-div\" style=\"height:525px; width:100%;\"></div>            <script type=\"text/javascript\">                require([\"plotly\"], function(Plotly) {                    window.PLOTLYENV=window.PLOTLYENV || {};                                    if (document.getElementById(\"6f9d5d6b-9cb6-48d2-b9a5-b30206137038\")) {                    Plotly.newPlot(                        \"6f9d5d6b-9cb6-48d2-b9a5-b30206137038\",                        [{\"hovertemplate\":\"variable=Valores reais<br>index=%{x}<br>value=%{y}<extra></extra>\",\"legendgroup\":\"Valores reais\",\"line\":{\"color\":\"#636efa\",\"dash\":\"solid\"},\"marker\":{\"symbol\":\"circle\"},\"mode\":\"lines\",\"name\":\"Valores reais\",\"orientation\":\"v\",\"showlegend\":true,\"x\":[0,1,2,3,4,5,6,7,8,9,10,11,12,13,14,15,16,17,18,19,20,21,22,23,24,25,26,27,28,29,30,31,32,33,34,35,36,37,38,39,40,41,42,43,44,45,46,47,48,49,50,51,52,53,54,55,56,57,58,59,60,61,62,63,64,65,66,67,68,69,70,71,72,73,74,75,76,77,78,79,80,81,82,83,84,85,86,87,88,89,90,91,92,93,94,95,96,97,98,99,100,101,102,103,104,105,106,107,108,109,110,111,112,113,114,115,116,117,118,119,120,121,122,123,124,125,126,127,128,129,130,131,132,133,134,135,136,137,138,139,140,141,142,143,144,145,146,147,148,149,150,151,152,153,154,155,156,157,158,159,160,161,162,163,164,165,166,167,168,169,170,171,172,173,174,175,176,177,178,179,180,181,182,183,184,185,186,187,188,189,190,191,192,193,194,195,196,197,198,199,200,201,202,203,204,205,206,207,208,209,210,211,212,213,214,215,216,217,218,219,220,221,222,223,224,225,226,227,228,229,230,231,232,233,234,235,236,237,238,239,240,241,242,243,244,245,246,247,248,249,250,251,252,253,254,255,256,257,258,259,260,261,262,263,264,265,266,267,268,269,270,271,272,273,274,275,276,277,278,279,280,281,282,283,284,285,286,287,288,289,290,291,292,293,294,295,296,297,298,299,300,301,302,303,304,305,306,307,308,309,310,311,312,313,314,315,316,317,318,319,320,321],\"xaxis\":\"x\",\"y\":[446905.02,1743000.38,329467.82,520284.79,339976.65,855001.02,424904.95,1865820.81,870971.82,1333347.78,2316495.56,537300.94,443891.64,1133807.03,339407.94,1159089.6,442894.2,506705.36,1887895.07,892133.41,303438.24,869403.63,606755.3,1495536.46,224031.19,556046.12,330063.06,983232.96,900646.9400000001,326469.43,1294769.08,1834737.58,432782.1,1796203.51,1187776.19,696844.36,2076570.84,1361944.94,360617.37,1045722.37,814395.17,1765584.48,818434.49,1466046.67,758182.2,439424.5,248051.53,1402372.09,1639999.47,1601377.41,457883.94,2090838.44,777175.28,1189887.8599999999,926934.5700000001,643125.29,499267.66000000003,2083379.8900000001,1630564.48,340147.2,590453.63,378241.33999999997,517783.5,411116.95,992621.9299999999,282235.73,1056478.65,442074.79,1169831.38,2105301.39,1807545.43,2163510.89,820288.35,2128362.92,1081322.12,1355704.21,513372.17,704344.21,1867403.01,1442873.22,1261964.96,466806.89,2207742.13,655811.9500000001,1061089.56,1484169.74,1357154.71,1353838.39,795859.23,1083811.19,1198709.65,479855.0,1661767.33,1142499.25,1711562.73,1235094.66,1176588.25,1042226.2999999999,1594968.28,1323999.36,1434036.18,529384.3099999999,1378340.18,955506.95,553834.04,323233.8,972663.59,1517029.9,1635984.07,435481.03,272489.41,1306644.25,2614202.3,751167.12,306827.36,2001636.96,1075656.34,1367448.28,434252.14999999997,873450.29,1046068.17,1675562.94,1001790.16,1345167.61,496083.24,988742.08,1265852.43,536144.81,2095769.18,1628868.28,1899959.61,705557.97,2182246.69,224639.76,985594.23,903882.96,1014218.8,284052.77,1874289.79,1514999.17,472330.71,488008.83,713250.08,537064.03,549505.55,570611.23,283248.62,1356689.88,287425.22,465493.15,1230011.95,265003.47,338386.08,2302504.86,528807.45,996147.39,534372.53,1015654.6,855046.95,481119.6,1201059.72,1892775.94,871692.74,1404576.48,504566.27999999997,302881.64,1124537.97,1127859.69,283455.13,337743.26,383550.93,1111797.21,1033543.56,873415.01,1033719.5,1327719.34,1876359.39,372545.32,1953544.76,540922.94,1499727.02,1367320.01,298947.51,693785.85,380376.85,1911559.1,1065108.64,2000940.67,568093.57,404751.25,1935857.58,460331.7,680254.35,534578.78,1107366.06,469787.38,588363.62,1542173.33,329033.66,636193.24,1876788.15,847592.11,876583.98,1557776.1,1052034.74,1140501.03,650102.8,1086421.57,996723.58,1084894.47,1954849.68,488880.26,963382.09,1970340.25,1707298.1400000001,324839.74,400430.78,1352219.79,643603.69,579068.88,1297792.41,1266796.13,1949183.14,1842555.32,1532893.22,2678206.42,994610.43,1511068.07,1270577.01,914500.91,1359770.73,504856.97,260636.71,618877.13,605078.62,658468.27,986922.62,1357036.1,612379.9,1931104.67,1150003.36,1472752.01,2119163.01,1420405.41,1336522.92,1494417.07,423805.22,2283540.3,1852443.78,527117.81,971615.62,410711.99,1027584.51,549967.89,1115138.51,299757.75,438516.53,2227152.16,506273.74,1820723.17,1643690.9,767338.32,453632.76,919229.36,579874.22,1368318.17,1412925.25,537138.58,1061134.3699999999,541216.92,1284185.49,912958.95,462888.13,1115985.81,1344354.41,1641957.44,1259877.19,1724669.75,261837.2,1910092.3699999999,378100.31,1527014.04,918170.5,613042.97,628989.88,1063310.62,1858856.06,1840686.94,478773.05,953533.9500000001,561137.06,919839.19,1206795.74,918335.68,2035244.54,1893447.71,844958.49,384659.85,1939061.41,416913.1,490970.95,2762816.65,1033552.18,1529615.54,1372484.9000000001,1360150.12,1063149.78,1636263.41,1358816.46,1384584.5899999999,433037.66000000003,1413382.76,569105.03,613501.05,1120731.76,921264.52,1113208.57,1046782.52,593128.13,590636.38,2091663.2,1044639.69],\"yaxis\":\"y\",\"type\":\"scatter\"},{\"hovertemplate\":\"variable=Valores previstos<br>index=%{x}<br>value=%{y}<extra></extra>\",\"legendgroup\":\"Valores previstos\",\"line\":{\"color\":\"#EF553B\",\"dash\":\"solid\"},\"marker\":{\"symbol\":\"circle\"},\"mode\":\"lines\",\"name\":\"Valores previstos\",\"orientation\":\"v\",\"showlegend\":true,\"x\":[0,1,2,3,4,5,6,7,8,9,10,11,12,13,14,15,16,17,18,19,20,21,22,23,24,25,26,27,28,29,30,31,32,33,34,35,36,37,38,39,40,41,42,43,44,45,46,47,48,49,50,51,52,53,54,55,56,57,58,59,60,61,62,63,64,65,66,67,68,69,70,71,72,73,74,75,76,77,78,79,80,81,82,83,84,85,86,87,88,89,90,91,92,93,94,95,96,97,98,99,100,101,102,103,104,105,106,107,108,109,110,111,112,113,114,115,116,117,118,119,120,121,122,123,124,125,126,127,128,129,130,131,132,133,134,135,136,137,138,139,140,141,142,143,144,145,146,147,148,149,150,151,152,153,154,155,156,157,158,159,160,161,162,163,164,165,166,167,168,169,170,171,172,173,174,175,176,177,178,179,180,181,182,183,184,185,186,187,188,189,190,191,192,193,194,195,196,197,198,199,200,201,202,203,204,205,206,207,208,209,210,211,212,213,214,215,216,217,218,219,220,221,222,223,224,225,226,227,228,229,230,231,232,233,234,235,236,237,238,239,240,241,242,243,244,245,246,247,248,249,250,251,252,253,254,255,256,257,258,259,260,261,262,263,264,265,266,267,268,269,270,271,272,273,274,275,276,277,278,279,280,281,282,283,284,285,286,287,288,289,290,291,292,293,294,295,296,297,298,299,300,301,302,303,304,305,306,307,308,309,310,311,312,313,314,315,316,317,318,319,320,321],\"xaxis\":\"x\",\"y\":[1122386.35,1044083.01,1028719.51,933248.91,1050005.45,1083220.76,999206.35,1057785.79,1052423.63,1050561.9,1115527.22,1042178.23,1049406.25,1045414.99,1060063.06,1126808.59,1103466.78,1068968.87,1087443.13,1058964.69,1118958.86,1118958.86,1050561.9,1040701.12,667388.84,1020995.68,1050561.9,1067745.44,1107679.3,1050005.45,1068815.58,1083220.16,1041684.03,1089926.92,1063968.79,927921.48,1055960.16,1039622.2,946008.54,1089155.27,1060334.95,1051671.85,1118066.7,1065016.16,1079928.17,1051131.89,1045650.22,1052758.98,1047784.58,1134636.4,1051183.35,1053466.53,1096641.13,1050298.31,969194.93,1055960.16,1051583.28,1095717.75,1055941.14,1029733.91,1058964.69,1056074.4,1039622.2,1103231.55,1155915.36,1048614.37,1050561.9,948177.16,1061973.03,1051671.85,1121734.76,1041531.18,1055060.24,943905.9,1099120.88,1072592.65,784688.74,1033011.87,1033627.23,1077900.67,1118658.7,918042.42,1049540.11,1048837.62,1050933.41,974704.76,1083360.64,1050933.41,1118632.11,1050173.98,1117664.37,1061696.89,940752.36,1045650.22,1058984.58,1039622.2,1050005.45,1039622.2,1045925.86,1051671.85,1050174.51,1049173.04,1052758.98,1054157.84,1061728.44,1099396.39,1118632.11,1085929.86,1108464.19,955034.8,1058592.56,1017995.81,1026761.64,909514.39,944565.92,936026.04,1120269.83,1050005.45,1026455.54,1135160.33,1088012.49,1024310.82,1226523.45,986272.56,1125842.84,1119834.92,1051671.85,1096862.49,1037260.6,1118840.28,1049173.04,1135185.13,1057785.79,1039697.67,1119831.12,1085848.52,1029545.02,1029267.43,1089226.71,1119040.68,1089471.32,1135014.47,1121546.54,952271.35,1118958.86,1131671.13,975404.11,1050535.92,1097803.21,1119231.1,1117664.37,813904.01,1009501.58,1119546.27,1052647.89,1095036.78,1058173.39,1093702.32,1062137.88,829029.24,1019967.52,1096478.85,985106.37,1026339.8,1143721.36,953567.33,1121814.3,1038299.93,1051226.18,1068815.58,1118568.05,930830.33,1063277.02,1051583.28,1068815.58,981440.13,985106.37,1028736.92,1065553.55,1053785.52,1052423.63,1081761.01,925621.81,922477.05,963241.59,1063570.87,1028152.25,1049043.46,1114039.22,1098528.12,1062570.43,1063842.27,1119231.1,1050561.9,1050005.45,1075409.77,1078683.66,1098667.85,1046504.99,1051468.28,1064475.19,1118958.86,1054789.96,1118463.89,1107238.4,1069623.81,1039592.28,1060179.18,1027221.86,1118958.86,914491.79,1132095.03,1134672.45,1049562.81,1108464.19,1052423.63,1050561.9,932050.39,1071203.17,1060179.18,851986.51,1062466.68,1132652.38,1058964.69,1052438.24,1090591.55,1028736.92,1050697.31,1063004.18,1047614.73,1064915.63,1097389.58,1118568.05,1063456.44,999357.62,1049540.11,1096315.33,1051724.5,1071203.17,1087443.13,926616.64,1055753.82,995529.92,1017530.06,929231.62,1052758.98,1118958.86,985511.47,1089232.33,1061696.89,1050406.08,1052758.98,1103430.51,1023673.03,1090330.09,1054157.84,1100484.12,1052516.0,1066886.61,1050933.41,1125351.21,1046408.62,1119068.42,1068974.48,1107727.2,1153873.7,1115527.22,1040978.97,1041201.36,1092051.46,890605.54,1118632.11,1093702.32,1119528.27,1089471.32,1118958.86,1063004.18,1057689.42,1055060.24,1077144.54,1118568.05,1063456.44,1140583.14,1059154.1,1048723.45,1092148.78,1047463.76,1118433.03,1118632.11,1047614.73,1119528.27,1078209.5,1059660.1,1049562.81,965045.18,1016755.56,1092051.46,1054789.96,1029733.91,961946.99,1118658.7,1120116.38,1052516.0,1125351.21,1103272.85,1119068.42,1048262.6,1019178.01,1118958.86,1049173.04,1053785.23,1042045.88,1071414.97,1118723.55,1019396.46,1108464.19,1030781.01,1052423.63,1012355.3,951072.91,1029267.43,1088012.49],\"yaxis\":\"y\",\"type\":\"scatter\"}],                        {\"template\":{\"data\":{\"bar\":[{\"error_x\":{\"color\":\"#2a3f5f\"},\"error_y\":{\"color\":\"#2a3f5f\"},\"marker\":{\"line\":{\"color\":\"#E5ECF6\",\"width\":0.5},\"pattern\":{\"fillmode\":\"overlay\",\"size\":10,\"solidity\":0.2}},\"type\":\"bar\"}],\"barpolar\":[{\"marker\":{\"line\":{\"color\":\"#E5ECF6\",\"width\":0.5},\"pattern\":{\"fillmode\":\"overlay\",\"size\":10,\"solidity\":0.2}},\"type\":\"barpolar\"}],\"carpet\":[{\"aaxis\":{\"endlinecolor\":\"#2a3f5f\",\"gridcolor\":\"white\",\"linecolor\":\"white\",\"minorgridcolor\":\"white\",\"startlinecolor\":\"#2a3f5f\"},\"baxis\":{\"endlinecolor\":\"#2a3f5f\",\"gridcolor\":\"white\",\"linecolor\":\"white\",\"minorgridcolor\":\"white\",\"startlinecolor\":\"#2a3f5f\"},\"type\":\"carpet\"}],\"choropleth\":[{\"colorbar\":{\"outlinewidth\":0,\"ticks\":\"\"},\"type\":\"choropleth\"}],\"contour\":[{\"colorbar\":{\"outlinewidth\":0,\"ticks\":\"\"},\"colorscale\":[[0.0,\"#0d0887\"],[0.1111111111111111,\"#46039f\"],[0.2222222222222222,\"#7201a8\"],[0.3333333333333333,\"#9c179e\"],[0.4444444444444444,\"#bd3786\"],[0.5555555555555556,\"#d8576b\"],[0.6666666666666666,\"#ed7953\"],[0.7777777777777778,\"#fb9f3a\"],[0.8888888888888888,\"#fdca26\"],[1.0,\"#f0f921\"]],\"type\":\"contour\"}],\"contourcarpet\":[{\"colorbar\":{\"outlinewidth\":0,\"ticks\":\"\"},\"type\":\"contourcarpet\"}],\"heatmap\":[{\"colorbar\":{\"outlinewidth\":0,\"ticks\":\"\"},\"colorscale\":[[0.0,\"#0d0887\"],[0.1111111111111111,\"#46039f\"],[0.2222222222222222,\"#7201a8\"],[0.3333333333333333,\"#9c179e\"],[0.4444444444444444,\"#bd3786\"],[0.5555555555555556,\"#d8576b\"],[0.6666666666666666,\"#ed7953\"],[0.7777777777777778,\"#fb9f3a\"],[0.8888888888888888,\"#fdca26\"],[1.0,\"#f0f921\"]],\"type\":\"heatmap\"}],\"heatmapgl\":[{\"colorbar\":{\"outlinewidth\":0,\"ticks\":\"\"},\"colorscale\":[[0.0,\"#0d0887\"],[0.1111111111111111,\"#46039f\"],[0.2222222222222222,\"#7201a8\"],[0.3333333333333333,\"#9c179e\"],[0.4444444444444444,\"#bd3786\"],[0.5555555555555556,\"#d8576b\"],[0.6666666666666666,\"#ed7953\"],[0.7777777777777778,\"#fb9f3a\"],[0.8888888888888888,\"#fdca26\"],[1.0,\"#f0f921\"]],\"type\":\"heatmapgl\"}],\"histogram\":[{\"marker\":{\"pattern\":{\"fillmode\":\"overlay\",\"size\":10,\"solidity\":0.2}},\"type\":\"histogram\"}],\"histogram2d\":[{\"colorbar\":{\"outlinewidth\":0,\"ticks\":\"\"},\"colorscale\":[[0.0,\"#0d0887\"],[0.1111111111111111,\"#46039f\"],[0.2222222222222222,\"#7201a8\"],[0.3333333333333333,\"#9c179e\"],[0.4444444444444444,\"#bd3786\"],[0.5555555555555556,\"#d8576b\"],[0.6666666666666666,\"#ed7953\"],[0.7777777777777778,\"#fb9f3a\"],[0.8888888888888888,\"#fdca26\"],[1.0,\"#f0f921\"]],\"type\":\"histogram2d\"}],\"histogram2dcontour\":[{\"colorbar\":{\"outlinewidth\":0,\"ticks\":\"\"},\"colorscale\":[[0.0,\"#0d0887\"],[0.1111111111111111,\"#46039f\"],[0.2222222222222222,\"#7201a8\"],[0.3333333333333333,\"#9c179e\"],[0.4444444444444444,\"#bd3786\"],[0.5555555555555556,\"#d8576b\"],[0.6666666666666666,\"#ed7953\"],[0.7777777777777778,\"#fb9f3a\"],[0.8888888888888888,\"#fdca26\"],[1.0,\"#f0f921\"]],\"type\":\"histogram2dcontour\"}],\"mesh3d\":[{\"colorbar\":{\"outlinewidth\":0,\"ticks\":\"\"},\"type\":\"mesh3d\"}],\"parcoords\":[{\"line\":{\"colorbar\":{\"outlinewidth\":0,\"ticks\":\"\"}},\"type\":\"parcoords\"}],\"pie\":[{\"automargin\":true,\"type\":\"pie\"}],\"scatter\":[{\"marker\":{\"colorbar\":{\"outlinewidth\":0,\"ticks\":\"\"}},\"type\":\"scatter\"}],\"scatter3d\":[{\"line\":{\"colorbar\":{\"outlinewidth\":0,\"ticks\":\"\"}},\"marker\":{\"colorbar\":{\"outlinewidth\":0,\"ticks\":\"\"}},\"type\":\"scatter3d\"}],\"scattercarpet\":[{\"marker\":{\"colorbar\":{\"outlinewidth\":0,\"ticks\":\"\"}},\"type\":\"scattercarpet\"}],\"scattergeo\":[{\"marker\":{\"colorbar\":{\"outlinewidth\":0,\"ticks\":\"\"}},\"type\":\"scattergeo\"}],\"scattergl\":[{\"marker\":{\"colorbar\":{\"outlinewidth\":0,\"ticks\":\"\"}},\"type\":\"scattergl\"}],\"scattermapbox\":[{\"marker\":{\"colorbar\":{\"outlinewidth\":0,\"ticks\":\"\"}},\"type\":\"scattermapbox\"}],\"scatterpolar\":[{\"marker\":{\"colorbar\":{\"outlinewidth\":0,\"ticks\":\"\"}},\"type\":\"scatterpolar\"}],\"scatterpolargl\":[{\"marker\":{\"colorbar\":{\"outlinewidth\":0,\"ticks\":\"\"}},\"type\":\"scatterpolargl\"}],\"scatterternary\":[{\"marker\":{\"colorbar\":{\"outlinewidth\":0,\"ticks\":\"\"}},\"type\":\"scatterternary\"}],\"surface\":[{\"colorbar\":{\"outlinewidth\":0,\"ticks\":\"\"},\"colorscale\":[[0.0,\"#0d0887\"],[0.1111111111111111,\"#46039f\"],[0.2222222222222222,\"#7201a8\"],[0.3333333333333333,\"#9c179e\"],[0.4444444444444444,\"#bd3786\"],[0.5555555555555556,\"#d8576b\"],[0.6666666666666666,\"#ed7953\"],[0.7777777777777778,\"#fb9f3a\"],[0.8888888888888888,\"#fdca26\"],[1.0,\"#f0f921\"]],\"type\":\"surface\"}],\"table\":[{\"cells\":{\"fill\":{\"color\":\"#EBF0F8\"},\"line\":{\"color\":\"white\"}},\"header\":{\"fill\":{\"color\":\"#C8D4E3\"},\"line\":{\"color\":\"white\"}},\"type\":\"table\"}]},\"layout\":{\"annotationdefaults\":{\"arrowcolor\":\"#2a3f5f\",\"arrowhead\":0,\"arrowwidth\":1},\"autotypenumbers\":\"strict\",\"coloraxis\":{\"colorbar\":{\"outlinewidth\":0,\"ticks\":\"\"}},\"colorscale\":{\"diverging\":[[0,\"#8e0152\"],[0.1,\"#c51b7d\"],[0.2,\"#de77ae\"],[0.3,\"#f1b6da\"],[0.4,\"#fde0ef\"],[0.5,\"#f7f7f7\"],[0.6,\"#e6f5d0\"],[0.7,\"#b8e186\"],[0.8,\"#7fbc41\"],[0.9,\"#4d9221\"],[1,\"#276419\"]],\"sequential\":[[0.0,\"#0d0887\"],[0.1111111111111111,\"#46039f\"],[0.2222222222222222,\"#7201a8\"],[0.3333333333333333,\"#9c179e\"],[0.4444444444444444,\"#bd3786\"],[0.5555555555555556,\"#d8576b\"],[0.6666666666666666,\"#ed7953\"],[0.7777777777777778,\"#fb9f3a\"],[0.8888888888888888,\"#fdca26\"],[1.0,\"#f0f921\"]],\"sequentialminus\":[[0.0,\"#0d0887\"],[0.1111111111111111,\"#46039f\"],[0.2222222222222222,\"#7201a8\"],[0.3333333333333333,\"#9c179e\"],[0.4444444444444444,\"#bd3786\"],[0.5555555555555556,\"#d8576b\"],[0.6666666666666666,\"#ed7953\"],[0.7777777777777778,\"#fb9f3a\"],[0.8888888888888888,\"#fdca26\"],[1.0,\"#f0f921\"]]},\"colorway\":[\"#636efa\",\"#EF553B\",\"#00cc96\",\"#ab63fa\",\"#FFA15A\",\"#19d3f3\",\"#FF6692\",\"#B6E880\",\"#FF97FF\",\"#FECB52\"],\"font\":{\"color\":\"#2a3f5f\"},\"geo\":{\"bgcolor\":\"white\",\"lakecolor\":\"white\",\"landcolor\":\"#E5ECF6\",\"showlakes\":true,\"showland\":true,\"subunitcolor\":\"white\"},\"hoverlabel\":{\"align\":\"left\"},\"hovermode\":\"closest\",\"mapbox\":{\"style\":\"light\"},\"paper_bgcolor\":\"white\",\"plot_bgcolor\":\"#E5ECF6\",\"polar\":{\"angularaxis\":{\"gridcolor\":\"white\",\"linecolor\":\"white\",\"ticks\":\"\"},\"bgcolor\":\"#E5ECF6\",\"radialaxis\":{\"gridcolor\":\"white\",\"linecolor\":\"white\",\"ticks\":\"\"}},\"scene\":{\"xaxis\":{\"backgroundcolor\":\"#E5ECF6\",\"gridcolor\":\"white\",\"gridwidth\":2,\"linecolor\":\"white\",\"showbackground\":true,\"ticks\":\"\",\"zerolinecolor\":\"white\"},\"yaxis\":{\"backgroundcolor\":\"#E5ECF6\",\"gridcolor\":\"white\",\"gridwidth\":2,\"linecolor\":\"white\",\"showbackground\":true,\"ticks\":\"\",\"zerolinecolor\":\"white\"},\"zaxis\":{\"backgroundcolor\":\"#E5ECF6\",\"gridcolor\":\"white\",\"gridwidth\":2,\"linecolor\":\"white\",\"showbackground\":true,\"ticks\":\"\",\"zerolinecolor\":\"white\"}},\"shapedefaults\":{\"line\":{\"color\":\"#2a3f5f\"}},\"ternary\":{\"aaxis\":{\"gridcolor\":\"white\",\"linecolor\":\"white\",\"ticks\":\"\"},\"baxis\":{\"gridcolor\":\"white\",\"linecolor\":\"white\",\"ticks\":\"\"},\"bgcolor\":\"#E5ECF6\",\"caxis\":{\"gridcolor\":\"white\",\"linecolor\":\"white\",\"ticks\":\"\"}},\"title\":{\"x\":0.05},\"xaxis\":{\"automargin\":true,\"gridcolor\":\"white\",\"linecolor\":\"white\",\"ticks\":\"\",\"title\":{\"standoff\":15},\"zerolinecolor\":\"white\",\"zerolinewidth\":2},\"yaxis\":{\"automargin\":true,\"gridcolor\":\"white\",\"linecolor\":\"white\",\"ticks\":\"\",\"title\":{\"standoff\":15},\"zerolinecolor\":\"white\",\"zerolinewidth\":2}}},\"xaxis\":{\"anchor\":\"y\",\"domain\":[0.0,1.0],\"title\":{\"text\":\"index\"}},\"yaxis\":{\"anchor\":\"x\",\"domain\":[0.0,1.0],\"title\":{\"text\":\"value\"}},\"legend\":{\"title\":{\"text\":\"variable\"},\"tracegroupgap\":0},\"margin\":{\"t\":60}},                        {\"responsive\": true}                    ).then(function(){\n",
       "                            \n",
       "var gd = document.getElementById('6f9d5d6b-9cb6-48d2-b9a5-b30206137038');\n",
       "var x = new MutationObserver(function (mutations, observer) {{\n",
       "        var display = window.getComputedStyle(gd).display;\n",
       "        if (!display || display === 'none') {{\n",
       "            console.log([gd, 'removed!']);\n",
       "            Plotly.purge(gd);\n",
       "            observer.disconnect();\n",
       "        }}\n",
       "}});\n",
       "\n",
       "// Listen for the removal of the full notebook cells\n",
       "var notebookContainer = gd.closest('#notebook-container');\n",
       "if (notebookContainer) {{\n",
       "    x.observe(notebookContainer, {childList: true});\n",
       "}}\n",
       "\n",
       "// Listen for the clearing of the current output cell\n",
       "var outputEl = gd.closest('.output');\n",
       "if (outputEl) {{\n",
       "    x.observe(outputEl, {childList: true});\n",
       "}}\n",
       "\n",
       "                        })                };                });            </script>        </div>"
      ]
     },
     "metadata": {},
     "output_type": "display_data"
    }
   ],
   "source": [
    "# Plotando gráfico de comparação: azul são os dados reais e vermelho a previsão\n",
    "fig = px.line(comp_forest, y=['Valores reais','Valores previstos'])\n",
    "fig.show()"
   ]
  },
  {
   "cell_type": "markdown",
   "metadata": {},
   "source": [
    "Observamos que a regressão obtida não é satisfatória, pelo gráfico."
   ]
  },
  {
   "cell_type": "code",
   "execution_count": 361,
   "metadata": {},
   "outputs": [
    {
     "data": {
      "image/png": "[encoded data removed]",
      "text/plain": [
       "<Figure size 432x288 with 1 Axes>"
      ]
     },
     "metadata": {
      "needs_background": "light"
     },
     "output_type": "display_data"
    },
    {
     "data": {
      "image/png": "[encoded data removed]",
      "text/plain": [
       "<Figure size 432x288 with 1 Axes>"
      ]
     },
     "metadata": {
      "needs_background": "light"
     },
     "output_type": "display_data"
    }
   ],
   "source": [
    "# Montagem de dois gráficos que mostram a relação entre as variáveis, um de dispersão e outro de linha\n",
    "\n",
    "# gráfico de dispersão\n",
    "\n",
    "X_grid = np.arange(min(X), max(X), 0.01)\n",
    "X_grid = X_grid.reshape((len(X_grid), 1))\n",
    "plt.scatter(X_test, y_test, color = 'red')\n",
    "plt.scatter(X_test, y_pred_forest, color = 'green')\n",
    "plt.title('Decision Forest Regression')\n",
    "plt.xlabel('Temperature')\n",
    "plt.ylabel('Weekly_Sales')\n",
    "plt.show()\n",
    "\n",
    "# gráfico de linhas\n",
    "\n",
    "plt.plot(X1_grid, regressor.predict(X_grid), color = 'gray')\n",
    "plt.title('Decision Forest Regression')\n",
    "plt.xlabel('Temperature')\n",
    "plt.ylabel('Weekly_Sales')\n",
    "plt.show()"
   ]
  },
  {
   "cell_type": "markdown",
   "metadata": {},
   "source": [
    "Novamente encontramos resultados insatisfatórios."
   ]
  },
  {
   "cell_type": "code",
   "execution_count": 364,
   "metadata": {},
   "outputs": [
    {
     "name": "stdout",
     "output_type": "stream",
     "text": [
      "Coeficiente R²: 0.0041\n",
      "EMA:474355.87\n",
      "EQM:321429363523.41\n",
      "REQM:566947.41\n"
     ]
    }
   ],
   "source": [
    "# Cálculo de R^2, medida de quão bem a linha de regressão se ajusta aos dados. Varia de 0 a 1, sendo 1 o ajuste perfeito.\n",
    "# Cálculo do Erro Médio Absoluto, o valor médio absoluto da diferença entre os valores previstos e os valores reais\n",
    "# Cálculo do Erro Quadrático Médio, a média dos quadrados dos erros\n",
    "# Cálculo da raiz do Erro Quadrático Médio, que mede o mesmo que o EQM, mas na mesma unidade de medida que os valores trabalhados\n",
    "\n",
    "# cálculo do coeficiente R²\n",
    "r2 = r2_score(y_test, y_pred_forest)\n",
    "\n",
    "# cálculo do erro médio absoluto (EMA)\n",
    "ema = mean_absolute_error(y_test, y_pred_forest)\n",
    "\n",
    "# cálculo do erro quadrático médio (EQM)\n",
    "eqm = mean_squared_error(y_test, y_pred_forest)\n",
    "\n",
    "# cálculo da raiz do erro quadrático médio (REQM)\n",
    "reqm = np.sqrt(eqm)\n",
    "\n",
    "print('Coeficiente R²: {:.4f}'.format(r2))\n",
    "print('EMA:{:.2f}'.format(ema))\n",
    "print('EQM:{:.2f}'.format(eqm))\n",
    "print('REQM:{:.2f}'.format(reqm))"
   ]
  },
  {
   "cell_type": "markdown",
   "metadata": {},
   "source": [
    "Apesar de agora o R^2 ser positivo, ainda é muito baixo. Os outros medidores também indicam que o modelo é insatisfatório para nosso problema.\n",
    "\n",
    "Há fortes indícios de que a variável Temperatura não está correlacionada com o índice de vendas, portanto partiremos para a variável Lojas."
   ]
  },
  {
   "cell_type": "markdown",
   "metadata": {},
   "source": [
    "<a class=\"anchor\" id=\"section_4_2_2\"></a>\n",
    "### Modelo Vendas x Lojas "
   ]
  },
  {
   "cell_type": "code",
   "execution_count": null,
   "metadata": {},
   "outputs": [],
   "source": [
    "# criando uma variável para RandomForestRegressor()\n",
    "rf_regressor = RandomForestRegressor(n_estimators = 300, max_features = 'sqrt', max_depth = 5, random_state = 18)"
   ]
  },
  {
   "cell_type": "code",
   "execution_count": 356,
   "metadata": {},
   "outputs": [
    {
     "name": "stderr",
     "output_type": "stream",
     "text": [
      "C:\\Users\\luisz\\AppData\\Local\\Temp\\ipykernel_32480\\3546062657.py:8: DataConversionWarning:\n",
      "\n",
      "A column-vector y was passed when a 1d array was expected. Please change the shape of y to (n_samples,), for example using ravel().\n",
      "\n"
     ]
    },
    {
     "data": {
      "text/plain": [
       "RandomForestRegressor(max_depth=5, max_features='sqrt', n_estimators=500,\n",
       "                      random_state=18)"
      ]
     },
     "execution_count": 356,
     "metadata": {},
     "output_type": "execute_result"
    }
   ],
   "source": [
    "# treinando nosso conjunto de dados no modelo\n",
    "# note que usaremos as mesmas series utilizadas anteriormente, no modelo Vendas x Lojas da Tree Regression\n",
    "\n",
    "# y1_train está como uma matriz unidimensional (coluna) como valor de y em vez de um array unidimensional, que é o esperado pelo\n",
    "# algoritmo, portanto iremos transformá-la\n",
    "y1_train = y1_train.ravel()\n",
    "\n",
    "rf_regressor.fit(X1_train.reshape(-1,1), y1_train.reshape(-1,1))"
   ]
  },
  {
   "cell_type": "markdown",
   "metadata": {},
   "source": [
    "Obs: mesmo aplicar a função ravel, o warning continua"
   ]
  },
  {
   "cell_type": "code",
   "execution_count": 357,
   "metadata": {},
   "outputs": [],
   "source": [
    "# fornecimento da previsão da variável dependente (vendas semanais)\n",
    "y1_pred_forest = rf_regressor.predict(X1_test.reshape(-1,1))"
   ]
  },
  {
   "cell_type": "code",
   "execution_count": 358,
   "metadata": {},
   "outputs": [
    {
     "data": {
      "text/html": [
       "<div>\n",
       "<style scoped>\n",
       "    .dataframe tbody tr th:only-of-type {\n",
       "        vertical-align: middle;\n",
       "    }\n",
       "\n",
       "    .dataframe tbody tr th {\n",
       "        vertical-align: top;\n",
       "    }\n",
       "\n",
       "    .dataframe thead th {\n",
       "        text-align: right;\n",
       "    }\n",
       "</style>\n",
       "<table border=\"1\" class=\"dataframe\">\n",
       "  <thead>\n",
       "    <tr style=\"text-align: right;\">\n",
       "      <th></th>\n",
       "      <th>Valores reais</th>\n",
       "      <th>Valores previstos</th>\n",
       "    </tr>\n",
       "  </thead>\n",
       "  <tbody>\n",
       "    <tr>\n",
       "      <th>0</th>\n",
       "      <td>938861.77</td>\n",
       "      <td>8.899486e+05</td>\n",
       "    </tr>\n",
       "    <tr>\n",
       "      <th>1</th>\n",
       "      <td>303438.24</td>\n",
       "      <td>3.622004e+05</td>\n",
       "    </tr>\n",
       "    <tr>\n",
       "      <th>2</th>\n",
       "      <td>655318.26</td>\n",
       "      <td>8.991305e+05</td>\n",
       "    </tr>\n",
       "    <tr>\n",
       "      <th>3</th>\n",
       "      <td>1336522.92</td>\n",
       "      <td>1.369305e+06</td>\n",
       "    </tr>\n",
       "    <tr>\n",
       "      <th>4</th>\n",
       "      <td>559285.35</td>\n",
       "      <td>5.603483e+05</td>\n",
       "    </tr>\n",
       "    <tr>\n",
       "      <th>...</th>\n",
       "      <td>...</td>\n",
       "      <td>...</td>\n",
       "    </tr>\n",
       "    <tr>\n",
       "      <th>317</th>\n",
       "      <td>1550229.22</td>\n",
       "      <td>1.545573e+06</td>\n",
       "    </tr>\n",
       "    <tr>\n",
       "      <th>318</th>\n",
       "      <td>958487.75</td>\n",
       "      <td>1.272964e+06</td>\n",
       "    </tr>\n",
       "    <tr>\n",
       "      <th>319</th>\n",
       "      <td>1744879.06</td>\n",
       "      <td>1.272964e+06</td>\n",
       "    </tr>\n",
       "    <tr>\n",
       "      <th>320</th>\n",
       "      <td>713117.66</td>\n",
       "      <td>8.211324e+05</td>\n",
       "    </tr>\n",
       "    <tr>\n",
       "      <th>321</th>\n",
       "      <td>940405.03</td>\n",
       "      <td>1.010247e+06</td>\n",
       "    </tr>\n",
       "  </tbody>\n",
       "</table>\n",
       "<p>322 rows × 2 columns</p>\n",
       "</div>"
      ],
      "text/plain": [
       "     Valores reais  Valores previstos\n",
       "0        938861.77       8.899486e+05\n",
       "1        303438.24       3.622004e+05\n",
       "2        655318.26       8.991305e+05\n",
       "3       1336522.92       1.369305e+06\n",
       "4        559285.35       5.603483e+05\n",
       "..             ...                ...\n",
       "317     1550229.22       1.545573e+06\n",
       "318      958487.75       1.272964e+06\n",
       "319     1744879.06       1.272964e+06\n",
       "320      713117.66       8.211324e+05\n",
       "321      940405.03       1.010247e+06\n",
       "\n",
       "[322 rows x 2 columns]"
      ]
     },
     "execution_count": 358,
     "metadata": {},
     "output_type": "execute_result"
    }
   ],
   "source": [
    "# Comparação dos valores previstos com os valores reais\n",
    "\n",
    "comp1_forest = pd.DataFrame({'Valores reais':y1_test.reshape(-1), 'Valores previstos':y1_pred_forest.reshape(-1)})\n",
    "comp1_forest"
   ]
  },
  {
   "cell_type": "code",
   "execution_count": 359,
   "metadata": {},
   "outputs": [
    {
     "data": {
      "text/html": [
       "<div>\n",
       "<style scoped>\n",
       "    .dataframe tbody tr th:only-of-type {\n",
       "        vertical-align: middle;\n",
       "    }\n",
       "\n",
       "    .dataframe tbody tr th {\n",
       "        vertical-align: top;\n",
       "    }\n",
       "\n",
       "    .dataframe thead th {\n",
       "        text-align: right;\n",
       "    }\n",
       "</style>\n",
       "<table border=\"1\" class=\"dataframe\">\n",
       "  <thead>\n",
       "    <tr style=\"text-align: right;\">\n",
       "      <th></th>\n",
       "      <th>Valores reais</th>\n",
       "      <th>Valores previstos</th>\n",
       "    </tr>\n",
       "  </thead>\n",
       "  <tbody>\n",
       "    <tr>\n",
       "      <th>0</th>\n",
       "      <td>938861.77</td>\n",
       "      <td>889948.65</td>\n",
       "    </tr>\n",
       "    <tr>\n",
       "      <th>1</th>\n",
       "      <td>303438.24</td>\n",
       "      <td>362200.45</td>\n",
       "    </tr>\n",
       "    <tr>\n",
       "      <th>2</th>\n",
       "      <td>655318.26</td>\n",
       "      <td>899130.51</td>\n",
       "    </tr>\n",
       "    <tr>\n",
       "      <th>3</th>\n",
       "      <td>1336522.92</td>\n",
       "      <td>1369305.36</td>\n",
       "    </tr>\n",
       "    <tr>\n",
       "      <th>4</th>\n",
       "      <td>559285.35</td>\n",
       "      <td>560348.29</td>\n",
       "    </tr>\n",
       "    <tr>\n",
       "      <th>...</th>\n",
       "      <td>...</td>\n",
       "      <td>...</td>\n",
       "    </tr>\n",
       "    <tr>\n",
       "      <th>317</th>\n",
       "      <td>1550229.22</td>\n",
       "      <td>1545572.78</td>\n",
       "    </tr>\n",
       "    <tr>\n",
       "      <th>318</th>\n",
       "      <td>958487.75</td>\n",
       "      <td>1272964.37</td>\n",
       "    </tr>\n",
       "    <tr>\n",
       "      <th>319</th>\n",
       "      <td>1744879.06</td>\n",
       "      <td>1272964.37</td>\n",
       "    </tr>\n",
       "    <tr>\n",
       "      <th>320</th>\n",
       "      <td>713117.66</td>\n",
       "      <td>821132.37</td>\n",
       "    </tr>\n",
       "    <tr>\n",
       "      <th>321</th>\n",
       "      <td>940405.03</td>\n",
       "      <td>1010247.28</td>\n",
       "    </tr>\n",
       "  </tbody>\n",
       "</table>\n",
       "<p>322 rows × 2 columns</p>\n",
       "</div>"
      ],
      "text/plain": [
       "     Valores reais  Valores previstos\n",
       "0        938861.77          889948.65\n",
       "1        303438.24          362200.45\n",
       "2        655318.26          899130.51\n",
       "3       1336522.92         1369305.36\n",
       "4        559285.35          560348.29\n",
       "..             ...                ...\n",
       "317     1550229.22         1545572.78\n",
       "318      958487.75         1272964.37\n",
       "319     1744879.06         1272964.37\n",
       "320      713117.66          821132.37\n",
       "321      940405.03         1010247.28\n",
       "\n",
       "[322 rows x 2 columns]"
      ]
     },
     "execution_count": 359,
     "metadata": {},
     "output_type": "execute_result"
    }
   ],
   "source": [
    "# Mudaremos o formato da coluna 'Valores previstos', para visualizarmos o número completo e não em notação científica\n",
    "\n",
    "comp1_forest['Valores previstos'] = comp1_forest['Valores previstos'].map(lambda x: '{:.2f}'.format(x)).astype(float)\n",
    "comp1_forest"
   ]
  },
  {
   "cell_type": "code",
   "execution_count": 360,
   "metadata": {
    "scrolled": false
   },
   "outputs": [
    {
     "data": {
      "application/vnd.plotly.v1+json": {
       "config": {
        "plotlyServerURL": "https://plot.ly"
       },
       "data": [
        {
         "hovertemplate": "variable=Valores reais<br>index=%{x}<br>value=%{y}<extra></extra>",
         "legendgroup": "Valores reais",
         "line": {
          "color": "#636efa",
          "dash": "solid"
         },
         "marker": {
          "symbol": "circle"
         },
         "mode": "lines",
         "name": "Valores reais",
         "orientation": "v",
         "showlegend": true,
         "type": "scatter",
         "x": [
          0,
          1,
          2,
          3,
          4,
          5,
          6,
          7,
          8,
          9,
          10,
          11,
          12,
          13,
          14,
          15,
          16,
          17,
          18,
          19,
          20,
          21,
          22,
          23,
          24,
          25,
          26,
          27,
          28,
          29,
          30,
          31,
          32,
          33,
          34,
          35,
          36,
          37,
          38,
          39,
          40,
          41,
          42,
          43,
          44,
          45,
          46,
          47,
          48,
          49,
          50,
          51,
          52,
          53,
          54,
          55,
          56,
          57,
          58,
          59,
          60,
          61,
          62,
          63,
          64,
          65,
          66,
          67,
          68,
          69,
          70,
          71,
          72,
          73,
          74,
          75,
          76,
          77,
          78,
          79,
          80,
          81,
          82,
          83,
          84,
          85,
          86,
          87,
          88,
          89,
          90,
          91,
          92,
          93,
          94,
          95,
          96,
          97,
          98,
          99,
          100,
          101,
          102,
          103,
          104,
          105,
          106,
          107,
          108,
          109,
          110,
          111,
          112,
          113,
          114,
          115,
          116,
          117,
          118,
          119,
          120,
          121,
          122,
          123,
          124,
          125,
          126,
          127,
          128,
          129,
          130,
          131,
          132,
          133,
          134,
          135,
          136,
          137,
          138,
          139,
          140,
          141,
          142,
          143,
          144,
          145,
          146,
          147,
          148,
          149,
          150,
          151,
          152,
          153,
          154,
          155,
          156,
          157,
          158,
          159,
          160,
          161,
          162,
          163,
          164,
          165,
          166,
          167,
          168,
          169,
          170,
          171,
          172,
          173,
          174,
          175,
          176,
          177,
          178,
          179,
          180,
          181,
          182,
          183,
          184,
          185,
          186,
          187,
          188,
          189,
          190,
          191,
          192,
          193,
          194,
          195,
          196,
          197,
          198,
          199,
          200,
          201,
          202,
          203,
          204,
          205,
          206,
          207,
          208,
          209,
          210,
          211,
          212,
          213,
          214,
          215,
          216,
          217,
          218,
          219,
          220,
          221,
          222,
          223,
          224,
          225,
          226,
          227,
          228,
          229,
          230,
          231,
          232,
          233,
          234,
          235,
          236,
          237,
          238,
          239,
          240,
          241,
          242,
          243,
          244,
          245,
          246,
          247,
          248,
          249,
          250,
          251,
          252,
          253,
          254,
          255,
          256,
          257,
          258,
          259,
          260,
          261,
          262,
          263,
          264,
          265,
          266,
          267,
          268,
          269,
          270,
          271,
          272,
          273,
          274,
          275,
          276,
          277,
          278,
          279,
          280,
          281,
          282,
          283,
          284,
          285,
          286,
          287,
          288,
          289,
          290,
          291,
          292,
          293,
          294,
          295,
          296,
          297,
          298,
          299,
          300,
          301,
          302,
          303,
          304,
          305,
          306,
          307,
          308,
          309,
          310,
          311,
          312,
          313,
          314,
          315,
          316,
          317,
          318,
          319,
          320,
          321
         ],
         "xaxis": "x",
         "y": [
          938861.77,
          303438.24,
          655318.26,
          1336522.92,
          559285.35,
          430944.39,
          648606.13,
          508573.16000000003,
          993172.98,
          1303523.73,
          809833.21,
          1785823.3699999999,
          483011.69,
          1848953.48,
          527389.28,
          458086.69,
          972663.59,
          319550.77,
          2623469.9499999997,
          1364445.98,
          1591835.02,
          339976.65,
          535769.32,
          412224.67,
          470921.24,
          521896.60000000003,
          1004749.41,
          1287288.59,
          1403779.25,
          312177.67,
          577698.37,
          2124316.34,
          1514999.17,
          979552.34,
          570879.04,
          651147.83,
          321110.22,
          1051944.79,
          1555672.51,
          1461129.94,
          590984.56,
          286428.78,
          1564819.81,
          1151258.74,
          776933.37,
          432268.53,
          1125169.92,
          911696,
          977286.07,
          911210.81,
          507584.29,
          527953.14,
          754236.7000000001,
          448998.73,
          1078900.44,
          1090587.5,
          1366395.96,
          1633241.59,
          945823.65,
          704113.22,
          857939.41,
          1513080.49,
          933528.39,
          1133807.03,
          262717.71,
          1261253.18,
          1745841.33,
          2587953.32,
          1882070.88,
          1554651.0799999998,
          1257921.28,
          456140.34,
          1991824.05,
          2045837.55,
          728525.6,
          1338716.37,
          1781528.77,
          1327401.06,
          2168709.76,
          718890.8099999999,
          1504651.57,
          475696.37,
          286515.92,
          1309437.17,
          855130.21,
          1309226.79,
          597354.39,
          1402654.95,
          912542.82,
          1033552.18,
          982345.51,
          1576818.06,
          764565.55,
          2107285.85,
          581758.22,
          2290549.32,
          1009887.36,
          272997.65,
          1929486.6300000001,
          641905.37,
          1235775.15,
          293350.51,
          2057059.53,
          935481.32,
          821568.64,
          684655.91,
          589842.69,
          922850.57,
          472511.32,
          2060389.27,
          489293.72,
          870625.49,
          1830939.1,
          671708.09,
          1624477.58,
          291024.98,
          666942.02,
          291454.52,
          503720.98,
          576332.05,
          550791.32,
          1273670.32,
          590453.63,
          2187847.29,
          345584.39,
          1166117.85,
          1675431.16,
          2734277.1,
          1485540.28,
          1601585.7,
          609736.12,
          2086433.49,
          767358.37,
          1390122.11,
          1286413.71,
          1390174.63,
          2187765.28,
          1704785.74,
          2020839.31,
          1713769.06,
          1771792.97,
          1227148.13,
          960746.04,
          1197489.66,
          338737.33,
          1766162.05,
          712647.97,
          922328.02,
          841889.08,
          961685.98,
          1439034.86,
          594385.2,
          363064.64,
          628516.5700000001,
          984336.04,
          585895.34,
          1688420.76,
          1289156.9,
          614378.9400000001,
          1206917.2,
          377672.46,
          522665.04,
          899768.4,
          1095889.22,
          1405168.06,
          281909.79,
          573084.71,
          1503298.7,
          944337.32,
          2025538.76,
          944594.78,
          998672.85,
          1100625.06,
          658468.27,
          997998.21,
          1750197.81,
          1311965.09,
          605791.46,
          417290.38,
          465198.89,
          1494417.07,
          1276609.36,
          905399.99,
          778436.81,
          765687.4199999999,
          813486.55,
          649245,
          1064617.6199999999,
          1014218.8,
          1220983.17,
          2270188.99,
          943047.78,
          536840.6900000001,
          900309.75,
          1947083.3,
          378574.44,
          1921655.48,
          1847613.58,
          1222511.29,
          509263.28,
          901972.7000000001,
          482926.93,
          694765.95,
          1038576.54,
          771315.62,
          943465.29,
          1375166.86,
          849925.37,
          266484.19,
          873354.58,
          1838513.07,
          800147.84,
          897076.73,
          276011.4,
          1648863.46,
          1168826.39,
          564606.1,
          1183528.58,
          262407.57,
          1975374.56,
          910110.24,
          1597868.05,
          1256282.79,
          279466.87,
          679156.2,
          755084.4,
          428851.99,
          469787.38,
          817653.25,
          288839.73,
          813630.44,
          1311263.07,
          569005.0599999999,
          1320239.51,
          519787.93,
          1430192.3699999999,
          1852443.78,
          1816489.53,
          1796949.59,
          946614.55,
          1304584.4,
          302423.93,
          510427.53,
          2405395.22,
          278067.73,
          1487797.54,
          481144.09,
          1831933.95,
          1745545.28,
          531600.62,
          1133913.33,
          280048.74,
          1491039.14,
          380683.67,
          1074535.88,
          411866.45999999996,
          1493659.74,
          945889.59,
          515226.11,
          1363973.16,
          1536549.95,
          935266.4299999999,
          1261158.47,
          952264.91,
          441683.74,
          1460354.67,
          890130.25,
          2069284.57,
          527058.59,
          299354.67,
          880576.33,
          1344354.41,
          597644.02,
          1280414.8,
          1999363.49,
          851762.28,
          1459601.17,
          1515175.01,
          1116439.02,
          1955624.11,
          865137.6,
          954220.22,
          837144.63,
          271961.04,
          514116.58,
          966817.24,
          1543947.23,
          1115985.81,
          381151.72000000003,
          605956.59,
          1179125.48,
          1759777.25,
          987435.35,
          1779276.51,
          1092204.79,
          2273470.62,
          973585.33,
          1052120.43,
          1469693.99,
          408891.49,
          1623442.24,
          1169773.85,
          1178905.44,
          1621031.7,
          374182.04,
          495543.27999999997,
          394645.25,
          335121.82,
          2035189.6600000001,
          932195.52,
          938914.28,
          1436383.84,
          1911510.64,
          453632.76,
          1740234.06,
          961084.08,
          1863840.49,
          1550229.22,
          958487.75,
          1744879.06,
          713117.66,
          940405.03
         ],
         "yaxis": "y"
        },
        {
         "hovertemplate": "variable=Valores previstos<br>index=%{x}<br>value=%{y}<extra></extra>",
         "legendgroup": "Valores previstos",
         "line": {
          "color": "#EF553B",
          "dash": "solid"
         },
         "marker": {
          "symbol": "circle"
         },
         "mode": "lines",
         "name": "Valores previstos",
         "orientation": "v",
         "showlegend": true,
         "type": "scatter",
         "x": [
          0,
          1,
          2,
          3,
          4,
          5,
          6,
          7,
          8,
          9,
          10,
          11,
          12,
          13,
          14,
          15,
          16,
          17,
          18,
          19,
          20,
          21,
          22,
          23,
          24,
          25,
          26,
          27,
          28,
          29,
          30,
          31,
          32,
          33,
          34,
          35,
          36,
          37,
          38,
          39,
          40,
          41,
          42,
          43,
          44,
          45,
          46,
          47,
          48,
          49,
          50,
          51,
          52,
          53,
          54,
          55,
          56,
          57,
          58,
          59,
          60,
          61,
          62,
          63,
          64,
          65,
          66,
          67,
          68,
          69,
          70,
          71,
          72,
          73,
          74,
          75,
          76,
          77,
          78,
          79,
          80,
          81,
          82,
          83,
          84,
          85,
          86,
          87,
          88,
          89,
          90,
          91,
          92,
          93,
          94,
          95,
          96,
          97,
          98,
          99,
          100,
          101,
          102,
          103,
          104,
          105,
          106,
          107,
          108,
          109,
          110,
          111,
          112,
          113,
          114,
          115,
          116,
          117,
          118,
          119,
          120,
          121,
          122,
          123,
          124,
          125,
          126,
          127,
          128,
          129,
          130,
          131,
          132,
          133,
          134,
          135,
          136,
          137,
          138,
          139,
          140,
          141,
          142,
          143,
          144,
          145,
          146,
          147,
          148,
          149,
          150,
          151,
          152,
          153,
          154,
          155,
          156,
          157,
          158,
          159,
          160,
          161,
          162,
          163,
          164,
          165,
          166,
          167,
          168,
          169,
          170,
          171,
          172,
          173,
          174,
          175,
          176,
          177,
          178,
          179,
          180,
          181,
          182,
          183,
          184,
          185,
          186,
          187,
          188,
          189,
          190,
          191,
          192,
          193,
          194,
          195,
          196,
          197,
          198,
          199,
          200,
          201,
          202,
          203,
          204,
          205,
          206,
          207,
          208,
          209,
          210,
          211,
          212,
          213,
          214,
          215,
          216,
          217,
          218,
          219,
          220,
          221,
          222,
          223,
          224,
          225,
          226,
          227,
          228,
          229,
          230,
          231,
          232,
          233,
          234,
          235,
          236,
          237,
          238,
          239,
          240,
          241,
          242,
          243,
          244,
          245,
          246,
          247,
          248,
          249,
          250,
          251,
          252,
          253,
          254,
          255,
          256,
          257,
          258,
          259,
          260,
          261,
          262,
          263,
          264,
          265,
          266,
          267,
          268,
          269,
          270,
          271,
          272,
          273,
          274,
          275,
          276,
          277,
          278,
          279,
          280,
          281,
          282,
          283,
          284,
          285,
          286,
          287,
          288,
          289,
          290,
          291,
          292,
          293,
          294,
          295,
          296,
          297,
          298,
          299,
          300,
          301,
          302,
          303,
          304,
          305,
          306,
          307,
          308,
          309,
          310,
          311,
          312,
          313,
          314,
          315,
          316,
          317,
          318,
          319,
          320,
          321
         ],
         "xaxis": "x",
         "y": [
          889948.65,
          362200.45,
          899130.51,
          1369305.36,
          560348.29,
          466973.73,
          1272964.37,
          470354.55,
          1272964.37,
          1042602.14,
          1272964.37,
          1738610.62,
          500045.46,
          1369305.36,
          899130.51,
          806576.37,
          1272964.37,
          653127.4,
          1738610.62,
          1272964.37,
          1738610.62,
          403338.19,
          821132.37,
          478718.26,
          478718.26,
          899130.51,
          1272964.37,
          1042602.14,
          1272964.37,
          653127.4,
          560348.29,
          1738610.62,
          870737.09,
          1010247.28,
          560348.29,
          621611.06,
          653127.4,
          1369305.36,
          1388169.46,
          1369305.36,
          621611.06,
          850285.53,
          1545572.78,
          992912.33,
          1272964.37,
          403338.19,
          1272964.37,
          889948.65,
          1272964.37,
          889948.65,
          821132.37,
          470354.55,
          1272964.37,
          821132.37,
          889948.65,
          889948.65,
          1272964.37,
          870737.09,
          1369305.36,
          1272964.37,
          821132.37,
          1545572.78,
          1272964.37,
          1272964.37,
          850285.53,
          870737.09,
          1369305.36,
          1272964.37,
          1738610.62,
          1272964.37,
          1042602.14,
          478718.26,
          1388169.46,
          1272964.37,
          1272964.37,
          1042602.14,
          1388169.46,
          1369305.36,
          1369305.36,
          1272964.37,
          870737.09,
          500045.46,
          362200.45,
          1042602.14,
          889948.65,
          899130.51,
          621611.06,
          1272964.37,
          821132.37,
          1010247.28,
          889948.65,
          1545572.78,
          899130.51,
          1272964.37,
          899130.51,
          1926949.43,
          1272964.37,
          362200.45,
          2037402.53,
          621611.06,
          1369305.36,
          412431.83,
          1272964.37,
          1010247.28,
          889948.65,
          621611.06,
          899130.51,
          1369305.36,
          403338.19,
          1272964.37,
          500045.46,
          899130.51,
          1369305.36,
          889948.65,
          1545572.78,
          653127.4,
          821132.37,
          653127.4,
          560348.29,
          889948.65,
          806576.37,
          1272964.37,
          899130.51,
          2037402.53,
          403338.19,
          1272964.37,
          1545572.78,
          1272964.37,
          1272964.37,
          1010247.28,
          806576.37,
          1738610.62,
          1272964.37,
          1272964.37,
          1272964.37,
          1042602.14,
          1272964.37,
          1272964.37,
          1738610.62,
          1272964.37,
          1369305.36,
          889948.65,
          899130.51,
          1272964.37,
          362200.45,
          1926949.43,
          1272964.37,
          1010247.28,
          1010247.28,
          889948.65,
          1042602.14,
          899130.51,
          403338.19,
          1272964.37,
          1010247.28,
          560348.29,
          1545572.78,
          899130.51,
          621611.06,
          1272964.37,
          466973.73,
          470354.55,
          1010247.28,
          992912.33,
          1272964.37,
          362200.45,
          560348.29,
          1369305.36,
          1272964.37,
          1926949.43,
          821132.37,
          889948.65,
          1272964.37,
          621611.06,
          1272964.37,
          1926949.43,
          1369305.36,
          470354.55,
          466973.73,
          821132.37,
          1388169.46,
          1251189.49,
          1010247.28,
          899130.51,
          740331.4,
          889948.65,
          1272964.37,
          1272964.37,
          889948.65,
          1272964.37,
          1545572.78,
          889948.65,
          470354.55,
          821132.37,
          1926949.43,
          466973.73,
          1272964.37,
          1369305.36,
          1272964.37,
          806576.37,
          1272964.37,
          899130.51,
          1272964.37,
          1272964.37,
          1010247.28,
          899130.51,
          870737.09,
          821132.37,
          850285.53,
          1010247.28,
          1926949.43,
          740331.4,
          821132.37,
          362200.45,
          870737.09,
          1251189.49,
          806576.37,
          992912.33,
          850285.53,
          1272964.37,
          1369305.36,
          1545572.78,
          1272964.37,
          850285.53,
          740331.4,
          1272964.37,
          412431.83,
          466973.73,
          740331.4,
          653127.4,
          740331.4,
          1369305.36,
          899130.51,
          1369305.36,
          500045.46,
          1369305.36,
          1738610.62,
          1272964.37,
          1738610.62,
          1272964.37,
          1369305.36,
          850285.53,
          470354.55,
          1272964.37,
          850285.53,
          1388169.46,
          821132.37,
          1738610.62,
          1926949.43,
          500045.46,
          1251189.49,
          362200.45,
          1042602.14,
          403338.19,
          1272964.37,
          466973.73,
          1545572.78,
          1272964.37,
          806576.37,
          1272964.37,
          1272964.37,
          821132.37,
          1272964.37,
          821132.37,
          466973.73,
          1272964.37,
          1272964.37,
          1738610.62,
          500045.46,
          362200.45,
          889948.65,
          1042602.14,
          560348.29,
          1388169.46,
          1272964.37,
          899130.51,
          1545572.78,
          1272964.37,
          1251189.49,
          1545572.78,
          889948.65,
          1369305.36,
          740331.4,
          850285.53,
          470354.55,
          1369305.36,
          1042602.14,
          1272964.37,
          403338.19,
          621611.06,
          1251189.49,
          870737.09,
          889948.65,
          1272964.37,
          1272964.37,
          1738610.62,
          1272964.37,
          1272964.37,
          1272964.37,
          412431.83,
          1388169.46,
          1272964.37,
          1369305.36,
          1545572.78,
          412431.83,
          821132.37,
          412431.83,
          466973.73,
          1738610.62,
          889948.65,
          899130.51,
          1251189.49,
          1272964.37,
          899130.51,
          1369305.36,
          1272964.37,
          1926949.43,
          1545572.78,
          1272964.37,
          1272964.37,
          821132.37,
          1010247.28
         ],
         "yaxis": "y"
        }
       ],
       "layout": {
        "legend": {
         "title": {
          "text": "variable"
         },
         "tracegroupgap": 0
        },
        "margin": {
         "t": 60
        },
        "template": {
         "data": {
          "bar": [
           {
            "error_x": {
             "color": "#2a3f5f"
            },
            "error_y": {
             "color": "#2a3f5f"
            },
            "marker": {
             "line": {
              "color": "#E5ECF6",
              "width": 0.5
             },
             "pattern": {
              "fillmode": "overlay",
              "size": 10,
              "solidity": 0.2
             }
            },
            "type": "bar"
           }
          ],
          "barpolar": [
           {
            "marker": {
             "line": {
              "color": "#E5ECF6",
              "width": 0.5
             },
             "pattern": {
              "fillmode": "overlay",
              "size": 10,
              "solidity": 0.2
             }
            },
            "type": "barpolar"
           }
          ],
          "carpet": [
           {
            "aaxis": {
             "endlinecolor": "#2a3f5f",
             "gridcolor": "white",
             "linecolor": "white",
             "minorgridcolor": "white",
             "startlinecolor": "#2a3f5f"
            },
            "baxis": {
             "endlinecolor": "#2a3f5f",
             "gridcolor": "white",
             "linecolor": "white",
             "minorgridcolor": "white",
             "startlinecolor": "#2a3f5f"
            },
            "type": "carpet"
           }
          ],
          "choropleth": [
           {
            "colorbar": {
             "outlinewidth": 0,
             "ticks": ""
            },
            "type": "choropleth"
           }
          ],
          "contour": [
           {
            "colorbar": {
             "outlinewidth": 0,
             "ticks": ""
            },
            "colorscale": [
             [
              0,
              "#0d0887"
             ],
             [
              0.1111111111111111,
              "#46039f"
             ],
             [
              0.2222222222222222,
              "#7201a8"
             ],
             [
              0.3333333333333333,
              "#9c179e"
             ],
             [
              0.4444444444444444,
              "#bd3786"
             ],
             [
              0.5555555555555556,
              "#d8576b"
             ],
             [
              0.6666666666666666,
              "#ed7953"
             ],
             [
              0.7777777777777778,
              "#fb9f3a"
             ],
             [
              0.8888888888888888,
              "#fdca26"
             ],
             [
              1,
              "#f0f921"
             ]
            ],
            "type": "contour"
           }
          ],
          "contourcarpet": [
           {
            "colorbar": {
             "outlinewidth": 0,
             "ticks": ""
            },
            "type": "contourcarpet"
           }
          ],
          "heatmap": [
           {
            "colorbar": {
             "outlinewidth": 0,
             "ticks": ""
            },
            "colorscale": [
             [
              0,
              "#0d0887"
             ],
             [
              0.1111111111111111,
              "#46039f"
             ],
             [
              0.2222222222222222,
              "#7201a8"
             ],
             [
              0.3333333333333333,
              "#9c179e"
             ],
             [
              0.4444444444444444,
              "#bd3786"
             ],
             [
              0.5555555555555556,
              "#d8576b"
             ],
             [
              0.6666666666666666,
              "#ed7953"
             ],
             [
              0.7777777777777778,
              "#fb9f3a"
             ],
             [
              0.8888888888888888,
              "#fdca26"
             ],
             [
              1,
              "#f0f921"
             ]
            ],
            "type": "heatmap"
           }
          ],
          "heatmapgl": [
           {
            "colorbar": {
             "outlinewidth": 0,
             "ticks": ""
            },
            "colorscale": [
             [
              0,
              "#0d0887"
             ],
             [
              0.1111111111111111,
              "#46039f"
             ],
             [
              0.2222222222222222,
              "#7201a8"
             ],
             [
              0.3333333333333333,
              "#9c179e"
             ],
             [
              0.4444444444444444,
              "#bd3786"
             ],
             [
              0.5555555555555556,
              "#d8576b"
             ],
             [
              0.6666666666666666,
              "#ed7953"
             ],
             [
              0.7777777777777778,
              "#fb9f3a"
             ],
             [
              0.8888888888888888,
              "#fdca26"
             ],
             [
              1,
              "#f0f921"
             ]
            ],
            "type": "heatmapgl"
           }
          ],
          "histogram": [
           {
            "marker": {
             "pattern": {
              "fillmode": "overlay",
              "size": 10,
              "solidity": 0.2
             }
            },
            "type": "histogram"
           }
          ],
          "histogram2d": [
           {
            "colorbar": {
             "outlinewidth": 0,
             "ticks": ""
            },
            "colorscale": [
             [
              0,
              "#0d0887"
             ],
             [
              0.1111111111111111,
              "#46039f"
             ],
             [
              0.2222222222222222,
              "#7201a8"
             ],
             [
              0.3333333333333333,
              "#9c179e"
             ],
             [
              0.4444444444444444,
              "#bd3786"
             ],
             [
              0.5555555555555556,
              "#d8576b"
             ],
             [
              0.6666666666666666,
              "#ed7953"
             ],
             [
              0.7777777777777778,
              "#fb9f3a"
             ],
             [
              0.8888888888888888,
              "#fdca26"
             ],
             [
              1,
              "#f0f921"
             ]
            ],
            "type": "histogram2d"
           }
          ],
          "histogram2dcontour": [
           {
            "colorbar": {
             "outlinewidth": 0,
             "ticks": ""
            },
            "colorscale": [
             [
              0,
              "#0d0887"
             ],
             [
              0.1111111111111111,
              "#46039f"
             ],
             [
              0.2222222222222222,
              "#7201a8"
             ],
             [
              0.3333333333333333,
              "#9c179e"
             ],
             [
              0.4444444444444444,
              "#bd3786"
             ],
             [
              0.5555555555555556,
              "#d8576b"
             ],
             [
              0.6666666666666666,
              "#ed7953"
             ],
             [
              0.7777777777777778,
              "#fb9f3a"
             ],
             [
              0.8888888888888888,
              "#fdca26"
             ],
             [
              1,
              "#f0f921"
             ]
            ],
            "type": "histogram2dcontour"
           }
          ],
          "mesh3d": [
           {
            "colorbar": {
             "outlinewidth": 0,
             "ticks": ""
            },
            "type": "mesh3d"
           }
          ],
          "parcoords": [
           {
            "line": {
             "colorbar": {
              "outlinewidth": 0,
              "ticks": ""
             }
            },
            "type": "parcoords"
           }
          ],
          "pie": [
           {
            "automargin": true,
            "type": "pie"
           }
          ],
          "scatter": [
           {
            "marker": {
             "colorbar": {
              "outlinewidth": 0,
              "ticks": ""
             }
            },
            "type": "scatter"
           }
          ],
          "scatter3d": [
           {
            "line": {
             "colorbar": {
              "outlinewidth": 0,
              "ticks": ""
             }
            },
            "marker": {
             "colorbar": {
              "outlinewidth": 0,
              "ticks": ""
             }
            },
            "type": "scatter3d"
           }
          ],
          "scattercarpet": [
           {
            "marker": {
             "colorbar": {
              "outlinewidth": 0,
              "ticks": ""
             }
            },
            "type": "scattercarpet"
           }
          ],
          "scattergeo": [
           {
            "marker": {
             "colorbar": {
              "outlinewidth": 0,
              "ticks": ""
             }
            },
            "type": "scattergeo"
           }
          ],
          "scattergl": [
           {
            "marker": {
             "colorbar": {
              "outlinewidth": 0,
              "ticks": ""
             }
            },
            "type": "scattergl"
           }
          ],
          "scattermapbox": [
           {
            "marker": {
             "colorbar": {
              "outlinewidth": 0,
              "ticks": ""
             }
            },
            "type": "scattermapbox"
           }
          ],
          "scatterpolar": [
           {
            "marker": {
             "colorbar": {
              "outlinewidth": 0,
              "ticks": ""
             }
            },
            "type": "scatterpolar"
           }
          ],
          "scatterpolargl": [
           {
            "marker": {
             "colorbar": {
              "outlinewidth": 0,
              "ticks": ""
             }
            },
            "type": "scatterpolargl"
           }
          ],
          "scatterternary": [
           {
            "marker": {
             "colorbar": {
              "outlinewidth": 0,
              "ticks": ""
             }
            },
            "type": "scatterternary"
           }
          ],
          "surface": [
           {
            "colorbar": {
             "outlinewidth": 0,
             "ticks": ""
            },
            "colorscale": [
             [
              0,
              "#0d0887"
             ],
             [
              0.1111111111111111,
              "#46039f"
             ],
             [
              0.2222222222222222,
              "#7201a8"
             ],
             [
              0.3333333333333333,
              "#9c179e"
             ],
             [
              0.4444444444444444,
              "#bd3786"
             ],
             [
              0.5555555555555556,
              "#d8576b"
             ],
             [
              0.6666666666666666,
              "#ed7953"
             ],
             [
              0.7777777777777778,
              "#fb9f3a"
             ],
             [
              0.8888888888888888,
              "#fdca26"
             ],
             [
              1,
              "#f0f921"
             ]
            ],
            "type": "surface"
           }
          ],
          "table": [
           {
            "cells": {
             "fill": {
              "color": "#EBF0F8"
             },
             "line": {
              "color": "white"
             }
            },
            "header": {
             "fill": {
              "color": "#C8D4E3"
             },
             "line": {
              "color": "white"
             }
            },
            "type": "table"
           }
          ]
         },
         "layout": {
          "annotationdefaults": {
           "arrowcolor": "#2a3f5f",
           "arrowhead": 0,
           "arrowwidth": 1
          },
          "autotypenumbers": "strict",
          "coloraxis": {
           "colorbar": {
            "outlinewidth": 0,
            "ticks": ""
           }
          },
          "colorscale": {
           "diverging": [
            [
             0,
             "#8e0152"
            ],
            [
             0.1,
             "#c51b7d"
            ],
            [
             0.2,
             "#de77ae"
            ],
            [
             0.3,
             "#f1b6da"
            ],
            [
             0.4,
             "#fde0ef"
            ],
            [
             0.5,
             "#f7f7f7"
            ],
            [
             0.6,
             "#e6f5d0"
            ],
            [
             0.7,
             "#b8e186"
            ],
            [
             0.8,
             "#7fbc41"
            ],
            [
             0.9,
             "#4d9221"
            ],
            [
             1,
             "#276419"
            ]
           ],
           "sequential": [
            [
             0,
             "#0d0887"
            ],
            [
             0.1111111111111111,
             "#46039f"
            ],
            [
             0.2222222222222222,
             "#7201a8"
            ],
            [
             0.3333333333333333,
             "#9c179e"
            ],
            [
             0.4444444444444444,
             "#bd3786"
            ],
            [
             0.5555555555555556,
             "#d8576b"
            ],
            [
             0.6666666666666666,
             "#ed7953"
            ],
            [
             0.7777777777777778,
             "#fb9f3a"
            ],
            [
             0.8888888888888888,
             "#fdca26"
            ],
            [
             1,
             "#f0f921"
            ]
           ],
           "sequentialminus": [
            [
             0,
             "#0d0887"
            ],
            [
             0.1111111111111111,
             "#46039f"
            ],
            [
             0.2222222222222222,
             "#7201a8"
            ],
            [
             0.3333333333333333,
             "#9c179e"
            ],
            [
             0.4444444444444444,
             "#bd3786"
            ],
            [
             0.5555555555555556,
             "#d8576b"
            ],
            [
             0.6666666666666666,
             "#ed7953"
            ],
            [
             0.7777777777777778,
             "#fb9f3a"
            ],
            [
             0.8888888888888888,
             "#fdca26"
            ],
            [
             1,
             "#f0f921"
            ]
           ]
          },
          "colorway": [
           "#636efa",
           "#EF553B",
           "#00cc96",
           "#ab63fa",
           "#FFA15A",
           "#19d3f3",
           "#FF6692",
           "#B6E880",
           "#FF97FF",
           "#FECB52"
          ],
          "font": {
           "color": "#2a3f5f"
          },
          "geo": {
           "bgcolor": "white",
           "lakecolor": "white",
           "landcolor": "#E5ECF6",
           "showlakes": true,
           "showland": true,
           "subunitcolor": "white"
          },
          "hoverlabel": {
           "align": "left"
          },
          "hovermode": "closest",
          "mapbox": {
           "style": "light"
          },
          "paper_bgcolor": "white",
          "plot_bgcolor": "#E5ECF6",
          "polar": {
           "angularaxis": {
            "gridcolor": "white",
            "linecolor": "white",
            "ticks": ""
           },
           "bgcolor": "#E5ECF6",
           "radialaxis": {
            "gridcolor": "white",
            "linecolor": "white",
            "ticks": ""
           }
          },
          "scene": {
           "xaxis": {
            "backgroundcolor": "#E5ECF6",
            "gridcolor": "white",
            "gridwidth": 2,
            "linecolor": "white",
            "showbackground": true,
            "ticks": "",
            "zerolinecolor": "white"
           },
           "yaxis": {
            "backgroundcolor": "#E5ECF6",
            "gridcolor": "white",
            "gridwidth": 2,
            "linecolor": "white",
            "showbackground": true,
            "ticks": "",
            "zerolinecolor": "white"
           },
           "zaxis": {
            "backgroundcolor": "#E5ECF6",
            "gridcolor": "white",
            "gridwidth": 2,
            "linecolor": "white",
            "showbackground": true,
            "ticks": "",
            "zerolinecolor": "white"
           }
          },
          "shapedefaults": {
           "line": {
            "color": "#2a3f5f"
           }
          },
          "ternary": {
           "aaxis": {
            "gridcolor": "white",
            "linecolor": "white",
            "ticks": ""
           },
           "baxis": {
            "gridcolor": "white",
            "linecolor": "white",
            "ticks": ""
           },
           "bgcolor": "#E5ECF6",
           "caxis": {
            "gridcolor": "white",
            "linecolor": "white",
            "ticks": ""
           }
          },
          "title": {
           "x": 0.05
          },
          "xaxis": {
           "automargin": true,
           "gridcolor": "white",
           "linecolor": "white",
           "ticks": "",
           "title": {
            "standoff": 15
           },
           "zerolinecolor": "white",
           "zerolinewidth": 2
          },
          "yaxis": {
           "automargin": true,
           "gridcolor": "white",
           "linecolor": "white",
           "ticks": "",
           "title": {
            "standoff": 15
           },
           "zerolinecolor": "white",
           "zerolinewidth": 2
          }
         }
        },
        "xaxis": {
         "anchor": "y",
         "domain": [
          0,
          1
         ],
         "title": {
          "text": "index"
         }
        },
        "yaxis": {
         "anchor": "x",
         "domain": [
          0,
          1
         ],
         "title": {
          "text": "value"
         }
        }
       }
      },
      "text/html": [
       "<div>                            <div id=\"08e244f6-ad30-4089-9d99-aa0a135114fb\" class=\"plotly-graph-div\" style=\"height:525px; width:100%;\"></div>            <script type=\"text/javascript\">                require([\"plotly\"], function(Plotly) {                    window.PLOTLYENV=window.PLOTLYENV || {};                                    if (document.getElementById(\"08e244f6-ad30-4089-9d99-aa0a135114fb\")) {                    Plotly.newPlot(                        \"08e244f6-ad30-4089-9d99-aa0a135114fb\",                        [{\"hovertemplate\":\"variable=Valores reais<br>index=%{x}<br>value=%{y}<extra></extra>\",\"legendgroup\":\"Valores reais\",\"line\":{\"color\":\"#636efa\",\"dash\":\"solid\"},\"marker\":{\"symbol\":\"circle\"},\"mode\":\"lines\",\"name\":\"Valores reais\",\"orientation\":\"v\",\"showlegend\":true,\"x\":[0,1,2,3,4,5,6,7,8,9,10,11,12,13,14,15,16,17,18,19,20,21,22,23,24,25,26,27,28,29,30,31,32,33,34,35,36,37,38,39,40,41,42,43,44,45,46,47,48,49,50,51,52,53,54,55,56,57,58,59,60,61,62,63,64,65,66,67,68,69,70,71,72,73,74,75,76,77,78,79,80,81,82,83,84,85,86,87,88,89,90,91,92,93,94,95,96,97,98,99,100,101,102,103,104,105,106,107,108,109,110,111,112,113,114,115,116,117,118,119,120,121,122,123,124,125,126,127,128,129,130,131,132,133,134,135,136,137,138,139,140,141,142,143,144,145,146,147,148,149,150,151,152,153,154,155,156,157,158,159,160,161,162,163,164,165,166,167,168,169,170,171,172,173,174,175,176,177,178,179,180,181,182,183,184,185,186,187,188,189,190,191,192,193,194,195,196,197,198,199,200,201,202,203,204,205,206,207,208,209,210,211,212,213,214,215,216,217,218,219,220,221,222,223,224,225,226,227,228,229,230,231,232,233,234,235,236,237,238,239,240,241,242,243,244,245,246,247,248,249,250,251,252,253,254,255,256,257,258,259,260,261,262,263,264,265,266,267,268,269,270,271,272,273,274,275,276,277,278,279,280,281,282,283,284,285,286,287,288,289,290,291,292,293,294,295,296,297,298,299,300,301,302,303,304,305,306,307,308,309,310,311,312,313,314,315,316,317,318,319,320,321],\"xaxis\":\"x\",\"y\":[938861.77,303438.24,655318.26,1336522.92,559285.35,430944.39,648606.13,508573.16000000003,993172.98,1303523.73,809833.21,1785823.3699999999,483011.69,1848953.48,527389.28,458086.69,972663.59,319550.77,2623469.9499999997,1364445.98,1591835.02,339976.65,535769.32,412224.67,470921.24,521896.60000000003,1004749.41,1287288.59,1403779.25,312177.67,577698.37,2124316.34,1514999.17,979552.34,570879.04,651147.83,321110.22,1051944.79,1555672.51,1461129.94,590984.56,286428.78,1564819.81,1151258.74,776933.37,432268.53,1125169.92,911696.0,977286.07,911210.81,507584.29,527953.14,754236.7000000001,448998.73,1078900.44,1090587.5,1366395.96,1633241.59,945823.65,704113.22,857939.41,1513080.49,933528.39,1133807.03,262717.71,1261253.18,1745841.33,2587953.32,1882070.88,1554651.0799999998,1257921.28,456140.34,1991824.05,2045837.55,728525.6,1338716.37,1781528.77,1327401.06,2168709.76,718890.8099999999,1504651.57,475696.37,286515.92,1309437.17,855130.21,1309226.79,597354.39,1402654.95,912542.82,1033552.18,982345.51,1576818.06,764565.55,2107285.85,581758.22,2290549.32,1009887.36,272997.65,1929486.6300000001,641905.37,1235775.15,293350.51,2057059.53,935481.32,821568.64,684655.91,589842.69,922850.57,472511.32,2060389.27,489293.72,870625.49,1830939.1,671708.09,1624477.58,291024.98,666942.02,291454.52,503720.98,576332.05,550791.32,1273670.32,590453.63,2187847.29,345584.39,1166117.85,1675431.16,2734277.1,1485540.28,1601585.7,609736.12,2086433.49,767358.37,1390122.11,1286413.71,1390174.63,2187765.28,1704785.74,2020839.31,1713769.06,1771792.97,1227148.13,960746.04,1197489.66,338737.33,1766162.05,712647.97,922328.02,841889.08,961685.98,1439034.86,594385.2,363064.64,628516.5700000001,984336.04,585895.34,1688420.76,1289156.9,614378.9400000001,1206917.2,377672.46,522665.04,899768.4,1095889.22,1405168.06,281909.79,573084.71,1503298.7,944337.32,2025538.76,944594.78,998672.85,1100625.06,658468.27,997998.21,1750197.81,1311965.09,605791.46,417290.38,465198.89,1494417.07,1276609.36,905399.99,778436.81,765687.4199999999,813486.55,649245.0,1064617.6199999999,1014218.8,1220983.17,2270188.99,943047.78,536840.6900000001,900309.75,1947083.3,378574.44,1921655.48,1847613.58,1222511.29,509263.28,901972.7000000001,482926.93,694765.95,1038576.54,771315.62,943465.29,1375166.86,849925.37,266484.19,873354.58,1838513.07,800147.84,897076.73,276011.4,1648863.46,1168826.39,564606.1,1183528.58,262407.57,1975374.56,910110.24,1597868.05,1256282.79,279466.87,679156.2,755084.4,428851.99,469787.38,817653.25,288839.73,813630.44,1311263.07,569005.0599999999,1320239.51,519787.93,1430192.3699999999,1852443.78,1816489.53,1796949.59,946614.55,1304584.4,302423.93,510427.53,2405395.22,278067.73,1487797.54,481144.09,1831933.95,1745545.28,531600.62,1133913.33,280048.74,1491039.14,380683.67,1074535.88,411866.45999999996,1493659.74,945889.59,515226.11,1363973.16,1536549.95,935266.4299999999,1261158.47,952264.91,441683.74,1460354.67,890130.25,2069284.57,527058.59,299354.67,880576.33,1344354.41,597644.02,1280414.8,1999363.49,851762.28,1459601.17,1515175.01,1116439.02,1955624.11,865137.6,954220.22,837144.63,271961.04,514116.58,966817.24,1543947.23,1115985.81,381151.72000000003,605956.59,1179125.48,1759777.25,987435.35,1779276.51,1092204.79,2273470.62,973585.33,1052120.43,1469693.99,408891.49,1623442.24,1169773.85,1178905.44,1621031.7,374182.04,495543.27999999997,394645.25,335121.82,2035189.6600000001,932195.52,938914.28,1436383.84,1911510.64,453632.76,1740234.06,961084.08,1863840.49,1550229.22,958487.75,1744879.06,713117.66,940405.03],\"yaxis\":\"y\",\"type\":\"scatter\"},{\"hovertemplate\":\"variable=Valores previstos<br>index=%{x}<br>value=%{y}<extra></extra>\",\"legendgroup\":\"Valores previstos\",\"line\":{\"color\":\"#EF553B\",\"dash\":\"solid\"},\"marker\":{\"symbol\":\"circle\"},\"mode\":\"lines\",\"name\":\"Valores previstos\",\"orientation\":\"v\",\"showlegend\":true,\"x\":[0,1,2,3,4,5,6,7,8,9,10,11,12,13,14,15,16,17,18,19,20,21,22,23,24,25,26,27,28,29,30,31,32,33,34,35,36,37,38,39,40,41,42,43,44,45,46,47,48,49,50,51,52,53,54,55,56,57,58,59,60,61,62,63,64,65,66,67,68,69,70,71,72,73,74,75,76,77,78,79,80,81,82,83,84,85,86,87,88,89,90,91,92,93,94,95,96,97,98,99,100,101,102,103,104,105,106,107,108,109,110,111,112,113,114,115,116,117,118,119,120,121,122,123,124,125,126,127,128,129,130,131,132,133,134,135,136,137,138,139,140,141,142,143,144,145,146,147,148,149,150,151,152,153,154,155,156,157,158,159,160,161,162,163,164,165,166,167,168,169,170,171,172,173,174,175,176,177,178,179,180,181,182,183,184,185,186,187,188,189,190,191,192,193,194,195,196,197,198,199,200,201,202,203,204,205,206,207,208,209,210,211,212,213,214,215,216,217,218,219,220,221,222,223,224,225,226,227,228,229,230,231,232,233,234,235,236,237,238,239,240,241,242,243,244,245,246,247,248,249,250,251,252,253,254,255,256,257,258,259,260,261,262,263,264,265,266,267,268,269,270,271,272,273,274,275,276,277,278,279,280,281,282,283,284,285,286,287,288,289,290,291,292,293,294,295,296,297,298,299,300,301,302,303,304,305,306,307,308,309,310,311,312,313,314,315,316,317,318,319,320,321],\"xaxis\":\"x\",\"y\":[889948.65,362200.45,899130.51,1369305.36,560348.29,466973.73,1272964.37,470354.55,1272964.37,1042602.14,1272964.37,1738610.62,500045.46,1369305.36,899130.51,806576.37,1272964.37,653127.4,1738610.62,1272964.37,1738610.62,403338.19,821132.37,478718.26,478718.26,899130.51,1272964.37,1042602.14,1272964.37,653127.4,560348.29,1738610.62,870737.09,1010247.28,560348.29,621611.06,653127.4,1369305.36,1388169.46,1369305.36,621611.06,850285.53,1545572.78,992912.33,1272964.37,403338.19,1272964.37,889948.65,1272964.37,889948.65,821132.37,470354.55,1272964.37,821132.37,889948.65,889948.65,1272964.37,870737.09,1369305.36,1272964.37,821132.37,1545572.78,1272964.37,1272964.37,850285.53,870737.09,1369305.36,1272964.37,1738610.62,1272964.37,1042602.14,478718.26,1388169.46,1272964.37,1272964.37,1042602.14,1388169.46,1369305.36,1369305.36,1272964.37,870737.09,500045.46,362200.45,1042602.14,889948.65,899130.51,621611.06,1272964.37,821132.37,1010247.28,889948.65,1545572.78,899130.51,1272964.37,899130.51,1926949.43,1272964.37,362200.45,2037402.53,621611.06,1369305.36,412431.83,1272964.37,1010247.28,889948.65,621611.06,899130.51,1369305.36,403338.19,1272964.37,500045.46,899130.51,1369305.36,889948.65,1545572.78,653127.4,821132.37,653127.4,560348.29,889948.65,806576.37,1272964.37,899130.51,2037402.53,403338.19,1272964.37,1545572.78,1272964.37,1272964.37,1010247.28,806576.37,1738610.62,1272964.37,1272964.37,1272964.37,1042602.14,1272964.37,1272964.37,1738610.62,1272964.37,1369305.36,889948.65,899130.51,1272964.37,362200.45,1926949.43,1272964.37,1010247.28,1010247.28,889948.65,1042602.14,899130.51,403338.19,1272964.37,1010247.28,560348.29,1545572.78,899130.51,621611.06,1272964.37,466973.73,470354.55,1010247.28,992912.33,1272964.37,362200.45,560348.29,1369305.36,1272964.37,1926949.43,821132.37,889948.65,1272964.37,621611.06,1272964.37,1926949.43,1369305.36,470354.55,466973.73,821132.37,1388169.46,1251189.49,1010247.28,899130.51,740331.4,889948.65,1272964.37,1272964.37,889948.65,1272964.37,1545572.78,889948.65,470354.55,821132.37,1926949.43,466973.73,1272964.37,1369305.36,1272964.37,806576.37,1272964.37,899130.51,1272964.37,1272964.37,1010247.28,899130.51,870737.09,821132.37,850285.53,1010247.28,1926949.43,740331.4,821132.37,362200.45,870737.09,1251189.49,806576.37,992912.33,850285.53,1272964.37,1369305.36,1545572.78,1272964.37,850285.53,740331.4,1272964.37,412431.83,466973.73,740331.4,653127.4,740331.4,1369305.36,899130.51,1369305.36,500045.46,1369305.36,1738610.62,1272964.37,1738610.62,1272964.37,1369305.36,850285.53,470354.55,1272964.37,850285.53,1388169.46,821132.37,1738610.62,1926949.43,500045.46,1251189.49,362200.45,1042602.14,403338.19,1272964.37,466973.73,1545572.78,1272964.37,806576.37,1272964.37,1272964.37,821132.37,1272964.37,821132.37,466973.73,1272964.37,1272964.37,1738610.62,500045.46,362200.45,889948.65,1042602.14,560348.29,1388169.46,1272964.37,899130.51,1545572.78,1272964.37,1251189.49,1545572.78,889948.65,1369305.36,740331.4,850285.53,470354.55,1369305.36,1042602.14,1272964.37,403338.19,621611.06,1251189.49,870737.09,889948.65,1272964.37,1272964.37,1738610.62,1272964.37,1272964.37,1272964.37,412431.83,1388169.46,1272964.37,1369305.36,1545572.78,412431.83,821132.37,412431.83,466973.73,1738610.62,889948.65,899130.51,1251189.49,1272964.37,899130.51,1369305.36,1272964.37,1926949.43,1545572.78,1272964.37,1272964.37,821132.37,1010247.28],\"yaxis\":\"y\",\"type\":\"scatter\"}],                        {\"template\":{\"data\":{\"bar\":[{\"error_x\":{\"color\":\"#2a3f5f\"},\"error_y\":{\"color\":\"#2a3f5f\"},\"marker\":{\"line\":{\"color\":\"#E5ECF6\",\"width\":0.5},\"pattern\":{\"fillmode\":\"overlay\",\"size\":10,\"solidity\":0.2}},\"type\":\"bar\"}],\"barpolar\":[{\"marker\":{\"line\":{\"color\":\"#E5ECF6\",\"width\":0.5},\"pattern\":{\"fillmode\":\"overlay\",\"size\":10,\"solidity\":0.2}},\"type\":\"barpolar\"}],\"carpet\":[{\"aaxis\":{\"endlinecolor\":\"#2a3f5f\",\"gridcolor\":\"white\",\"linecolor\":\"white\",\"minorgridcolor\":\"white\",\"startlinecolor\":\"#2a3f5f\"},\"baxis\":{\"endlinecolor\":\"#2a3f5f\",\"gridcolor\":\"white\",\"linecolor\":\"white\",\"minorgridcolor\":\"white\",\"startlinecolor\":\"#2a3f5f\"},\"type\":\"carpet\"}],\"choropleth\":[{\"colorbar\":{\"outlinewidth\":0,\"ticks\":\"\"},\"type\":\"choropleth\"}],\"contour\":[{\"colorbar\":{\"outlinewidth\":0,\"ticks\":\"\"},\"colorscale\":[[0.0,\"#0d0887\"],[0.1111111111111111,\"#46039f\"],[0.2222222222222222,\"#7201a8\"],[0.3333333333333333,\"#9c179e\"],[0.4444444444444444,\"#bd3786\"],[0.5555555555555556,\"#d8576b\"],[0.6666666666666666,\"#ed7953\"],[0.7777777777777778,\"#fb9f3a\"],[0.8888888888888888,\"#fdca26\"],[1.0,\"#f0f921\"]],\"type\":\"contour\"}],\"contourcarpet\":[{\"colorbar\":{\"outlinewidth\":0,\"ticks\":\"\"},\"type\":\"contourcarpet\"}],\"heatmap\":[{\"colorbar\":{\"outlinewidth\":0,\"ticks\":\"\"},\"colorscale\":[[0.0,\"#0d0887\"],[0.1111111111111111,\"#46039f\"],[0.2222222222222222,\"#7201a8\"],[0.3333333333333333,\"#9c179e\"],[0.4444444444444444,\"#bd3786\"],[0.5555555555555556,\"#d8576b\"],[0.6666666666666666,\"#ed7953\"],[0.7777777777777778,\"#fb9f3a\"],[0.8888888888888888,\"#fdca26\"],[1.0,\"#f0f921\"]],\"type\":\"heatmap\"}],\"heatmapgl\":[{\"colorbar\":{\"outlinewidth\":0,\"ticks\":\"\"},\"colorscale\":[[0.0,\"#0d0887\"],[0.1111111111111111,\"#46039f\"],[0.2222222222222222,\"#7201a8\"],[0.3333333333333333,\"#9c179e\"],[0.4444444444444444,\"#bd3786\"],[0.5555555555555556,\"#d8576b\"],[0.6666666666666666,\"#ed7953\"],[0.7777777777777778,\"#fb9f3a\"],[0.8888888888888888,\"#fdca26\"],[1.0,\"#f0f921\"]],\"type\":\"heatmapgl\"}],\"histogram\":[{\"marker\":{\"pattern\":{\"fillmode\":\"overlay\",\"size\":10,\"solidity\":0.2}},\"type\":\"histogram\"}],\"histogram2d\":[{\"colorbar\":{\"outlinewidth\":0,\"ticks\":\"\"},\"colorscale\":[[0.0,\"#0d0887\"],[0.1111111111111111,\"#46039f\"],[0.2222222222222222,\"#7201a8\"],[0.3333333333333333,\"#9c179e\"],[0.4444444444444444,\"#bd3786\"],[0.5555555555555556,\"#d8576b\"],[0.6666666666666666,\"#ed7953\"],[0.7777777777777778,\"#fb9f3a\"],[0.8888888888888888,\"#fdca26\"],[1.0,\"#f0f921\"]],\"type\":\"histogram2d\"}],\"histogram2dcontour\":[{\"colorbar\":{\"outlinewidth\":0,\"ticks\":\"\"},\"colorscale\":[[0.0,\"#0d0887\"],[0.1111111111111111,\"#46039f\"],[0.2222222222222222,\"#7201a8\"],[0.3333333333333333,\"#9c179e\"],[0.4444444444444444,\"#bd3786\"],[0.5555555555555556,\"#d8576b\"],[0.6666666666666666,\"#ed7953\"],[0.7777777777777778,\"#fb9f3a\"],[0.8888888888888888,\"#fdca26\"],[1.0,\"#f0f921\"]],\"type\":\"histogram2dcontour\"}],\"mesh3d\":[{\"colorbar\":{\"outlinewidth\":0,\"ticks\":\"\"},\"type\":\"mesh3d\"}],\"parcoords\":[{\"line\":{\"colorbar\":{\"outlinewidth\":0,\"ticks\":\"\"}},\"type\":\"parcoords\"}],\"pie\":[{\"automargin\":true,\"type\":\"pie\"}],\"scatter\":[{\"marker\":{\"colorbar\":{\"outlinewidth\":0,\"ticks\":\"\"}},\"type\":\"scatter\"}],\"scatter3d\":[{\"line\":{\"colorbar\":{\"outlinewidth\":0,\"ticks\":\"\"}},\"marker\":{\"colorbar\":{\"outlinewidth\":0,\"ticks\":\"\"}},\"type\":\"scatter3d\"}],\"scattercarpet\":[{\"marker\":{\"colorbar\":{\"outlinewidth\":0,\"ticks\":\"\"}},\"type\":\"scattercarpet\"}],\"scattergeo\":[{\"marker\":{\"colorbar\":{\"outlinewidth\":0,\"ticks\":\"\"}},\"type\":\"scattergeo\"}],\"scattergl\":[{\"marker\":{\"colorbar\":{\"outlinewidth\":0,\"ticks\":\"\"}},\"type\":\"scattergl\"}],\"scattermapbox\":[{\"marker\":{\"colorbar\":{\"outlinewidth\":0,\"ticks\":\"\"}},\"type\":\"scattermapbox\"}],\"scatterpolar\":[{\"marker\":{\"colorbar\":{\"outlinewidth\":0,\"ticks\":\"\"}},\"type\":\"scatterpolar\"}],\"scatterpolargl\":[{\"marker\":{\"colorbar\":{\"outlinewidth\":0,\"ticks\":\"\"}},\"type\":\"scatterpolargl\"}],\"scatterternary\":[{\"marker\":{\"colorbar\":{\"outlinewidth\":0,\"ticks\":\"\"}},\"type\":\"scatterternary\"}],\"surface\":[{\"colorbar\":{\"outlinewidth\":0,\"ticks\":\"\"},\"colorscale\":[[0.0,\"#0d0887\"],[0.1111111111111111,\"#46039f\"],[0.2222222222222222,\"#7201a8\"],[0.3333333333333333,\"#9c179e\"],[0.4444444444444444,\"#bd3786\"],[0.5555555555555556,\"#d8576b\"],[0.6666666666666666,\"#ed7953\"],[0.7777777777777778,\"#fb9f3a\"],[0.8888888888888888,\"#fdca26\"],[1.0,\"#f0f921\"]],\"type\":\"surface\"}],\"table\":[{\"cells\":{\"fill\":{\"color\":\"#EBF0F8\"},\"line\":{\"color\":\"white\"}},\"header\":{\"fill\":{\"color\":\"#C8D4E3\"},\"line\":{\"color\":\"white\"}},\"type\":\"table\"}]},\"layout\":{\"annotationdefaults\":{\"arrowcolor\":\"#2a3f5f\",\"arrowhead\":0,\"arrowwidth\":1},\"autotypenumbers\":\"strict\",\"coloraxis\":{\"colorbar\":{\"outlinewidth\":0,\"ticks\":\"\"}},\"colorscale\":{\"diverging\":[[0,\"#8e0152\"],[0.1,\"#c51b7d\"],[0.2,\"#de77ae\"],[0.3,\"#f1b6da\"],[0.4,\"#fde0ef\"],[0.5,\"#f7f7f7\"],[0.6,\"#e6f5d0\"],[0.7,\"#b8e186\"],[0.8,\"#7fbc41\"],[0.9,\"#4d9221\"],[1,\"#276419\"]],\"sequential\":[[0.0,\"#0d0887\"],[0.1111111111111111,\"#46039f\"],[0.2222222222222222,\"#7201a8\"],[0.3333333333333333,\"#9c179e\"],[0.4444444444444444,\"#bd3786\"],[0.5555555555555556,\"#d8576b\"],[0.6666666666666666,\"#ed7953\"],[0.7777777777777778,\"#fb9f3a\"],[0.8888888888888888,\"#fdca26\"],[1.0,\"#f0f921\"]],\"sequentialminus\":[[0.0,\"#0d0887\"],[0.1111111111111111,\"#46039f\"],[0.2222222222222222,\"#7201a8\"],[0.3333333333333333,\"#9c179e\"],[0.4444444444444444,\"#bd3786\"],[0.5555555555555556,\"#d8576b\"],[0.6666666666666666,\"#ed7953\"],[0.7777777777777778,\"#fb9f3a\"],[0.8888888888888888,\"#fdca26\"],[1.0,\"#f0f921\"]]},\"colorway\":[\"#636efa\",\"#EF553B\",\"#00cc96\",\"#ab63fa\",\"#FFA15A\",\"#19d3f3\",\"#FF6692\",\"#B6E880\",\"#FF97FF\",\"#FECB52\"],\"font\":{\"color\":\"#2a3f5f\"},\"geo\":{\"bgcolor\":\"white\",\"lakecolor\":\"white\",\"landcolor\":\"#E5ECF6\",\"showlakes\":true,\"showland\":true,\"subunitcolor\":\"white\"},\"hoverlabel\":{\"align\":\"left\"},\"hovermode\":\"closest\",\"mapbox\":{\"style\":\"light\"},\"paper_bgcolor\":\"white\",\"plot_bgcolor\":\"#E5ECF6\",\"polar\":{\"angularaxis\":{\"gridcolor\":\"white\",\"linecolor\":\"white\",\"ticks\":\"\"},\"bgcolor\":\"#E5ECF6\",\"radialaxis\":{\"gridcolor\":\"white\",\"linecolor\":\"white\",\"ticks\":\"\"}},\"scene\":{\"xaxis\":{\"backgroundcolor\":\"#E5ECF6\",\"gridcolor\":\"white\",\"gridwidth\":2,\"linecolor\":\"white\",\"showbackground\":true,\"ticks\":\"\",\"zerolinecolor\":\"white\"},\"yaxis\":{\"backgroundcolor\":\"#E5ECF6\",\"gridcolor\":\"white\",\"gridwidth\":2,\"linecolor\":\"white\",\"showbackground\":true,\"ticks\":\"\",\"zerolinecolor\":\"white\"},\"zaxis\":{\"backgroundcolor\":\"#E5ECF6\",\"gridcolor\":\"white\",\"gridwidth\":2,\"linecolor\":\"white\",\"showbackground\":true,\"ticks\":\"\",\"zerolinecolor\":\"white\"}},\"shapedefaults\":{\"line\":{\"color\":\"#2a3f5f\"}},\"ternary\":{\"aaxis\":{\"gridcolor\":\"white\",\"linecolor\":\"white\",\"ticks\":\"\"},\"baxis\":{\"gridcolor\":\"white\",\"linecolor\":\"white\",\"ticks\":\"\"},\"bgcolor\":\"#E5ECF6\",\"caxis\":{\"gridcolor\":\"white\",\"linecolor\":\"white\",\"ticks\":\"\"}},\"title\":{\"x\":0.05},\"xaxis\":{\"automargin\":true,\"gridcolor\":\"white\",\"linecolor\":\"white\",\"ticks\":\"\",\"title\":{\"standoff\":15},\"zerolinecolor\":\"white\",\"zerolinewidth\":2},\"yaxis\":{\"automargin\":true,\"gridcolor\":\"white\",\"linecolor\":\"white\",\"ticks\":\"\",\"title\":{\"standoff\":15},\"zerolinecolor\":\"white\",\"zerolinewidth\":2}}},\"xaxis\":{\"anchor\":\"y\",\"domain\":[0.0,1.0],\"title\":{\"text\":\"index\"}},\"yaxis\":{\"anchor\":\"x\",\"domain\":[0.0,1.0],\"title\":{\"text\":\"value\"}},\"legend\":{\"title\":{\"text\":\"variable\"},\"tracegroupgap\":0},\"margin\":{\"t\":60}},                        {\"responsive\": true}                    ).then(function(){\n",
       "                            \n",
       "var gd = document.getElementById('08e244f6-ad30-4089-9d99-aa0a135114fb');\n",
       "var x = new MutationObserver(function (mutations, observer) {{\n",
       "        var display = window.getComputedStyle(gd).display;\n",
       "        if (!display || display === 'none') {{\n",
       "            console.log([gd, 'removed!']);\n",
       "            Plotly.purge(gd);\n",
       "            observer.disconnect();\n",
       "        }}\n",
       "}});\n",
       "\n",
       "// Listen for the removal of the full notebook cells\n",
       "var notebookContainer = gd.closest('#notebook-container');\n",
       "if (notebookContainer) {{\n",
       "    x.observe(notebookContainer, {childList: true});\n",
       "}}\n",
       "\n",
       "// Listen for the clearing of the current output cell\n",
       "var outputEl = gd.closest('.output');\n",
       "if (outputEl) {{\n",
       "    x.observe(outputEl, {childList: true});\n",
       "}}\n",
       "\n",
       "                        })                };                });            </script>        </div>"
      ]
     },
     "metadata": {},
     "output_type": "display_data"
    }
   ],
   "source": [
    "# Plotando gráfico de comparação: azul são os dados reais e vermelho a previsão\n",
    "fig = px.line(comp1_forest, y=['Valores reais','Valores previstos'])\n",
    "fig.show()"
   ]
  },
  {
   "cell_type": "markdown",
   "metadata": {},
   "source": [
    "O gráfico nos indica que a previsão está boa, ou seja, que o modelo está correto."
   ]
  },
  {
   "cell_type": "code",
   "execution_count": 363,
   "metadata": {},
   "outputs": [
    {
     "data": {
      "image/png": "[encoded data removed]",
      "text/plain": [
       "<Figure size 432x288 with 1 Axes>"
      ]
     },
     "metadata": {
      "needs_background": "light"
     },
     "output_type": "display_data"
    },
    {
     "data": {
      "image/png": "[encoded data removed]",
      "text/plain": [
       "<Figure size 432x288 with 1 Axes>"
      ]
     },
     "metadata": {
      "needs_background": "light"
     },
     "output_type": "display_data"
    }
   ],
   "source": [
    "# Montagem de dois gráficos que mostram a relação entre as variáveis, um de dispersão e outro de linha\n",
    "\n",
    "# gráfico de dispersão\n",
    "\n",
    "X1_grid = np.arange(min(X), max(X), 0.01)\n",
    "X1_grid = X1_grid.reshape((len(X1_grid), 1))\n",
    "plt.scatter(X1_test, y1_test, color = 'red')\n",
    "plt.scatter(X1_test, y1_pred_forest, color = 'green')\n",
    "plt.title('Decision Forest Regression')\n",
    "plt.xlabel('Store')\n",
    "plt.ylabel('Weekly_Sales')\n",
    "plt.show()\n",
    "\n",
    "# gráfico de linhas\n",
    "\n",
    "plt.plot(X1_grid, regressor.predict(X1_grid), color = 'gray')\n",
    "plt.title('Decision Forest Regression')\n",
    "plt.xlabel('Store')\n",
    "plt.ylabel('Weekly_Sales')\n",
    "plt.show()"
   ]
  },
  {
   "cell_type": "markdown",
   "metadata": {},
   "source": [
    "O gráfico de dispersão é um gráfico difícil de se analisar para esse caso, provavelmente pois os valores reais possuem muito mais observações."
   ]
  },
  {
   "cell_type": "code",
   "execution_count": 365,
   "metadata": {},
   "outputs": [
    {
     "name": "stdout",
     "output_type": "stream",
     "text": [
      "Coeficiente R²: 0.6316\n",
      "EMA:237277.88\n",
      "EQM:111175808270.12\n",
      "REQM:333430.36\n"
     ]
    }
   ],
   "source": [
    "# Cálculo de R^2, medida de quão bem a linha de regressão se ajusta aos dados. Varia de 0 a 1, sendo 1 o ajuste perfeito.\n",
    "# Cálculo do Erro Médio Absoluto, o valor médio absoluto da diferença entre os valores previstos e os valores reais\n",
    "# Cálculo do Erro Quadrático Médio, a média dos quadrados dos erros\n",
    "# Cálculo da raiz do Erro Quadrático Médio, que mede o mesmo que o EQM, mas na mesma unidade de medida que os valores trabalhados\n",
    "\n",
    "# cálculo do coeficiente R²\n",
    "r2 = r2_score(y1_test, y1_pred_forest)\n",
    "\n",
    "# cálculo do erro médio absoluto (EMA)\n",
    "ema = mean_absolute_error(y1_test, y1_pred_forest)\n",
    "\n",
    "# cálculo do erro quadrático médio (EQM)\n",
    "eqm = mean_squared_error(y1_test, y1_pred_forest)\n",
    "\n",
    "# cálculo da raiz do erro quadrático médio (REQM)\n",
    "reqm = np.sqrt(eqm)\n",
    "\n",
    "print('Coeficiente R²: {:.4f}'.format(r2))\n",
    "print('EMA:{:.2f}'.format(ema))\n",
    "print('EQM:{:.2f}'.format(eqm))\n",
    "print('REQM:{:.2f}'.format(reqm))"
   ]
  },
  {
   "cell_type": "markdown",
   "metadata": {},
   "source": [
    "A estatística R^2 foi alta, o que nos indica um sucesso relativo do modelo. É um indício também que a variável Lojas é explicativa para a variável Vendas, o que é bom, pois nosso problema é obter uma previsão de vendas por loja.\n",
    "Começamos a nos encaminhar para nossa previsão final."
   ]
  },
  {
   "cell_type": "markdown",
   "metadata": {},
   "source": [
    "<a class=\"anchor\" id=\"section_4_2_3\"></a>\n",
    "## Adição de Variáveis\n",
    "    Nosso modelo de maior sucesso foi o Vendas x Lojas utilizando o modelo Random Forest Regression, no qual obtemos a maior estatistica R^2. Porém, estamos usando apenas a variável Lojas como explicativa. A adição de mais variáveis no modelo enriquecerá nossa previsão."
   ]
  },
  {
   "cell_type": "markdown",
   "metadata": {},
   "source": [
    "<a class=\"anchor\" id=\"section_4_2_3_1\"></a>\n",
    "### Pré-tratamento para a adição"
   ]
  },
  {
   "cell_type": "code",
   "execution_count": 366,
   "metadata": {},
   "outputs": [
    {
     "data": {
      "text/html": [
       "<div>\n",
       "<style scoped>\n",
       "    .dataframe tbody tr th:only-of-type {\n",
       "        vertical-align: middle;\n",
       "    }\n",
       "\n",
       "    .dataframe tbody tr th {\n",
       "        vertical-align: top;\n",
       "    }\n",
       "\n",
       "    .dataframe thead th {\n",
       "        text-align: right;\n",
       "    }\n",
       "</style>\n",
       "<table border=\"1\" class=\"dataframe\">\n",
       "  <thead>\n",
       "    <tr style=\"text-align: right;\">\n",
       "      <th></th>\n",
       "      <th>Store</th>\n",
       "      <th>Date</th>\n",
       "      <th>IsHoliday</th>\n",
       "      <th>Weekly_Sales</th>\n",
       "      <th>Temperature</th>\n",
       "      <th>Fuel_Price</th>\n",
       "      <th>CPI</th>\n",
       "      <th>Unemployment</th>\n",
       "      <th>MarkDown</th>\n",
       "    </tr>\n",
       "  </thead>\n",
       "  <tbody>\n",
       "    <tr>\n",
       "      <th>0</th>\n",
       "      <td>1</td>\n",
       "      <td>05/02/2010</td>\n",
       "      <td>0</td>\n",
       "      <td>1643690.90</td>\n",
       "      <td>42.31</td>\n",
       "      <td>2.572</td>\n",
       "      <td>211.096358</td>\n",
       "      <td>8.106</td>\n",
       "      <td>0.00</td>\n",
       "    </tr>\n",
       "    <tr>\n",
       "      <th>1</th>\n",
       "      <td>1</td>\n",
       "      <td>12/02/2010</td>\n",
       "      <td>1</td>\n",
       "      <td>1641957.44</td>\n",
       "      <td>38.51</td>\n",
       "      <td>2.548</td>\n",
       "      <td>211.242170</td>\n",
       "      <td>8.106</td>\n",
       "      <td>0.00</td>\n",
       "    </tr>\n",
       "    <tr>\n",
       "      <th>2</th>\n",
       "      <td>1</td>\n",
       "      <td>19/02/2010</td>\n",
       "      <td>0</td>\n",
       "      <td>1611968.17</td>\n",
       "      <td>39.93</td>\n",
       "      <td>2.514</td>\n",
       "      <td>211.289143</td>\n",
       "      <td>8.106</td>\n",
       "      <td>0.00</td>\n",
       "    </tr>\n",
       "    <tr>\n",
       "      <th>3</th>\n",
       "      <td>1</td>\n",
       "      <td>26/02/2010</td>\n",
       "      <td>0</td>\n",
       "      <td>1409727.59</td>\n",
       "      <td>46.63</td>\n",
       "      <td>2.561</td>\n",
       "      <td>211.319643</td>\n",
       "      <td>8.106</td>\n",
       "      <td>0.00</td>\n",
       "    </tr>\n",
       "    <tr>\n",
       "      <th>4</th>\n",
       "      <td>1</td>\n",
       "      <td>05/03/2010</td>\n",
       "      <td>0</td>\n",
       "      <td>1554806.68</td>\n",
       "      <td>46.50</td>\n",
       "      <td>2.625</td>\n",
       "      <td>211.350143</td>\n",
       "      <td>8.106</td>\n",
       "      <td>0.00</td>\n",
       "    </tr>\n",
       "    <tr>\n",
       "      <th>...</th>\n",
       "      <td>...</td>\n",
       "      <td>...</td>\n",
       "      <td>...</td>\n",
       "      <td>...</td>\n",
       "      <td>...</td>\n",
       "      <td>...</td>\n",
       "      <td>...</td>\n",
       "      <td>...</td>\n",
       "      <td>...</td>\n",
       "    </tr>\n",
       "    <tr>\n",
       "      <th>6430</th>\n",
       "      <td>45</td>\n",
       "      <td>28/09/2012</td>\n",
       "      <td>0</td>\n",
       "      <td>713173.95</td>\n",
       "      <td>64.88</td>\n",
       "      <td>3.997</td>\n",
       "      <td>192.013558</td>\n",
       "      <td>8.684</td>\n",
       "      <td>9468.01</td>\n",
       "    </tr>\n",
       "    <tr>\n",
       "      <th>6431</th>\n",
       "      <td>45</td>\n",
       "      <td>05/10/2012</td>\n",
       "      <td>0</td>\n",
       "      <td>733455.07</td>\n",
       "      <td>64.89</td>\n",
       "      <td>3.985</td>\n",
       "      <td>192.170412</td>\n",
       "      <td>8.667</td>\n",
       "      <td>9659.00</td>\n",
       "    </tr>\n",
       "    <tr>\n",
       "      <th>6432</th>\n",
       "      <td>45</td>\n",
       "      <td>12/10/2012</td>\n",
       "      <td>0</td>\n",
       "      <td>734464.36</td>\n",
       "      <td>54.47</td>\n",
       "      <td>4.000</td>\n",
       "      <td>192.327265</td>\n",
       "      <td>8.667</td>\n",
       "      <td>6554.03</td>\n",
       "    </tr>\n",
       "    <tr>\n",
       "      <th>6433</th>\n",
       "      <td>45</td>\n",
       "      <td>19/10/2012</td>\n",
       "      <td>0</td>\n",
       "      <td>718125.53</td>\n",
       "      <td>56.47</td>\n",
       "      <td>3.969</td>\n",
       "      <td>192.330854</td>\n",
       "      <td>8.667</td>\n",
       "      <td>3982.42</td>\n",
       "    </tr>\n",
       "    <tr>\n",
       "      <th>6434</th>\n",
       "      <td>45</td>\n",
       "      <td>26/10/2012</td>\n",
       "      <td>0</td>\n",
       "      <td>760281.43</td>\n",
       "      <td>58.85</td>\n",
       "      <td>3.882</td>\n",
       "      <td>192.308899</td>\n",
       "      <td>8.667</td>\n",
       "      <td>5247.26</td>\n",
       "    </tr>\n",
       "  </tbody>\n",
       "</table>\n",
       "<p>6435 rows × 9 columns</p>\n",
       "</div>"
      ],
      "text/plain": [
       "      Store        Date  IsHoliday  Weekly_Sales  Temperature  Fuel_Price  \\\n",
       "0         1  05/02/2010          0    1643690.90        42.31       2.572   \n",
       "1         1  12/02/2010          1    1641957.44        38.51       2.548   \n",
       "2         1  19/02/2010          0    1611968.17        39.93       2.514   \n",
       "3         1  26/02/2010          0    1409727.59        46.63       2.561   \n",
       "4         1  05/03/2010          0    1554806.68        46.50       2.625   \n",
       "...     ...         ...        ...           ...          ...         ...   \n",
       "6430     45  28/09/2012          0     713173.95        64.88       3.997   \n",
       "6431     45  05/10/2012          0     733455.07        64.89       3.985   \n",
       "6432     45  12/10/2012          0     734464.36        54.47       4.000   \n",
       "6433     45  19/10/2012          0     718125.53        56.47       3.969   \n",
       "6434     45  26/10/2012          0     760281.43        58.85       3.882   \n",
       "\n",
       "             CPI  Unemployment  MarkDown  \n",
       "0     211.096358         8.106      0.00  \n",
       "1     211.242170         8.106      0.00  \n",
       "2     211.289143         8.106      0.00  \n",
       "3     211.319643         8.106      0.00  \n",
       "4     211.350143         8.106      0.00  \n",
       "...          ...           ...       ...  \n",
       "6430  192.013558         8.684   9468.01  \n",
       "6431  192.170412         8.667   9659.00  \n",
       "6432  192.327265         8.667   6554.03  \n",
       "6433  192.330854         8.667   3982.42  \n",
       "6434  192.308899         8.667   5247.26  \n",
       "\n",
       "[6435 rows x 9 columns]"
      ]
     },
     "execution_count": 366,
     "metadata": {},
     "output_type": "execute_result"
    }
   ],
   "source": [
    "# visualização do data frame de interesse\n",
    "\n",
    "df"
   ]
  },
  {
   "cell_type": "code",
   "execution_count": 367,
   "metadata": {},
   "outputs": [
    {
     "data": {
      "text/html": [
       "<div>\n",
       "<style scoped>\n",
       "    .dataframe tbody tr th:only-of-type {\n",
       "        vertical-align: middle;\n",
       "    }\n",
       "\n",
       "    .dataframe tbody tr th {\n",
       "        vertical-align: top;\n",
       "    }\n",
       "\n",
       "    .dataframe thead th {\n",
       "        text-align: right;\n",
       "    }\n",
       "</style>\n",
       "<table border=\"1\" class=\"dataframe\">\n",
       "  <thead>\n",
       "    <tr style=\"text-align: right;\">\n",
       "      <th></th>\n",
       "      <th>Store</th>\n",
       "      <th>Date</th>\n",
       "      <th>IsHoliday</th>\n",
       "      <th>Weekly_Sales</th>\n",
       "      <th>Temperature</th>\n",
       "      <th>Fuel_Price</th>\n",
       "      <th>CPI</th>\n",
       "      <th>Unemployment</th>\n",
       "      <th>MarkDown</th>\n",
       "      <th>Type</th>\n",
       "      <th>Size</th>\n",
       "    </tr>\n",
       "  </thead>\n",
       "  <tbody>\n",
       "    <tr>\n",
       "      <th>0</th>\n",
       "      <td>1</td>\n",
       "      <td>05/02/2010</td>\n",
       "      <td>0</td>\n",
       "      <td>1643690.90</td>\n",
       "      <td>42.31</td>\n",
       "      <td>2.572</td>\n",
       "      <td>211.096358</td>\n",
       "      <td>8.106</td>\n",
       "      <td>0.00</td>\n",
       "      <td>A</td>\n",
       "      <td>151315</td>\n",
       "    </tr>\n",
       "    <tr>\n",
       "      <th>1</th>\n",
       "      <td>1</td>\n",
       "      <td>12/02/2010</td>\n",
       "      <td>1</td>\n",
       "      <td>1641957.44</td>\n",
       "      <td>38.51</td>\n",
       "      <td>2.548</td>\n",
       "      <td>211.242170</td>\n",
       "      <td>8.106</td>\n",
       "      <td>0.00</td>\n",
       "      <td>A</td>\n",
       "      <td>151315</td>\n",
       "    </tr>\n",
       "    <tr>\n",
       "      <th>2</th>\n",
       "      <td>1</td>\n",
       "      <td>19/02/2010</td>\n",
       "      <td>0</td>\n",
       "      <td>1611968.17</td>\n",
       "      <td>39.93</td>\n",
       "      <td>2.514</td>\n",
       "      <td>211.289143</td>\n",
       "      <td>8.106</td>\n",
       "      <td>0.00</td>\n",
       "      <td>A</td>\n",
       "      <td>151315</td>\n",
       "    </tr>\n",
       "    <tr>\n",
       "      <th>3</th>\n",
       "      <td>1</td>\n",
       "      <td>26/02/2010</td>\n",
       "      <td>0</td>\n",
       "      <td>1409727.59</td>\n",
       "      <td>46.63</td>\n",
       "      <td>2.561</td>\n",
       "      <td>211.319643</td>\n",
       "      <td>8.106</td>\n",
       "      <td>0.00</td>\n",
       "      <td>A</td>\n",
       "      <td>151315</td>\n",
       "    </tr>\n",
       "    <tr>\n",
       "      <th>4</th>\n",
       "      <td>1</td>\n",
       "      <td>05/03/2010</td>\n",
       "      <td>0</td>\n",
       "      <td>1554806.68</td>\n",
       "      <td>46.50</td>\n",
       "      <td>2.625</td>\n",
       "      <td>211.350143</td>\n",
       "      <td>8.106</td>\n",
       "      <td>0.00</td>\n",
       "      <td>A</td>\n",
       "      <td>151315</td>\n",
       "    </tr>\n",
       "    <tr>\n",
       "      <th>...</th>\n",
       "      <td>...</td>\n",
       "      <td>...</td>\n",
       "      <td>...</td>\n",
       "      <td>...</td>\n",
       "      <td>...</td>\n",
       "      <td>...</td>\n",
       "      <td>...</td>\n",
       "      <td>...</td>\n",
       "      <td>...</td>\n",
       "      <td>...</td>\n",
       "      <td>...</td>\n",
       "    </tr>\n",
       "    <tr>\n",
       "      <th>6430</th>\n",
       "      <td>45</td>\n",
       "      <td>28/09/2012</td>\n",
       "      <td>0</td>\n",
       "      <td>713173.95</td>\n",
       "      <td>64.88</td>\n",
       "      <td>3.997</td>\n",
       "      <td>192.013558</td>\n",
       "      <td>8.684</td>\n",
       "      <td>9468.01</td>\n",
       "      <td>B</td>\n",
       "      <td>118221</td>\n",
       "    </tr>\n",
       "    <tr>\n",
       "      <th>6431</th>\n",
       "      <td>45</td>\n",
       "      <td>05/10/2012</td>\n",
       "      <td>0</td>\n",
       "      <td>733455.07</td>\n",
       "      <td>64.89</td>\n",
       "      <td>3.985</td>\n",
       "      <td>192.170412</td>\n",
       "      <td>8.667</td>\n",
       "      <td>9659.00</td>\n",
       "      <td>B</td>\n",
       "      <td>118221</td>\n",
       "    </tr>\n",
       "    <tr>\n",
       "      <th>6432</th>\n",
       "      <td>45</td>\n",
       "      <td>12/10/2012</td>\n",
       "      <td>0</td>\n",
       "      <td>734464.36</td>\n",
       "      <td>54.47</td>\n",
       "      <td>4.000</td>\n",
       "      <td>192.327265</td>\n",
       "      <td>8.667</td>\n",
       "      <td>6554.03</td>\n",
       "      <td>B</td>\n",
       "      <td>118221</td>\n",
       "    </tr>\n",
       "    <tr>\n",
       "      <th>6433</th>\n",
       "      <td>45</td>\n",
       "      <td>19/10/2012</td>\n",
       "      <td>0</td>\n",
       "      <td>718125.53</td>\n",
       "      <td>56.47</td>\n",
       "      <td>3.969</td>\n",
       "      <td>192.330854</td>\n",
       "      <td>8.667</td>\n",
       "      <td>3982.42</td>\n",
       "      <td>B</td>\n",
       "      <td>118221</td>\n",
       "    </tr>\n",
       "    <tr>\n",
       "      <th>6434</th>\n",
       "      <td>45</td>\n",
       "      <td>26/10/2012</td>\n",
       "      <td>0</td>\n",
       "      <td>760281.43</td>\n",
       "      <td>58.85</td>\n",
       "      <td>3.882</td>\n",
       "      <td>192.308899</td>\n",
       "      <td>8.667</td>\n",
       "      <td>5247.26</td>\n",
       "      <td>B</td>\n",
       "      <td>118221</td>\n",
       "    </tr>\n",
       "  </tbody>\n",
       "</table>\n",
       "<p>6435 rows × 11 columns</p>\n",
       "</div>"
      ],
      "text/plain": [
       "      Store        Date  IsHoliday  Weekly_Sales  Temperature  Fuel_Price  \\\n",
       "0         1  05/02/2010          0    1643690.90        42.31       2.572   \n",
       "1         1  12/02/2010          1    1641957.44        38.51       2.548   \n",
       "2         1  19/02/2010          0    1611968.17        39.93       2.514   \n",
       "3         1  26/02/2010          0    1409727.59        46.63       2.561   \n",
       "4         1  05/03/2010          0    1554806.68        46.50       2.625   \n",
       "...     ...         ...        ...           ...          ...         ...   \n",
       "6430     45  28/09/2012          0     713173.95        64.88       3.997   \n",
       "6431     45  05/10/2012          0     733455.07        64.89       3.985   \n",
       "6432     45  12/10/2012          0     734464.36        54.47       4.000   \n",
       "6433     45  19/10/2012          0     718125.53        56.47       3.969   \n",
       "6434     45  26/10/2012          0     760281.43        58.85       3.882   \n",
       "\n",
       "             CPI  Unemployment  MarkDown Type    Size  \n",
       "0     211.096358         8.106      0.00    A  151315  \n",
       "1     211.242170         8.106      0.00    A  151315  \n",
       "2     211.289143         8.106      0.00    A  151315  \n",
       "3     211.319643         8.106      0.00    A  151315  \n",
       "4     211.350143         8.106      0.00    A  151315  \n",
       "...          ...           ...       ...  ...     ...  \n",
       "6430  192.013558         8.684   9468.01    B  118221  \n",
       "6431  192.170412         8.667   9659.00    B  118221  \n",
       "6432  192.327265         8.667   6554.03    B  118221  \n",
       "6433  192.330854         8.667   3982.42    B  118221  \n",
       "6434  192.308899         8.667   5247.26    B  118221  \n",
       "\n",
       "[6435 rows x 11 columns]"
      ]
     },
     "execution_count": 367,
     "metadata": {},
     "output_type": "execute_result"
    }
   ],
   "source": [
    "# Até agora trabalhamos com um data frame que contemplava apenas os df's originais sales e features. \n",
    "# Como queremos um número grande de variáveis para enriquecer nosso modelo, iremos uni-lo ao df original stores\n",
    "# df2 será nosso data frame de interesse\n",
    "\n",
    "df2 = pd.merge(df, stores, how='inner', on=['Store'])\n",
    "df2"
   ]
  },
  {
   "cell_type": "code",
   "execution_count": 370,
   "metadata": {},
   "outputs": [
    {
     "name": "stdout",
     "output_type": "stream",
     "text": [
      "<class 'pandas.core.frame.DataFrame'>\n",
      "Int64Index: 6435 entries, 0 to 6434\n",
      "Data columns (total 11 columns):\n",
      " #   Column        Non-Null Count  Dtype  \n",
      "---  ------        --------------  -----  \n",
      " 0   Store         6435 non-null   int64  \n",
      " 1   Date          6435 non-null   object \n",
      " 2   IsHoliday     6435 non-null   int64  \n",
      " 3   Weekly_Sales  6435 non-null   float64\n",
      " 4   Temperature   6435 non-null   float64\n",
      " 5   Fuel_Price    6435 non-null   float64\n",
      " 6   CPI           6435 non-null   float64\n",
      " 7   Unemployment  6435 non-null   float64\n",
      " 8   MarkDown      6435 non-null   float64\n",
      " 9   Type          6435 non-null   object \n",
      " 10  Size          6435 non-null   int64  \n",
      "dtypes: float64(6), int64(3), object(2)\n",
      "memory usage: 603.3+ KB\n"
     ]
    }
   ],
   "source": [
    "# informações de df2\n",
    "\n",
    "df2.info()"
   ]
  },
  {
   "cell_type": "code",
   "execution_count": 374,
   "metadata": {},
   "outputs": [
    {
     "data": {
      "text/html": [
       "<div>\n",
       "<style scoped>\n",
       "    .dataframe tbody tr th:only-of-type {\n",
       "        vertical-align: middle;\n",
       "    }\n",
       "\n",
       "    .dataframe tbody tr th {\n",
       "        vertical-align: top;\n",
       "    }\n",
       "\n",
       "    .dataframe thead th {\n",
       "        text-align: right;\n",
       "    }\n",
       "</style>\n",
       "<table border=\"1\" class=\"dataframe\">\n",
       "  <thead>\n",
       "    <tr style=\"text-align: right;\">\n",
       "      <th></th>\n",
       "      <th>Store</th>\n",
       "      <th>IsHoliday</th>\n",
       "      <th>Weekly_Sales</th>\n",
       "      <th>Temperature</th>\n",
       "      <th>Fuel_Price</th>\n",
       "      <th>CPI</th>\n",
       "      <th>Unemployment</th>\n",
       "      <th>MarkDown</th>\n",
       "      <th>Size</th>\n",
       "    </tr>\n",
       "    <tr>\n",
       "      <th>Type</th>\n",
       "      <th></th>\n",
       "      <th></th>\n",
       "      <th></th>\n",
       "      <th></th>\n",
       "      <th></th>\n",
       "      <th></th>\n",
       "      <th></th>\n",
       "      <th></th>\n",
       "      <th></th>\n",
       "    </tr>\n",
       "  </thead>\n",
       "  <tbody>\n",
       "    <tr>\n",
       "      <th>A</th>\n",
       "      <td>69927</td>\n",
       "      <td>220</td>\n",
       "      <td>4.331015e+09</td>\n",
       "      <td>191996.06</td>\n",
       "      <td>10522.116</td>\n",
       "      <td>548914.617797</td>\n",
       "      <td>24555.284</td>\n",
       "      <td>24866258.14</td>\n",
       "      <td>557621350</td>\n",
       "    </tr>\n",
       "    <tr>\n",
       "      <th>B</th>\n",
       "      <td>44616</td>\n",
       "      <td>170</td>\n",
       "      <td>2.000701e+09</td>\n",
       "      <td>140447.97</td>\n",
       "      <td>8212.274</td>\n",
       "      <td>408738.960879</td>\n",
       "      <td>19248.337</td>\n",
       "      <td>14873602.84</td>\n",
       "      <td>245994606</td>\n",
       "    </tr>\n",
       "    <tr>\n",
       "      <th>C</th>\n",
       "      <td>33462</td>\n",
       "      <td>60</td>\n",
       "      <td>4.055035e+08</td>\n",
       "      <td>57927.41</td>\n",
       "      <td>2878.245</td>\n",
       "      <td>146453.385741</td>\n",
       "      <td>7670.916</td>\n",
       "      <td>593132.26</td>\n",
       "      <td>34784750</td>\n",
       "    </tr>\n",
       "  </tbody>\n",
       "</table>\n",
       "</div>"
      ],
      "text/plain": [
       "      Store  IsHoliday  Weekly_Sales  Temperature  Fuel_Price            CPI  \\\n",
       "Type                                                                           \n",
       "A     69927        220  4.331015e+09    191996.06   10522.116  548914.617797   \n",
       "B     44616        170  2.000701e+09    140447.97    8212.274  408738.960879   \n",
       "C     33462         60  4.055035e+08     57927.41    2878.245  146453.385741   \n",
       "\n",
       "      Unemployment     MarkDown       Size  \n",
       "Type                                        \n",
       "A        24555.284  24866258.14  557621350  \n",
       "B        19248.337  14873602.84  245994606  \n",
       "C         7670.916    593132.26   34784750  "
      ]
     },
     "execution_count": 374,
     "metadata": {},
     "output_type": "execute_result"
    }
   ],
   "source": [
    "# observamos que temos variáveis do tipo object em nosso data frame de interesse\n",
    "# substituíremos o tipo da loja (Type) para variáveis numéricas\n",
    "# verificaremos quantos tipos de loja temos\n",
    "\n",
    "df2.groupby(by=[\"Type\"]).sum()"
   ]
  },
  {
   "cell_type": "code",
   "execution_count": 377,
   "metadata": {},
   "outputs": [
    {
     "data": {
      "text/html": [
       "<div>\n",
       "<style scoped>\n",
       "    .dataframe tbody tr th:only-of-type {\n",
       "        vertical-align: middle;\n",
       "    }\n",
       "\n",
       "    .dataframe tbody tr th {\n",
       "        vertical-align: top;\n",
       "    }\n",
       "\n",
       "    .dataframe thead th {\n",
       "        text-align: right;\n",
       "    }\n",
       "</style>\n",
       "<table border=\"1\" class=\"dataframe\">\n",
       "  <thead>\n",
       "    <tr style=\"text-align: right;\">\n",
       "      <th></th>\n",
       "      <th>Store</th>\n",
       "      <th>Date</th>\n",
       "      <th>IsHoliday</th>\n",
       "      <th>Weekly_Sales</th>\n",
       "      <th>Temperature</th>\n",
       "      <th>Fuel_Price</th>\n",
       "      <th>CPI</th>\n",
       "      <th>Unemployment</th>\n",
       "      <th>MarkDown</th>\n",
       "      <th>Type</th>\n",
       "      <th>Size</th>\n",
       "    </tr>\n",
       "  </thead>\n",
       "  <tbody>\n",
       "    <tr>\n",
       "      <th>0</th>\n",
       "      <td>1</td>\n",
       "      <td>05/02/2010</td>\n",
       "      <td>0</td>\n",
       "      <td>1643690.90</td>\n",
       "      <td>42.31</td>\n",
       "      <td>2.572</td>\n",
       "      <td>211.096358</td>\n",
       "      <td>8.106</td>\n",
       "      <td>0.00</td>\n",
       "      <td>1</td>\n",
       "      <td>151315</td>\n",
       "    </tr>\n",
       "    <tr>\n",
       "      <th>1</th>\n",
       "      <td>1</td>\n",
       "      <td>12/02/2010</td>\n",
       "      <td>1</td>\n",
       "      <td>1641957.44</td>\n",
       "      <td>38.51</td>\n",
       "      <td>2.548</td>\n",
       "      <td>211.242170</td>\n",
       "      <td>8.106</td>\n",
       "      <td>0.00</td>\n",
       "      <td>1</td>\n",
       "      <td>151315</td>\n",
       "    </tr>\n",
       "    <tr>\n",
       "      <th>2</th>\n",
       "      <td>1</td>\n",
       "      <td>19/02/2010</td>\n",
       "      <td>0</td>\n",
       "      <td>1611968.17</td>\n",
       "      <td>39.93</td>\n",
       "      <td>2.514</td>\n",
       "      <td>211.289143</td>\n",
       "      <td>8.106</td>\n",
       "      <td>0.00</td>\n",
       "      <td>1</td>\n",
       "      <td>151315</td>\n",
       "    </tr>\n",
       "    <tr>\n",
       "      <th>3</th>\n",
       "      <td>1</td>\n",
       "      <td>26/02/2010</td>\n",
       "      <td>0</td>\n",
       "      <td>1409727.59</td>\n",
       "      <td>46.63</td>\n",
       "      <td>2.561</td>\n",
       "      <td>211.319643</td>\n",
       "      <td>8.106</td>\n",
       "      <td>0.00</td>\n",
       "      <td>1</td>\n",
       "      <td>151315</td>\n",
       "    </tr>\n",
       "    <tr>\n",
       "      <th>4</th>\n",
       "      <td>1</td>\n",
       "      <td>05/03/2010</td>\n",
       "      <td>0</td>\n",
       "      <td>1554806.68</td>\n",
       "      <td>46.50</td>\n",
       "      <td>2.625</td>\n",
       "      <td>211.350143</td>\n",
       "      <td>8.106</td>\n",
       "      <td>0.00</td>\n",
       "      <td>1</td>\n",
       "      <td>151315</td>\n",
       "    </tr>\n",
       "    <tr>\n",
       "      <th>...</th>\n",
       "      <td>...</td>\n",
       "      <td>...</td>\n",
       "      <td>...</td>\n",
       "      <td>...</td>\n",
       "      <td>...</td>\n",
       "      <td>...</td>\n",
       "      <td>...</td>\n",
       "      <td>...</td>\n",
       "      <td>...</td>\n",
       "      <td>...</td>\n",
       "      <td>...</td>\n",
       "    </tr>\n",
       "    <tr>\n",
       "      <th>6430</th>\n",
       "      <td>45</td>\n",
       "      <td>28/09/2012</td>\n",
       "      <td>0</td>\n",
       "      <td>713173.95</td>\n",
       "      <td>64.88</td>\n",
       "      <td>3.997</td>\n",
       "      <td>192.013558</td>\n",
       "      <td>8.684</td>\n",
       "      <td>9468.01</td>\n",
       "      <td>2</td>\n",
       "      <td>118221</td>\n",
       "    </tr>\n",
       "    <tr>\n",
       "      <th>6431</th>\n",
       "      <td>45</td>\n",
       "      <td>05/10/2012</td>\n",
       "      <td>0</td>\n",
       "      <td>733455.07</td>\n",
       "      <td>64.89</td>\n",
       "      <td>3.985</td>\n",
       "      <td>192.170412</td>\n",
       "      <td>8.667</td>\n",
       "      <td>9659.00</td>\n",
       "      <td>2</td>\n",
       "      <td>118221</td>\n",
       "    </tr>\n",
       "    <tr>\n",
       "      <th>6432</th>\n",
       "      <td>45</td>\n",
       "      <td>12/10/2012</td>\n",
       "      <td>0</td>\n",
       "      <td>734464.36</td>\n",
       "      <td>54.47</td>\n",
       "      <td>4.000</td>\n",
       "      <td>192.327265</td>\n",
       "      <td>8.667</td>\n",
       "      <td>6554.03</td>\n",
       "      <td>2</td>\n",
       "      <td>118221</td>\n",
       "    </tr>\n",
       "    <tr>\n",
       "      <th>6433</th>\n",
       "      <td>45</td>\n",
       "      <td>19/10/2012</td>\n",
       "      <td>0</td>\n",
       "      <td>718125.53</td>\n",
       "      <td>56.47</td>\n",
       "      <td>3.969</td>\n",
       "      <td>192.330854</td>\n",
       "      <td>8.667</td>\n",
       "      <td>3982.42</td>\n",
       "      <td>2</td>\n",
       "      <td>118221</td>\n",
       "    </tr>\n",
       "    <tr>\n",
       "      <th>6434</th>\n",
       "      <td>45</td>\n",
       "      <td>26/10/2012</td>\n",
       "      <td>0</td>\n",
       "      <td>760281.43</td>\n",
       "      <td>58.85</td>\n",
       "      <td>3.882</td>\n",
       "      <td>192.308899</td>\n",
       "      <td>8.667</td>\n",
       "      <td>5247.26</td>\n",
       "      <td>2</td>\n",
       "      <td>118221</td>\n",
       "    </tr>\n",
       "  </tbody>\n",
       "</table>\n",
       "<p>6435 rows × 11 columns</p>\n",
       "</div>"
      ],
      "text/plain": [
       "      Store        Date  IsHoliday  Weekly_Sales  Temperature  Fuel_Price  \\\n",
       "0         1  05/02/2010          0    1643690.90        42.31       2.572   \n",
       "1         1  12/02/2010          1    1641957.44        38.51       2.548   \n",
       "2         1  19/02/2010          0    1611968.17        39.93       2.514   \n",
       "3         1  26/02/2010          0    1409727.59        46.63       2.561   \n",
       "4         1  05/03/2010          0    1554806.68        46.50       2.625   \n",
       "...     ...         ...        ...           ...          ...         ...   \n",
       "6430     45  28/09/2012          0     713173.95        64.88       3.997   \n",
       "6431     45  05/10/2012          0     733455.07        64.89       3.985   \n",
       "6432     45  12/10/2012          0     734464.36        54.47       4.000   \n",
       "6433     45  19/10/2012          0     718125.53        56.47       3.969   \n",
       "6434     45  26/10/2012          0     760281.43        58.85       3.882   \n",
       "\n",
       "             CPI  Unemployment  MarkDown  Type    Size  \n",
       "0     211.096358         8.106      0.00     1  151315  \n",
       "1     211.242170         8.106      0.00     1  151315  \n",
       "2     211.289143         8.106      0.00     1  151315  \n",
       "3     211.319643         8.106      0.00     1  151315  \n",
       "4     211.350143         8.106      0.00     1  151315  \n",
       "...          ...           ...       ...   ...     ...  \n",
       "6430  192.013558         8.684   9468.01     2  118221  \n",
       "6431  192.170412         8.667   9659.00     2  118221  \n",
       "6432  192.327265         8.667   6554.03     2  118221  \n",
       "6433  192.330854         8.667   3982.42     2  118221  \n",
       "6434  192.308899         8.667   5247.26     2  118221  \n",
       "\n",
       "[6435 rows x 11 columns]"
      ]
     },
     "execution_count": 377,
     "metadata": {},
     "output_type": "execute_result"
    }
   ],
   "source": [
    "# substituíremos da seguinte forma: A será 1, B será 2 e C será 3\n",
    "\n",
    "df2[\"Type\"].replace({\"A\": 1, \"B\": 2, \"C\": 3}, inplace=True)\n",
    "df2"
   ]
  },
  {
   "cell_type": "markdown",
   "metadata": {},
   "source": [
    "<a class=\"anchor\" id=\"section_4_2_3_2\"></a>\n",
    "### Modelo Random Forest Regression usando todas as variáveis do conjunto de dados "
   ]
  },
  {
   "cell_type": "code",
   "execution_count": 384,
   "metadata": {},
   "outputs": [],
   "source": [
    "# agora aplicaremos o modelo para todas as variáveis, não apenas stores\n",
    "# não trabalharemos com 'Date', pois não consegui achar um formato que funcionasse\n",
    "\n",
    "variaveis = ['Store','IsHoliday', 'Temperature', 'Fuel_Price','CPI', 'Unemployment', 'MarkDown', 'Type', 'Size']\n",
    "\n",
    "# novamente criaremos uma série para cada variável desejada: a variável dependente será Y e a independente X\n",
    "\n",
    "X_new = df2[variaveis].values\n",
    "y_new = df2['Weekly_Sales'].values"
   ]
  },
  {
   "cell_type": "code",
   "execution_count": 390,
   "metadata": {},
   "outputs": [
    {
     "data": {
      "text/plain": [
       "(6435, 9)"
      ]
     },
     "execution_count": 390,
     "metadata": {},
     "output_type": "execute_result"
    }
   ],
   "source": [
    "X_new.shape"
   ]
  },
  {
   "cell_type": "code",
   "execution_count": 392,
   "metadata": {},
   "outputs": [
    {
     "data": {
      "text/plain": [
       "(6435,)"
      ]
     },
     "execution_count": 392,
     "metadata": {},
     "output_type": "execute_result"
    }
   ],
   "source": [
    "y_new.shape"
   ]
  },
  {
   "cell_type": "code",
   "execution_count": 385,
   "metadata": {},
   "outputs": [],
   "source": [
    "# novamente dividiremos cada série em duas: training e test. Uma será utilizada para treinar o modelo com seus dados, e a outra\n",
    "#servirá para ser comparada com os resultados fornecidos pelo nosso modelo de previsão. Usaremos 5% (322 linhas) do df como teste.\n",
    "# Importaremos a função train_test_split para fazermos isso\n",
    "\n",
    "from sklearn.model_selection import train_test_split\n",
    "X_train_new, X_test_new, y_train_new, y_test_new = train_test_split(X_new, y_new, test_size = 0.05)"
   ]
  },
  {
   "cell_type": "code",
   "execution_count": 386,
   "metadata": {},
   "outputs": [],
   "source": [
    "# novamente criaremos uma variável para RandomForestRegressor() (não precisávamos, mas faremos para demonstrar o método)\n",
    "rf_regressor = RandomForestRegressor(n_estimators = 300, max_features = 'sqrt', max_depth = 5, random_state = 18)"
   ]
  },
  {
   "cell_type": "code",
   "execution_count": 393,
   "metadata": {},
   "outputs": [
    {
     "data": {
      "text/plain": [
       "RandomForestRegressor(max_depth=5, max_features='sqrt', n_estimators=300,\n",
       "                      random_state=18)"
      ]
     },
     "execution_count": 393,
     "metadata": {},
     "output_type": "execute_result"
    }
   ],
   "source": [
    "# treinando nosso conjunto de dados no modelo\n",
    "\n",
    "# y_train_new está como uma matriz unidimensional (coluna) como valor de y em vez de um array unidimensional, que é o esperado pelo\n",
    "# algoritmo, portanto iremos transformá-la\n",
    "#y_train_new = y_train_new.ravel()\n",
    "\n",
    "rf_regressor.fit(X_train_new, y_train_new)"
   ]
  },
  {
   "cell_type": "code",
   "execution_count": 394,
   "metadata": {},
   "outputs": [],
   "source": [
    "# fornecimento da previsão da variável dependente (vendas semanais)\n",
    "y_pred_forest_new = rf_regressor.predict(X_test_new)"
   ]
  },
  {
   "cell_type": "code",
   "execution_count": 395,
   "metadata": {},
   "outputs": [
    {
     "data": {
      "text/html": [
       "<div>\n",
       "<style scoped>\n",
       "    .dataframe tbody tr th:only-of-type {\n",
       "        vertical-align: middle;\n",
       "    }\n",
       "\n",
       "    .dataframe tbody tr th {\n",
       "        vertical-align: top;\n",
       "    }\n",
       "\n",
       "    .dataframe thead th {\n",
       "        text-align: right;\n",
       "    }\n",
       "</style>\n",
       "<table border=\"1\" class=\"dataframe\">\n",
       "  <thead>\n",
       "    <tr style=\"text-align: right;\">\n",
       "      <th></th>\n",
       "      <th>Valores reais</th>\n",
       "      <th>Valores previstos</th>\n",
       "    </tr>\n",
       "  </thead>\n",
       "  <tbody>\n",
       "    <tr>\n",
       "      <th>0</th>\n",
       "      <td>1218688.09</td>\n",
       "      <td>1.367574e+06</td>\n",
       "    </tr>\n",
       "    <tr>\n",
       "      <th>1</th>\n",
       "      <td>762620.94</td>\n",
       "      <td>8.914063e+05</td>\n",
       "    </tr>\n",
       "    <tr>\n",
       "      <th>2</th>\n",
       "      <td>1466164.49</td>\n",
       "      <td>1.393736e+06</td>\n",
       "    </tr>\n",
       "    <tr>\n",
       "      <th>3</th>\n",
       "      <td>506789.66</td>\n",
       "      <td>6.292166e+05</td>\n",
       "    </tr>\n",
       "    <tr>\n",
       "      <th>4</th>\n",
       "      <td>596218.24</td>\n",
       "      <td>7.701341e+05</td>\n",
       "    </tr>\n",
       "    <tr>\n",
       "      <th>...</th>\n",
       "      <td>...</td>\n",
       "      <td>...</td>\n",
       "    </tr>\n",
       "    <tr>\n",
       "      <th>317</th>\n",
       "      <td>469787.38</td>\n",
       "      <td>4.472573e+05</td>\n",
       "    </tr>\n",
       "    <tr>\n",
       "      <th>318</th>\n",
       "      <td>691200.33</td>\n",
       "      <td>7.810617e+05</td>\n",
       "    </tr>\n",
       "    <tr>\n",
       "      <th>319</th>\n",
       "      <td>836707.85</td>\n",
       "      <td>9.664380e+05</td>\n",
       "    </tr>\n",
       "    <tr>\n",
       "      <th>320</th>\n",
       "      <td>740259.63</td>\n",
       "      <td>7.529414e+05</td>\n",
       "    </tr>\n",
       "    <tr>\n",
       "      <th>321</th>\n",
       "      <td>651837.77</td>\n",
       "      <td>5.653912e+05</td>\n",
       "    </tr>\n",
       "  </tbody>\n",
       "</table>\n",
       "<p>322 rows × 2 columns</p>\n",
       "</div>"
      ],
      "text/plain": [
       "     Valores reais  Valores previstos\n",
       "0       1218688.09       1.367574e+06\n",
       "1        762620.94       8.914063e+05\n",
       "2       1466164.49       1.393736e+06\n",
       "3        506789.66       6.292166e+05\n",
       "4        596218.24       7.701341e+05\n",
       "..             ...                ...\n",
       "317      469787.38       4.472573e+05\n",
       "318      691200.33       7.810617e+05\n",
       "319      836707.85       9.664380e+05\n",
       "320      740259.63       7.529414e+05\n",
       "321      651837.77       5.653912e+05\n",
       "\n",
       "[322 rows x 2 columns]"
      ]
     },
     "execution_count": 395,
     "metadata": {},
     "output_type": "execute_result"
    }
   ],
   "source": [
    "# Comparação dos valores previstos com os valores reais\n",
    "\n",
    "comp_forest_new = pd.DataFrame({'Valores reais':y_test_new, 'Valores previstos':y_pred_forest_new})\n",
    "comp_forest_new"
   ]
  },
  {
   "cell_type": "code",
   "execution_count": 396,
   "metadata": {},
   "outputs": [
    {
     "data": {
      "text/html": [
       "<div>\n",
       "<style scoped>\n",
       "    .dataframe tbody tr th:only-of-type {\n",
       "        vertical-align: middle;\n",
       "    }\n",
       "\n",
       "    .dataframe tbody tr th {\n",
       "        vertical-align: top;\n",
       "    }\n",
       "\n",
       "    .dataframe thead th {\n",
       "        text-align: right;\n",
       "    }\n",
       "</style>\n",
       "<table border=\"1\" class=\"dataframe\">\n",
       "  <thead>\n",
       "    <tr style=\"text-align: right;\">\n",
       "      <th></th>\n",
       "      <th>Valores reais</th>\n",
       "      <th>Valores previstos</th>\n",
       "    </tr>\n",
       "  </thead>\n",
       "  <tbody>\n",
       "    <tr>\n",
       "      <th>0</th>\n",
       "      <td>1218688.09</td>\n",
       "      <td>1367574.00</td>\n",
       "    </tr>\n",
       "    <tr>\n",
       "      <th>1</th>\n",
       "      <td>762620.94</td>\n",
       "      <td>891406.25</td>\n",
       "    </tr>\n",
       "    <tr>\n",
       "      <th>2</th>\n",
       "      <td>1466164.49</td>\n",
       "      <td>1393736.27</td>\n",
       "    </tr>\n",
       "    <tr>\n",
       "      <th>3</th>\n",
       "      <td>506789.66</td>\n",
       "      <td>629216.64</td>\n",
       "    </tr>\n",
       "    <tr>\n",
       "      <th>4</th>\n",
       "      <td>596218.24</td>\n",
       "      <td>770134.05</td>\n",
       "    </tr>\n",
       "    <tr>\n",
       "      <th>...</th>\n",
       "      <td>...</td>\n",
       "      <td>...</td>\n",
       "    </tr>\n",
       "    <tr>\n",
       "      <th>317</th>\n",
       "      <td>469787.38</td>\n",
       "      <td>447257.28</td>\n",
       "    </tr>\n",
       "    <tr>\n",
       "      <th>318</th>\n",
       "      <td>691200.33</td>\n",
       "      <td>781061.68</td>\n",
       "    </tr>\n",
       "    <tr>\n",
       "      <th>319</th>\n",
       "      <td>836707.85</td>\n",
       "      <td>966437.99</td>\n",
       "    </tr>\n",
       "    <tr>\n",
       "      <th>320</th>\n",
       "      <td>740259.63</td>\n",
       "      <td>752941.42</td>\n",
       "    </tr>\n",
       "    <tr>\n",
       "      <th>321</th>\n",
       "      <td>651837.77</td>\n",
       "      <td>565391.16</td>\n",
       "    </tr>\n",
       "  </tbody>\n",
       "</table>\n",
       "<p>322 rows × 2 columns</p>\n",
       "</div>"
      ],
      "text/plain": [
       "     Valores reais  Valores previstos\n",
       "0       1218688.09         1367574.00\n",
       "1        762620.94          891406.25\n",
       "2       1466164.49         1393736.27\n",
       "3        506789.66          629216.64\n",
       "4        596218.24          770134.05\n",
       "..             ...                ...\n",
       "317      469787.38          447257.28\n",
       "318      691200.33          781061.68\n",
       "319      836707.85          966437.99\n",
       "320      740259.63          752941.42\n",
       "321      651837.77          565391.16\n",
       "\n",
       "[322 rows x 2 columns]"
      ]
     },
     "execution_count": 396,
     "metadata": {},
     "output_type": "execute_result"
    }
   ],
   "source": [
    "# Mudaremos o formato da coluna 'Valores previstos', para visualizarmos o número completo e não em notação científica\n",
    "\n",
    "comp_forest_new['Valores previstos'] = comp_forest_new['Valores previstos'].map(lambda x: '{:.2f}'.format(x)).astype(float)\n",
    "comp_forest_new"
   ]
  },
  {
   "cell_type": "code",
   "execution_count": 397,
   "metadata": {
    "scrolled": false
   },
   "outputs": [
    {
     "data": {
      "application/vnd.plotly.v1+json": {
       "config": {
        "plotlyServerURL": "https://plot.ly"
       },
       "data": [
        {
         "hovertemplate": "variable=Valores reais<br>index=%{x}<br>value=%{y}<extra></extra>",
         "legendgroup": "Valores reais",
         "line": {
          "color": "#636efa",
          "dash": "solid"
         },
         "marker": {
          "symbol": "circle"
         },
         "mode": "lines",
         "name": "Valores reais",
         "orientation": "v",
         "showlegend": true,
         "type": "scatter",
         "x": [
          0,
          1,
          2,
          3,
          4,
          5,
          6,
          7,
          8,
          9,
          10,
          11,
          12,
          13,
          14,
          15,
          16,
          17,
          18,
          19,
          20,
          21,
          22,
          23,
          24,
          25,
          26,
          27,
          28,
          29,
          30,
          31,
          32,
          33,
          34,
          35,
          36,
          37,
          38,
          39,
          40,
          41,
          42,
          43,
          44,
          45,
          46,
          47,
          48,
          49,
          50,
          51,
          52,
          53,
          54,
          55,
          56,
          57,
          58,
          59,
          60,
          61,
          62,
          63,
          64,
          65,
          66,
          67,
          68,
          69,
          70,
          71,
          72,
          73,
          74,
          75,
          76,
          77,
          78,
          79,
          80,
          81,
          82,
          83,
          84,
          85,
          86,
          87,
          88,
          89,
          90,
          91,
          92,
          93,
          94,
          95,
          96,
          97,
          98,
          99,
          100,
          101,
          102,
          103,
          104,
          105,
          106,
          107,
          108,
          109,
          110,
          111,
          112,
          113,
          114,
          115,
          116,
          117,
          118,
          119,
          120,
          121,
          122,
          123,
          124,
          125,
          126,
          127,
          128,
          129,
          130,
          131,
          132,
          133,
          134,
          135,
          136,
          137,
          138,
          139,
          140,
          141,
          142,
          143,
          144,
          145,
          146,
          147,
          148,
          149,
          150,
          151,
          152,
          153,
          154,
          155,
          156,
          157,
          158,
          159,
          160,
          161,
          162,
          163,
          164,
          165,
          166,
          167,
          168,
          169,
          170,
          171,
          172,
          173,
          174,
          175,
          176,
          177,
          178,
          179,
          180,
          181,
          182,
          183,
          184,
          185,
          186,
          187,
          188,
          189,
          190,
          191,
          192,
          193,
          194,
          195,
          196,
          197,
          198,
          199,
          200,
          201,
          202,
          203,
          204,
          205,
          206,
          207,
          208,
          209,
          210,
          211,
          212,
          213,
          214,
          215,
          216,
          217,
          218,
          219,
          220,
          221,
          222,
          223,
          224,
          225,
          226,
          227,
          228,
          229,
          230,
          231,
          232,
          233,
          234,
          235,
          236,
          237,
          238,
          239,
          240,
          241,
          242,
          243,
          244,
          245,
          246,
          247,
          248,
          249,
          250,
          251,
          252,
          253,
          254,
          255,
          256,
          257,
          258,
          259,
          260,
          261,
          262,
          263,
          264,
          265,
          266,
          267,
          268,
          269,
          270,
          271,
          272,
          273,
          274,
          275,
          276,
          277,
          278,
          279,
          280,
          281,
          282,
          283,
          284,
          285,
          286,
          287,
          288,
          289,
          290,
          291,
          292,
          293,
          294,
          295,
          296,
          297,
          298,
          299,
          300,
          301,
          302,
          303,
          304,
          305,
          306,
          307,
          308,
          309,
          310,
          311,
          312,
          313,
          314,
          315,
          316,
          317,
          318,
          319,
          320,
          321
         ],
         "xaxis": "x",
         "y": [
          1218688.09,
          762620.9400000001,
          1466164.49,
          506789.66,
          596218.24,
          1171391.41,
          1244925.94,
          2188307.39,
          1325022.77,
          514993,
          2196688.46,
          323915.32,
          1245827.08,
          939158.25,
          1911852.58,
          1696248.27,
          410711.99,
          981273.26,
          1182733,
          2546123.78,
          1077018.27,
          1927664.1099999999,
          473766.97000000003,
          238433.53,
          847380.07,
          1192074.09,
          1554747.15,
          895763.41,
          343763.17,
          2149355.2,
          888834.07,
          830756.76,
          1595362.27,
          910298.44,
          1556627.6199999999,
          410553.88,
          1016637.39,
          1325835.7,
          634815.1,
          347295.6,
          647029.28,
          1100625.06,
          428784.7,
          2045061.22,
          1363167.95,
          1179315.72,
          435481.03,
          1815798.85,
          977322.52,
          1230250.25,
          2052246.4,
          544612.28,
          279466.87,
          1356689.88,
          802105.5,
          635650.98,
          1795152.73,
          1481618.74,
          920128.89,
          720946.99,
          800662.82,
          525866.36,
          933924.4400000001,
          1441473.82,
          518628.42,
          680943.03,
          1168582.02,
          993436.67,
          1880785.69,
          753447.05,
          1639585.6099999999,
          282351.82,
          813352.41,
          1375166.86,
          1342123.78,
          618121.82,
          533414.62,
          1304584.4,
          444718.68,
          1095504.26,
          1640476.77,
          527947.21,
          1224915.66,
          570791.11,
          1886393.9400000002,
          1292830.93,
          1281675.6,
          242771.37,
          1947083.3,
          1048802.62,
          2727575.18,
          1671857.57,
          471086.22,
          549788.36,
          605791.46,
          1100418.69,
          848358.09,
          1037687.07,
          1744349.05,
          1523420.38,
          2097266.85,
          960945.4299999999,
          706206.86,
          1763545.32,
          409686.63,
          1382359.21,
          504754.74,
          356622.61,
          911245.43,
          423192.4,
          1969360.72,
          1288154.1,
          1255414.84,
          1006814.85,
          1956739.17,
          1249696.97,
          611585.54,
          867539.07,
          872817.62,
          718373.9400000001,
          1230245.74,
          2072685.05,
          1852432.58,
          1385860.38,
          1285783.87,
          1937628.26,
          326316.73,
          505761.62,
          565390.4,
          336189.66,
          938149.21,
          1286598.59,
          341994.48,
          1249439.95,
          461548.98,
          342385.38,
          299757.75,
          785515.88,
          956228.96,
          1286413.71,
          1980405.03,
          531640.1900000001,
          387844.05,
          2789469.45,
          639651.24,
          1899959.61,
          262893.76,
          1290684.95,
          2658725.29,
          784490.67,
          603147.26,
          826820.71,
          1173131.63,
          2225016.73,
          549502.11,
          312078.71,
          555652.77,
          1217923.71,
          1866681.57,
          987435.35,
          2026026.39,
          1340293.87,
          475127.18,
          1430192.3699999999,
          338277.71,
          1881788.19,
          563578.79,
          994610.99,
          1355704.21,
          573374.49,
          1574361.97,
          1290576.44,
          543234.77,
          1028635.39,
          1439432.06,
          684783.15,
          699270.1,
          382098.13,
          1124414.8699999999,
          1384721.84,
          307126.34,
          907493.24,
          291891.01,
          1101458.21,
          518045.09,
          1637266.29,
          341704.59,
          1167740.2,
          663529.64,
          341400.72000000003,
          1456073.24,
          1781717.71,
          819196.68,
          562173.12,
          1920725.15,
          1095020.33,
          2000940.67,
          630327.28,
          1447916.29,
          1772192.42,
          773586.49,
          1728399.07,
          345381.29,
          1083657.6099999999,
          1425603.65,
          1263680.51,
          684340.86,
          642748.21,
          401615.8,
          1970170.29,
          884042.63,
          251327.67,
          768390.05,
          1527688.58,
          1464616.59,
          1102185,
          438523.24,
          280357.3,
          1904512.34,
          511883.36,
          311390.22,
          1021766.75,
          1796637.6099999999,
          1215676.31,
          1769793.3699999999,
          1351450.43,
          598185.4,
          1840955.23,
          2041215.6099999999,
          503463.93,
          629176.71,
          280937.84,
          950154.24,
          695396.19,
          559903.13,
          575997.78,
          586841.77,
          290399.66,
          1336838.41,
          2034695.56,
          1166142.85,
          472044.27999999997,
          281706.41,
          791637.53,
          2033211.6199999999,
          281909.79,
          1465187.71,
          1049625.9,
          488880.26,
          580805.3300000001,
          1205662.85,
          1167621.14,
          2427640.17,
          2057406.33,
          354361.08,
          628494.63,
          1587257.78,
          719235.07,
          1878862.42,
          609099.37,
          1543667.68,
          593710.67,
          1567138.07,
          1593655.96,
          2141210.62,
          1743000.38,
          2246179.91,
          326870.13,
          471449.98000000004,
          2134680.12,
          369106.72,
          494265.48,
          962475.55,
          497374.57,
          261666.29,
          1761016.51,
          362134.08999999997,
          2004831.14,
          1320239.51,
          1322117.96,
          551837.3099999999,
          1053495.51,
          910240.68,
          304811.82,
          1063960.1099999999,
          971932.87,
          981615.8099999999,
          360256.58,
          1049772.04,
          564606.1,
          1981607.78,
          428806.46,
          1158722.74,
          1900246.47,
          1270577.01,
          1682368.32,
          1024778.23,
          2051315.66,
          575709.96,
          291808.87,
          804105.49,
          1653759.36,
          2020839.31,
          1846651.95,
          1585240.92,
          917883.17,
          1054454.4,
          238915.05000000002,
          1495064.75,
          610641.42,
          258427.38999999998,
          322868.56,
          2220600.7600000002,
          402985.7,
          298180.18,
          537518.57,
          1869087.85,
          469787.38,
          691200.33,
          836707.85,
          740259.63,
          651837.77
         ],
         "yaxis": "y"
        },
        {
         "hovertemplate": "variable=Valores previstos<br>index=%{x}<br>value=%{y}<extra></extra>",
         "legendgroup": "Valores previstos",
         "line": {
          "color": "#EF553B",
          "dash": "solid"
         },
         "marker": {
          "symbol": "circle"
         },
         "mode": "lines",
         "name": "Valores previstos",
         "orientation": "v",
         "showlegend": true,
         "type": "scatter",
         "x": [
          0,
          1,
          2,
          3,
          4,
          5,
          6,
          7,
          8,
          9,
          10,
          11,
          12,
          13,
          14,
          15,
          16,
          17,
          18,
          19,
          20,
          21,
          22,
          23,
          24,
          25,
          26,
          27,
          28,
          29,
          30,
          31,
          32,
          33,
          34,
          35,
          36,
          37,
          38,
          39,
          40,
          41,
          42,
          43,
          44,
          45,
          46,
          47,
          48,
          49,
          50,
          51,
          52,
          53,
          54,
          55,
          56,
          57,
          58,
          59,
          60,
          61,
          62,
          63,
          64,
          65,
          66,
          67,
          68,
          69,
          70,
          71,
          72,
          73,
          74,
          75,
          76,
          77,
          78,
          79,
          80,
          81,
          82,
          83,
          84,
          85,
          86,
          87,
          88,
          89,
          90,
          91,
          92,
          93,
          94,
          95,
          96,
          97,
          98,
          99,
          100,
          101,
          102,
          103,
          104,
          105,
          106,
          107,
          108,
          109,
          110,
          111,
          112,
          113,
          114,
          115,
          116,
          117,
          118,
          119,
          120,
          121,
          122,
          123,
          124,
          125,
          126,
          127,
          128,
          129,
          130,
          131,
          132,
          133,
          134,
          135,
          136,
          137,
          138,
          139,
          140,
          141,
          142,
          143,
          144,
          145,
          146,
          147,
          148,
          149,
          150,
          151,
          152,
          153,
          154,
          155,
          156,
          157,
          158,
          159,
          160,
          161,
          162,
          163,
          164,
          165,
          166,
          167,
          168,
          169,
          170,
          171,
          172,
          173,
          174,
          175,
          176,
          177,
          178,
          179,
          180,
          181,
          182,
          183,
          184,
          185,
          186,
          187,
          188,
          189,
          190,
          191,
          192,
          193,
          194,
          195,
          196,
          197,
          198,
          199,
          200,
          201,
          202,
          203,
          204,
          205,
          206,
          207,
          208,
          209,
          210,
          211,
          212,
          213,
          214,
          215,
          216,
          217,
          218,
          219,
          220,
          221,
          222,
          223,
          224,
          225,
          226,
          227,
          228,
          229,
          230,
          231,
          232,
          233,
          234,
          235,
          236,
          237,
          238,
          239,
          240,
          241,
          242,
          243,
          244,
          245,
          246,
          247,
          248,
          249,
          250,
          251,
          252,
          253,
          254,
          255,
          256,
          257,
          258,
          259,
          260,
          261,
          262,
          263,
          264,
          265,
          266,
          267,
          268,
          269,
          270,
          271,
          272,
          273,
          274,
          275,
          276,
          277,
          278,
          279,
          280,
          281,
          282,
          283,
          284,
          285,
          286,
          287,
          288,
          289,
          290,
          291,
          292,
          293,
          294,
          295,
          296,
          297,
          298,
          299,
          300,
          301,
          302,
          303,
          304,
          305,
          306,
          307,
          308,
          309,
          310,
          311,
          312,
          313,
          314,
          315,
          316,
          317,
          318,
          319,
          320,
          321
         ],
         "xaxis": "x",
         "y": [
          1367574,
          891406.25,
          1393736.27,
          629216.64,
          770134.05,
          997079.67,
          1516561.68,
          1873810.33,
          1344011.21,
          644201.49,
          1797835.12,
          466620.3,
          917403.23,
          1086828.67,
          1831753.68,
          1797817.29,
          487709.03,
          946333,
          1328022.38,
          1822594.88,
          1020053.57,
          1922961.26,
          605775.17,
          383734.7,
          903006.76,
          1218871.46,
          1593565.46,
          975285.84,
          457600.97,
          1312327.48,
          1031303.1,
          976010.54,
          1785621.35,
          1055065.73,
          1063397.08,
          506331.29,
          644318.79,
          1481828.58,
          573890.89,
          426905.23,
          591042.3,
          966225.95,
          483892.86,
          1741767.59,
          1343532.53,
          1386346.31,
          493507.4,
          1496870.76,
          1058435.33,
          1387522.47,
          1786251.94,
          646425.13,
          411530.04,
          1284824.02,
          1021716.41,
          578532.41,
          1527134.05,
          1649395.09,
          1018875.51,
          849170.21,
          889738.63,
          584527.23,
          954992.3,
          1442866.72,
          678368.43,
          588087.74,
          1272557.38,
          951976.11,
          1862952.23,
          849170.21,
          1763509.96,
          388723.8,
          890521.31,
          1624125.56,
          1612333.07,
          645604,
          492613.23,
          1547326.54,
          550979.34,
          1075105.51,
          1448792.38,
          505470.24,
          1336709.48,
          912095.61,
          1914423.6,
          1286073.93,
          1588246.53,
          389420.3,
          1741536.64,
          967462.35,
          1680314.93,
          1526607.32,
          446927.77,
          700344.4,
          495281.91,
          1603005.92,
          980266.32,
          1013578.68,
          1397999.56,
          1637227.74,
          1994529.28,
          1013153.14,
          754266.56,
          1596305.05,
          486082.68,
          1386528.32,
          676219.58,
          421640.96,
          960117.53,
          482870.28,
          1825648.83,
          1102405.02,
          1490791.83,
          1248901.76,
          1791515.2,
          1509943.34,
          579654.04,
          950744.37,
          890706.94,
          755852.81,
          933912.55,
          1089204.48,
          1863143.8,
          1513031.85,
          1443998.66,
          1767128.24,
          476429.56,
          508637.32,
          489923.1,
          425595.44,
          1056599.1,
          1307367.62,
          421255.18,
          1577109.99,
          494906.39,
          391771.22,
          380524.34,
          965494.48,
          955749.99,
          1377562.25,
          1846645.68,
          643352.77,
          437967.3,
          1902771.72,
          909665.37,
          1862492.9,
          410513.62,
          1372371.57,
          1790146.25,
          780506.68,
          491051.11,
          882659.47,
          1253753.93,
          1256745.36,
          642501.19,
          468927.51,
          884467.27,
          1377357.13,
          1252549.2,
          948919.13,
          1393174.15,
          1367091.55,
          666280.84,
          1578858.26,
          434516.08,
          1787376.63,
          702507.08,
          957191.01,
          1305930.02,
          890524.58,
          1626949.39,
          1578259.67,
          509335.95,
          1202274.14,
          1065395.63,
          755852.81,
          754587.82,
          440049.79,
          914484.39,
          1357292.88,
          379585.92,
          954191.04,
          389810.61,
          1250243.55,
          554456.14,
          1104888.63,
          420002.73,
          1501598.43,
          573095.8,
          438725.04,
          1622595.4,
          1785553.56,
          884243,
          648519.68,
          1774816.11,
          961538.52,
          1755898.03,
          689786.68,
          1396775.57,
          1516731.22,
          983312.23,
          1492532.68,
          459932.98,
          1092923.42,
          1619794.94,
          1101606.07,
          767146.37,
          585722.67,
          453412.52,
          1757812.02,
          900062.64,
          395383.74,
          768340.57,
          1449696.45,
          1114151.84,
          1197018.71,
          483179.38,
          378115.7,
          1769913.15,
          490461.56,
          394475.26,
          1067969.6,
          1863559.95,
          1586559.41,
          1533002.02,
          1624462.18,
          575158.95,
          1606034.7,
          1832257.93,
          560333.07,
          573547.52,
          374248.07,
          991507.88,
          886609.75,
          591331.61,
          487410.47,
          553071.87,
          379442.1,
          1375836.31,
          1666034.68,
          977932.04,
          565146.51,
          417585.84,
          891579.8,
          1775004.18,
          381762.94,
          1643457.21,
          1072053.26,
          584200.65,
          552776.33,
          1222001.15,
          970795.36,
          2066107.41,
          1788243.18,
          497803.19,
          769439.39,
          770852.79,
          799625.33,
          1786232.32,
          583649.54,
          1107002.18,
          918875.83,
          1711873.43,
          962856.69,
          1914166.57,
          1479322.5,
          1837978.27,
          409175.35,
          642351.11,
          1772478.21,
          438405.52,
          507452.62,
          896518.46,
          504098.06,
          373944.63,
          1768638.32,
          453253.76,
          1477412.53,
          1554592.15,
          1603701.16,
          608073.62,
          1090525.41,
          951287.06,
          415314.56,
          1242661.09,
          952409.87,
          1021654.4,
          438458.37,
          974600.17,
          646939.49,
          1746975.26,
          471044.26,
          1514234.22,
          1913487.41,
          1329684.48,
          1333639.67,
          1064547.8,
          1940267.81,
          481254.97,
          411840.23,
          977281.81,
          985343.67,
          1793749.95,
          1854059.21,
          1671213.88,
          978432.48,
          1064547.8,
          389420.3,
          1421088.14,
          556678.22,
          404093.67,
          434773.35,
          1911321.83,
          431225.7,
          421690.84,
          560228.83,
          1550269.91,
          447257.28,
          781061.68,
          966437.99,
          752941.42,
          565391.16
         ],
         "yaxis": "y"
        }
       ],
       "layout": {
        "legend": {
         "title": {
          "text": "variable"
         },
         "tracegroupgap": 0
        },
        "margin": {
         "t": 60
        },
        "template": {
         "data": {
          "bar": [
           {
            "error_x": {
             "color": "#2a3f5f"
            },
            "error_y": {
             "color": "#2a3f5f"
            },
            "marker": {
             "line": {
              "color": "#E5ECF6",
              "width": 0.5
             },
             "pattern": {
              "fillmode": "overlay",
              "size": 10,
              "solidity": 0.2
             }
            },
            "type": "bar"
           }
          ],
          "barpolar": [
           {
            "marker": {
             "line": {
              "color": "#E5ECF6",
              "width": 0.5
             },
             "pattern": {
              "fillmode": "overlay",
              "size": 10,
              "solidity": 0.2
             }
            },
            "type": "barpolar"
           }
          ],
          "carpet": [
           {
            "aaxis": {
             "endlinecolor": "#2a3f5f",
             "gridcolor": "white",
             "linecolor": "white",
             "minorgridcolor": "white",
             "startlinecolor": "#2a3f5f"
            },
            "baxis": {
             "endlinecolor": "#2a3f5f",
             "gridcolor": "white",
             "linecolor": "white",
             "minorgridcolor": "white",
             "startlinecolor": "#2a3f5f"
            },
            "type": "carpet"
           }
          ],
          "choropleth": [
           {
            "colorbar": {
             "outlinewidth": 0,
             "ticks": ""
            },
            "type": "choropleth"
           }
          ],
          "contour": [
           {
            "colorbar": {
             "outlinewidth": 0,
             "ticks": ""
            },
            "colorscale": [
             [
              0,
              "#0d0887"
             ],
             [
              0.1111111111111111,
              "#46039f"
             ],
             [
              0.2222222222222222,
              "#7201a8"
             ],
             [
              0.3333333333333333,
              "#9c179e"
             ],
             [
              0.4444444444444444,
              "#bd3786"
             ],
             [
              0.5555555555555556,
              "#d8576b"
             ],
             [
              0.6666666666666666,
              "#ed7953"
             ],
             [
              0.7777777777777778,
              "#fb9f3a"
             ],
             [
              0.8888888888888888,
              "#fdca26"
             ],
             [
              1,
              "#f0f921"
             ]
            ],
            "type": "contour"
           }
          ],
          "contourcarpet": [
           {
            "colorbar": {
             "outlinewidth": 0,
             "ticks": ""
            },
            "type": "contourcarpet"
           }
          ],
          "heatmap": [
           {
            "colorbar": {
             "outlinewidth": 0,
             "ticks": ""
            },
            "colorscale": [
             [
              0,
              "#0d0887"
             ],
             [
              0.1111111111111111,
              "#46039f"
             ],
             [
              0.2222222222222222,
              "#7201a8"
             ],
             [
              0.3333333333333333,
              "#9c179e"
             ],
             [
              0.4444444444444444,
              "#bd3786"
             ],
             [
              0.5555555555555556,
              "#d8576b"
             ],
             [
              0.6666666666666666,
              "#ed7953"
             ],
             [
              0.7777777777777778,
              "#fb9f3a"
             ],
             [
              0.8888888888888888,
              "#fdca26"
             ],
             [
              1,
              "#f0f921"
             ]
            ],
            "type": "heatmap"
           }
          ],
          "heatmapgl": [
           {
            "colorbar": {
             "outlinewidth": 0,
             "ticks": ""
            },
            "colorscale": [
             [
              0,
              "#0d0887"
             ],
             [
              0.1111111111111111,
              "#46039f"
             ],
             [
              0.2222222222222222,
              "#7201a8"
             ],
             [
              0.3333333333333333,
              "#9c179e"
             ],
             [
              0.4444444444444444,
              "#bd3786"
             ],
             [
              0.5555555555555556,
              "#d8576b"
             ],
             [
              0.6666666666666666,
              "#ed7953"
             ],
             [
              0.7777777777777778,
              "#fb9f3a"
             ],
             [
              0.8888888888888888,
              "#fdca26"
             ],
             [
              1,
              "#f0f921"
             ]
            ],
            "type": "heatmapgl"
           }
          ],
          "histogram": [
           {
            "marker": {
             "pattern": {
              "fillmode": "overlay",
              "size": 10,
              "solidity": 0.2
             }
            },
            "type": "histogram"
           }
          ],
          "histogram2d": [
           {
            "colorbar": {
             "outlinewidth": 0,
             "ticks": ""
            },
            "colorscale": [
             [
              0,
              "#0d0887"
             ],
             [
              0.1111111111111111,
              "#46039f"
             ],
             [
              0.2222222222222222,
              "#7201a8"
             ],
             [
              0.3333333333333333,
              "#9c179e"
             ],
             [
              0.4444444444444444,
              "#bd3786"
             ],
             [
              0.5555555555555556,
              "#d8576b"
             ],
             [
              0.6666666666666666,
              "#ed7953"
             ],
             [
              0.7777777777777778,
              "#fb9f3a"
             ],
             [
              0.8888888888888888,
              "#fdca26"
             ],
             [
              1,
              "#f0f921"
             ]
            ],
            "type": "histogram2d"
           }
          ],
          "histogram2dcontour": [
           {
            "colorbar": {
             "outlinewidth": 0,
             "ticks": ""
            },
            "colorscale": [
             [
              0,
              "#0d0887"
             ],
             [
              0.1111111111111111,
              "#46039f"
             ],
             [
              0.2222222222222222,
              "#7201a8"
             ],
             [
              0.3333333333333333,
              "#9c179e"
             ],
             [
              0.4444444444444444,
              "#bd3786"
             ],
             [
              0.5555555555555556,
              "#d8576b"
             ],
             [
              0.6666666666666666,
              "#ed7953"
             ],
             [
              0.7777777777777778,
              "#fb9f3a"
             ],
             [
              0.8888888888888888,
              "#fdca26"
             ],
             [
              1,
              "#f0f921"
             ]
            ],
            "type": "histogram2dcontour"
           }
          ],
          "mesh3d": [
           {
            "colorbar": {
             "outlinewidth": 0,
             "ticks": ""
            },
            "type": "mesh3d"
           }
          ],
          "parcoords": [
           {
            "line": {
             "colorbar": {
              "outlinewidth": 0,
              "ticks": ""
             }
            },
            "type": "parcoords"
           }
          ],
          "pie": [
           {
            "automargin": true,
            "type": "pie"
           }
          ],
          "scatter": [
           {
            "marker": {
             "colorbar": {
              "outlinewidth": 0,
              "ticks": ""
             }
            },
            "type": "scatter"
           }
          ],
          "scatter3d": [
           {
            "line": {
             "colorbar": {
              "outlinewidth": 0,
              "ticks": ""
             }
            },
            "marker": {
             "colorbar": {
              "outlinewidth": 0,
              "ticks": ""
             }
            },
            "type": "scatter3d"
           }
          ],
          "scattercarpet": [
           {
            "marker": {
             "colorbar": {
              "outlinewidth": 0,
              "ticks": ""
             }
            },
            "type": "scattercarpet"
           }
          ],
          "scattergeo": [
           {
            "marker": {
             "colorbar": {
              "outlinewidth": 0,
              "ticks": ""
             }
            },
            "type": "scattergeo"
           }
          ],
          "scattergl": [
           {
            "marker": {
             "colorbar": {
              "outlinewidth": 0,
              "ticks": ""
             }
            },
            "type": "scattergl"
           }
          ],
          "scattermapbox": [
           {
            "marker": {
             "colorbar": {
              "outlinewidth": 0,
              "ticks": ""
             }
            },
            "type": "scattermapbox"
           }
          ],
          "scatterpolar": [
           {
            "marker": {
             "colorbar": {
              "outlinewidth": 0,
              "ticks": ""
             }
            },
            "type": "scatterpolar"
           }
          ],
          "scatterpolargl": [
           {
            "marker": {
             "colorbar": {
              "outlinewidth": 0,
              "ticks": ""
             }
            },
            "type": "scatterpolargl"
           }
          ],
          "scatterternary": [
           {
            "marker": {
             "colorbar": {
              "outlinewidth": 0,
              "ticks": ""
             }
            },
            "type": "scatterternary"
           }
          ],
          "surface": [
           {
            "colorbar": {
             "outlinewidth": 0,
             "ticks": ""
            },
            "colorscale": [
             [
              0,
              "#0d0887"
             ],
             [
              0.1111111111111111,
              "#46039f"
             ],
             [
              0.2222222222222222,
              "#7201a8"
             ],
             [
              0.3333333333333333,
              "#9c179e"
             ],
             [
              0.4444444444444444,
              "#bd3786"
             ],
             [
              0.5555555555555556,
              "#d8576b"
             ],
             [
              0.6666666666666666,
              "#ed7953"
             ],
             [
              0.7777777777777778,
              "#fb9f3a"
             ],
             [
              0.8888888888888888,
              "#fdca26"
             ],
             [
              1,
              "#f0f921"
             ]
            ],
            "type": "surface"
           }
          ],
          "table": [
           {
            "cells": {
             "fill": {
              "color": "#EBF0F8"
             },
             "line": {
              "color": "white"
             }
            },
            "header": {
             "fill": {
              "color": "#C8D4E3"
             },
             "line": {
              "color": "white"
             }
            },
            "type": "table"
           }
          ]
         },
         "layout": {
          "annotationdefaults": {
           "arrowcolor": "#2a3f5f",
           "arrowhead": 0,
           "arrowwidth": 1
          },
          "autotypenumbers": "strict",
          "coloraxis": {
           "colorbar": {
            "outlinewidth": 0,
            "ticks": ""
           }
          },
          "colorscale": {
           "diverging": [
            [
             0,
             "#8e0152"
            ],
            [
             0.1,
             "#c51b7d"
            ],
            [
             0.2,
             "#de77ae"
            ],
            [
             0.3,
             "#f1b6da"
            ],
            [
             0.4,
             "#fde0ef"
            ],
            [
             0.5,
             "#f7f7f7"
            ],
            [
             0.6,
             "#e6f5d0"
            ],
            [
             0.7,
             "#b8e186"
            ],
            [
             0.8,
             "#7fbc41"
            ],
            [
             0.9,
             "#4d9221"
            ],
            [
             1,
             "#276419"
            ]
           ],
           "sequential": [
            [
             0,
             "#0d0887"
            ],
            [
             0.1111111111111111,
             "#46039f"
            ],
            [
             0.2222222222222222,
             "#7201a8"
            ],
            [
             0.3333333333333333,
             "#9c179e"
            ],
            [
             0.4444444444444444,
             "#bd3786"
            ],
            [
             0.5555555555555556,
             "#d8576b"
            ],
            [
             0.6666666666666666,
             "#ed7953"
            ],
            [
             0.7777777777777778,
             "#fb9f3a"
            ],
            [
             0.8888888888888888,
             "#fdca26"
            ],
            [
             1,
             "#f0f921"
            ]
           ],
           "sequentialminus": [
            [
             0,
             "#0d0887"
            ],
            [
             0.1111111111111111,
             "#46039f"
            ],
            [
             0.2222222222222222,
             "#7201a8"
            ],
            [
             0.3333333333333333,
             "#9c179e"
            ],
            [
             0.4444444444444444,
             "#bd3786"
            ],
            [
             0.5555555555555556,
             "#d8576b"
            ],
            [
             0.6666666666666666,
             "#ed7953"
            ],
            [
             0.7777777777777778,
             "#fb9f3a"
            ],
            [
             0.8888888888888888,
             "#fdca26"
            ],
            [
             1,
             "#f0f921"
            ]
           ]
          },
          "colorway": [
           "#636efa",
           "#EF553B",
           "#00cc96",
           "#ab63fa",
           "#FFA15A",
           "#19d3f3",
           "#FF6692",
           "#B6E880",
           "#FF97FF",
           "#FECB52"
          ],
          "font": {
           "color": "#2a3f5f"
          },
          "geo": {
           "bgcolor": "white",
           "lakecolor": "white",
           "landcolor": "#E5ECF6",
           "showlakes": true,
           "showland": true,
           "subunitcolor": "white"
          },
          "hoverlabel": {
           "align": "left"
          },
          "hovermode": "closest",
          "mapbox": {
           "style": "light"
          },
          "paper_bgcolor": "white",
          "plot_bgcolor": "#E5ECF6",
          "polar": {
           "angularaxis": {
            "gridcolor": "white",
            "linecolor": "white",
            "ticks": ""
           },
           "bgcolor": "#E5ECF6",
           "radialaxis": {
            "gridcolor": "white",
            "linecolor": "white",
            "ticks": ""
           }
          },
          "scene": {
           "xaxis": {
            "backgroundcolor": "#E5ECF6",
            "gridcolor": "white",
            "gridwidth": 2,
            "linecolor": "white",
            "showbackground": true,
            "ticks": "",
            "zerolinecolor": "white"
           },
           "yaxis": {
            "backgroundcolor": "#E5ECF6",
            "gridcolor": "white",
            "gridwidth": 2,
            "linecolor": "white",
            "showbackground": true,
            "ticks": "",
            "zerolinecolor": "white"
           },
           "zaxis": {
            "backgroundcolor": "#E5ECF6",
            "gridcolor": "white",
            "gridwidth": 2,
            "linecolor": "white",
            "showbackground": true,
            "ticks": "",
            "zerolinecolor": "white"
           }
          },
          "shapedefaults": {
           "line": {
            "color": "#2a3f5f"
           }
          },
          "ternary": {
           "aaxis": {
            "gridcolor": "white",
            "linecolor": "white",
            "ticks": ""
           },
           "baxis": {
            "gridcolor": "white",
            "linecolor": "white",
            "ticks": ""
           },
           "bgcolor": "#E5ECF6",
           "caxis": {
            "gridcolor": "white",
            "linecolor": "white",
            "ticks": ""
           }
          },
          "title": {
           "x": 0.05
          },
          "xaxis": {
           "automargin": true,
           "gridcolor": "white",
           "linecolor": "white",
           "ticks": "",
           "title": {
            "standoff": 15
           },
           "zerolinecolor": "white",
           "zerolinewidth": 2
          },
          "yaxis": {
           "automargin": true,
           "gridcolor": "white",
           "linecolor": "white",
           "ticks": "",
           "title": {
            "standoff": 15
           },
           "zerolinecolor": "white",
           "zerolinewidth": 2
          }
         }
        },
        "xaxis": {
         "anchor": "y",
         "domain": [
          0,
          1
         ],
         "title": {
          "text": "index"
         }
        },
        "yaxis": {
         "anchor": "x",
         "domain": [
          0,
          1
         ],
         "title": {
          "text": "value"
         }
        }
       }
      },
      "text/html": [
       "<div>                            <div id=\"6f6588d9-9f41-4df3-a6a4-7d75a73b670b\" class=\"plotly-graph-div\" style=\"height:525px; width:100%;\"></div>            <script type=\"text/javascript\">                require([\"plotly\"], function(Plotly) {                    window.PLOTLYENV=window.PLOTLYENV || {};                                    if (document.getElementById(\"6f6588d9-9f41-4df3-a6a4-7d75a73b670b\")) {                    Plotly.newPlot(                        \"6f6588d9-9f41-4df3-a6a4-7d75a73b670b\",                        [{\"hovertemplate\":\"variable=Valores reais<br>index=%{x}<br>value=%{y}<extra></extra>\",\"legendgroup\":\"Valores reais\",\"line\":{\"color\":\"#636efa\",\"dash\":\"solid\"},\"marker\":{\"symbol\":\"circle\"},\"mode\":\"lines\",\"name\":\"Valores reais\",\"orientation\":\"v\",\"showlegend\":true,\"x\":[0,1,2,3,4,5,6,7,8,9,10,11,12,13,14,15,16,17,18,19,20,21,22,23,24,25,26,27,28,29,30,31,32,33,34,35,36,37,38,39,40,41,42,43,44,45,46,47,48,49,50,51,52,53,54,55,56,57,58,59,60,61,62,63,64,65,66,67,68,69,70,71,72,73,74,75,76,77,78,79,80,81,82,83,84,85,86,87,88,89,90,91,92,93,94,95,96,97,98,99,100,101,102,103,104,105,106,107,108,109,110,111,112,113,114,115,116,117,118,119,120,121,122,123,124,125,126,127,128,129,130,131,132,133,134,135,136,137,138,139,140,141,142,143,144,145,146,147,148,149,150,151,152,153,154,155,156,157,158,159,160,161,162,163,164,165,166,167,168,169,170,171,172,173,174,175,176,177,178,179,180,181,182,183,184,185,186,187,188,189,190,191,192,193,194,195,196,197,198,199,200,201,202,203,204,205,206,207,208,209,210,211,212,213,214,215,216,217,218,219,220,221,222,223,224,225,226,227,228,229,230,231,232,233,234,235,236,237,238,239,240,241,242,243,244,245,246,247,248,249,250,251,252,253,254,255,256,257,258,259,260,261,262,263,264,265,266,267,268,269,270,271,272,273,274,275,276,277,278,279,280,281,282,283,284,285,286,287,288,289,290,291,292,293,294,295,296,297,298,299,300,301,302,303,304,305,306,307,308,309,310,311,312,313,314,315,316,317,318,319,320,321],\"xaxis\":\"x\",\"y\":[1218688.09,762620.9400000001,1466164.49,506789.66,596218.24,1171391.41,1244925.94,2188307.39,1325022.77,514993.0,2196688.46,323915.32,1245827.08,939158.25,1911852.58,1696248.27,410711.99,981273.26,1182733.0,2546123.78,1077018.27,1927664.1099999999,473766.97000000003,238433.53,847380.07,1192074.09,1554747.15,895763.41,343763.17,2149355.2,888834.07,830756.76,1595362.27,910298.44,1556627.6199999999,410553.88,1016637.39,1325835.7,634815.1,347295.6,647029.28,1100625.06,428784.7,2045061.22,1363167.95,1179315.72,435481.03,1815798.85,977322.52,1230250.25,2052246.4,544612.28,279466.87,1356689.88,802105.5,635650.98,1795152.73,1481618.74,920128.89,720946.99,800662.82,525866.36,933924.4400000001,1441473.82,518628.42,680943.03,1168582.02,993436.67,1880785.69,753447.05,1639585.6099999999,282351.82,813352.41,1375166.86,1342123.78,618121.82,533414.62,1304584.4,444718.68,1095504.26,1640476.77,527947.21,1224915.66,570791.11,1886393.9400000002,1292830.93,1281675.6,242771.37,1947083.3,1048802.62,2727575.18,1671857.57,471086.22,549788.36,605791.46,1100418.69,848358.09,1037687.07,1744349.05,1523420.38,2097266.85,960945.4299999999,706206.86,1763545.32,409686.63,1382359.21,504754.74,356622.61,911245.43,423192.4,1969360.72,1288154.1,1255414.84,1006814.85,1956739.17,1249696.97,611585.54,867539.07,872817.62,718373.9400000001,1230245.74,2072685.05,1852432.58,1385860.38,1285783.87,1937628.26,326316.73,505761.62,565390.4,336189.66,938149.21,1286598.59,341994.48,1249439.95,461548.98,342385.38,299757.75,785515.88,956228.96,1286413.71,1980405.03,531640.1900000001,387844.05,2789469.45,639651.24,1899959.61,262893.76,1290684.95,2658725.29,784490.67,603147.26,826820.71,1173131.63,2225016.73,549502.11,312078.71,555652.77,1217923.71,1866681.57,987435.35,2026026.39,1340293.87,475127.18,1430192.3699999999,338277.71,1881788.19,563578.79,994610.99,1355704.21,573374.49,1574361.97,1290576.44,543234.77,1028635.39,1439432.06,684783.15,699270.1,382098.13,1124414.8699999999,1384721.84,307126.34,907493.24,291891.01,1101458.21,518045.09,1637266.29,341704.59,1167740.2,663529.64,341400.72000000003,1456073.24,1781717.71,819196.68,562173.12,1920725.15,1095020.33,2000940.67,630327.28,1447916.29,1772192.42,773586.49,1728399.07,345381.29,1083657.6099999999,1425603.65,1263680.51,684340.86,642748.21,401615.8,1970170.29,884042.63,251327.67,768390.05,1527688.58,1464616.59,1102185.0,438523.24,280357.3,1904512.34,511883.36,311390.22,1021766.75,1796637.6099999999,1215676.31,1769793.3699999999,1351450.43,598185.4,1840955.23,2041215.6099999999,503463.93,629176.71,280937.84,950154.24,695396.19,559903.13,575997.78,586841.77,290399.66,1336838.41,2034695.56,1166142.85,472044.27999999997,281706.41,791637.53,2033211.6199999999,281909.79,1465187.71,1049625.9,488880.26,580805.3300000001,1205662.85,1167621.14,2427640.17,2057406.33,354361.08,628494.63,1587257.78,719235.07,1878862.42,609099.37,1543667.68,593710.67,1567138.07,1593655.96,2141210.62,1743000.38,2246179.91,326870.13,471449.98000000004,2134680.12,369106.72,494265.48,962475.55,497374.57,261666.29,1761016.51,362134.08999999997,2004831.14,1320239.51,1322117.96,551837.3099999999,1053495.51,910240.68,304811.82,1063960.1099999999,971932.87,981615.8099999999,360256.58,1049772.04,564606.1,1981607.78,428806.46,1158722.74,1900246.47,1270577.01,1682368.32,1024778.23,2051315.66,575709.96,291808.87,804105.49,1653759.36,2020839.31,1846651.95,1585240.92,917883.17,1054454.4,238915.05000000002,1495064.75,610641.42,258427.38999999998,322868.56,2220600.7600000002,402985.7,298180.18,537518.57,1869087.85,469787.38,691200.33,836707.85,740259.63,651837.77],\"yaxis\":\"y\",\"type\":\"scatter\"},{\"hovertemplate\":\"variable=Valores previstos<br>index=%{x}<br>value=%{y}<extra></extra>\",\"legendgroup\":\"Valores previstos\",\"line\":{\"color\":\"#EF553B\",\"dash\":\"solid\"},\"marker\":{\"symbol\":\"circle\"},\"mode\":\"lines\",\"name\":\"Valores previstos\",\"orientation\":\"v\",\"showlegend\":true,\"x\":[0,1,2,3,4,5,6,7,8,9,10,11,12,13,14,15,16,17,18,19,20,21,22,23,24,25,26,27,28,29,30,31,32,33,34,35,36,37,38,39,40,41,42,43,44,45,46,47,48,49,50,51,52,53,54,55,56,57,58,59,60,61,62,63,64,65,66,67,68,69,70,71,72,73,74,75,76,77,78,79,80,81,82,83,84,85,86,87,88,89,90,91,92,93,94,95,96,97,98,99,100,101,102,103,104,105,106,107,108,109,110,111,112,113,114,115,116,117,118,119,120,121,122,123,124,125,126,127,128,129,130,131,132,133,134,135,136,137,138,139,140,141,142,143,144,145,146,147,148,149,150,151,152,153,154,155,156,157,158,159,160,161,162,163,164,165,166,167,168,169,170,171,172,173,174,175,176,177,178,179,180,181,182,183,184,185,186,187,188,189,190,191,192,193,194,195,196,197,198,199,200,201,202,203,204,205,206,207,208,209,210,211,212,213,214,215,216,217,218,219,220,221,222,223,224,225,226,227,228,229,230,231,232,233,234,235,236,237,238,239,240,241,242,243,244,245,246,247,248,249,250,251,252,253,254,255,256,257,258,259,260,261,262,263,264,265,266,267,268,269,270,271,272,273,274,275,276,277,278,279,280,281,282,283,284,285,286,287,288,289,290,291,292,293,294,295,296,297,298,299,300,301,302,303,304,305,306,307,308,309,310,311,312,313,314,315,316,317,318,319,320,321],\"xaxis\":\"x\",\"y\":[1367574.0,891406.25,1393736.27,629216.64,770134.05,997079.67,1516561.68,1873810.33,1344011.21,644201.49,1797835.12,466620.3,917403.23,1086828.67,1831753.68,1797817.29,487709.03,946333.0,1328022.38,1822594.88,1020053.57,1922961.26,605775.17,383734.7,903006.76,1218871.46,1593565.46,975285.84,457600.97,1312327.48,1031303.1,976010.54,1785621.35,1055065.73,1063397.08,506331.29,644318.79,1481828.58,573890.89,426905.23,591042.3,966225.95,483892.86,1741767.59,1343532.53,1386346.31,493507.4,1496870.76,1058435.33,1387522.47,1786251.94,646425.13,411530.04,1284824.02,1021716.41,578532.41,1527134.05,1649395.09,1018875.51,849170.21,889738.63,584527.23,954992.3,1442866.72,678368.43,588087.74,1272557.38,951976.11,1862952.23,849170.21,1763509.96,388723.8,890521.31,1624125.56,1612333.07,645604.0,492613.23,1547326.54,550979.34,1075105.51,1448792.38,505470.24,1336709.48,912095.61,1914423.6,1286073.93,1588246.53,389420.3,1741536.64,967462.35,1680314.93,1526607.32,446927.77,700344.4,495281.91,1603005.92,980266.32,1013578.68,1397999.56,1637227.74,1994529.28,1013153.14,754266.56,1596305.05,486082.68,1386528.32,676219.58,421640.96,960117.53,482870.28,1825648.83,1102405.02,1490791.83,1248901.76,1791515.2,1509943.34,579654.04,950744.37,890706.94,755852.81,933912.55,1089204.48,1863143.8,1513031.85,1443998.66,1767128.24,476429.56,508637.32,489923.1,425595.44,1056599.1,1307367.62,421255.18,1577109.99,494906.39,391771.22,380524.34,965494.48,955749.99,1377562.25,1846645.68,643352.77,437967.3,1902771.72,909665.37,1862492.9,410513.62,1372371.57,1790146.25,780506.68,491051.11,882659.47,1253753.93,1256745.36,642501.19,468927.51,884467.27,1377357.13,1252549.2,948919.13,1393174.15,1367091.55,666280.84,1578858.26,434516.08,1787376.63,702507.08,957191.01,1305930.02,890524.58,1626949.39,1578259.67,509335.95,1202274.14,1065395.63,755852.81,754587.82,440049.79,914484.39,1357292.88,379585.92,954191.04,389810.61,1250243.55,554456.14,1104888.63,420002.73,1501598.43,573095.8,438725.04,1622595.4,1785553.56,884243.0,648519.68,1774816.11,961538.52,1755898.03,689786.68,1396775.57,1516731.22,983312.23,1492532.68,459932.98,1092923.42,1619794.94,1101606.07,767146.37,585722.67,453412.52,1757812.02,900062.64,395383.74,768340.57,1449696.45,1114151.84,1197018.71,483179.38,378115.7,1769913.15,490461.56,394475.26,1067969.6,1863559.95,1586559.41,1533002.02,1624462.18,575158.95,1606034.7,1832257.93,560333.07,573547.52,374248.07,991507.88,886609.75,591331.61,487410.47,553071.87,379442.1,1375836.31,1666034.68,977932.04,565146.51,417585.84,891579.8,1775004.18,381762.94,1643457.21,1072053.26,584200.65,552776.33,1222001.15,970795.36,2066107.41,1788243.18,497803.19,769439.39,770852.79,799625.33,1786232.32,583649.54,1107002.18,918875.83,1711873.43,962856.69,1914166.57,1479322.5,1837978.27,409175.35,642351.11,1772478.21,438405.52,507452.62,896518.46,504098.06,373944.63,1768638.32,453253.76,1477412.53,1554592.15,1603701.16,608073.62,1090525.41,951287.06,415314.56,1242661.09,952409.87,1021654.4,438458.37,974600.17,646939.49,1746975.26,471044.26,1514234.22,1913487.41,1329684.48,1333639.67,1064547.8,1940267.81,481254.97,411840.23,977281.81,985343.67,1793749.95,1854059.21,1671213.88,978432.48,1064547.8,389420.3,1421088.14,556678.22,404093.67,434773.35,1911321.83,431225.7,421690.84,560228.83,1550269.91,447257.28,781061.68,966437.99,752941.42,565391.16],\"yaxis\":\"y\",\"type\":\"scatter\"}],                        {\"template\":{\"data\":{\"bar\":[{\"error_x\":{\"color\":\"#2a3f5f\"},\"error_y\":{\"color\":\"#2a3f5f\"},\"marker\":{\"line\":{\"color\":\"#E5ECF6\",\"width\":0.5},\"pattern\":{\"fillmode\":\"overlay\",\"size\":10,\"solidity\":0.2}},\"type\":\"bar\"}],\"barpolar\":[{\"marker\":{\"line\":{\"color\":\"#E5ECF6\",\"width\":0.5},\"pattern\":{\"fillmode\":\"overlay\",\"size\":10,\"solidity\":0.2}},\"type\":\"barpolar\"}],\"carpet\":[{\"aaxis\":{\"endlinecolor\":\"#2a3f5f\",\"gridcolor\":\"white\",\"linecolor\":\"white\",\"minorgridcolor\":\"white\",\"startlinecolor\":\"#2a3f5f\"},\"baxis\":{\"endlinecolor\":\"#2a3f5f\",\"gridcolor\":\"white\",\"linecolor\":\"white\",\"minorgridcolor\":\"white\",\"startlinecolor\":\"#2a3f5f\"},\"type\":\"carpet\"}],\"choropleth\":[{\"colorbar\":{\"outlinewidth\":0,\"ticks\":\"\"},\"type\":\"choropleth\"}],\"contour\":[{\"colorbar\":{\"outlinewidth\":0,\"ticks\":\"\"},\"colorscale\":[[0.0,\"#0d0887\"],[0.1111111111111111,\"#46039f\"],[0.2222222222222222,\"#7201a8\"],[0.3333333333333333,\"#9c179e\"],[0.4444444444444444,\"#bd3786\"],[0.5555555555555556,\"#d8576b\"],[0.6666666666666666,\"#ed7953\"],[0.7777777777777778,\"#fb9f3a\"],[0.8888888888888888,\"#fdca26\"],[1.0,\"#f0f921\"]],\"type\":\"contour\"}],\"contourcarpet\":[{\"colorbar\":{\"outlinewidth\":0,\"ticks\":\"\"},\"type\":\"contourcarpet\"}],\"heatmap\":[{\"colorbar\":{\"outlinewidth\":0,\"ticks\":\"\"},\"colorscale\":[[0.0,\"#0d0887\"],[0.1111111111111111,\"#46039f\"],[0.2222222222222222,\"#7201a8\"],[0.3333333333333333,\"#9c179e\"],[0.4444444444444444,\"#bd3786\"],[0.5555555555555556,\"#d8576b\"],[0.6666666666666666,\"#ed7953\"],[0.7777777777777778,\"#fb9f3a\"],[0.8888888888888888,\"#fdca26\"],[1.0,\"#f0f921\"]],\"type\":\"heatmap\"}],\"heatmapgl\":[{\"colorbar\":{\"outlinewidth\":0,\"ticks\":\"\"},\"colorscale\":[[0.0,\"#0d0887\"],[0.1111111111111111,\"#46039f\"],[0.2222222222222222,\"#7201a8\"],[0.3333333333333333,\"#9c179e\"],[0.4444444444444444,\"#bd3786\"],[0.5555555555555556,\"#d8576b\"],[0.6666666666666666,\"#ed7953\"],[0.7777777777777778,\"#fb9f3a\"],[0.8888888888888888,\"#fdca26\"],[1.0,\"#f0f921\"]],\"type\":\"heatmapgl\"}],\"histogram\":[{\"marker\":{\"pattern\":{\"fillmode\":\"overlay\",\"size\":10,\"solidity\":0.2}},\"type\":\"histogram\"}],\"histogram2d\":[{\"colorbar\":{\"outlinewidth\":0,\"ticks\":\"\"},\"colorscale\":[[0.0,\"#0d0887\"],[0.1111111111111111,\"#46039f\"],[0.2222222222222222,\"#7201a8\"],[0.3333333333333333,\"#9c179e\"],[0.4444444444444444,\"#bd3786\"],[0.5555555555555556,\"#d8576b\"],[0.6666666666666666,\"#ed7953\"],[0.7777777777777778,\"#fb9f3a\"],[0.8888888888888888,\"#fdca26\"],[1.0,\"#f0f921\"]],\"type\":\"histogram2d\"}],\"histogram2dcontour\":[{\"colorbar\":{\"outlinewidth\":0,\"ticks\":\"\"},\"colorscale\":[[0.0,\"#0d0887\"],[0.1111111111111111,\"#46039f\"],[0.2222222222222222,\"#7201a8\"],[0.3333333333333333,\"#9c179e\"],[0.4444444444444444,\"#bd3786\"],[0.5555555555555556,\"#d8576b\"],[0.6666666666666666,\"#ed7953\"],[0.7777777777777778,\"#fb9f3a\"],[0.8888888888888888,\"#fdca26\"],[1.0,\"#f0f921\"]],\"type\":\"histogram2dcontour\"}],\"mesh3d\":[{\"colorbar\":{\"outlinewidth\":0,\"ticks\":\"\"},\"type\":\"mesh3d\"}],\"parcoords\":[{\"line\":{\"colorbar\":{\"outlinewidth\":0,\"ticks\":\"\"}},\"type\":\"parcoords\"}],\"pie\":[{\"automargin\":true,\"type\":\"pie\"}],\"scatter\":[{\"marker\":{\"colorbar\":{\"outlinewidth\":0,\"ticks\":\"\"}},\"type\":\"scatter\"}],\"scatter3d\":[{\"line\":{\"colorbar\":{\"outlinewidth\":0,\"ticks\":\"\"}},\"marker\":{\"colorbar\":{\"outlinewidth\":0,\"ticks\":\"\"}},\"type\":\"scatter3d\"}],\"scattercarpet\":[{\"marker\":{\"colorbar\":{\"outlinewidth\":0,\"ticks\":\"\"}},\"type\":\"scattercarpet\"}],\"scattergeo\":[{\"marker\":{\"colorbar\":{\"outlinewidth\":0,\"ticks\":\"\"}},\"type\":\"scattergeo\"}],\"scattergl\":[{\"marker\":{\"colorbar\":{\"outlinewidth\":0,\"ticks\":\"\"}},\"type\":\"scattergl\"}],\"scattermapbox\":[{\"marker\":{\"colorbar\":{\"outlinewidth\":0,\"ticks\":\"\"}},\"type\":\"scattermapbox\"}],\"scatterpolar\":[{\"marker\":{\"colorbar\":{\"outlinewidth\":0,\"ticks\":\"\"}},\"type\":\"scatterpolar\"}],\"scatterpolargl\":[{\"marker\":{\"colorbar\":{\"outlinewidth\":0,\"ticks\":\"\"}},\"type\":\"scatterpolargl\"}],\"scatterternary\":[{\"marker\":{\"colorbar\":{\"outlinewidth\":0,\"ticks\":\"\"}},\"type\":\"scatterternary\"}],\"surface\":[{\"colorbar\":{\"outlinewidth\":0,\"ticks\":\"\"},\"colorscale\":[[0.0,\"#0d0887\"],[0.1111111111111111,\"#46039f\"],[0.2222222222222222,\"#7201a8\"],[0.3333333333333333,\"#9c179e\"],[0.4444444444444444,\"#bd3786\"],[0.5555555555555556,\"#d8576b\"],[0.6666666666666666,\"#ed7953\"],[0.7777777777777778,\"#fb9f3a\"],[0.8888888888888888,\"#fdca26\"],[1.0,\"#f0f921\"]],\"type\":\"surface\"}],\"table\":[{\"cells\":{\"fill\":{\"color\":\"#EBF0F8\"},\"line\":{\"color\":\"white\"}},\"header\":{\"fill\":{\"color\":\"#C8D4E3\"},\"line\":{\"color\":\"white\"}},\"type\":\"table\"}]},\"layout\":{\"annotationdefaults\":{\"arrowcolor\":\"#2a3f5f\",\"arrowhead\":0,\"arrowwidth\":1},\"autotypenumbers\":\"strict\",\"coloraxis\":{\"colorbar\":{\"outlinewidth\":0,\"ticks\":\"\"}},\"colorscale\":{\"diverging\":[[0,\"#8e0152\"],[0.1,\"#c51b7d\"],[0.2,\"#de77ae\"],[0.3,\"#f1b6da\"],[0.4,\"#fde0ef\"],[0.5,\"#f7f7f7\"],[0.6,\"#e6f5d0\"],[0.7,\"#b8e186\"],[0.8,\"#7fbc41\"],[0.9,\"#4d9221\"],[1,\"#276419\"]],\"sequential\":[[0.0,\"#0d0887\"],[0.1111111111111111,\"#46039f\"],[0.2222222222222222,\"#7201a8\"],[0.3333333333333333,\"#9c179e\"],[0.4444444444444444,\"#bd3786\"],[0.5555555555555556,\"#d8576b\"],[0.6666666666666666,\"#ed7953\"],[0.7777777777777778,\"#fb9f3a\"],[0.8888888888888888,\"#fdca26\"],[1.0,\"#f0f921\"]],\"sequentialminus\":[[0.0,\"#0d0887\"],[0.1111111111111111,\"#46039f\"],[0.2222222222222222,\"#7201a8\"],[0.3333333333333333,\"#9c179e\"],[0.4444444444444444,\"#bd3786\"],[0.5555555555555556,\"#d8576b\"],[0.6666666666666666,\"#ed7953\"],[0.7777777777777778,\"#fb9f3a\"],[0.8888888888888888,\"#fdca26\"],[1.0,\"#f0f921\"]]},\"colorway\":[\"#636efa\",\"#EF553B\",\"#00cc96\",\"#ab63fa\",\"#FFA15A\",\"#19d3f3\",\"#FF6692\",\"#B6E880\",\"#FF97FF\",\"#FECB52\"],\"font\":{\"color\":\"#2a3f5f\"},\"geo\":{\"bgcolor\":\"white\",\"lakecolor\":\"white\",\"landcolor\":\"#E5ECF6\",\"showlakes\":true,\"showland\":true,\"subunitcolor\":\"white\"},\"hoverlabel\":{\"align\":\"left\"},\"hovermode\":\"closest\",\"mapbox\":{\"style\":\"light\"},\"paper_bgcolor\":\"white\",\"plot_bgcolor\":\"#E5ECF6\",\"polar\":{\"angularaxis\":{\"gridcolor\":\"white\",\"linecolor\":\"white\",\"ticks\":\"\"},\"bgcolor\":\"#E5ECF6\",\"radialaxis\":{\"gridcolor\":\"white\",\"linecolor\":\"white\",\"ticks\":\"\"}},\"scene\":{\"xaxis\":{\"backgroundcolor\":\"#E5ECF6\",\"gridcolor\":\"white\",\"gridwidth\":2,\"linecolor\":\"white\",\"showbackground\":true,\"ticks\":\"\",\"zerolinecolor\":\"white\"},\"yaxis\":{\"backgroundcolor\":\"#E5ECF6\",\"gridcolor\":\"white\",\"gridwidth\":2,\"linecolor\":\"white\",\"showbackground\":true,\"ticks\":\"\",\"zerolinecolor\":\"white\"},\"zaxis\":{\"backgroundcolor\":\"#E5ECF6\",\"gridcolor\":\"white\",\"gridwidth\":2,\"linecolor\":\"white\",\"showbackground\":true,\"ticks\":\"\",\"zerolinecolor\":\"white\"}},\"shapedefaults\":{\"line\":{\"color\":\"#2a3f5f\"}},\"ternary\":{\"aaxis\":{\"gridcolor\":\"white\",\"linecolor\":\"white\",\"ticks\":\"\"},\"baxis\":{\"gridcolor\":\"white\",\"linecolor\":\"white\",\"ticks\":\"\"},\"bgcolor\":\"#E5ECF6\",\"caxis\":{\"gridcolor\":\"white\",\"linecolor\":\"white\",\"ticks\":\"\"}},\"title\":{\"x\":0.05},\"xaxis\":{\"automargin\":true,\"gridcolor\":\"white\",\"linecolor\":\"white\",\"ticks\":\"\",\"title\":{\"standoff\":15},\"zerolinecolor\":\"white\",\"zerolinewidth\":2},\"yaxis\":{\"automargin\":true,\"gridcolor\":\"white\",\"linecolor\":\"white\",\"ticks\":\"\",\"title\":{\"standoff\":15},\"zerolinecolor\":\"white\",\"zerolinewidth\":2}}},\"xaxis\":{\"anchor\":\"y\",\"domain\":[0.0,1.0],\"title\":{\"text\":\"index\"}},\"yaxis\":{\"anchor\":\"x\",\"domain\":[0.0,1.0],\"title\":{\"text\":\"value\"}},\"legend\":{\"title\":{\"text\":\"variable\"},\"tracegroupgap\":0},\"margin\":{\"t\":60}},                        {\"responsive\": true}                    ).then(function(){\n",
       "                            \n",
       "var gd = document.getElementById('6f6588d9-9f41-4df3-a6a4-7d75a73b670b');\n",
       "var x = new MutationObserver(function (mutations, observer) {{\n",
       "        var display = window.getComputedStyle(gd).display;\n",
       "        if (!display || display === 'none') {{\n",
       "            console.log([gd, 'removed!']);\n",
       "            Plotly.purge(gd);\n",
       "            observer.disconnect();\n",
       "        }}\n",
       "}});\n",
       "\n",
       "// Listen for the removal of the full notebook cells\n",
       "var notebookContainer = gd.closest('#notebook-container');\n",
       "if (notebookContainer) {{\n",
       "    x.observe(notebookContainer, {childList: true});\n",
       "}}\n",
       "\n",
       "// Listen for the clearing of the current output cell\n",
       "var outputEl = gd.closest('.output');\n",
       "if (outputEl) {{\n",
       "    x.observe(outputEl, {childList: true});\n",
       "}}\n",
       "\n",
       "                        })                };                });            </script>        </div>"
      ]
     },
     "metadata": {},
     "output_type": "display_data"
    }
   ],
   "source": [
    "# Plotando gráfico de comparação: azul são os dados reais e vermelho a previsão\n",
    "fig = px.line(comp_forest_new, y=['Valores reais','Valores previstos'])\n",
    "fig.show()"
   ]
  },
  {
   "cell_type": "markdown",
   "metadata": {},
   "source": [
    "O gráfico nos indica que o modelo está bom, que a previsão de vendas está muito próxima da realidade."
   ]
  },
  {
   "cell_type": "code",
   "execution_count": 399,
   "metadata": {},
   "outputs": [
    {
     "name": "stdout",
     "output_type": "stream",
     "text": [
      "Coeficiente R²: 0.8503\n",
      "EMA:155460.39\n",
      "EQM:52084846089.38\n",
      "REQM:228221.05\n"
     ]
    }
   ],
   "source": [
    "# Cálculo de R^2, medida de quão bem a linha de regressão se ajusta aos dados. Varia de 0 a 1, sendo 1 o ajuste perfeito.\n",
    "# Cálculo do Erro Médio Absoluto, o valor médio absoluto da diferença entre os valores previstos e os valores reais\n",
    "# Cálculo do Erro Quadrático Médio, a média dos quadrados dos erros\n",
    "# Cálculo da raiz do Erro Quadrático Médio, que mede o mesmo que o EQM, mas na mesma unidade de medida que os valores trabalhados\n",
    "\n",
    "# cálculo do coeficiente R²\n",
    "r2 = r2_score(y_test_new, y_pred_forest_new)\n",
    "\n",
    "# cálculo do erro médio absoluto (EMA)\n",
    "ema = mean_absolute_error(y_test_new, y_pred_forest_new)\n",
    "\n",
    "# cálculo do erro quadrático médio (EQM)\n",
    "eqm = mean_squared_error(y_test_new, y_pred_forest_new)\n",
    "\n",
    "# cálculo da raiz do erro quadrático médio (REQM)\n",
    "reqm = np.sqrt(eqm)\n",
    "\n",
    "print('Coeficiente R²: {:.4f}'.format(r2))\n",
    "print('EMA:{:.2f}'.format(ema))\n",
    "print('EQM:{:.2f}'.format(eqm))\n",
    "print('REQM:{:.2f}'.format(reqm))"
   ]
  },
  {
   "cell_type": "markdown",
   "metadata": {},
   "source": [
    "A estatística R^2 obtida é alta, o que fortalece a verificação de sucesso do modelo."
   ]
  },
  {
   "cell_type": "code",
   "execution_count": 406,
   "metadata": {},
   "outputs": [
    {
     "name": "stdout",
     "output_type": "stream",
     "text": [
      "Proporção do Erro Médio Absoluto em relação à média das Vendas Semanais: 14.85%\n",
      "Proporção do Erro Quadrático Médio em relação à média das Vendas Semanais: 21.8%\n"
     ]
    }
   ],
   "source": [
    "# EMA, EQM e REQM são estatísticas de valor de erro, portanto para interpretá-las iremos visualizá-las como proporção da média\n",
    "# de Weekly_Sales. Não iremos usar EQM, pois já usaremos sua raiz quadrada.\n",
    "\n",
    "ema_prop = ema/df2[\"Weekly_Sales\"].mean()\n",
    "reqm_prop = reqm/df2[\"Weekly_Sales\"].mean()\n",
    "\n",
    "print(f\"Proporção do Erro Médio Absoluto em relação à média das Vendas Semanais: {round(ema_prop, ndigits=4)*100}%\")\n",
    "print(f\"Proporção do Erro Quadrático Médio em relação à média das Vendas Semanais: {round(reqm_prop, ndigits=4)*100}%\")"
   ]
  },
  {
   "cell_type": "markdown",
   "metadata": {},
   "source": [
    "<a class=\"anchor\" id=\"chapter5\"></a>\n",
    "# 5. Avaliação"
   ]
  },
  {
   "cell_type": "markdown",
   "metadata": {},
   "source": [
    "   Como mostrado acima, o modelo de maior precisão é o de Random Forest Regression utilizando todas as variáveis como variáveis explicativas (exceto 'Date'). No gráfico, vemos que a linha dos valores previstos acompanha de forma satisfatória a linha dos valores reais, ou seja, que nossa previsão de vendas é condizente com a realidade. O coeficiente R^2 fortalece nossa comprovação de sucesso, com um valor de 0,85. Concluímos que esse modelo é satisfatório para a previsão de vendas por loja. Se o usuário do modelo inputar apenas o número da loja no modelo, o resultado já será satisfatório, com um R^2 de 0,63, porém se ele souber todas as outras variáveis, o modelo fornecerá um resultado muito próximo da realidade.\n",
    "   \n",
    "   O valor encontrado de 14,85% para o Erro Médio Absoluto é um indicador de que o erro do modelo é relativamente baixo, enquanto que o valor de 21,8% demonstra a existência de períodos com erros maiores."
   ]
  },
  {
   "cell_type": "markdown",
   "metadata": {},
   "source": [
    "O modelo poderia ser melhor se a variável 'Date' fosse inputada, e se outros métodos de aprendizagem de máquina fossem aplicados, como a Verificação Cruzada, que \"é uma técnica para avaliar a capacidade de generalização de um modelo, a partir de um conjunto de dados\" (KOHAVI, R). É uma técnica útil para evitar overfitting, problema explicado no modelo Decision Tree Regression. Outras técnicas que poderíamos aplicar seriam: Redes Neurais, Gradient Boosting, Redes Bayesianas e Máquinas de Vetor de Suporte (SVM).\n",
    "\n",
    "Uma outra prática que enriqueceria nosso modelo seria uma análise mais profunda sobre a verificação da existência de outliers, assim como a inclusão da divisão das lojas por departamentos no modelo."
   ]
  },
  {
   "cell_type": "markdown",
   "metadata": {},
   "source": [
    "<a class=\"anchor\" id=\"chapter6\"></a>\n",
    "# 6. Referências\n",
    "\n",
    "\"Machine Learning Basics: Decision Tree Regression\" por Sachin Malhotra e Rohan Kapoor, Towards Data Science. Disponível em: https://towardsdatascience.com/machine-learning-basics-decision-tree-regression-1d73ea003fda. Acesso em 13 de abril de 2023.\n",
    "\n",
    "\"Random Forest Regression\" por Punit Jajodia, Towards Data Science. Disponível em: https://towardsdatascience.com/random-forest-regression-5f605132d19d. Acesso em 13 de abril de 2023.\n",
    "\n",
    "\"Aula #5 - Resolva o Titanic Como um Campeão do Kaggle\", YouTube. Disponível em: https://youtu.be/4I7YMPxps1k. Acesso em 13 de abril de 2023.\n",
    "\n",
    "\"Aplicando os algoritmos Árvore de Regressão e Random Forest com Python\", YouTube. Disponível em: https://youtu.be/ho1eI54ykoU. Acesso em 13 de abril de 2023.\n",
    "\n",
    "KOHAVI, R. A study of cross-validation and bootstrap for accuracy estimation and model selection. In: International joint Conference on artificial intelligence. [S.l.: s.n.], 1995. v. 14, p. 1137–1145.\n"
   ]
  }
 ],
 "metadata": {
  "kernelspec": {
   "display_name": "Python 3 (ipykernel)",
   "language": "python",
   "name": "python3"
  },
  "language_info": {
   "codemirror_mode": {
    "name": "ipython",
    "version": 3
   },
   "file_extension": ".py",
   "mimetype": "text/x-python",
   "name": "python",
   "nbconvert_exporter": "python",
   "pygments_lexer": "ipython3",
   "version": "3.9.12"
  }
 },
 "nbformat": 4,
 "nbformat_minor": 2
}
